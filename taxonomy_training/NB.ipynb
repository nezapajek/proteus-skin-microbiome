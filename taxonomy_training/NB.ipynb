{
 "cells": [
  {
   "cell_type": "markdown",
   "id": "637b5447",
   "metadata": {},
   "source": [
    "envs/qiime2-2022.2/lib/python3.8/site-packages/q2_feature_classifier/skl.py"
   ]
  },
  {
   "cell_type": "code",
   "execution_count": 2,
   "id": "e954e9b7",
   "metadata": {},
   "outputs": [],
   "source": [
    "_specific_fitters = [\n",
    "        ['naive_bayes',\n",
    "         [['feat_ext',\n",
    "           {'__type__': 'feature_extraction.text.HashingVectorizer',\n",
    "            'analyzer': 'char_wb',\n",
    "            'n_features': 8192,\n",
    "            'ngram_range': [7, 7],\n",
    "            'alternate_sign': False}],\n",
    "          ['classify',\n",
    "           {'__type__': 'custom.LowMemoryMultinomialNB',\n",
    "            'alpha': 0.001,\n",
    "            'fit_prior': False}]]]]"
   ]
  },
  {
   "cell_type": "code",
   "execution_count": 1,
   "id": "2bbac5d1",
   "metadata": {},
   "outputs": [
    {
     "ename": "SyntaxError",
     "evalue": "invalid syntax (3664002427.py, line 1)",
     "output_type": "error",
     "traceback": [
      "\u001b[0;36m  Input \u001b[0;32mIn [1]\u001b[0;36m\u001b[0m\n\u001b[0;31m    ngram_range : tuple (min_n, max_n), default=(1, 1)\u001b[0m\n\u001b[0m                                      ^\u001b[0m\n\u001b[0;31mSyntaxError\u001b[0m\u001b[0;31m:\u001b[0m invalid syntax\n"
     ]
    }
   ],
   "source": [
    "    ngram_range : tuple (min_n, max_n), default=(1, 1)\n",
    "        The lower and upper boundary of the range of n-values for different\n",
    "        n-grams to be extracted. All values of n such that min_n <= n <= max_n\n",
    "        will be used. For example an ``ngram_range`` of ``(1, 1)`` means only\n",
    "        unigrams, ``(1, 2)`` means unigrams and bigrams, and ``(2, 2)`` means\n",
    "        only bigrams.\n",
    "        Only applies if ``analyzer is not callable``.\n",
    "\n",
    "    analyzer : {'word', 'char', 'char_wb'} or callable, default='word'\n",
    "        Whether the feature should be made of word or character n-grams.\n",
    "        Option 'char_wb' creates character n-grams only from text inside\n",
    "        word boundaries; n-grams at the edges of words are padded with space.\n",
    "\n",
    "        If a callable is passed it is used to extract the sequence of features\n",
    "        out of the raw, unprocessed input.\n",
    "\n",
    "        .. versionchanged:: 0.21\n",
    "\n",
    "        Since v0.21, if ``input`` is ``filename`` or ``file``, the data is\n",
    "        first read from the file and then passed to the given callable\n",
    "        analyzer.\n",
    "\n",
    "    n_features : int, default=(2 ** 20)\n",
    "        The number of features (columns) in the output matrices. Small numbers\n",
    "        of features are likely to cause hash collisions, but large numbers\n",
    "        will cause larger coefficient dimensions in linear learners."
   ]
  },
  {
   "cell_type": "code",
   "execution_count": null,
   "id": "2e675944",
   "metadata": {},
   "outputs": [],
   "source": []
  }
 ],
 "metadata": {
  "kernelspec": {
   "display_name": "Python 3 (ipykernel)",
   "language": "python",
   "name": "python3"
  },
  "language_info": {
   "codemirror_mode": {
    "name": "ipython",
    "version": 3
   },
   "file_extension": ".py",
   "mimetype": "text/x-python",
   "name": "python",
   "nbconvert_exporter": "python",
   "pygments_lexer": "ipython3",
   "version": "3.8.13"
  }
 },
 "nbformat": 4,
 "nbformat_minor": 5
}
