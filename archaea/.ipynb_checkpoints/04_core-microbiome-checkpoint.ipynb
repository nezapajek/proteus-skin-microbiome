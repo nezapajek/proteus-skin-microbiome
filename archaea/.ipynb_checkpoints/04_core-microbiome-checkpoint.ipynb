{
 "cells": [
  {
   "cell_type": "markdown",
   "id": "b955fe1a",
   "metadata": {},
   "source": [
    "# ARCHAEA"
   ]
  },
  {
   "cell_type": "code",
   "execution_count": 1,
   "id": "9a05b3b4",
   "metadata": {},
   "outputs": [],
   "source": [
    "%load_ext autoreload\n",
    "%autoreload 2\n",
    "%reload_ext autoreload\n",
    "%matplotlib inline"
   ]
  },
  {
   "cell_type": "code",
   "execution_count": 2,
   "id": "09be6c2a",
   "metadata": {},
   "outputs": [],
   "source": [
    "#import packages\n",
    "import os\n",
    "import qiime2 as q2\n",
    "import pandas as pd\n",
    "from qiime2.plugins import feature_table\n",
    "from qiime2.plugins.taxa.methods import collapse\n",
    "from qiime2.plugins.feature_table.visualizers import core_features"
   ]
  },
  {
   "cell_type": "code",
   "execution_count": 3,
   "id": "a0e23849",
   "metadata": {},
   "outputs": [
    {
     "name": "stdout",
     "output_type": "stream",
     "text": [
      "env: WORKDIR=/home/nezapa/qiime-thesis\n"
     ]
    }
   ],
   "source": [
    "# define workdir\n",
    "%env WORKDIR /home/nezapa/qiime-thesis\n",
    "WORKDIR = os.environ.get(\"WORKDIR\")"
   ]
  },
  {
   "cell_type": "code",
   "execution_count": 4,
   "id": "247dc8d2",
   "metadata": {},
   "outputs": [],
   "source": [
    "# import data\n",
    "denoisetable_ar = q2.Artifact.load('./results/denoisetable_ar.qza')\n",
    "rep_seqs_ar = q2.Artifact.load('./results/rep_seqs_ar.qza')\n",
    "denoising_stats = q2.Artifact.load('./results/denoising_stats.qza')\n",
    "sample_metadata = q2.Metadata.load('../00.sample-metadata.tsv')\n",
    "taxonomy = q2.Artifact.load('./results/taxonomy_sklearn.qza')"
   ]
  },
  {
   "cell_type": "markdown",
   "id": "46bdf0a0",
   "metadata": {},
   "source": [
    "### CORE MICROBIOME"
   ]
  },
  {
   "cell_type": "code",
   "execution_count": 5,
   "id": "9e752bb9",
   "metadata": {},
   "outputs": [
    {
     "data": {
      "image/png": "[encoded data removed]",
      "text/plain": [
       "<Figure size 432x288 with 1 Axes>"
      ]
     },
     "metadata": {
      "needs_background": "light"
     },
     "output_type": "display_data"
    }
   ],
   "source": [
    "core_microbiome_asv = feature_table.actions.core_features(\n",
    "    table = denoisetable_ar,\n",
    "    min_fraction = 0.5,\n",
    "    steps = 6\n",
    ")"
   ]
  },
  {
   "cell_type": "code",
   "execution_count": 6,
   "id": "2365ad98",
   "metadata": {},
   "outputs": [],
   "source": [
    "taxtable ={}\n",
    "\n",
    "for level in range(2,8):\n",
    "    result = collapse(\n",
    "        table = denoisetable_ar,\n",
    "        taxonomy = taxonomy,\n",
    "        level = level\n",
    "    )\n",
    "    taxtable[level] = result.collapsed_table"
   ]
  },
  {
   "cell_type": "code",
   "execution_count": 7,
   "id": "8180fea7",
   "metadata": {},
   "outputs": [
    {
     "data": {
      "text/html": [
       "<div>\n",
       "<style scoped>\n",
       "    .dataframe tbody tr th:only-of-type {\n",
       "        vertical-align: middle;\n",
       "    }\n",
       "\n",
       "    .dataframe tbody tr th {\n",
       "        vertical-align: top;\n",
       "    }\n",
       "\n",
       "    .dataframe thead th {\n",
       "        text-align: right;\n",
       "    }\n",
       "</style>\n",
       "<table border=\"1\" class=\"dataframe\">\n",
       "  <thead>\n",
       "    <tr style=\"text-align: right;\">\n",
       "      <th></th>\n",
       "      <th>P05A</th>\n",
       "      <th>P09A</th>\n",
       "      <th>P13A</th>\n",
       "      <th>P15A</th>\n",
       "      <th>P17A</th>\n",
       "      <th>P22A</th>\n",
       "    </tr>\n",
       "  </thead>\n",
       "  <tbody>\n",
       "    <tr>\n",
       "      <th>d__Archaea;p__Thermoplasmatota;c__Thermoplasmata;o__Marine_Group_II;f__Marine_Group_II</th>\n",
       "      <td>0.0</td>\n",
       "      <td>24.0</td>\n",
       "      <td>9073.0</td>\n",
       "      <td>49.0</td>\n",
       "      <td>51.0</td>\n",
       "      <td>0.0</td>\n",
       "    </tr>\n",
       "    <tr>\n",
       "      <th>d__Archaea;p__Nanoarchaeota;c__Nanoarchaeia;o__Woesearchaeales;f__Woesearchaeales</th>\n",
       "      <td>70.0</td>\n",
       "      <td>0.0</td>\n",
       "      <td>0.0</td>\n",
       "      <td>0.0</td>\n",
       "      <td>0.0</td>\n",
       "      <td>3322.0</td>\n",
       "    </tr>\n",
       "    <tr>\n",
       "      <th>d__Archaea;__;__;__;__</th>\n",
       "      <td>0.0</td>\n",
       "      <td>0.0</td>\n",
       "      <td>0.0</td>\n",
       "      <td>0.0</td>\n",
       "      <td>0.0</td>\n",
       "      <td>3990.0</td>\n",
       "    </tr>\n",
       "  </tbody>\n",
       "</table>\n",
       "</div>"
      ],
      "text/plain": [
       "                                                    P05A  P09A    P13A  P15A  \\\n",
       "d__Archaea;p__Thermoplasmatota;c__Thermoplasmat...   0.0  24.0  9073.0  49.0   \n",
       "d__Archaea;p__Nanoarchaeota;c__Nanoarchaeia;o__...  70.0   0.0     0.0   0.0   \n",
       "d__Archaea;__;__;__;__                               0.0   0.0     0.0   0.0   \n",
       "\n",
       "                                                    P17A    P22A  \n",
       "d__Archaea;p__Thermoplasmatota;c__Thermoplasmat...  51.0     0.0  \n",
       "d__Archaea;p__Nanoarchaeota;c__Nanoarchaeia;o__...   0.0  3322.0  \n",
       "d__Archaea;__;__;__;__                               0.0  3990.0  "
      ]
     },
     "execution_count": 7,
     "metadata": {},
     "output_type": "execute_result"
    }
   ],
   "source": [
    "taxtable[5].view(pd.DataFrame).T"
   ]
  },
  {
   "cell_type": "code",
   "execution_count": 8,
   "id": "43687590",
   "metadata": {
    "scrolled": false
   },
   "outputs": [
    {
     "data": {
      "image/png": "[encoded data removed]",
      "text/plain": [
       "<Figure size 432x288 with 1 Axes>"
      ]
     },
     "metadata": {
      "needs_background": "light"
     },
     "output_type": "display_data"
    }
   ],
   "source": [
    "core_microbiome ={}\n",
    "\n",
    "for level in range(2,8):\n",
    "    result = core_features(\n",
    "        table = taxtable[level],\n",
    "        min_fraction = 0.5,\n",
    "        steps = 6       \n",
    "    )\n",
    "    core_microbiome[level] = result.visualization"
   ]
  }
 ],
 "metadata": {
  "kernelspec": {
   "display_name": "Python 3 (ipykernel)",
   "language": "python",
   "name": "python3"
  },
  "language_info": {
   "codemirror_mode": {
    "name": "ipython",
    "version": 3
   },
   "file_extension": ".py",
   "mimetype": "text/x-python",
   "name": "python",
   "nbconvert_exporter": "python",
   "pygments_lexer": "ipython3",
   "version": "3.8.13"
  }
 },
 "nbformat": 4,
 "nbformat_minor": 5
}
