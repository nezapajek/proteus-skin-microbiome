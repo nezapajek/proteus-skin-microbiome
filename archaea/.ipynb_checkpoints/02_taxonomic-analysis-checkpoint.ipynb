{
 "cells": [
  {
   "cell_type": "markdown",
   "id": "40598413",
   "metadata": {},
   "source": [
    "# ARCHAEA"
   ]
  },
  {
   "cell_type": "code",
   "execution_count": 1,
   "id": "f151b03f",
   "metadata": {},
   "outputs": [],
   "source": [
    "%load_ext autoreload\n",
    "%autoreload 2\n",
    "%reload_ext autoreload\n",
    "%matplotlib inline"
   ]
  },
  {
   "cell_type": "code",
   "execution_count": 2,
   "id": "50893d9c",
   "metadata": {},
   "outputs": [],
   "source": [
    "# import packages\n",
    "import os\n",
    "import dokdo\n",
    "import qiime2 as q2\n",
    "import pandas as pd\n",
    "import matplotlib.pyplot as plt\n",
    "from qiime2.plugins import feature_classifier\n",
    "from qiime2.plugins.taxa.visualizers import barplot\n",
    "from qiime2.plugins.taxa.methods import filter_table\n",
    "from qiime2.plugins.taxa.methods import filter_seqs\n",
    "from qiime2.plugins.metadata.visualizers import tabulate"
   ]
  },
  {
   "cell_type": "code",
   "execution_count": 3,
   "id": "4aa5f021",
   "metadata": {},
   "outputs": [
    {
     "name": "stdout",
     "output_type": "stream",
     "text": [
      "env: WORKDIR=/home/nezapa/qiime-thesis\n"
     ]
    }
   ],
   "source": [
    "# define workdir\n",
    "%env WORKDIR /home/nezapa/qiime-thesis\n",
    "WORKDIR = os.environ.get(\"WORKDIR\")"
   ]
  },
  {
   "cell_type": "code",
   "execution_count": 4,
   "id": "13491de0",
   "metadata": {},
   "outputs": [],
   "source": [
    "# import data\n",
    "denoisetable = q2.Artifact.load('./results/denoisetable.qza')\n",
    "rep_seqs = q2.Artifact.load('./results/rep_seqs.qza')\n",
    "denoising_stats = q2.Artifact.load('./results/denoising_stats.qza')\n",
    "sample_metadata = q2.Metadata.load('../00.sample-metadata.tsv')"
   ]
  },
  {
   "cell_type": "markdown",
   "id": "975548d5",
   "metadata": {},
   "source": [
    "## TAXONOMIC ANALYSIS"
   ]
  },
  {
   "cell_type": "code",
   "execution_count": 5,
   "id": "e5607143",
   "metadata": {},
   "outputs": [],
   "source": [
    "# load classifier data, archaea classifier classifier-A-SSU1ArF_SSU520R\n",
    "classifier = q2.Artifact.load(f'{WORKDIR}/database/200827SILVA138/classifier-A-SSU1ArF_SSU520R.qza')\n",
    "reference_reads = q2.Artifact.load(f'{WORKDIR}/database/200827SILVA138/ref-seqs_SSU1ArF_SSU520R.qza')\n",
    "reference_taxonomy = q2.Artifact.load(f'{WORKDIR}/database/200827SILVA138/silva-138-99-tax.qza')"
   ]
  },
  {
   "cell_type": "code",
   "execution_count": 6,
   "id": "ded92463",
   "metadata": {},
   "outputs": [],
   "source": [
    "# define model choices\n",
    "models = {\n",
    "    'sklearn': feature_classifier.methods.classify_sklearn,\n",
    "    'vsearch': feature_classifier.methods.classify_consensus_vsearch,\n",
    "    'blast': feature_classifier.methods.classify_consensus_blast,\n",
    "    'hybrid': feature_classifier.pipelines.classify_hybrid_vsearch_sklearn\n",
    "}"
   ]
  },
  {
   "cell_type": "code",
   "execution_count": 7,
   "id": "90bb02ab",
   "metadata": {},
   "outputs": [],
   "source": [
    "# choose model, run for each model_name\n",
    "model_name = \"hybrid\"\n",
    "model = models[model_name]"
   ]
  },
  {
   "cell_type": "code",
   "execution_count": 8,
   "id": "0b0937ba",
   "metadata": {},
   "outputs": [],
   "source": [
    "# classify the seqences using different classifiers\n",
    "# run once for each model\n",
    "# this step might take some time\n",
    "\n",
    "if os.path.exists(f'./results/taxonomy_{model_name}.qza'):\n",
    "    taxonomy = q2.Artifact.load(f'./results/taxonomy_{model_name}.qza')\n",
    "else:\n",
    "    if model_name == \"sklearn\":\n",
    "        taxonomy = model(\n",
    "            reads = rep_seqs,\n",
    "            classifier = classifier,\n",
    "            n_jobs=4\n",
    "        )\n",
    "        \n",
    "    elif model_name == \"vsearch\":\n",
    "        taxonomy = model(\n",
    "            query = rep_seqs,\n",
    "            reference_reads = reference_reads,\n",
    "            reference_taxonomy = reference_taxonomy,\n",
    "            threads = 15\n",
    "        )\n",
    "    elif model_name == \"blast\":\n",
    "        taxonomy = model(\n",
    "            query = rep_seqs,\n",
    "            reference_reads = reference_reads,\n",
    "            reference_taxonomy = reference_taxonomy\n",
    "            )\n",
    "    elif model_name == \"hybrid\":\n",
    "        taxonomy = model(\n",
    "            query = rep_seqs,\n",
    "            reference_reads = reference_reads,\n",
    "            reference_taxonomy = reference_taxonomy,\n",
    "            classifier = classifier,\n",
    "            threads = 2,\n",
    "            prefilter = False\n",
    "            )\n",
    "    else:\n",
    "        print(f\"model name {model_name} doesn't exist\")\n",
    "    \n",
    "    taxonomy = taxonomy.classification\n",
    "    taxonomy.save(f'./results/taxonomy_{model_name}.qza')"
   ]
  },
  {
   "cell_type": "code",
   "execution_count": 9,
   "id": "835b8a1f",
   "metadata": {},
   "outputs": [],
   "source": [
    "# merge all taxonomy classifications\n",
    "for idx, model_name in enumerate(models.keys()):\n",
    "    model_df = q2.Artifact.load(f'./results/taxonomy_{model_name}.qza').view(pd.DataFrame)\n",
    "    model_df.columns = [f'{col}_{model_name}' for col in model_df.columns]\n",
    "    if idx == 0:\n",
    "        res_df = model_df.copy()\n",
    "    else:\n",
    "        res_df = res_df.merge(model_df, on = 'Feature ID')"
   ]
  },
  {
   "cell_type": "code",
   "execution_count": 10,
   "id": "2dde3556",
   "metadata": {},
   "outputs": [
    {
     "data": {
      "text/html": [
       "<div><img onload=\"(function(div, url){\n",
       "if (typeof require !== 'undefined') {\n",
       "    var baseURL = require.toUrl('').split('/').slice(0, -2).join('/');\n",
       "} else {\n",
       "    var baseURL = JSON.parse(\n",
       "        document.getElementById('jupyter-config-data').innerHTML\n",
       "    ).baseUrl.slice(0, -1);\n",
       "}\n",
       "url = baseURL + url;\n",
       "fetch(url).then(function(res) {\n",
       "    if (res.status === 404) {\n",
       "        div.innerHTML = 'Install QIIME 2 Jupyter extension with:<br />' +\n",
       "                        '<code>jupyter serverextension enable --py qiime2' +\n",
       "                        ' --sys-prefix</code><br />then restart your server.' +\n",
       "                        '<br /><br />(Interactive output not available on ' +\n",
       "                        'static notebook viewer services like nbviewer.)';\n",
       "    } else if (res.status === 409) {\n",
       "        div.innerHTML = 'Visualization no longer in scope. Re-run this cell' +\n",
       "                        ' to see the visualization.';\n",
       "    } else if (res.ok) {\n",
       "        url = res.url;\n",
       "        div.innerHTML = '<iframe src=\\'' + url + '\\' style=\\'' +\n",
       "                        'width: 100%; height: 700px; border: 0;\\'>' +\n",
       "                        '</iframe><hr />Open in a: <a href=\\'' + url + '\\'' +\n",
       "                        ' target=\\'_blank\\'>new window</a>'\n",
       "    } else {\n",
       "        div.innerHTML = 'Something has gone wrong. Check notebook server for' +\n",
       "                        ' errors.';\n",
       "    }\n",
       "});\n",
       "})(this.parentElement, '/qiime2/redirect?location=/tmp/qiime2-archive-nx_4awf9')\" src=\"data:image/gif;base64,R0lGODlhAQABAIAAAP///wAAACH5BAEAAAAALAAAAAABAAEAAAICRAEAOw==\" /></div>"
      ],
      "text/plain": [
       "<visualization: Visualization uuid: 49a21e5a-c824-4670-8696-d2058145c24b>"
      ]
     },
     "execution_count": 10,
     "metadata": {},
     "output_type": "execute_result"
    }
   ],
   "source": [
    "# view merged df as q2 viz\n",
    "res_df_viz = q2.plugins.metadata.visualizers.tabulate(q2.Metadata(res_df)).visualization\n",
    "res_df_viz.save('./results/res_df_viz.qzv')\n",
    "res_df_viz"
   ]
  },
  {
   "cell_type": "code",
   "execution_count": 11,
   "id": "4b65c7a6",
   "metadata": {},
   "outputs": [],
   "source": [
    "# choose a classifier\n",
    "model_name = \"sklearn\"\n",
    "taxonomy = q2.Artifact.load(f'./results/taxonomy_{model_name}.qza')"
   ]
  },
  {
   "cell_type": "code",
   "execution_count": 12,
   "id": "fe984c47",
   "metadata": {},
   "outputs": [
    {
     "data": {
      "text/html": [
       "<div><img onload=\"(function(div, url){\n",
       "if (typeof require !== 'undefined') {\n",
       "    var baseURL = require.toUrl('').split('/').slice(0, -2).join('/');\n",
       "} else {\n",
       "    var baseURL = JSON.parse(\n",
       "        document.getElementById('jupyter-config-data').innerHTML\n",
       "    ).baseUrl.slice(0, -1);\n",
       "}\n",
       "url = baseURL + url;\n",
       "fetch(url).then(function(res) {\n",
       "    if (res.status === 404) {\n",
       "        div.innerHTML = 'Install QIIME 2 Jupyter extension with:<br />' +\n",
       "                        '<code>jupyter serverextension enable --py qiime2' +\n",
       "                        ' --sys-prefix</code><br />then restart your server.' +\n",
       "                        '<br /><br />(Interactive output not available on ' +\n",
       "                        'static notebook viewer services like nbviewer.)';\n",
       "    } else if (res.status === 409) {\n",
       "        div.innerHTML = 'Visualization no longer in scope. Re-run this cell' +\n",
       "                        ' to see the visualization.';\n",
       "    } else if (res.ok) {\n",
       "        url = res.url;\n",
       "        div.innerHTML = '<iframe src=\\'' + url + '\\' style=\\'' +\n",
       "                        'width: 100%; height: 700px; border: 0;\\'>' +\n",
       "                        '</iframe><hr />Open in a: <a href=\\'' + url + '\\'' +\n",
       "                        ' target=\\'_blank\\'>new window</a>'\n",
       "    } else {\n",
       "        div.innerHTML = 'Something has gone wrong. Check notebook server for' +\n",
       "                        ' errors.';\n",
       "    }\n",
       "});\n",
       "})(this.parentElement, '/qiime2/redirect?location=/tmp/qiime2-archive-1tluiyib')\" src=\"data:image/gif;base64,R0lGODlhAQABAIAAAP///wAAACH5BAEAAAAALAAAAAABAAEAAAICRAEAOw==\" /></div>"
      ],
      "text/plain": [
       "<visualization: Visualization uuid: 938ea3b3-a589-4470-99be-c33627c73e88>"
      ]
     },
     "execution_count": 12,
     "metadata": {},
     "output_type": "execute_result"
    }
   ],
   "source": [
    "# load classification results of a chosen classifier as metadata and view them\n",
    "taxonomy_metadata = taxonomy.view(q2.Metadata)  # or pd.DataFrame\n",
    "q2.plugins.metadata.visualizers.tabulate(taxonomy_metadata).visualization"
   ]
  },
  {
   "cell_type": "code",
   "execution_count": 13,
   "id": "87981e77",
   "metadata": {},
   "outputs": [
    {
     "data": {
      "text/html": [
       "<div><img onload=\"(function(div, url){\n",
       "if (typeof require !== 'undefined') {\n",
       "    var baseURL = require.toUrl('').split('/').slice(0, -2).join('/');\n",
       "} else {\n",
       "    var baseURL = JSON.parse(\n",
       "        document.getElementById('jupyter-config-data').innerHTML\n",
       "    ).baseUrl.slice(0, -1);\n",
       "}\n",
       "url = baseURL + url;\n",
       "fetch(url).then(function(res) {\n",
       "    if (res.status === 404) {\n",
       "        div.innerHTML = 'Install QIIME 2 Jupyter extension with:<br />' +\n",
       "                        '<code>jupyter serverextension enable --py qiime2' +\n",
       "                        ' --sys-prefix</code><br />then restart your server.' +\n",
       "                        '<br /><br />(Interactive output not available on ' +\n",
       "                        'static notebook viewer services like nbviewer.)';\n",
       "    } else if (res.status === 409) {\n",
       "        div.innerHTML = 'Visualization no longer in scope. Re-run this cell' +\n",
       "                        ' to see the visualization.';\n",
       "    } else if (res.ok) {\n",
       "        url = res.url;\n",
       "        div.innerHTML = '<iframe src=\\'' + url + '\\' style=\\'' +\n",
       "                        'width: 100%; height: 700px; border: 0;\\'>' +\n",
       "                        '</iframe><hr />Open in a: <a href=\\'' + url + '\\'' +\n",
       "                        ' target=\\'_blank\\'>new window</a>'\n",
       "    } else {\n",
       "        div.innerHTML = 'Something has gone wrong. Check notebook server for' +\n",
       "                        ' errors.';\n",
       "    }\n",
       "});\n",
       "})(this.parentElement, '/qiime2/redirect?location=/tmp/qiime2-archive-5mgykhma')\" src=\"data:image/gif;base64,R0lGODlhAQABAIAAAP///wAAACH5BAEAAAAALAAAAAABAAEAAAICRAEAOw==\" /></div>"
      ],
      "text/plain": [
       "<visualization: Visualization uuid: f4037f53-eee5-4bfc-8ec8-ff11dd30e1df>"
      ]
     },
     "execution_count": 13,
     "metadata": {},
     "output_type": "execute_result"
    }
   ],
   "source": [
    "# load rep_seqs as metadata\n",
    "rep_seqs_mtdt = rep_seqs.view(q2.Metadata)\n",
    "\n",
    "# merge dataframes in the background (appends new column)\n",
    "annotated_taxonomy_metadata = taxonomy_metadata.merge(rep_seqs_mtdt)\n",
    "\n",
    "# visualize merged dataframes as metadata viz\n",
    "q2.plugins.metadata.visualizers.tabulate(annotated_taxonomy_metadata).visualization"
   ]
  },
  {
   "cell_type": "markdown",
   "id": "395583fc",
   "metadata": {},
   "source": [
    "### FILTER BY TAXONOMY"
   ]
  },
  {
   "cell_type": "code",
   "execution_count": 14,
   "id": "070aa054",
   "metadata": {},
   "outputs": [
    {
     "data": {
      "text/plain": [
       "'./results/denoisetable_ar.qza'"
      ]
     },
     "execution_count": 14,
     "metadata": {},
     "output_type": "execute_result"
    }
   ],
   "source": [
    "# filter denoisetable, keep only d_Archaea\n",
    "denoisetable_ar = filter_table(\n",
    "    table = denoisetable,\n",
    "    taxonomy = taxonomy, \n",
    "    include = 'd__Archaea'\n",
    ")\n",
    "denoisetable_ar.filtered_table.save('./results/denoisetable_ar.qza')"
   ]
  },
  {
   "cell_type": "code",
   "execution_count": 15,
   "id": "0f2d58fc",
   "metadata": {},
   "outputs": [
    {
     "data": {
      "text/plain": [
       "'./results/rep_seqs_ar.qza'"
      ]
     },
     "execution_count": 15,
     "metadata": {},
     "output_type": "execute_result"
    }
   ],
   "source": [
    "# filter rep_seqs, keep only d_Archaea\n",
    "\n",
    "rep_seqs_ar = filter_seqs(\n",
    "    sequences = rep_seqs,\n",
    "    taxonomy = taxonomy,\n",
    "    include = 'd__Archaea'\n",
    ")\n",
    "rep_seqs_ar.filtered_sequences.save('./results/rep_seqs_ar.qza')"
   ]
  },
  {
   "cell_type": "markdown",
   "id": "388c1210",
   "metadata": {},
   "source": [
    "### TAXA PER SPECIMEN"
   ]
  },
  {
   "cell_type": "code",
   "execution_count": 16,
   "id": "4b222f1c",
   "metadata": {},
   "outputs": [],
   "source": [
    "# load denoise as dataframe and transpose (feature id is index), add name to index\n",
    "denoise_df = denoisetable_ar.filtered_table.view(view_type = pd.DataFrame).T\n",
    "denoise_df.index.name = 'id'\n",
    "\n",
    "# load annotated data as df\n",
    "annotated_df = annotated_taxonomy_metadata.to_dataframe()\n",
    "\n",
    "# merge the two using indices of both dataframes\n",
    "merged_df = denoise_df.merge(annotated_df['Taxon'], left_index=True, right_index=True)\n",
    "\n",
    "# set Taxon column as index and show transposed\n",
    "taxon_df = merged_df.set_index('Taxon').T"
   ]
  },
  {
   "cell_type": "code",
   "execution_count": 17,
   "id": "ea724c49",
   "metadata": {},
   "outputs": [],
   "source": [
    "# define function extract lvl using regex (regular expressions)\n",
    "import re\n",
    "def extract_level(tax, level_prefix, null_data = '/'):\n",
    "    g = re.findall(fr'({level_prefix}[^;|^$]*)(?=;|$)', tax)\n",
    "    if len(g) == 0:\n",
    "        return null_data\n",
    "    \n",
    "    return g[0].replace(level_prefix, '')"
   ]
  },
  {
   "cell_type": "code",
   "execution_count": 18,
   "id": "bd65205d",
   "metadata": {},
   "outputs": [
    {
     "data": {
      "text/html": [
       "<div>\n",
       "<style scoped>\n",
       "    .dataframe tbody tr th:only-of-type {\n",
       "        vertical-align: middle;\n",
       "    }\n",
       "\n",
       "    .dataframe tbody tr th {\n",
       "        vertical-align: top;\n",
       "    }\n",
       "\n",
       "    .dataframe thead th {\n",
       "        text-align: right;\n",
       "    }\n",
       "</style>\n",
       "<table border=\"1\" class=\"dataframe\">\n",
       "  <thead>\n",
       "    <tr style=\"text-align: right;\">\n",
       "      <th></th>\n",
       "      <th></th>\n",
       "      <th></th>\n",
       "      <th></th>\n",
       "      <th></th>\n",
       "      <th></th>\n",
       "      <th></th>\n",
       "      <th>P22A</th>\n",
       "    </tr>\n",
       "    <tr>\n",
       "      <th>Domain</th>\n",
       "      <th>Phylum</th>\n",
       "      <th>Class</th>\n",
       "      <th>Order</th>\n",
       "      <th>Family</th>\n",
       "      <th>Genus</th>\n",
       "      <th>Species</th>\n",
       "      <th></th>\n",
       "    </tr>\n",
       "  </thead>\n",
       "  <tbody>\n",
       "    <tr>\n",
       "      <th rowspan=\"3\" valign=\"top\">Archaea</th>\n",
       "      <th>/</th>\n",
       "      <th>/</th>\n",
       "      <th>/</th>\n",
       "      <th>/</th>\n",
       "      <th>/</th>\n",
       "      <th>/</th>\n",
       "      <td>3990.0</td>\n",
       "    </tr>\n",
       "    <tr>\n",
       "      <th rowspan=\"2\" valign=\"top\">Nanoarchaeota</th>\n",
       "      <th rowspan=\"2\" valign=\"top\">Nanoarchaeia</th>\n",
       "      <th rowspan=\"2\" valign=\"top\">Woesearchaeales</th>\n",
       "      <th rowspan=\"2\" valign=\"top\">Woesearchaeales</th>\n",
       "      <th rowspan=\"2\" valign=\"top\">Woesearchaeales</th>\n",
       "      <th>metagenome</th>\n",
       "      <td>1416.0</td>\n",
       "    </tr>\n",
       "    <tr>\n",
       "      <th>uncultured_euryarchaeote</th>\n",
       "      <td>1906.0</td>\n",
       "    </tr>\n",
       "  </tbody>\n",
       "</table>\n",
       "</div>"
      ],
      "text/plain": [
       "                                                                                                               P22A\n",
       "Domain  Phylum        Class        Order           Family          Genus           Species                         \n",
       "Archaea /             /            /               /               /               /                         3990.0\n",
       "        Nanoarchaeota Nanoarchaeia Woesearchaeales Woesearchaeales Woesearchaeales metagenome                1416.0\n",
       "                                                                                   uncultured_euryarchaeote  1906.0"
      ]
     },
     "execution_count": 18,
     "metadata": {},
     "output_type": "execute_result"
    }
   ],
   "source": [
    "# choose a sample \n",
    "# run once for each sample\n",
    "subject = 'P22A'\n",
    "taxon_df.loc[[subject]].T.reset_index().query(f'{subject} > 0.0').value_counts('Taxon')\n",
    "\n",
    "# define custom_df, get rid of Unassigned\n",
    "custom_df = taxon_df.loc[[subject]].T.reset_index()\n",
    "custom_df = custom_df.query(f'Taxon != \"Unassigned\" and {subject} > 0')\n",
    "\n",
    "custom_df['Domain'] = custom_df.Taxon.apply(lambda tax: extract_level(tax, level_prefix='d__'))\n",
    "custom_df['Phylum'] = custom_df.Taxon.apply(lambda tax: extract_level(tax, level_prefix='p__'))\n",
    "custom_df['Class'] = custom_df.Taxon.apply(lambda tax: extract_level(tax, level_prefix='c__'))\n",
    "custom_df['Order'] = custom_df.Taxon.apply(lambda tax: extract_level(tax, level_prefix='o__'))\n",
    "custom_df['Family'] = custom_df.Taxon.apply(lambda tax: extract_level(tax, level_prefix='f__'))\n",
    "custom_df['Genus'] = custom_df.Taxon.apply(lambda tax: extract_level(tax, level_prefix='g__'))\n",
    "custom_df['Species'] = custom_df.Taxon.apply(lambda tax: extract_level(tax, level_prefix='s__'))\n",
    "\n",
    "columns = ['Domain', 'Phylum', 'Class', 'Order', 'Family', 'Genus', 'Species']\n",
    "# columns = ['Order', 'Family', 'Genus', 'Species']\n",
    "taxa_per_species = custom_df.groupby(columns).sum()\n",
    "# print(taxa_per_species.to_latex())\n",
    "taxa_per_species"
   ]
  },
  {
   "cell_type": "markdown",
   "id": "1685d9e7",
   "metadata": {},
   "source": [
    "### VISUALIZATIONS"
   ]
  },
  {
   "cell_type": "code",
   "execution_count": 19,
   "id": "0fa09312",
   "metadata": {},
   "outputs": [],
   "source": [
    "# visualise classifications in qiime2\n",
    "taxa_bar_plot = barplot(\n",
    "    table = denoisetable_ar.filtered_table,\n",
    "    taxonomy = taxonomy,\n",
    "    metadata = sample_metadata\n",
    ").visualization"
   ]
  },
  {
   "cell_type": "code",
   "execution_count": 20,
   "id": "4acb8ae3",
   "metadata": {},
   "outputs": [
    {
     "data": {
      "text/plain": [
       "'./results/taxa_bar_plots.qzv'"
      ]
     },
     "execution_count": 20,
     "metadata": {},
     "output_type": "execute_result"
    }
   ],
   "source": [
    "# save taxa_bar_plot in results folder\n",
    "taxa_bar_plot.save('./results/taxa_bar_plots.qzv')"
   ]
  },
  {
   "cell_type": "code",
   "execution_count": 21,
   "id": "9a291312",
   "metadata": {},
   "outputs": [
    {
     "data": {
      "image/png": "[encoded data removed]",
      "text/plain": [
       "<Figure size 648x504 with 1 Axes>"
      ]
     },
     "metadata": {
      "needs_background": "light"
     },
     "output_type": "display_data"
    }
   ],
   "source": [
    "# taxa abundance plot with dokdo\n",
    "dokdo.taxa_abundance_bar_plot(\n",
    "    taxa_bar_plot,\n",
    "    level=4,\n",
    "    count=8,\n",
    "    figsize=(9, 7),\n",
    "    by=['population'],\n",
    "    label_columns=['population', 'sample-id'],\n",
    "    sort_by_mean2=False\n",
    ")\n",
    "\n",
    "plt.tight_layout()"
   ]
  },
  {
   "cell_type": "code",
   "execution_count": 22,
   "id": "56055c35",
   "metadata": {},
   "outputs": [
    {
     "data": {
      "image/png": "[encoded data removed]",
      "text/plain": [
       "<Figure size 720x504 with 1 Axes>"
      ]
     },
     "metadata": {
      "needs_background": "light"
     },
     "output_type": "display_data"
    }
   ],
   "source": [
    "# show 7 most abundant genera plus 'Others' with count = 8\n",
    "dokdo.taxa_abundance_bar_plot(\n",
    "    taxa_bar_plot,\n",
    "    figsize=(10, 7),\n",
    "    level=5,\n",
    "    count=8,\n",
    "    legend_short=True,\n",
    "    by=['year'],\n",
    "    label_columns=['sample-id'],\n",
    "    sort_by_mean2=False\n",
    ")\n",
    "\n",
    "plt.tight_layout()"
   ]
  },
  {
   "cell_type": "code",
   "execution_count": 23,
   "id": "4403c8c5",
   "metadata": {},
   "outputs": [
    {
     "data": {
      "image/png": "[encoded data removed]",
      "text/plain": [
       "<Figure size 720x504 with 2 Axes>"
      ]
     },
     "metadata": {
      "needs_background": "light"
     },
     "output_type": "display_data"
    }
   ],
   "source": [
    "# plot the legent separately\n",
    "fig, [ax1, ax2] = plt.subplots(1, 2, figsize=(10, 7), gridspec_kw={'width_ratios': [9, 1]})\n",
    "\n",
    "dokdo.taxa_abundance_bar_plot(\n",
    "    taxa_bar_plot,\n",
    "    ax=ax1,\n",
    "    level=6,\n",
    "    count=10,\n",
    "    legend=False\n",
    ")\n",
    "\n",
    "dokdo.taxa_abundance_bar_plot(\n",
    "    taxa_bar_plot,\n",
    "    ax=ax2,\n",
    "    level=6,\n",
    "    count=10,\n",
    "    legend_short=True\n",
    ")\n",
    "\n",
    "handles, labels = ax2.get_legend_handles_labels()\n",
    "\n",
    "ax2.clear()\n",
    "ax2.legend(handles, labels)\n",
    "ax2.axis('off')\n",
    "\n",
    "plt.tight_layout()"
   ]
  },
  {
   "cell_type": "code",
   "execution_count": 24,
   "id": "8db07e92",
   "metadata": {},
   "outputs": [],
   "source": [
    "def label_filter(lbl):\n",
    "    if lbl.count(';') == 0:\n",
    "        return lbl\n",
    "    \n",
    "    lbl_split = lbl.split(';')\n",
    "    \n",
    "    new_label = []\n",
    "    for piece in lbl_split[::-1]:\n",
    "        new_label.append(piece)\n",
    "        if 'uncultured' not in piece and piece != '__':\n",
    "            break\n",
    "            \n",
    "    return ';'.join(new_label[::-1][:2])"
   ]
  },
  {
   "cell_type": "code",
   "execution_count": 25,
   "id": "5a782a4f",
   "metadata": {},
   "outputs": [
    {
     "data": {
      "image/png": "[encoded data removed]",
      "text/plain": [
       "<Figure size 720x504 with 2 Axes>"
      ]
     },
     "metadata": {
      "needs_background": "light"
     },
     "output_type": "display_data"
    }
   ],
   "source": [
    "# use a different colour map\n",
    "fig, [ax1, ax2] = plt.subplots(1, 2, figsize=(10, 7), gridspec_kw={'width_ratios': [9, 1]})\n",
    "\n",
    "dokdo.taxa_abundance_bar_plot(\n",
    "    taxa_bar_plot,\n",
    "    ax=ax1,\n",
    "    level=6,\n",
    "    count=17,\n",
    "    cmap_name='tab20c',\n",
    "    legend=False\n",
    ")\n",
    "\n",
    "dokdo.taxa_abundance_bar_plot(\n",
    "    taxa_bar_plot,\n",
    "    ax=ax2,\n",
    "    level=6,\n",
    "    count=17,\n",
    "    cmap_name='tab20c',\n",
    "    legend_short=False\n",
    ")\n",
    "\n",
    "handles, labels = ax2.get_legend_handles_labels()\n",
    "labels = [label_filter(lbl) for lbl in labels]\n",
    "\n",
    "# custom properties\n",
    "ax1.tick_params(labelsize=12)  # reset rotation\n",
    "ax1.yaxis.label.set_size(12)\n",
    "\n",
    "\n",
    "ax2.clear()\n",
    "ax2.legend(handles, labels, fontsize=12)\n",
    "ax2.axis('off')\n",
    "\n",
    "plt.tight_layout()\n",
    "plt.savefig('./results/proteus_all_16taxa.png')"
   ]
  },
  {
   "cell_type": "code",
   "execution_count": 26,
   "id": "414d2751",
   "metadata": {},
   "outputs": [
    {
     "data": {
      "image/png": "[encoded data removed]",
      "text/plain": [
       "<Figure size 1224x648 with 3 Axes>"
      ]
     },
     "metadata": {
      "needs_background": "light"
     },
     "output_type": "display_data"
    }
   ],
   "source": [
    "fig, axes = plt.subplots(1, 3, figsize=(17, 9))\n",
    "\n",
    "groups = ['dolenjska linija', 'linija reke Ljubljanice', 'črna podvrsta']\n",
    "kwargs = dict(level=5, count=8, sort_by_mean2=False)\n",
    "\n",
    "for i, group in enumerate(groups):\n",
    "    dokdo.taxa_abundance_bar_plot(\n",
    "        taxa_bar_plot,\n",
    "        ax=axes[i],\n",
    "        include_samples={'population': [group]},\n",
    "        cmap_name='tab20c',\n",
    "        legend_short=True,\n",
    "        legend=True if i == 0 else False,\n",
    "        **kwargs # da razbije dictionary se uporabi **\n",
    "    )\n",
    "    if i != 0:\n",
    "        axes[i].get_yaxis().set_visible(False)\n",
    "    axes[i].set_title(group)\n",
    "\n",
    "    # custom properties\n",
    "#     axes.tick_params(labelrotation = 0, labelsize=15)  # reset rotation\n",
    "#     axes.yaxis.label.set_size(15)\n",
    "    \n",
    "    \n",
    "plt.tight_layout()\n",
    "plt.savefig('./results/proteus_all_populations.png')"
   ]
  },
  {
   "cell_type": "code",
   "execution_count": 27,
   "id": "8e246cbb",
   "metadata": {},
   "outputs": [
    {
     "data": {
      "image/png": "[encoded data removed]",
      "text/plain": [
       "<Figure size 864x504 with 2 Axes>"
      ]
     },
     "metadata": {
      "needs_background": "light"
     },
     "output_type": "display_data"
    }
   ],
   "source": [
    "fig, [ax1, ax2] = plt.subplots(1, 2, figsize=(12, 7), gridspec_kw={'width_ratios': [9, 1]})\n",
    "\n",
    "dokdo.taxa_abundance_bar_plot(\n",
    "    taxa_bar_plot,\n",
    "    ax=ax1,\n",
    "    level=6,\n",
    "    count=20,\n",
    "    group='population',\n",
    "    group_order=['linija reke Ljubljanice', 'črna podvrsta'],\n",
    "    figsize=(10, 7),\n",
    "    legend=False,\n",
    "    cmap_name='tab20c'\n",
    ")\n",
    "\n",
    "dokdo.taxa_abundance_bar_plot(\n",
    "    taxa_bar_plot,\n",
    "    ax=ax2,\n",
    "    level=6,\n",
    "    count=20,\n",
    "    group='population',\n",
    "    group_order=['linija reke Ljubljanice', 'črna podvrsta'],\n",
    "    figsize=(10, 7),\n",
    "    legend_short=False,\n",
    "    cmap_name='tab20c'\n",
    ")\n",
    "\n",
    "handles, labels = ax2.get_legend_handles_labels()\n",
    "labels = [label_filter(lbl) for lbl in labels]\n",
    "\n",
    "ax2.clear()\n",
    "ax2.legend(handles, labels, fontsize=12)\n",
    "ax2.axis('off')\n",
    "\n",
    "# custom properties\n",
    "ax1.tick_params(labelrotation = 0, labelsize=15)  # reset rotation\n",
    "ax1.yaxis.label.set_size(15)\n",
    "\n",
    "plt.tight_layout()\n",
    "plt.savefig('./results/proteus_all_populations_together.png')"
   ]
  },
  {
   "cell_type": "code",
   "execution_count": 28,
   "id": "078b50bc",
   "metadata": {},
   "outputs": [
    {
     "data": {
      "image/png": "[encoded data removed]",
      "text/plain": [
       "<Figure size 864x504 with 2 Axes>"
      ]
     },
     "metadata": {
      "needs_background": "light"
     },
     "output_type": "display_data"
    }
   ],
   "source": [
    "fig, [ax1, ax2,] = plt.subplots(1, 2, figsize=(12, 7), gridspec_kw={'width_ratios': [9, 1]})\n",
    "\n",
    "dokdo.taxa_abundance_bar_plot(\n",
    "    taxa_bar_plot,\n",
    "    ax=ax1,\n",
    "    level=6,\n",
    "    count=20,\n",
    "    group='population',\n",
    "    group_order=['linija reke Ljubljanice', 'črna podvrsta', 'dolenjska linija'],\n",
    "    figsize=(10, 7),\n",
    "    legend=False,\n",
    "    cmap_name='tab20c'\n",
    ")\n",
    "\n",
    "dokdo.taxa_abundance_bar_plot(\n",
    "    taxa_bar_plot,\n",
    "    ax=ax2,\n",
    "    level=6,\n",
    "    count=20,\n",
    "    group='population',\n",
    "    group_order=['linija reke Ljubljanice', 'črna podvrsta', 'dolenjska linija'],\n",
    "    figsize=(10, 7),\n",
    "    legend_short=False,\n",
    "    cmap_name='tab20c'\n",
    ")\n",
    "\n",
    "handles, labels = ax2.get_legend_handles_labels()\n",
    "labels = [label_filter(lbl) for lbl in labels]\n",
    "\n",
    "ax2.clear()\n",
    "ax2.legend(handles, labels, fontsize=12)\n",
    "ax2.axis('off')\n",
    "\n",
    "# custom properties\n",
    "ax1.tick_params(labelrotation = 0, labelsize=15)  # reset rotation\n",
    "ax1.yaxis.label.set_size(15)\n",
    "\n",
    "plt.tight_layout()\n",
    "plt.savefig('./results/proteus_all_populations_together_all.png')"
   ]
  }
 ],
 "metadata": {
  "kernelspec": {
   "display_name": "Python 3 (ipykernel)",
   "language": "python",
   "name": "python3"
  },
  "language_info": {
   "codemirror_mode": {
    "name": "ipython",
    "version": 3
   },
   "file_extension": ".py",
   "mimetype": "text/x-python",
   "name": "python",
   "nbconvert_exporter": "python",
   "pygments_lexer": "ipython3",
   "version": "3.8.13"
  }
 },
 "nbformat": 4,
 "nbformat_minor": 5
}
