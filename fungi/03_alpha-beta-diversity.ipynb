{
 "cells": [
  {
   "cell_type": "markdown",
   "id": "bb4fc90a",
   "metadata": {},
   "source": [
    "# FUNGI"
   ]
  },
  {
   "cell_type": "code",
   "execution_count": 1,
   "id": "009d42e5",
   "metadata": {},
   "outputs": [],
   "source": [
    "%load_ext autoreload\n",
    "%autoreload 2\n",
    "%reload_ext autoreload\n",
    "%matplotlib inline"
   ]
  },
  {
   "cell_type": "markdown",
   "id": "c7d6cfa0",
   "metadata": {},
   "source": [
    "### ALPHA & BETA DIVERSITY\n",
    "1. make a MAFFT tree\n",
    "2. alpha rarefaction\n",
    "3. alpha diversity\n",
    "4. beta diversity"
   ]
  },
  {
   "cell_type": "code",
   "execution_count": 2,
   "id": "5d630412",
   "metadata": {},
   "outputs": [],
   "source": [
    "#import packages\n",
    "import os\n",
    "import dokdo\n",
    "import qiime2 as q2\n",
    "import pandas as pd\n",
    "import seaborn as sns\n",
    "import plotnine as p9\n",
    "import matplotlib.pyplot as plt\n",
    "from qiime2.plugins import phylogeny\n",
    "from qiime2.plugins import diversity\n",
    "from skbio import DistanceMatrix\n",
    "import qiime2.plugins.phylogeny.actions as phylogeny_actions"
   ]
  },
  {
   "cell_type": "code",
   "execution_count": 3,
   "id": "616acce1",
   "metadata": {},
   "outputs": [],
   "source": [
    "# import data\n",
    "denoisetable_fun = q2.Artifact.load('./results/denoisetable_fun.qza')\n",
    "rep_seqs_fun = q2.Artifact.load('./results/rep_seqs_fun.qza')\n",
    "denoising_stats = q2.Artifact.load('./results/denoising_stats.qza')\n",
    "sample_metadata = q2.Metadata.load('../00.sample-metadata.tsv')"
   ]
  },
  {
   "cell_type": "code",
   "execution_count": 4,
   "id": "766a2e93",
   "metadata": {},
   "outputs": [
    {
     "data": {
      "text/html": [
       "<div><img onload=\"(function(div, url){\n",
       "if (typeof require !== 'undefined') {\n",
       "    var baseURL = require.toUrl('').split('/').slice(0, -2).join('/');\n",
       "} else {\n",
       "    var baseURL = JSON.parse(\n",
       "        document.getElementById('jupyter-config-data').innerHTML\n",
       "    ).baseUrl.slice(0, -1);\n",
       "}\n",
       "url = baseURL + url;\n",
       "fetch(url).then(function(res) {\n",
       "    if (res.status === 404) {\n",
       "        div.innerHTML = 'Install QIIME 2 Jupyter extension with:<br />' +\n",
       "                        '<code>jupyter serverextension enable --py qiime2' +\n",
       "                        ' --sys-prefix</code><br />then restart your server.' +\n",
       "                        '<br /><br />(Interactive output not available on ' +\n",
       "                        'static notebook viewer services like nbviewer.)';\n",
       "    } else if (res.status === 409) {\n",
       "        div.innerHTML = 'Visualization no longer in scope. Re-run this cell' +\n",
       "                        ' to see the visualization.';\n",
       "    } else if (res.ok) {\n",
       "        url = res.url;\n",
       "        div.innerHTML = '<iframe src=\\'' + url + '\\' style=\\'' +\n",
       "                        'width: 100%; height: 700px; border: 0;\\'>' +\n",
       "                        '</iframe><hr />Open in a: <a href=\\'' + url + '\\'' +\n",
       "                        ' target=\\'_blank\\'>new window</a>'\n",
       "    } else {\n",
       "        div.innerHTML = 'Something has gone wrong. Check notebook server for' +\n",
       "                        ' errors.';\n",
       "    }\n",
       "});\n",
       "})(this.parentElement, '/qiime2/redirect?location=/tmp/qiime2-archive-b3c8e9lx')\" src=\"data:image/gif;base64,R0lGODlhAQABAIAAAP///wAAACH5BAEAAAAALAAAAAABAAEAAAICRAEAOw==\" /></div>"
      ],
      "text/plain": [
       "<visualization: Visualization uuid: 16b1c7f0-0dd0-4296-9073-2ea808db9fd5>"
      ]
     },
     "execution_count": 4,
     "metadata": {},
     "output_type": "execute_result"
    }
   ],
   "source": [
    "from qiime2.plugins import feature_table\n",
    "\n",
    "# summarise and visualise\n",
    "feature_table.visualizers.summarize(\n",
    "    table = denoisetable_fun,\n",
    "    sample_metadata = sample_metadata\n",
    ").visualization"
   ]
  },
  {
   "cell_type": "markdown",
   "id": "91e60e30",
   "metadata": {},
   "source": [
    "### TREE"
   ]
  },
  {
   "cell_type": "code",
   "execution_count": 5,
   "id": "2734a5bd",
   "metadata": {},
   "outputs": [
    {
     "name": "stdout",
     "output_type": "stream",
     "text": [
      "Running external command line application. This may print messages to stdout and/or stderr.\n",
      "The command being run is below. This command cannot be manually re-run as it will depend on temporary files that no longer exist.\n",
      "\n",
      "Command: mafft --preservecase --inputorder --thread 1 /tmp/qiime2-archive-20scjvw5/c6be4a17-54c9-4833-ab48-710ef30df0c2/data/dna-sequences.fasta\n",
      "\n"
     ]
    },
    {
     "name": "stderr",
     "output_type": "stream",
     "text": [
      "inputfile = orig\n",
      "118 x 260 - 260 d\n",
      "nthread = 1\n",
      "nthreadpair = 1\n",
      "nthreadtb = 1\n",
      "ppenalty_ex = 0\n",
      "stacksize: 8192 kb\n",
      "generating a scoring matrix for nucleotide (dist=200) ... done\n",
      "Gap Penalty = -1.53, +0.00, +0.00\n",
      "\n",
      "\n",
      "\n",
      "Making a distance matrix ..\n",
      "  101 / 118 (thread    0)\n",
      "done.\n",
      "\n",
      "Constructing a UPGMA tree (efffree=0) ... \n",
      "  110 / 118\n",
      "done.\n",
      "\n",
      "Progressive alignment 1/2... \n",
      "STEP    12 / 117 (thread    0)\n",
      "Reallocating..done. *alloclen = 1521\n",
      "STEP   117 / 117 (thread    0)\n",
      "done.\n",
      "\n",
      "Making a distance matrix from msa.. \n",
      "  100 / 118 (thread    0)\n",
      "done.\n",
      "\n",
      "Constructing a UPGMA tree (efffree=1) ... \n",
      "  110 / 118\n",
      "done.\n",
      "\n",
      "Progressive alignment 2/2... \n",
      "STEP    22 / 117 (thread    0)\n",
      "Reallocating..done. *alloclen = 1521\n",
      "STEP   117 / 117 (thread    0)\n",
      "done.\n",
      "\n",
      "disttbfast (nuc) Version 7.505\n",
      "alg=A, model=DNA200 (2), 1.53 (4.59), -0.00 (-0.00), noshift, amax=0.0\n",
      "1 thread(s)\n",
      "\n",
      "\n",
      "Strategy:\n",
      " FFT-NS-2 (Fast but rough)\n",
      " Progressive method (guide trees were built 2 times.)\n",
      "\n",
      "If unsure which option to use, try 'mafft --auto input > output'.\n",
      "For more information, see 'mafft --help', 'mafft --man' and the mafft page.\n",
      "\n",
      "The default gap scoring scheme has been changed in version 7.110 (2013 Oct).\n",
      "It tends to insert more gaps into gap-rich regions than previous versions.\n",
      "To disable this change, add the --leavegappyregion option.\n",
      "\n",
      "/home/npajek/miniconda3/envs/qiime2-2022.2/lib/python3.8/site-packages/skbio/alignment/_tabular_msa.py:784: FutureWarning: The default dtype for empty Series will be 'object' instead of 'float64' in a future version. Specify a dtype explicitly to silence this warning.\n"
     ]
    },
    {
     "name": "stdout",
     "output_type": "stream",
     "text": [
      "Running external command line application. This may print messages to stdout and/or stderr.\n",
      "The command being run is below. This command cannot be manually re-run as it will depend on temporary files that no longer exist.\n",
      "\n",
      "Command: FastTree -quote -nt /tmp/qiime2-archive-q43ta26c/9c0a26ff-e29c-456e-8067-e83c94a054c1/data/aligned-dna-sequences.fasta\n",
      "\n"
     ]
    },
    {
     "name": "stderr",
     "output_type": "stream",
     "text": [
      "FastTree Version 2.1.10 Double precision (No SSE3)\n",
      "Alignment: /tmp/qiime2-archive-q43ta26c/9c0a26ff-e29c-456e-8067-e83c94a054c1/data/aligned-dna-sequences.fasta\n",
      "Nucleotide distances: Jukes-Cantor Joins: balanced Support: SH-like 1000\n",
      "Search: Normal +NNI +SPR (2 rounds range 10) +ML-NNI opt-each=1\n",
      "TopHits: 1.00*sqrtN close=default refresh=0.80\n",
      "ML Model: Jukes-Cantor, CAT approximation with 20 rate categories\n",
      "Initial topology in 0.03 seconds\n",
      "Refining topology: 27 rounds ME-NNIs, 2 rounds ME-SPRs, 14 rounds ML-NNIs\n",
      "      0.12 seconds: SPR round   1 of   2, 201 of 232 nodes\n",
      "      0.22 seconds: SPR round   2 of   2, 201 of 232 nodes\n",
      "Total branch-length 8.254 after 0.25 sec\n",
      "      0.35 seconds: ML NNI round 1 of 14, 101 of 115 splits, 23 changes (max delta 8.570)\n",
      "ML-NNI round 1: LogLk = -11498.492 NNIs 28 max delta 8.57 Time 0.37\n",
      "Switched to using 20 rate categories (CAT approximation)\n",
      "Rate categories were divided by 1.027 so that average rate = 1.0\n",
      "CAT-based log-likelihoods may not be comparable across runs\n",
      "Use -gamma for approximate but comparable Gamma(20) log-likelihoods\n",
      "ML-NNI round 2: LogLk = -9874.133 NNIs 17 max delta 2.52 Time 0.47\n",
      "      0.46 seconds: ML NNI round 3 of 14, 1 of 115 splits\n",
      "ML-NNI round 3: LogLk = -9863.148 NNIs 3 max delta 3.35 Time 0.53\n",
      "ML-NNI round 4: LogLk = -9862.228 NNIs 1 max delta 0.34 Time 0.57\n",
      "ML-NNI round 5: LogLk = -9862.215 NNIs 0 max delta 0.00 Time 0.59\n",
      "Turning off heuristics for final round of ML NNIs (converged)\n",
      "      0.58 seconds: ML NNI round 6 of 14, 1 of 115 splits\n",
      "      0.68 seconds: ML NNI round 6 of 14, 101 of 115 splits, 1 changes (max delta 0.156)\n",
      "ML-NNI round 6: LogLk = -9855.145 NNIs 1 max delta 0.16 Time 0.70 (final)\n",
      "Optimize all lengths: LogLk = -9855.114 Time 0.72\n",
      "      0.84 seconds: ML split tests for    100 of    114 internal splits\n",
      "Total time: 0.86 seconds Unique: 117/118 Bad splits: 0/114\n"
     ]
    }
   ],
   "source": [
    "action_results = phylogeny_actions.align_to_tree_mafft_fasttree(\n",
    "    sequences=rep_seqs_fun,\n",
    ")\n",
    "aligned_rep_seqs = action_results.alignment\n",
    "masked_aligned_rep_seqs = action_results.masked_alignment\n",
    "unrooted_tree = action_results.tree\n",
    "rooted_tree = action_results.rooted_tree"
   ]
  },
  {
   "cell_type": "markdown",
   "id": "e61907bd",
   "metadata": {},
   "source": [
    "### ALPHA AND BETA DIVERSITY"
   ]
  },
  {
   "cell_type": "code",
   "execution_count": 6,
   "id": "a98b260c",
   "metadata": {},
   "outputs": [],
   "source": [
    "# # choose a round number in the 3rd quartile frequency per sample from the feature table visual summary\n",
    "# # this step can take some time\n",
    "# alpha_rarefaction_all = diversity.actions.alpha_rarefaction(\n",
    "#     table = denoisetable_fun,\n",
    "#     max_depth = 35000,\n",
    "#     phylogeny = rooted_tree,\n",
    "#     metrics = {'observed_features'},\n",
    "#     metadata = sample_metadata,\n",
    "#     steps = 1000\n",
    "# )"
   ]
  },
  {
   "cell_type": "code",
   "execution_count": 7,
   "id": "740dfd4a",
   "metadata": {},
   "outputs": [],
   "source": [
    "# save alpha_rarefacion\n",
    "# alpha_rarefaction_all.visualization.save('./results/alpha_rarefaction_35000.qzv')\n",
    "qzv_file_alpha = q2.Visualization.load('./results/alpha_rarefaction_35000.qzv')"
   ]
  },
  {
   "cell_type": "code",
   "execution_count": 8,
   "id": "4d035677",
   "metadata": {},
   "outputs": [],
   "source": [
    "# #this step can take some time\n",
    "# sns.set()\n",
    "# ax = dokdo.alpha_rarefaction_plot(qzv_file_alpha,\n",
    "#                                   figsize=(9, 6),\n",
    "#                                   metric='observed_features')\n",
    "# \n",
    "# ax.set_xlabel('Globina sekvenciranja')\n",
    "# ax.set_ylabel('Število ASV')\n",
    "# \n",
    "# ax.legend(ncol=5)\n",
    "# plt.tight_layout()\n",
    "# plt.savefig('./results/fun_alpha_rarefaction_plot_35k.png')"
   ]
  },
  {
   "cell_type": "markdown",
   "id": "cea22bd0",
   "metadata": {},
   "source": [
    "### ALPHA DIVERSITY"
   ]
  },
  {
   "cell_type": "code",
   "execution_count": 9,
   "id": "eaf141da",
   "metadata": {},
   "outputs": [
    {
     "data": {
      "text/html": [
       "<div><img onload=\"(function(div, url){\n",
       "if (typeof require !== 'undefined') {\n",
       "    var baseURL = require.toUrl('').split('/').slice(0, -2).join('/');\n",
       "} else {\n",
       "    var baseURL = JSON.parse(\n",
       "        document.getElementById('jupyter-config-data').innerHTML\n",
       "    ).baseUrl.slice(0, -1);\n",
       "}\n",
       "url = baseURL + url;\n",
       "fetch(url).then(function(res) {\n",
       "    if (res.status === 404) {\n",
       "        div.innerHTML = 'Install QIIME 2 Jupyter extension with:<br />' +\n",
       "                        '<code>jupyter serverextension enable --py qiime2' +\n",
       "                        ' --sys-prefix</code><br />then restart your server.' +\n",
       "                        '<br /><br />(Interactive output not available on ' +\n",
       "                        'static notebook viewer services like nbviewer.)';\n",
       "    } else if (res.status === 409) {\n",
       "        div.innerHTML = 'Visualization no longer in scope. Re-run this cell' +\n",
       "                        ' to see the visualization.';\n",
       "    } else if (res.ok) {\n",
       "        url = res.url;\n",
       "        div.innerHTML = '<iframe src=\\'' + url + '\\' style=\\'' +\n",
       "                        'width: 100%; height: 700px; border: 0;\\'>' +\n",
       "                        '</iframe><hr />Open in a: <a href=\\'' + url + '\\'' +\n",
       "                        ' target=\\'_blank\\'>new window</a>'\n",
       "    } else {\n",
       "        div.innerHTML = 'Something has gone wrong. Check notebook server for' +\n",
       "                        ' errors.';\n",
       "    }\n",
       "});\n",
       "})(this.parentElement, '/qiime2/redirect?location=/tmp/qiime2-archive-gmqu8n8n')\" src=\"data:image/gif;base64,R0lGODlhAQABAIAAAP///wAAACH5BAEAAAAALAAAAAABAAEAAAICRAEAOw==\" /></div>"
      ],
      "text/plain": [
       "<visualization: Visualization uuid: c560bd4b-b0fd-4b02-82fe-b768812684ce>"
      ]
     },
     "execution_count": 9,
     "metadata": {},
     "output_type": "execute_result"
    }
   ],
   "source": [
    "from qiime2.plugins import feature_table\n",
    "\n",
    "# summarise and visualise\n",
    "feature_table.visualizers.summarize(\n",
    "    table = denoisetable_fun,\n",
    "    sample_metadata = sample_metadata\n",
    ").visualization"
   ]
  },
  {
   "cell_type": "code",
   "execution_count": 10,
   "id": "f8be7509",
   "metadata": {},
   "outputs": [
    {
     "name": "stderr",
     "output_type": "stream",
     "text": [
      "/home/npajek/miniconda3/envs/qiime2-2022.2/lib/python3.8/site-packages/sklearn/metrics/pairwise.py:1776: DataConversionWarning: Data was converted to boolean for metric jaccard\n"
     ]
    },
    {
     "name": "stdout",
     "output_type": "stream",
     "text": [
      "Running external command line application. This may print messages to stdout and/or stderr.\n",
      "The command being run is below. This command cannot be manually re-run as it will depend on temporary files that no longer exist.\n",
      "\n",
      "Command:\n",
      "\n",
      "faithpd -i /tmp/qiime2-archive-hz5zh6kk/ab402bca-8069-487c-9456-89619c916d16/data/feature-table.biom -t /tmp/qiime2-archive-2cwhi88m/594e4928-395b-4327-8686-69d96e7195c1/data/tree.nwk -o /tmp/q2-AlphaDiversityFormat-2y26jixr\n",
      "\n",
      "Running external command line application. This may print messages to stdout and/or stderr.\n",
      "The command being run is below. This command cannot be manually re-run as it will depend on temporary files that no longer exist.\n",
      "\n",
      "Command:\n",
      "\n",
      "ssu -i /tmp/qiime2-archive-hz5zh6kk/ab402bca-8069-487c-9456-89619c916d16/data/feature-table.biom -t /tmp/qiime2-archive-2cwhi88m/594e4928-395b-4327-8686-69d96e7195c1/data/tree.nwk -m unweighted -o /tmp/q2-LSMatFormat-t4ez7xwx\n",
      "\n",
      "Running external command line application. This may print messages to stdout and/or stderr.\n",
      "The command being run is below. This command cannot be manually re-run as it will depend on temporary files that no longer exist.\n",
      "\n",
      "Command:\n",
      "\n",
      "ssu -i /tmp/qiime2-archive-hz5zh6kk/ab402bca-8069-487c-9456-89619c916d16/data/feature-table.biom -t /tmp/qiime2-archive-2cwhi88m/594e4928-395b-4327-8686-69d96e7195c1/data/tree.nwk -m weighted_unnormalized -o /tmp/q2-LSMatFormat-4frg7nek\n",
      "\n"
     ]
    },
    {
     "name": "stderr",
     "output_type": "stream",
     "text": [
      "/home/npajek/miniconda3/envs/qiime2-2022.2/lib/python3.8/site-packages/skbio/stats/ordination/_principal_coordinate_analysis.py:143: RuntimeWarning: The result contains negative eigenvalues. Please compare their magnitude with the magnitude of some of the largest positive eigenvalues. If the negative ones are smaller, it's probably safe to ignore them, but if they are large in magnitude, the results won't be useful. See the Notes section for more details. The smallest eigenvalue is -0.009125776317008729 and the largest is 0.7773715635591957.\n"
     ]
    }
   ],
   "source": [
    "# set sampling_depth based on alpha rarefacation curve\n",
    "depth = 8341\n",
    "action_results = diversity.actions.core_metrics_phylogenetic(\n",
    "    table = denoisetable_fun,\n",
    "    phylogeny = rooted_tree,\n",
    "    sampling_depth = depth,\n",
    "    metadata = sample_metadata\n",
    ")"
   ]
  },
  {
   "cell_type": "code",
   "execution_count": 11,
   "id": "b1d9bd99",
   "metadata": {},
   "outputs": [
    {
     "data": {
      "image/png": "[encoded data removed]",
      "image/svg+xml": "<?xml version=\"1.0\" encoding=\"utf-8\" standalone=\"no\"?>\n<!DOCTYPE svg PUBLIC \"-//W3C//DTD SVG 1.1//EN\"\n  \"http://www.w3.org/Graphics/SVG/1.1/DTD/svg11.dtd\">\n<svg xmlns:xlink=\"http://www.w3.org/1999/xlink\" width=\"365.350438pt\" height=\"268.234531pt\" viewBox=\"0 0 365.350438 268.234531\" xmlns=\"http://www.w3.org/2000/svg\" version=\"1.1\">\n <metadata>\n  <rdf:RDF xmlns:dc=\"http://purl.org/dc/elements/1.1/\" xmlns:cc=\"http://creativecommons.org/ns#\" xmlns:rdf=\"http://www.w3.org/1999/02/22-rdf-syntax-ns#\">\n   <cc:Work>\n    <dc:type rdf:resource=\"http://purl.org/dc/dcmitype/StillImage\"/>\n    <dc:date>2022-10-17T17:54:51.462940</dc:date>\n    <dc:format>image/svg+xml</dc:format>\n    <dc:creator>\n     <cc:Agent>\n      <dc:title>Matplotlib v3.5.2, https://matplotlib.org/</dc:title>\n     </cc:Agent>\n    </dc:creator>\n   </cc:Work>\n  </rdf:RDF>\n </metadata>\n <defs>\n  <style type=\"text/css\">*{stroke-linejoin: round; stroke-linecap: butt}</style>\n </defs>\n <g id=\"figure_1\">\n  <g id=\"patch_1\">\n   <path d=\"M 0 268.234531 \nL 365.350438 268.234531 \nL 365.350438 0 \nL 0 0 \nL 0 268.234531 \nz\n\" style=\"fill: none\"/>\n  </g>\n  <g id=\"axes_1\">\n   <g id=\"patch_2\">\n    <path d=\"M 39.795313 228.439219 \nL 307.635313 228.439219 \nL 307.635313 10.999219 \nL 39.795313 10.999219 \nz\n\" style=\"fill: #ffffff\"/>\n   </g>\n   <g id=\"QuadMesh_1\">\n    <path d=\"M 39.795313 10.999219 \nL 66.579313 10.999219 \nL 66.579313 32.743219 \nL 39.795313 32.743219 \nL 39.795313 10.999219 \n\" clip-path=\"url(#p51078a4d6a)\" style=\"fill: #440154\"/>\n    <path d=\"M 66.579313 10.999219 \nL 93.363313 10.999219 \nL 93.363313 32.743219 \nL 66.579313 32.743219 \nL 66.579313 10.999219 \n\" clip-path=\"url(#p51078a4d6a)\" style=\"fill: #f8e621\"/>\n    <path d=\"M 93.363313 10.999219 \nL 120.147313 10.999219 \nL 120.147313 32.743219 \nL 93.363313 32.743219 \nL 93.363313 10.999219 \n\" clip-path=\"url(#p51078a4d6a)\" style=\"fill: #1f978b\"/>\n    <path d=\"M 120.147313 10.999219 \nL 146.931313 10.999219 \nL 146.931313 32.743219 \nL 120.147313 32.743219 \nL 120.147313 10.999219 \n\" clip-path=\"url(#p51078a4d6a)\" style=\"fill: #f8e621\"/>\n    <path d=\"M 146.931313 10.999219 \nL 173.715313 10.999219 \nL 173.715313 32.743219 \nL 146.931313 32.743219 \nL 146.931313 10.999219 \n\" clip-path=\"url(#p51078a4d6a)\" style=\"fill: #fde725\"/>\n    <path d=\"M 173.715313 10.999219 \nL 200.499313 10.999219 \nL 200.499313 32.743219 \nL 173.715313 32.743219 \nL 173.715313 10.999219 \n\" clip-path=\"url(#p51078a4d6a)\" style=\"fill: #fde725\"/>\n    <path d=\"M 200.499313 10.999219 \nL 227.283313 10.999219 \nL 227.283313 32.743219 \nL 200.499313 32.743219 \nL 200.499313 10.999219 \n\" clip-path=\"url(#p51078a4d6a)\" style=\"fill: #fde725\"/>\n    <path d=\"M 227.283313 10.999219 \nL 254.067313 10.999219 \nL 254.067313 32.743219 \nL 227.283313 32.743219 \nL 227.283313 10.999219 \n\" clip-path=\"url(#p51078a4d6a)\" style=\"fill: #fde725\"/>\n    <path d=\"M 254.067313 10.999219 \nL 280.851313 10.999219 \nL 280.851313 32.743219 \nL 254.067313 32.743219 \nL 254.067313 10.999219 \n\" clip-path=\"url(#p51078a4d6a)\" style=\"fill: #f8e621\"/>\n    <path d=\"M 280.851313 10.999219 \nL 307.635313 10.999219 \nL 307.635313 32.743219 \nL 280.851313 32.743219 \nL 280.851313 10.999219 \n\" clip-path=\"url(#p51078a4d6a)\" style=\"fill: #fbe723\"/>\n    <path d=\"M 39.795313 32.743219 \nL 66.579313 32.743219 \nL 66.579313 54.487219 \nL 39.795313 54.487219 \nL 39.795313 32.743219 \n\" clip-path=\"url(#p51078a4d6a)\" style=\"fill: #f8e621\"/>\n    <path d=\"M 66.579313 32.743219 \nL 93.363313 32.743219 \nL 93.363313 54.487219 \nL 66.579313 54.487219 \nL 66.579313 32.743219 \n\" clip-path=\"url(#p51078a4d6a)\" style=\"fill: #440154\"/>\n    <path d=\"M 93.363313 32.743219 \nL 120.147313 32.743219 \nL 120.147313 54.487219 \nL 93.363313 54.487219 \nL 93.363313 32.743219 \n\" clip-path=\"url(#p51078a4d6a)\" style=\"fill: #fde725\"/>\n    <path d=\"M 120.147313 32.743219 \nL 146.931313 32.743219 \nL 146.931313 54.487219 \nL 120.147313 54.487219 \nL 120.147313 32.743219 \n\" clip-path=\"url(#p51078a4d6a)\" style=\"fill: #fde725\"/>\n    <path d=\"M 146.931313 32.743219 \nL 173.715313 32.743219 \nL 173.715313 54.487219 \nL 146.931313 54.487219 \nL 146.931313 32.743219 \n\" clip-path=\"url(#p51078a4d6a)\" style=\"fill: #fde725\"/>\n    <path d=\"M 173.715313 32.743219 \nL 200.499313 32.743219 \nL 200.499313 54.487219 \nL 173.715313 54.487219 \nL 173.715313 32.743219 \n\" clip-path=\"url(#p51078a4d6a)\" style=\"fill: #fde725\"/>\n    <path d=\"M 200.499313 32.743219 \nL 227.283313 32.743219 \nL 227.283313 54.487219 \nL 200.499313 54.487219 \nL 200.499313 32.743219 \n\" clip-path=\"url(#p51078a4d6a)\" style=\"fill: #fde725\"/>\n    <path d=\"M 227.283313 32.743219 \nL 254.067313 32.743219 \nL 254.067313 54.487219 \nL 227.283313 54.487219 \nL 227.283313 32.743219 \n\" clip-path=\"url(#p51078a4d6a)\" style=\"fill: #fde725\"/>\n    <path d=\"M 254.067313 32.743219 \nL 280.851313 32.743219 \nL 280.851313 54.487219 \nL 254.067313 54.487219 \nL 254.067313 32.743219 \n\" clip-path=\"url(#p51078a4d6a)\" style=\"fill: #fde725\"/>\n    <path d=\"M 280.851313 32.743219 \nL 307.635313 32.743219 \nL 307.635313 54.487219 \nL 280.851313 54.487219 \nL 280.851313 32.743219 \n\" clip-path=\"url(#p51078a4d6a)\" style=\"fill: #bddf26\"/>\n    <path d=\"M 39.795313 54.487219 \nL 66.579313 54.487219 \nL 66.579313 76.231219 \nL 39.795313 76.231219 \nL 39.795313 54.487219 \n\" clip-path=\"url(#p51078a4d6a)\" style=\"fill: #1f978b\"/>\n    <path d=\"M 66.579313 54.487219 \nL 93.363313 54.487219 \nL 93.363313 76.231219 \nL 66.579313 76.231219 \nL 66.579313 54.487219 \n\" clip-path=\"url(#p51078a4d6a)\" style=\"fill: #fde725\"/>\n    <path d=\"M 93.363313 54.487219 \nL 120.147313 54.487219 \nL 120.147313 76.231219 \nL 93.363313 76.231219 \nL 93.363313 54.487219 \n\" clip-path=\"url(#p51078a4d6a)\" style=\"fill: #440154\"/>\n    <path d=\"M 120.147313 54.487219 \nL 146.931313 54.487219 \nL 146.931313 76.231219 \nL 120.147313 76.231219 \nL 120.147313 54.487219 \n\" clip-path=\"url(#p51078a4d6a)\" style=\"fill: #c8e020\"/>\n    <path d=\"M 146.931313 54.487219 \nL 173.715313 54.487219 \nL 173.715313 76.231219 \nL 146.931313 76.231219 \nL 146.931313 54.487219 \n\" clip-path=\"url(#p51078a4d6a)\" style=\"fill: #70cf57\"/>\n    <path d=\"M 173.715313 54.487219 \nL 200.499313 54.487219 \nL 200.499313 76.231219 \nL 173.715313 76.231219 \nL 173.715313 54.487219 \n\" clip-path=\"url(#p51078a4d6a)\" style=\"fill: #fde725\"/>\n    <path d=\"M 200.499313 54.487219 \nL 227.283313 54.487219 \nL 227.283313 76.231219 \nL 200.499313 76.231219 \nL 200.499313 54.487219 \n\" clip-path=\"url(#p51078a4d6a)\" style=\"fill: #fde725\"/>\n    <path d=\"M 227.283313 54.487219 \nL 254.067313 54.487219 \nL 254.067313 76.231219 \nL 227.283313 76.231219 \nL 227.283313 54.487219 \n\" clip-path=\"url(#p51078a4d6a)\" style=\"fill: #fde725\"/>\n    <path d=\"M 254.067313 54.487219 \nL 280.851313 54.487219 \nL 280.851313 76.231219 \nL 254.067313 76.231219 \nL 254.067313 54.487219 \n\" clip-path=\"url(#p51078a4d6a)\" style=\"fill: #f4e61e\"/>\n    <path d=\"M 280.851313 54.487219 \nL 307.635313 54.487219 \nL 307.635313 76.231219 \nL 280.851313 76.231219 \nL 280.851313 54.487219 \n\" clip-path=\"url(#p51078a4d6a)\" style=\"fill: #e2e418\"/>\n    <path d=\"M 39.795313 76.231219 \nL 66.579313 76.231219 \nL 66.579313 97.975219 \nL 39.795313 97.975219 \nL 39.795313 76.231219 \n\" clip-path=\"url(#p51078a4d6a)\" style=\"fill: #f8e621\"/>\n    <path d=\"M 66.579313 76.231219 \nL 93.363313 76.231219 \nL 93.363313 97.975219 \nL 66.579313 97.975219 \nL 66.579313 76.231219 \n\" clip-path=\"url(#p51078a4d6a)\" style=\"fill: #fde725\"/>\n    <path d=\"M 93.363313 76.231219 \nL 120.147313 76.231219 \nL 120.147313 97.975219 \nL 93.363313 97.975219 \nL 93.363313 76.231219 \n\" clip-path=\"url(#p51078a4d6a)\" style=\"fill: #c8e020\"/>\n    <path d=\"M 120.147313 76.231219 \nL 146.931313 76.231219 \nL 146.931313 97.975219 \nL 120.147313 97.975219 \nL 120.147313 76.231219 \n\" clip-path=\"url(#p51078a4d6a)\" style=\"fill: #440154\"/>\n    <path d=\"M 146.931313 76.231219 \nL 173.715313 76.231219 \nL 173.715313 97.975219 \nL 146.931313 97.975219 \nL 146.931313 76.231219 \n\" clip-path=\"url(#p51078a4d6a)\" style=\"fill: #fde725\"/>\n    <path d=\"M 173.715313 76.231219 \nL 200.499313 76.231219 \nL 200.499313 97.975219 \nL 173.715313 97.975219 \nL 173.715313 76.231219 \n\" clip-path=\"url(#p51078a4d6a)\" style=\"fill: #fde725\"/>\n    <path d=\"M 200.499313 76.231219 \nL 227.283313 76.231219 \nL 227.283313 97.975219 \nL 200.499313 97.975219 \nL 200.499313 76.231219 \n\" clip-path=\"url(#p51078a4d6a)\" style=\"fill: #fde725\"/>\n    <path d=\"M 227.283313 76.231219 \nL 254.067313 76.231219 \nL 254.067313 97.975219 \nL 227.283313 97.975219 \nL 227.283313 76.231219 \n\" clip-path=\"url(#p51078a4d6a)\" style=\"fill: #d0e11c\"/>\n    <path d=\"M 254.067313 76.231219 \nL 280.851313 76.231219 \nL 280.851313 97.975219 \nL 254.067313 97.975219 \nL 254.067313 76.231219 \n\" clip-path=\"url(#p51078a4d6a)\" style=\"fill: #fde725\"/>\n    <path d=\"M 280.851313 76.231219 \nL 307.635313 76.231219 \nL 307.635313 97.975219 \nL 280.851313 97.975219 \nL 280.851313 76.231219 \n\" clip-path=\"url(#p51078a4d6a)\" style=\"fill: #e5e419\"/>\n    <path d=\"M 39.795313 97.975219 \nL 66.579313 97.975219 \nL 66.579313 119.719219 \nL 39.795313 119.719219 \nL 39.795313 97.975219 \n\" clip-path=\"url(#p51078a4d6a)\" style=\"fill: #fde725\"/>\n    <path d=\"M 66.579313 97.975219 \nL 93.363313 97.975219 \nL 93.363313 119.719219 \nL 66.579313 119.719219 \nL 66.579313 97.975219 \n\" clip-path=\"url(#p51078a4d6a)\" style=\"fill: #fde725\"/>\n    <path d=\"M 93.363313 97.975219 \nL 120.147313 97.975219 \nL 120.147313 119.719219 \nL 93.363313 119.719219 \nL 93.363313 97.975219 \n\" clip-path=\"url(#p51078a4d6a)\" style=\"fill: #70cf57\"/>\n    <path d=\"M 120.147313 97.975219 \nL 146.931313 97.975219 \nL 146.931313 119.719219 \nL 120.147313 119.719219 \nL 120.147313 97.975219 \n\" clip-path=\"url(#p51078a4d6a)\" style=\"fill: #fde725\"/>\n    <path d=\"M 146.931313 97.975219 \nL 173.715313 97.975219 \nL 173.715313 119.719219 \nL 146.931313 119.719219 \nL 146.931313 97.975219 \n\" clip-path=\"url(#p51078a4d6a)\" style=\"fill: #440154\"/>\n    <path d=\"M 173.715313 97.975219 \nL 200.499313 97.975219 \nL 200.499313 119.719219 \nL 173.715313 119.719219 \nL 173.715313 97.975219 \n\" clip-path=\"url(#p51078a4d6a)\" style=\"fill: #fde725\"/>\n    <path d=\"M 200.499313 97.975219 \nL 227.283313 97.975219 \nL 227.283313 119.719219 \nL 200.499313 119.719219 \nL 200.499313 97.975219 \n\" clip-path=\"url(#p51078a4d6a)\" style=\"fill: #fde725\"/>\n    <path d=\"M 227.283313 97.975219 \nL 254.067313 97.975219 \nL 254.067313 119.719219 \nL 227.283313 119.719219 \nL 227.283313 97.975219 \n\" clip-path=\"url(#p51078a4d6a)\" style=\"fill: #fde725\"/>\n    <path d=\"M 254.067313 97.975219 \nL 280.851313 97.975219 \nL 280.851313 119.719219 \nL 254.067313 119.719219 \nL 254.067313 97.975219 \n\" clip-path=\"url(#p51078a4d6a)\" style=\"fill: #fde725\"/>\n    <path d=\"M 280.851313 97.975219 \nL 307.635313 97.975219 \nL 307.635313 119.719219 \nL 280.851313 119.719219 \nL 280.851313 97.975219 \n\" clip-path=\"url(#p51078a4d6a)\" style=\"fill: #fbe723\"/>\n    <path d=\"M 39.795313 119.719219 \nL 66.579313 119.719219 \nL 66.579313 141.463219 \nL 39.795313 141.463219 \nL 39.795313 119.719219 \n\" clip-path=\"url(#p51078a4d6a)\" style=\"fill: #fde725\"/>\n    <path d=\"M 66.579313 119.719219 \nL 93.363313 119.719219 \nL 93.363313 141.463219 \nL 66.579313 141.463219 \nL 66.579313 119.719219 \n\" clip-path=\"url(#p51078a4d6a)\" style=\"fill: #fde725\"/>\n    <path d=\"M 93.363313 119.719219 \nL 120.147313 119.719219 \nL 120.147313 141.463219 \nL 93.363313 141.463219 \nL 93.363313 119.719219 \n\" clip-path=\"url(#p51078a4d6a)\" style=\"fill: #fde725\"/>\n    <path d=\"M 120.147313 119.719219 \nL 146.931313 119.719219 \nL 146.931313 141.463219 \nL 120.147313 141.463219 \nL 120.147313 119.719219 \n\" clip-path=\"url(#p51078a4d6a)\" style=\"fill: #fde725\"/>\n    <path d=\"M 146.931313 119.719219 \nL 173.715313 119.719219 \nL 173.715313 141.463219 \nL 146.931313 141.463219 \nL 146.931313 119.719219 \n\" clip-path=\"url(#p51078a4d6a)\" style=\"fill: #fde725\"/>\n    <path d=\"M 173.715313 119.719219 \nL 200.499313 119.719219 \nL 200.499313 141.463219 \nL 173.715313 141.463219 \nL 173.715313 119.719219 \n\" clip-path=\"url(#p51078a4d6a)\" style=\"fill: #440154\"/>\n    <path d=\"M 200.499313 119.719219 \nL 227.283313 119.719219 \nL 227.283313 141.463219 \nL 200.499313 141.463219 \nL 200.499313 119.719219 \n\" clip-path=\"url(#p51078a4d6a)\" style=\"fill: #20a386\"/>\n    <path d=\"M 227.283313 119.719219 \nL 254.067313 119.719219 \nL 254.067313 141.463219 \nL 227.283313 141.463219 \nL 227.283313 119.719219 \n\" clip-path=\"url(#p51078a4d6a)\" style=\"fill: #fde725\"/>\n    <path d=\"M 254.067313 119.719219 \nL 280.851313 119.719219 \nL 280.851313 141.463219 \nL 254.067313 141.463219 \nL 254.067313 119.719219 \n\" clip-path=\"url(#p51078a4d6a)\" style=\"fill: #fde725\"/>\n    <path d=\"M 280.851313 119.719219 \nL 307.635313 119.719219 \nL 307.635313 141.463219 \nL 280.851313 141.463219 \nL 280.851313 119.719219 \n\" clip-path=\"url(#p51078a4d6a)\" style=\"fill: #fbe723\"/>\n    <path d=\"M 39.795313 141.463219 \nL 66.579313 141.463219 \nL 66.579313 163.207219 \nL 39.795313 163.207219 \nL 39.795313 141.463219 \n\" clip-path=\"url(#p51078a4d6a)\" style=\"fill: #fde725\"/>\n    <path d=\"M 66.579313 141.463219 \nL 93.363313 141.463219 \nL 93.363313 163.207219 \nL 66.579313 163.207219 \nL 66.579313 141.463219 \n\" clip-path=\"url(#p51078a4d6a)\" style=\"fill: #fde725\"/>\n    <path d=\"M 93.363313 141.463219 \nL 120.147313 141.463219 \nL 120.147313 163.207219 \nL 93.363313 163.207219 \nL 93.363313 141.463219 \n\" clip-path=\"url(#p51078a4d6a)\" style=\"fill: #fde725\"/>\n    <path d=\"M 120.147313 141.463219 \nL 146.931313 141.463219 \nL 146.931313 163.207219 \nL 120.147313 163.207219 \nL 120.147313 141.463219 \n\" clip-path=\"url(#p51078a4d6a)\" style=\"fill: #fde725\"/>\n    <path d=\"M 146.931313 141.463219 \nL 173.715313 141.463219 \nL 173.715313 163.207219 \nL 146.931313 163.207219 \nL 146.931313 141.463219 \n\" clip-path=\"url(#p51078a4d6a)\" style=\"fill: #fde725\"/>\n    <path d=\"M 173.715313 141.463219 \nL 200.499313 141.463219 \nL 200.499313 163.207219 \nL 173.715313 163.207219 \nL 173.715313 141.463219 \n\" clip-path=\"url(#p51078a4d6a)\" style=\"fill: #20a386\"/>\n    <path d=\"M 200.499313 141.463219 \nL 227.283313 141.463219 \nL 227.283313 163.207219 \nL 200.499313 163.207219 \nL 200.499313 141.463219 \n\" clip-path=\"url(#p51078a4d6a)\" style=\"fill: #440154\"/>\n    <path d=\"M 227.283313 141.463219 \nL 254.067313 141.463219 \nL 254.067313 163.207219 \nL 227.283313 163.207219 \nL 227.283313 141.463219 \n\" clip-path=\"url(#p51078a4d6a)\" style=\"fill: #fde725\"/>\n    <path d=\"M 254.067313 141.463219 \nL 280.851313 141.463219 \nL 280.851313 163.207219 \nL 254.067313 163.207219 \nL 254.067313 141.463219 \n\" clip-path=\"url(#p51078a4d6a)\" style=\"fill: #fde725\"/>\n    <path d=\"M 280.851313 141.463219 \nL 307.635313 141.463219 \nL 307.635313 163.207219 \nL 280.851313 163.207219 \nL 280.851313 141.463219 \n\" clip-path=\"url(#p51078a4d6a)\" style=\"fill: #2fb47c\"/>\n    <path d=\"M 39.795313 163.207219 \nL 66.579313 163.207219 \nL 66.579313 184.951219 \nL 39.795313 184.951219 \nL 39.795313 163.207219 \n\" clip-path=\"url(#p51078a4d6a)\" style=\"fill: #fde725\"/>\n    <path d=\"M 66.579313 163.207219 \nL 93.363313 163.207219 \nL 93.363313 184.951219 \nL 66.579313 184.951219 \nL 66.579313 163.207219 \n\" clip-path=\"url(#p51078a4d6a)\" style=\"fill: #fde725\"/>\n    <path d=\"M 93.363313 163.207219 \nL 120.147313 163.207219 \nL 120.147313 184.951219 \nL 93.363313 184.951219 \nL 93.363313 163.207219 \n\" clip-path=\"url(#p51078a4d6a)\" style=\"fill: #fde725\"/>\n    <path d=\"M 120.147313 163.207219 \nL 146.931313 163.207219 \nL 146.931313 184.951219 \nL 120.147313 184.951219 \nL 120.147313 163.207219 \n\" clip-path=\"url(#p51078a4d6a)\" style=\"fill: #d0e11c\"/>\n    <path d=\"M 146.931313 163.207219 \nL 173.715313 163.207219 \nL 173.715313 184.951219 \nL 146.931313 184.951219 \nL 146.931313 163.207219 \n\" clip-path=\"url(#p51078a4d6a)\" style=\"fill: #fde725\"/>\n    <path d=\"M 173.715313 163.207219 \nL 200.499313 163.207219 \nL 200.499313 184.951219 \nL 173.715313 184.951219 \nL 173.715313 163.207219 \n\" clip-path=\"url(#p51078a4d6a)\" style=\"fill: #fde725\"/>\n    <path d=\"M 200.499313 163.207219 \nL 227.283313 163.207219 \nL 227.283313 184.951219 \nL 200.499313 184.951219 \nL 200.499313 163.207219 \n\" clip-path=\"url(#p51078a4d6a)\" style=\"fill: #fde725\"/>\n    <path d=\"M 227.283313 163.207219 \nL 254.067313 163.207219 \nL 254.067313 184.951219 \nL 227.283313 184.951219 \nL 227.283313 163.207219 \n\" clip-path=\"url(#p51078a4d6a)\" style=\"fill: #440154\"/>\n    <path d=\"M 254.067313 163.207219 \nL 280.851313 163.207219 \nL 280.851313 184.951219 \nL 254.067313 184.951219 \nL 254.067313 163.207219 \n\" clip-path=\"url(#p51078a4d6a)\" style=\"fill: #dde318\"/>\n    <path d=\"M 280.851313 163.207219 \nL 307.635313 163.207219 \nL 307.635313 184.951219 \nL 280.851313 184.951219 \nL 280.851313 163.207219 \n\" clip-path=\"url(#p51078a4d6a)\" style=\"fill: #fde725\"/>\n    <path d=\"M 39.795313 184.951219 \nL 66.579313 184.951219 \nL 66.579313 206.695219 \nL 39.795313 206.695219 \nL 39.795313 184.951219 \n\" clip-path=\"url(#p51078a4d6a)\" style=\"fill: #f8e621\"/>\n    <path d=\"M 66.579313 184.951219 \nL 93.363313 184.951219 \nL 93.363313 206.695219 \nL 66.579313 206.695219 \nL 66.579313 184.951219 \n\" clip-path=\"url(#p51078a4d6a)\" style=\"fill: #fde725\"/>\n    <path d=\"M 93.363313 184.951219 \nL 120.147313 184.951219 \nL 120.147313 206.695219 \nL 93.363313 206.695219 \nL 93.363313 184.951219 \n\" clip-path=\"url(#p51078a4d6a)\" style=\"fill: #f4e61e\"/>\n    <path d=\"M 120.147313 184.951219 \nL 146.931313 184.951219 \nL 146.931313 206.695219 \nL 120.147313 206.695219 \nL 120.147313 184.951219 \n\" clip-path=\"url(#p51078a4d6a)\" style=\"fill: #fde725\"/>\n    <path d=\"M 146.931313 184.951219 \nL 173.715313 184.951219 \nL 173.715313 206.695219 \nL 146.931313 206.695219 \nL 146.931313 184.951219 \n\" clip-path=\"url(#p51078a4d6a)\" style=\"fill: #fde725\"/>\n    <path d=\"M 173.715313 184.951219 \nL 200.499313 184.951219 \nL 200.499313 206.695219 \nL 173.715313 206.695219 \nL 173.715313 184.951219 \n\" clip-path=\"url(#p51078a4d6a)\" style=\"fill: #fde725\"/>\n    <path d=\"M 200.499313 184.951219 \nL 227.283313 184.951219 \nL 227.283313 206.695219 \nL 200.499313 206.695219 \nL 200.499313 184.951219 \n\" clip-path=\"url(#p51078a4d6a)\" style=\"fill: #fde725\"/>\n    <path d=\"M 227.283313 184.951219 \nL 254.067313 184.951219 \nL 254.067313 206.695219 \nL 227.283313 206.695219 \nL 227.283313 184.951219 \n\" clip-path=\"url(#p51078a4d6a)\" style=\"fill: #dde318\"/>\n    <path d=\"M 254.067313 184.951219 \nL 280.851313 184.951219 \nL 280.851313 206.695219 \nL 254.067313 206.695219 \nL 254.067313 184.951219 \n\" clip-path=\"url(#p51078a4d6a)\" style=\"fill: #440154\"/>\n    <path d=\"M 280.851313 184.951219 \nL 307.635313 184.951219 \nL 307.635313 206.695219 \nL 280.851313 206.695219 \nL 280.851313 184.951219 \n\" clip-path=\"url(#p51078a4d6a)\" style=\"fill: #ece51b\"/>\n    <path d=\"M 39.795313 206.695219 \nL 66.579313 206.695219 \nL 66.579313 228.439219 \nL 39.795313 228.439219 \nL 39.795313 206.695219 \n\" clip-path=\"url(#p51078a4d6a)\" style=\"fill: #fbe723\"/>\n    <path d=\"M 66.579313 206.695219 \nL 93.363313 206.695219 \nL 93.363313 228.439219 \nL 66.579313 228.439219 \nL 66.579313 206.695219 \n\" clip-path=\"url(#p51078a4d6a)\" style=\"fill: #bddf26\"/>\n    <path d=\"M 93.363313 206.695219 \nL 120.147313 206.695219 \nL 120.147313 228.439219 \nL 93.363313 228.439219 \nL 93.363313 206.695219 \n\" clip-path=\"url(#p51078a4d6a)\" style=\"fill: #e2e418\"/>\n    <path d=\"M 120.147313 206.695219 \nL 146.931313 206.695219 \nL 146.931313 228.439219 \nL 120.147313 228.439219 \nL 120.147313 206.695219 \n\" clip-path=\"url(#p51078a4d6a)\" style=\"fill: #e5e419\"/>\n    <path d=\"M 146.931313 206.695219 \nL 173.715313 206.695219 \nL 173.715313 228.439219 \nL 146.931313 228.439219 \nL 146.931313 206.695219 \n\" clip-path=\"url(#p51078a4d6a)\" style=\"fill: #fbe723\"/>\n    <path d=\"M 173.715313 206.695219 \nL 200.499313 206.695219 \nL 200.499313 228.439219 \nL 173.715313 228.439219 \nL 173.715313 206.695219 \n\" clip-path=\"url(#p51078a4d6a)\" style=\"fill: #fbe723\"/>\n    <path d=\"M 200.499313 206.695219 \nL 227.283313 206.695219 \nL 227.283313 228.439219 \nL 200.499313 228.439219 \nL 200.499313 206.695219 \n\" clip-path=\"url(#p51078a4d6a)\" style=\"fill: #2fb47c\"/>\n    <path d=\"M 227.283313 206.695219 \nL 254.067313 206.695219 \nL 254.067313 228.439219 \nL 227.283313 228.439219 \nL 227.283313 206.695219 \n\" clip-path=\"url(#p51078a4d6a)\" style=\"fill: #fde725\"/>\n    <path d=\"M 254.067313 206.695219 \nL 280.851313 206.695219 \nL 280.851313 228.439219 \nL 254.067313 228.439219 \nL 254.067313 206.695219 \n\" clip-path=\"url(#p51078a4d6a)\" style=\"fill: #ece51b\"/>\n    <path d=\"M 280.851313 206.695219 \nL 307.635313 206.695219 \nL 307.635313 228.439219 \nL 280.851313 228.439219 \nL 280.851313 206.695219 \n\" clip-path=\"url(#p51078a4d6a)\" style=\"fill: #440154\"/>\n   </g>\n   <g id=\"matplotlib.axis_1\">\n    <g id=\"xtick_1\">\n     <g id=\"line2d_1\">\n      <defs>\n       <path id=\"m35c283624b\" d=\"M 0 0 \nL 0 3.5 \n\" style=\"stroke: #000000; stroke-width: 0.8\"/>\n      </defs>\n      <g>\n       <use xlink:href=\"#m35c283624b\" x=\"53.187313\" y=\"228.439219\" style=\"stroke: #000000; stroke-width: 0.8\"/>\n      </g>\n     </g>\n     <g id=\"text_1\">\n      <!-- P01A -->\n      <g transform=\"translate(55.946688 261.034531)rotate(-90)scale(0.1 -0.1)\">\n       <defs>\n        <path id=\"DejaVuSans-50\" d=\"M 1259 4147 \nL 1259 2394 \nL 2053 2394 \nQ 2494 2394 2734 2622 \nQ 2975 2850 2975 3272 \nQ 2975 3691 2734 3919 \nQ 2494 4147 2053 4147 \nL 1259 4147 \nz\nM 628 4666 \nL 2053 4666 \nQ 2838 4666 3239 4311 \nQ 3641 3956 3641 3272 \nQ 3641 2581 3239 2228 \nQ 2838 1875 2053 1875 \nL 1259 1875 \nL 1259 0 \nL 628 0 \nL 628 4666 \nz\n\" transform=\"scale(0.015625)\"/>\n        <path id=\"DejaVuSans-30\" d=\"M 2034 4250 \nQ 1547 4250 1301 3770 \nQ 1056 3291 1056 2328 \nQ 1056 1369 1301 889 \nQ 1547 409 2034 409 \nQ 2525 409 2770 889 \nQ 3016 1369 3016 2328 \nQ 3016 3291 2770 3770 \nQ 2525 4250 2034 4250 \nz\nM 2034 4750 \nQ 2819 4750 3233 4129 \nQ 3647 3509 3647 2328 \nQ 3647 1150 3233 529 \nQ 2819 -91 2034 -91 \nQ 1250 -91 836 529 \nQ 422 1150 422 2328 \nQ 422 3509 836 4129 \nQ 1250 4750 2034 4750 \nz\n\" transform=\"scale(0.015625)\"/>\n        <path id=\"DejaVuSans-31\" d=\"M 794 531 \nL 1825 531 \nL 1825 4091 \nL 703 3866 \nL 703 4441 \nL 1819 4666 \nL 2450 4666 \nL 2450 531 \nL 3481 531 \nL 3481 0 \nL 794 0 \nL 794 531 \nz\n\" transform=\"scale(0.015625)\"/>\n        <path id=\"DejaVuSans-41\" d=\"M 2188 4044 \nL 1331 1722 \nL 3047 1722 \nL 2188 4044 \nz\nM 1831 4666 \nL 2547 4666 \nL 4325 0 \nL 3669 0 \nL 3244 1197 \nL 1141 1197 \nL 716 0 \nL 50 0 \nL 1831 4666 \nz\n\" transform=\"scale(0.015625)\"/>\n       </defs>\n       <use xlink:href=\"#DejaVuSans-50\"/>\n       <use xlink:href=\"#DejaVuSans-30\" x=\"60.302734\"/>\n       <use xlink:href=\"#DejaVuSans-31\" x=\"123.925781\"/>\n       <use xlink:href=\"#DejaVuSans-41\" x=\"187.548828\"/>\n      </g>\n     </g>\n    </g>\n    <g id=\"xtick_2\">\n     <g id=\"line2d_2\">\n      <g>\n       <use xlink:href=\"#m35c283624b\" x=\"79.971313\" y=\"228.439219\" style=\"stroke: #000000; stroke-width: 0.8\"/>\n      </g>\n     </g>\n     <g id=\"text_2\">\n      <!-- P03A -->\n      <g transform=\"translate(82.730688 261.034531)rotate(-90)scale(0.1 -0.1)\">\n       <defs>\n        <path id=\"DejaVuSans-33\" d=\"M 2597 2516 \nQ 3050 2419 3304 2112 \nQ 3559 1806 3559 1356 \nQ 3559 666 3084 287 \nQ 2609 -91 1734 -91 \nQ 1441 -91 1130 -33 \nQ 819 25 488 141 \nL 488 750 \nQ 750 597 1062 519 \nQ 1375 441 1716 441 \nQ 2309 441 2620 675 \nQ 2931 909 2931 1356 \nQ 2931 1769 2642 2001 \nQ 2353 2234 1838 2234 \nL 1294 2234 \nL 1294 2753 \nL 1863 2753 \nQ 2328 2753 2575 2939 \nQ 2822 3125 2822 3475 \nQ 2822 3834 2567 4026 \nQ 2313 4219 1838 4219 \nQ 1578 4219 1281 4162 \nQ 984 4106 628 3988 \nL 628 4550 \nQ 988 4650 1302 4700 \nQ 1616 4750 1894 4750 \nQ 2613 4750 3031 4423 \nQ 3450 4097 3450 3541 \nQ 3450 3153 3228 2886 \nQ 3006 2619 2597 2516 \nz\n\" transform=\"scale(0.015625)\"/>\n       </defs>\n       <use xlink:href=\"#DejaVuSans-50\"/>\n       <use xlink:href=\"#DejaVuSans-30\" x=\"60.302734\"/>\n       <use xlink:href=\"#DejaVuSans-33\" x=\"123.925781\"/>\n       <use xlink:href=\"#DejaVuSans-41\" x=\"187.548828\"/>\n      </g>\n     </g>\n    </g>\n    <g id=\"xtick_3\">\n     <g id=\"line2d_3\">\n      <g>\n       <use xlink:href=\"#m35c283624b\" x=\"106.755313\" y=\"228.439219\" style=\"stroke: #000000; stroke-width: 0.8\"/>\n      </g>\n     </g>\n     <g id=\"text_3\">\n      <!-- P05A -->\n      <g transform=\"translate(109.514688 261.034531)rotate(-90)scale(0.1 -0.1)\">\n       <defs>\n        <path id=\"DejaVuSans-35\" d=\"M 691 4666 \nL 3169 4666 \nL 3169 4134 \nL 1269 4134 \nL 1269 2991 \nQ 1406 3038 1543 3061 \nQ 1681 3084 1819 3084 \nQ 2600 3084 3056 2656 \nQ 3513 2228 3513 1497 \nQ 3513 744 3044 326 \nQ 2575 -91 1722 -91 \nQ 1428 -91 1123 -41 \nQ 819 9 494 109 \nL 494 744 \nQ 775 591 1075 516 \nQ 1375 441 1709 441 \nQ 2250 441 2565 725 \nQ 2881 1009 2881 1497 \nQ 2881 1984 2565 2268 \nQ 2250 2553 1709 2553 \nQ 1456 2553 1204 2497 \nQ 953 2441 691 2322 \nL 691 4666 \nz\n\" transform=\"scale(0.015625)\"/>\n       </defs>\n       <use xlink:href=\"#DejaVuSans-50\"/>\n       <use xlink:href=\"#DejaVuSans-30\" x=\"60.302734\"/>\n       <use xlink:href=\"#DejaVuSans-35\" x=\"123.925781\"/>\n       <use xlink:href=\"#DejaVuSans-41\" x=\"187.548828\"/>\n      </g>\n     </g>\n    </g>\n    <g id=\"xtick_4\">\n     <g id=\"line2d_4\">\n      <g>\n       <use xlink:href=\"#m35c283624b\" x=\"133.539313\" y=\"228.439219\" style=\"stroke: #000000; stroke-width: 0.8\"/>\n      </g>\n     </g>\n     <g id=\"text_4\">\n      <!-- P07A -->\n      <g transform=\"translate(136.298688 261.034531)rotate(-90)scale(0.1 -0.1)\">\n       <defs>\n        <path id=\"DejaVuSans-37\" d=\"M 525 4666 \nL 3525 4666 \nL 3525 4397 \nL 1831 0 \nL 1172 0 \nL 2766 4134 \nL 525 4134 \nL 525 4666 \nz\n\" transform=\"scale(0.015625)\"/>\n       </defs>\n       <use xlink:href=\"#DejaVuSans-50\"/>\n       <use xlink:href=\"#DejaVuSans-30\" x=\"60.302734\"/>\n       <use xlink:href=\"#DejaVuSans-37\" x=\"123.925781\"/>\n       <use xlink:href=\"#DejaVuSans-41\" x=\"187.548828\"/>\n      </g>\n     </g>\n    </g>\n    <g id=\"xtick_5\">\n     <g id=\"line2d_5\">\n      <g>\n       <use xlink:href=\"#m35c283624b\" x=\"160.323313\" y=\"228.439219\" style=\"stroke: #000000; stroke-width: 0.8\"/>\n      </g>\n     </g>\n     <g id=\"text_5\">\n      <!-- P09A -->\n      <g transform=\"translate(163.082688 261.034531)rotate(-90)scale(0.1 -0.1)\">\n       <defs>\n        <path id=\"DejaVuSans-39\" d=\"M 703 97 \nL 703 672 \nQ 941 559 1184 500 \nQ 1428 441 1663 441 \nQ 2288 441 2617 861 \nQ 2947 1281 2994 2138 \nQ 2813 1869 2534 1725 \nQ 2256 1581 1919 1581 \nQ 1219 1581 811 2004 \nQ 403 2428 403 3163 \nQ 403 3881 828 4315 \nQ 1253 4750 1959 4750 \nQ 2769 4750 3195 4129 \nQ 3622 3509 3622 2328 \nQ 3622 1225 3098 567 \nQ 2575 -91 1691 -91 \nQ 1453 -91 1209 -44 \nQ 966 3 703 97 \nz\nM 1959 2075 \nQ 2384 2075 2632 2365 \nQ 2881 2656 2881 3163 \nQ 2881 3666 2632 3958 \nQ 2384 4250 1959 4250 \nQ 1534 4250 1286 3958 \nQ 1038 3666 1038 3163 \nQ 1038 2656 1286 2365 \nQ 1534 2075 1959 2075 \nz\n\" transform=\"scale(0.015625)\"/>\n       </defs>\n       <use xlink:href=\"#DejaVuSans-50\"/>\n       <use xlink:href=\"#DejaVuSans-30\" x=\"60.302734\"/>\n       <use xlink:href=\"#DejaVuSans-39\" x=\"123.925781\"/>\n       <use xlink:href=\"#DejaVuSans-41\" x=\"187.548828\"/>\n      </g>\n     </g>\n    </g>\n    <g id=\"xtick_6\">\n     <g id=\"line2d_6\">\n      <g>\n       <use xlink:href=\"#m35c283624b\" x=\"187.107313\" y=\"228.439219\" style=\"stroke: #000000; stroke-width: 0.8\"/>\n      </g>\n     </g>\n     <g id=\"text_6\">\n      <!-- P13A -->\n      <g transform=\"translate(189.866688 261.034531)rotate(-90)scale(0.1 -0.1)\">\n       <use xlink:href=\"#DejaVuSans-50\"/>\n       <use xlink:href=\"#DejaVuSans-31\" x=\"60.302734\"/>\n       <use xlink:href=\"#DejaVuSans-33\" x=\"123.925781\"/>\n       <use xlink:href=\"#DejaVuSans-41\" x=\"187.548828\"/>\n      </g>\n     </g>\n    </g>\n    <g id=\"xtick_7\">\n     <g id=\"line2d_7\">\n      <g>\n       <use xlink:href=\"#m35c283624b\" x=\"213.891313\" y=\"228.439219\" style=\"stroke: #000000; stroke-width: 0.8\"/>\n      </g>\n     </g>\n     <g id=\"text_7\">\n      <!-- P15A -->\n      <g transform=\"translate(216.650688 261.034531)rotate(-90)scale(0.1 -0.1)\">\n       <use xlink:href=\"#DejaVuSans-50\"/>\n       <use xlink:href=\"#DejaVuSans-31\" x=\"60.302734\"/>\n       <use xlink:href=\"#DejaVuSans-35\" x=\"123.925781\"/>\n       <use xlink:href=\"#DejaVuSans-41\" x=\"187.548828\"/>\n      </g>\n     </g>\n    </g>\n    <g id=\"xtick_8\">\n     <g id=\"line2d_8\">\n      <g>\n       <use xlink:href=\"#m35c283624b\" x=\"240.675313\" y=\"228.439219\" style=\"stroke: #000000; stroke-width: 0.8\"/>\n      </g>\n     </g>\n     <g id=\"text_8\">\n      <!-- P19A -->\n      <g transform=\"translate(243.434688 261.034531)rotate(-90)scale(0.1 -0.1)\">\n       <use xlink:href=\"#DejaVuSans-50\"/>\n       <use xlink:href=\"#DejaVuSans-31\" x=\"60.302734\"/>\n       <use xlink:href=\"#DejaVuSans-39\" x=\"123.925781\"/>\n       <use xlink:href=\"#DejaVuSans-41\" x=\"187.548828\"/>\n      </g>\n     </g>\n    </g>\n    <g id=\"xtick_9\">\n     <g id=\"line2d_9\">\n      <g>\n       <use xlink:href=\"#m35c283624b\" x=\"267.459313\" y=\"228.439219\" style=\"stroke: #000000; stroke-width: 0.8\"/>\n      </g>\n     </g>\n     <g id=\"text_9\">\n      <!-- P21A -->\n      <g transform=\"translate(270.218688 261.034531)rotate(-90)scale(0.1 -0.1)\">\n       <defs>\n        <path id=\"DejaVuSans-32\" d=\"M 1228 531 \nL 3431 531 \nL 3431 0 \nL 469 0 \nL 469 531 \nQ 828 903 1448 1529 \nQ 2069 2156 2228 2338 \nQ 2531 2678 2651 2914 \nQ 2772 3150 2772 3378 \nQ 2772 3750 2511 3984 \nQ 2250 4219 1831 4219 \nQ 1534 4219 1204 4116 \nQ 875 4013 500 3803 \nL 500 4441 \nQ 881 4594 1212 4672 \nQ 1544 4750 1819 4750 \nQ 2544 4750 2975 4387 \nQ 3406 4025 3406 3419 \nQ 3406 3131 3298 2873 \nQ 3191 2616 2906 2266 \nQ 2828 2175 2409 1742 \nQ 1991 1309 1228 531 \nz\n\" transform=\"scale(0.015625)\"/>\n       </defs>\n       <use xlink:href=\"#DejaVuSans-50\"/>\n       <use xlink:href=\"#DejaVuSans-32\" x=\"60.302734\"/>\n       <use xlink:href=\"#DejaVuSans-31\" x=\"123.925781\"/>\n       <use xlink:href=\"#DejaVuSans-41\" x=\"187.548828\"/>\n      </g>\n     </g>\n    </g>\n    <g id=\"xtick_10\">\n     <g id=\"line2d_10\">\n      <g>\n       <use xlink:href=\"#m35c283624b\" x=\"294.243313\" y=\"228.439219\" style=\"stroke: #000000; stroke-width: 0.8\"/>\n      </g>\n     </g>\n     <g id=\"text_10\">\n      <!-- P22A -->\n      <g transform=\"translate(297.002688 261.034531)rotate(-90)scale(0.1 -0.1)\">\n       <use xlink:href=\"#DejaVuSans-50\"/>\n       <use xlink:href=\"#DejaVuSans-32\" x=\"60.302734\"/>\n       <use xlink:href=\"#DejaVuSans-32\" x=\"123.925781\"/>\n       <use xlink:href=\"#DejaVuSans-41\" x=\"187.548828\"/>\n      </g>\n     </g>\n    </g>\n   </g>\n   <g id=\"matplotlib.axis_2\">\n    <g id=\"ytick_1\">\n     <g id=\"line2d_11\">\n      <defs>\n       <path id=\"m6c94afba8f\" d=\"M 0 0 \nL -3.5 0 \n\" style=\"stroke: #000000; stroke-width: 0.8\"/>\n      </defs>\n      <g>\n       <use xlink:href=\"#m6c94afba8f\" x=\"39.795313\" y=\"21.871219\" style=\"stroke: #000000; stroke-width: 0.8\"/>\n      </g>\n     </g>\n     <g id=\"text_11\">\n      <!-- P01A -->\n      <g transform=\"translate(7.2 25.670437)scale(0.1 -0.1)\">\n       <use xlink:href=\"#DejaVuSans-50\"/>\n       <use xlink:href=\"#DejaVuSans-30\" x=\"60.302734\"/>\n       <use xlink:href=\"#DejaVuSans-31\" x=\"123.925781\"/>\n       <use xlink:href=\"#DejaVuSans-41\" x=\"187.548828\"/>\n      </g>\n     </g>\n    </g>\n    <g id=\"ytick_2\">\n     <g id=\"line2d_12\">\n      <g>\n       <use xlink:href=\"#m6c94afba8f\" x=\"39.795313\" y=\"43.615219\" style=\"stroke: #000000; stroke-width: 0.8\"/>\n      </g>\n     </g>\n     <g id=\"text_12\">\n      <!-- P03A -->\n      <g transform=\"translate(7.2 47.414437)scale(0.1 -0.1)\">\n       <use xlink:href=\"#DejaVuSans-50\"/>\n       <use xlink:href=\"#DejaVuSans-30\" x=\"60.302734\"/>\n       <use xlink:href=\"#DejaVuSans-33\" x=\"123.925781\"/>\n       <use xlink:href=\"#DejaVuSans-41\" x=\"187.548828\"/>\n      </g>\n     </g>\n    </g>\n    <g id=\"ytick_3\">\n     <g id=\"line2d_13\">\n      <g>\n       <use xlink:href=\"#m6c94afba8f\" x=\"39.795313\" y=\"65.359219\" style=\"stroke: #000000; stroke-width: 0.8\"/>\n      </g>\n     </g>\n     <g id=\"text_13\">\n      <!-- P05A -->\n      <g transform=\"translate(7.2 69.158437)scale(0.1 -0.1)\">\n       <use xlink:href=\"#DejaVuSans-50\"/>\n       <use xlink:href=\"#DejaVuSans-30\" x=\"60.302734\"/>\n       <use xlink:href=\"#DejaVuSans-35\" x=\"123.925781\"/>\n       <use xlink:href=\"#DejaVuSans-41\" x=\"187.548828\"/>\n      </g>\n     </g>\n    </g>\n    <g id=\"ytick_4\">\n     <g id=\"line2d_14\">\n      <g>\n       <use xlink:href=\"#m6c94afba8f\" x=\"39.795313\" y=\"87.103219\" style=\"stroke: #000000; stroke-width: 0.8\"/>\n      </g>\n     </g>\n     <g id=\"text_14\">\n      <!-- P07A -->\n      <g transform=\"translate(7.2 90.902437)scale(0.1 -0.1)\">\n       <use xlink:href=\"#DejaVuSans-50\"/>\n       <use xlink:href=\"#DejaVuSans-30\" x=\"60.302734\"/>\n       <use xlink:href=\"#DejaVuSans-37\" x=\"123.925781\"/>\n       <use xlink:href=\"#DejaVuSans-41\" x=\"187.548828\"/>\n      </g>\n     </g>\n    </g>\n    <g id=\"ytick_5\">\n     <g id=\"line2d_15\">\n      <g>\n       <use xlink:href=\"#m6c94afba8f\" x=\"39.795313\" y=\"108.847219\" style=\"stroke: #000000; stroke-width: 0.8\"/>\n      </g>\n     </g>\n     <g id=\"text_15\">\n      <!-- P09A -->\n      <g transform=\"translate(7.2 112.646437)scale(0.1 -0.1)\">\n       <use xlink:href=\"#DejaVuSans-50\"/>\n       <use xlink:href=\"#DejaVuSans-30\" x=\"60.302734\"/>\n       <use xlink:href=\"#DejaVuSans-39\" x=\"123.925781\"/>\n       <use xlink:href=\"#DejaVuSans-41\" x=\"187.548828\"/>\n      </g>\n     </g>\n    </g>\n    <g id=\"ytick_6\">\n     <g id=\"line2d_16\">\n      <g>\n       <use xlink:href=\"#m6c94afba8f\" x=\"39.795313\" y=\"130.591219\" style=\"stroke: #000000; stroke-width: 0.8\"/>\n      </g>\n     </g>\n     <g id=\"text_16\">\n      <!-- P13A -->\n      <g transform=\"translate(7.2 134.390437)scale(0.1 -0.1)\">\n       <use xlink:href=\"#DejaVuSans-50\"/>\n       <use xlink:href=\"#DejaVuSans-31\" x=\"60.302734\"/>\n       <use xlink:href=\"#DejaVuSans-33\" x=\"123.925781\"/>\n       <use xlink:href=\"#DejaVuSans-41\" x=\"187.548828\"/>\n      </g>\n     </g>\n    </g>\n    <g id=\"ytick_7\">\n     <g id=\"line2d_17\">\n      <g>\n       <use xlink:href=\"#m6c94afba8f\" x=\"39.795313\" y=\"152.335219\" style=\"stroke: #000000; stroke-width: 0.8\"/>\n      </g>\n     </g>\n     <g id=\"text_17\">\n      <!-- P15A -->\n      <g transform=\"translate(7.2 156.134437)scale(0.1 -0.1)\">\n       <use xlink:href=\"#DejaVuSans-50\"/>\n       <use xlink:href=\"#DejaVuSans-31\" x=\"60.302734\"/>\n       <use xlink:href=\"#DejaVuSans-35\" x=\"123.925781\"/>\n       <use xlink:href=\"#DejaVuSans-41\" x=\"187.548828\"/>\n      </g>\n     </g>\n    </g>\n    <g id=\"ytick_8\">\n     <g id=\"line2d_18\">\n      <g>\n       <use xlink:href=\"#m6c94afba8f\" x=\"39.795313\" y=\"174.079219\" style=\"stroke: #000000; stroke-width: 0.8\"/>\n      </g>\n     </g>\n     <g id=\"text_18\">\n      <!-- P19A -->\n      <g transform=\"translate(7.2 177.878437)scale(0.1 -0.1)\">\n       <use xlink:href=\"#DejaVuSans-50\"/>\n       <use xlink:href=\"#DejaVuSans-31\" x=\"60.302734\"/>\n       <use xlink:href=\"#DejaVuSans-39\" x=\"123.925781\"/>\n       <use xlink:href=\"#DejaVuSans-41\" x=\"187.548828\"/>\n      </g>\n     </g>\n    </g>\n    <g id=\"ytick_9\">\n     <g id=\"line2d_19\">\n      <g>\n       <use xlink:href=\"#m6c94afba8f\" x=\"39.795313\" y=\"195.823219\" style=\"stroke: #000000; stroke-width: 0.8\"/>\n      </g>\n     </g>\n     <g id=\"text_19\">\n      <!-- P21A -->\n      <g transform=\"translate(7.2 199.622437)scale(0.1 -0.1)\">\n       <use xlink:href=\"#DejaVuSans-50\"/>\n       <use xlink:href=\"#DejaVuSans-32\" x=\"60.302734\"/>\n       <use xlink:href=\"#DejaVuSans-31\" x=\"123.925781\"/>\n       <use xlink:href=\"#DejaVuSans-41\" x=\"187.548828\"/>\n      </g>\n     </g>\n    </g>\n    <g id=\"ytick_10\">\n     <g id=\"line2d_20\">\n      <g>\n       <use xlink:href=\"#m6c94afba8f\" x=\"39.795313\" y=\"217.567219\" style=\"stroke: #000000; stroke-width: 0.8\"/>\n      </g>\n     </g>\n     <g id=\"text_20\">\n      <!-- P22A -->\n      <g transform=\"translate(7.2 221.366437)scale(0.1 -0.1)\">\n       <use xlink:href=\"#DejaVuSans-50\"/>\n       <use xlink:href=\"#DejaVuSans-32\" x=\"60.302734\"/>\n       <use xlink:href=\"#DejaVuSans-32\" x=\"123.925781\"/>\n       <use xlink:href=\"#DejaVuSans-41\" x=\"187.548828\"/>\n      </g>\n     </g>\n    </g>\n   </g>\n   <g id=\"patch_3\">\n    <path d=\"M 39.795313 228.439219 \nL 39.795313 10.999219 \n\" style=\"fill: none; stroke: #000000; stroke-width: 0.8; stroke-linejoin: miter; stroke-linecap: square\"/>\n   </g>\n   <g id=\"patch_4\">\n    <path d=\"M 307.635313 228.439219 \nL 307.635313 10.999219 \n\" style=\"fill: none; stroke: #000000; stroke-width: 0.8; stroke-linejoin: miter; stroke-linecap: square\"/>\n   </g>\n   <g id=\"patch_5\">\n    <path d=\"M 39.795313 228.439219 \nL 307.635313 228.439219 \n\" style=\"fill: none; stroke: #000000; stroke-width: 0.8; stroke-linejoin: miter; stroke-linecap: square\"/>\n   </g>\n   <g id=\"patch_6\">\n    <path d=\"M 39.795313 10.999219 \nL 307.635313 10.999219 \n\" style=\"fill: none; stroke: #000000; stroke-width: 0.8; stroke-linejoin: miter; stroke-linecap: square\"/>\n   </g>\n  </g>\n  <g id=\"axes_2\">\n   <g id=\"patch_7\">\n    <path d=\"M 324.375313 228.439219 \nL 335.247313 228.439219 \nL 335.247313 10.999219 \nL 324.375313 10.999219 \nz\n\" style=\"fill: #ffffff\"/>\n   </g>\n   <g id=\"patch_8\">\n    <path clip-path=\"url(#p38f0088263)\" style=\"fill: #ffffff; stroke: #ffffff; stroke-width: 0.01; stroke-linejoin: miter\"/>\n   </g>\n   <image xlink:href=\"data:image/png;base64,\niVBORw0KGgoAAAANSUhEUgAAAAsAAADZCAYAAAD2WsoCAAABY0lEQVR4nN2awZHDMAwDSVFKZSkh/Vdyd0oL3MfO0Jc3BgMCEO3Yznd+bjR/O6u62NiRqw/OlRJzMGYAZm4sopnIQAOmZx0a0HPDAxfSPKKiQ9y4rM9t7Bg3bs2Qofl82YEFzGxArRsXaSYHVgyFFQkxEzBbX4AZ+kyYtQFFGd6xQjL6dz0PHZAtGcI8pRuEeUb5x7gxQoa4zB+oWWT+73F75Z+hGSh+5oBq3O0nQ8/ss+YGa53pBklQKz+TMcMN8PzGHJCBw5KRZBWk5ga45YehrCkDEhl9YsiM3FhIswhuY2PX+uuDFzlWSIZnHWI23bA0e+CdxI0Zms0BNTdIkaAbQPOZ4UYxNywZJ38l5grNOhY3GhAwewl6zMgNlCAKBa0CyAzAL7EbyDq0RdGAP4TZCoX1WWsd2vwsQe3ShpiPdwFqQyM2eDceu8D/JSbjkE8yoAwALvLeaoGHMkzGyd0GfwHsR4FmRQKvbQAAAABJRU5ErkJggg==\" id=\"image038828d812\" transform=\"scale(1 -1)translate(0 -217)\" x=\"324\" y=\"-11\" width=\"11\" height=\"217\"/>\n   <g id=\"matplotlib.axis_3\">\n    <g id=\"ytick_11\">\n     <g id=\"line2d_21\">\n      <defs>\n       <path id=\"mba4dabce37\" d=\"M 0 0 \nL 3.5 0 \n\" style=\"stroke: #000000; stroke-width: 0.8\"/>\n      </defs>\n      <g>\n       <use xlink:href=\"#mba4dabce37\" x=\"335.247313\" y=\"228.439219\" style=\"stroke: #000000; stroke-width: 0.8\"/>\n      </g>\n     </g>\n     <g id=\"text_21\">\n      <!-- 0.0 -->\n      <g transform=\"translate(342.247313 232.238437)scale(0.1 -0.1)\">\n       <defs>\n        <path id=\"DejaVuSans-2e\" d=\"M 684 794 \nL 1344 794 \nL 1344 0 \nL 684 0 \nL 684 794 \nz\n\" transform=\"scale(0.015625)\"/>\n       </defs>\n       <use xlink:href=\"#DejaVuSans-30\"/>\n       <use xlink:href=\"#DejaVuSans-2e\" x=\"63.623047\"/>\n       <use xlink:href=\"#DejaVuSans-30\" x=\"95.410156\"/>\n      </g>\n     </g>\n    </g>\n    <g id=\"ytick_12\">\n     <g id=\"line2d_22\">\n      <g>\n       <use xlink:href=\"#mba4dabce37\" x=\"335.247313\" y=\"184.951219\" style=\"stroke: #000000; stroke-width: 0.8\"/>\n      </g>\n     </g>\n     <g id=\"text_22\">\n      <!-- 0.2 -->\n      <g transform=\"translate(342.247313 188.750437)scale(0.1 -0.1)\">\n       <use xlink:href=\"#DejaVuSans-30\"/>\n       <use xlink:href=\"#DejaVuSans-2e\" x=\"63.623047\"/>\n       <use xlink:href=\"#DejaVuSans-32\" x=\"95.410156\"/>\n      </g>\n     </g>\n    </g>\n    <g id=\"ytick_13\">\n     <g id=\"line2d_23\">\n      <g>\n       <use xlink:href=\"#mba4dabce37\" x=\"335.247313\" y=\"141.463219\" style=\"stroke: #000000; stroke-width: 0.8\"/>\n      </g>\n     </g>\n     <g id=\"text_23\">\n      <!-- 0.4 -->\n      <g transform=\"translate(342.247313 145.262437)scale(0.1 -0.1)\">\n       <defs>\n        <path id=\"DejaVuSans-34\" d=\"M 2419 4116 \nL 825 1625 \nL 2419 1625 \nL 2419 4116 \nz\nM 2253 4666 \nL 3047 4666 \nL 3047 1625 \nL 3713 1625 \nL 3713 1100 \nL 3047 1100 \nL 3047 0 \nL 2419 0 \nL 2419 1100 \nL 313 1100 \nL 313 1709 \nL 2253 4666 \nz\n\" transform=\"scale(0.015625)\"/>\n       </defs>\n       <use xlink:href=\"#DejaVuSans-30\"/>\n       <use xlink:href=\"#DejaVuSans-2e\" x=\"63.623047\"/>\n       <use xlink:href=\"#DejaVuSans-34\" x=\"95.410156\"/>\n      </g>\n     </g>\n    </g>\n    <g id=\"ytick_14\">\n     <g id=\"line2d_24\">\n      <g>\n       <use xlink:href=\"#mba4dabce37\" x=\"335.247313\" y=\"97.975219\" style=\"stroke: #000000; stroke-width: 0.8\"/>\n      </g>\n     </g>\n     <g id=\"text_24\">\n      <!-- 0.6 -->\n      <g transform=\"translate(342.247313 101.774437)scale(0.1 -0.1)\">\n       <defs>\n        <path id=\"DejaVuSans-36\" d=\"M 2113 2584 \nQ 1688 2584 1439 2293 \nQ 1191 2003 1191 1497 \nQ 1191 994 1439 701 \nQ 1688 409 2113 409 \nQ 2538 409 2786 701 \nQ 3034 994 3034 1497 \nQ 3034 2003 2786 2293 \nQ 2538 2584 2113 2584 \nz\nM 3366 4563 \nL 3366 3988 \nQ 3128 4100 2886 4159 \nQ 2644 4219 2406 4219 \nQ 1781 4219 1451 3797 \nQ 1122 3375 1075 2522 \nQ 1259 2794 1537 2939 \nQ 1816 3084 2150 3084 \nQ 2853 3084 3261 2657 \nQ 3669 2231 3669 1497 \nQ 3669 778 3244 343 \nQ 2819 -91 2113 -91 \nQ 1303 -91 875 529 \nQ 447 1150 447 2328 \nQ 447 3434 972 4092 \nQ 1497 4750 2381 4750 \nQ 2619 4750 2861 4703 \nQ 3103 4656 3366 4563 \nz\n\" transform=\"scale(0.015625)\"/>\n       </defs>\n       <use xlink:href=\"#DejaVuSans-30\"/>\n       <use xlink:href=\"#DejaVuSans-2e\" x=\"63.623047\"/>\n       <use xlink:href=\"#DejaVuSans-36\" x=\"95.410156\"/>\n      </g>\n     </g>\n    </g>\n    <g id=\"ytick_15\">\n     <g id=\"line2d_25\">\n      <g>\n       <use xlink:href=\"#mba4dabce37\" x=\"335.247313\" y=\"54.487219\" style=\"stroke: #000000; stroke-width: 0.8\"/>\n      </g>\n     </g>\n     <g id=\"text_25\">\n      <!-- 0.8 -->\n      <g transform=\"translate(342.247313 58.286437)scale(0.1 -0.1)\">\n       <defs>\n        <path id=\"DejaVuSans-38\" d=\"M 2034 2216 \nQ 1584 2216 1326 1975 \nQ 1069 1734 1069 1313 \nQ 1069 891 1326 650 \nQ 1584 409 2034 409 \nQ 2484 409 2743 651 \nQ 3003 894 3003 1313 \nQ 3003 1734 2745 1975 \nQ 2488 2216 2034 2216 \nz\nM 1403 2484 \nQ 997 2584 770 2862 \nQ 544 3141 544 3541 \nQ 544 4100 942 4425 \nQ 1341 4750 2034 4750 \nQ 2731 4750 3128 4425 \nQ 3525 4100 3525 3541 \nQ 3525 3141 3298 2862 \nQ 3072 2584 2669 2484 \nQ 3125 2378 3379 2068 \nQ 3634 1759 3634 1313 \nQ 3634 634 3220 271 \nQ 2806 -91 2034 -91 \nQ 1263 -91 848 271 \nQ 434 634 434 1313 \nQ 434 1759 690 2068 \nQ 947 2378 1403 2484 \nz\nM 1172 3481 \nQ 1172 3119 1398 2916 \nQ 1625 2713 2034 2713 \nQ 2441 2713 2670 2916 \nQ 2900 3119 2900 3481 \nQ 2900 3844 2670 4047 \nQ 2441 4250 2034 4250 \nQ 1625 4250 1398 4047 \nQ 1172 3844 1172 3481 \nz\n\" transform=\"scale(0.015625)\"/>\n       </defs>\n       <use xlink:href=\"#DejaVuSans-30\"/>\n       <use xlink:href=\"#DejaVuSans-2e\" x=\"63.623047\"/>\n       <use xlink:href=\"#DejaVuSans-38\" x=\"95.410156\"/>\n      </g>\n     </g>\n    </g>\n    <g id=\"ytick_16\">\n     <g id=\"line2d_26\">\n      <g>\n       <use xlink:href=\"#mba4dabce37\" x=\"335.247313\" y=\"10.999219\" style=\"stroke: #000000; stroke-width: 0.8\"/>\n      </g>\n     </g>\n     <g id=\"text_26\">\n      <!-- 1.0 -->\n      <g transform=\"translate(342.247313 14.798437)scale(0.1 -0.1)\">\n       <use xlink:href=\"#DejaVuSans-31\"/>\n       <use xlink:href=\"#DejaVuSans-2e\" x=\"63.623047\"/>\n       <use xlink:href=\"#DejaVuSans-30\" x=\"95.410156\"/>\n      </g>\n     </g>\n    </g>\n   </g>\n   <g id=\"LineCollection_1\"/>\n   <g id=\"patch_9\">\n    <path d=\"M 324.375313 228.439219 \nL 329.811313 228.439219 \nL 335.247313 228.439219 \nL 335.247313 10.999219 \nL 329.811313 10.999219 \nL 324.375313 10.999219 \nL 324.375313 228.439219 \nz\n\" style=\"fill: none; stroke: #000000; stroke-width: 0.8; stroke-linejoin: miter; stroke-linecap: square\"/>\n   </g>\n  </g>\n </g>\n <defs>\n  <clipPath id=\"p51078a4d6a\">\n   <rect x=\"39.795313\" y=\"10.999219\" width=\"267.84\" height=\"217.44\"/>\n  </clipPath>\n  <clipPath id=\"p38f0088263\">\n   <rect x=\"324.375313\" y=\"10.999219\" width=\"10.872\" height=\"217.44\"/>\n  </clipPath>\n </defs>\n</svg>\n",
      "text/plain": [
       "<skbio.stats.distance._base.DistanceMatrix at 0x7f9a8cda0c40>"
      ]
     },
     "execution_count": 11,
     "metadata": {},
     "output_type": "execute_result"
    }
   ],
   "source": [
    "action_results.bray_curtis_distance_matrix.view(view_type=DistanceMatrix)"
   ]
  },
  {
   "cell_type": "code",
   "execution_count": 12,
   "id": "363dd994",
   "metadata": {},
   "outputs": [
    {
     "data": {
      "image/png": "[encoded data removed]",
      "image/svg+xml": "<?xml version=\"1.0\" encoding=\"utf-8\" standalone=\"no\"?>\n<!DOCTYPE svg PUBLIC \"-//W3C//DTD SVG 1.1//EN\"\n  \"http://www.w3.org/Graphics/SVG/1.1/DTD/svg11.dtd\">\n<svg xmlns:xlink=\"http://www.w3.org/1999/xlink\" width=\"365.350438pt\" height=\"268.234531pt\" viewBox=\"0 0 365.350438 268.234531\" xmlns=\"http://www.w3.org/2000/svg\" version=\"1.1\">\n <metadata>\n  <rdf:RDF xmlns:dc=\"http://purl.org/dc/elements/1.1/\" xmlns:cc=\"http://creativecommons.org/ns#\" xmlns:rdf=\"http://www.w3.org/1999/02/22-rdf-syntax-ns#\">\n   <cc:Work>\n    <dc:type rdf:resource=\"http://purl.org/dc/dcmitype/StillImage\"/>\n    <dc:date>2022-10-17T17:54:51.862491</dc:date>\n    <dc:format>image/svg+xml</dc:format>\n    <dc:creator>\n     <cc:Agent>\n      <dc:title>Matplotlib v3.5.2, https://matplotlib.org/</dc:title>\n     </cc:Agent>\n    </dc:creator>\n   </cc:Work>\n  </rdf:RDF>\n </metadata>\n <defs>\n  <style type=\"text/css\">*{stroke-linejoin: round; stroke-linecap: butt}</style>\n </defs>\n <g id=\"figure_1\">\n  <g id=\"patch_1\">\n   <path d=\"M 0 268.234531 \nL 365.350438 268.234531 \nL 365.350438 0 \nL 0 0 \nL 0 268.234531 \nz\n\" style=\"fill: none\"/>\n  </g>\n  <g id=\"axes_1\">\n   <g id=\"patch_2\">\n    <path d=\"M 39.795313 228.439219 \nL 307.635313 228.439219 \nL 307.635313 10.999219 \nL 39.795313 10.999219 \nz\n\" style=\"fill: #ffffff\"/>\n   </g>\n   <g id=\"QuadMesh_1\">\n    <path d=\"M 39.795313 10.999219 \nL 66.579313 10.999219 \nL 66.579313 32.743219 \nL 39.795313 32.743219 \nL 39.795313 10.999219 \n\" clip-path=\"url(#pb69aa9847f)\" style=\"fill: #440154\"/>\n    <path d=\"M 66.579313 10.999219 \nL 93.363313 10.999219 \nL 93.363313 32.743219 \nL 66.579313 32.743219 \nL 66.579313 10.999219 \n\" clip-path=\"url(#pb69aa9847f)\" style=\"fill: #b2dd2d\"/>\n    <path d=\"M 93.363313 10.999219 \nL 120.147313 10.999219 \nL 120.147313 32.743219 \nL 93.363313 32.743219 \nL 93.363313 10.999219 \n\" clip-path=\"url(#pb69aa9847f)\" style=\"fill: #2a768e\"/>\n    <path d=\"M 120.147313 10.999219 \nL 146.931313 10.999219 \nL 146.931313 32.743219 \nL 120.147313 32.743219 \nL 120.147313 10.999219 \n\" clip-path=\"url(#pb69aa9847f)\" style=\"fill: #1f9f88\"/>\n    <path d=\"M 146.931313 10.999219 \nL 173.715313 10.999219 \nL 173.715313 32.743219 \nL 146.931313 32.743219 \nL 146.931313 10.999219 \n\" clip-path=\"url(#pb69aa9847f)\" style=\"fill: #8bd646\"/>\n    <path d=\"M 173.715313 10.999219 \nL 200.499313 10.999219 \nL 200.499313 32.743219 \nL 173.715313 32.743219 \nL 173.715313 10.999219 \n\" clip-path=\"url(#pb69aa9847f)\" style=\"fill: #d5e21a\"/>\n    <path d=\"M 200.499313 10.999219 \nL 227.283313 10.999219 \nL 227.283313 32.743219 \nL 200.499313 32.743219 \nL 200.499313 10.999219 \n\" clip-path=\"url(#pb69aa9847f)\" style=\"fill: #d8e219\"/>\n    <path d=\"M 227.283313 10.999219 \nL 254.067313 10.999219 \nL 254.067313 32.743219 \nL 227.283313 32.743219 \nL 227.283313 10.999219 \n\" clip-path=\"url(#pb69aa9847f)\" style=\"fill: #a2da37\"/>\n    <path d=\"M 254.067313 10.999219 \nL 280.851313 10.999219 \nL 280.851313 32.743219 \nL 254.067313 32.743219 \nL 254.067313 10.999219 \n\" clip-path=\"url(#pb69aa9847f)\" style=\"fill: #6ccd5a\"/>\n    <path d=\"M 280.851313 10.999219 \nL 307.635313 10.999219 \nL 307.635313 32.743219 \nL 280.851313 32.743219 \nL 280.851313 10.999219 \n\" clip-path=\"url(#pb69aa9847f)\" style=\"fill: #56c667\"/>\n    <path d=\"M 39.795313 32.743219 \nL 66.579313 32.743219 \nL 66.579313 54.487219 \nL 39.795313 54.487219 \nL 39.795313 32.743219 \n\" clip-path=\"url(#pb69aa9847f)\" style=\"fill: #b2dd2d\"/>\n    <path d=\"M 66.579313 32.743219 \nL 93.363313 32.743219 \nL 93.363313 54.487219 \nL 66.579313 54.487219 \nL 66.579313 32.743219 \n\" clip-path=\"url(#pb69aa9847f)\" style=\"fill: #440154\"/>\n    <path d=\"M 93.363313 32.743219 \nL 120.147313 32.743219 \nL 120.147313 54.487219 \nL 93.363313 54.487219 \nL 93.363313 32.743219 \n\" clip-path=\"url(#pb69aa9847f)\" style=\"fill: #c2df23\"/>\n    <path d=\"M 120.147313 32.743219 \nL 146.931313 32.743219 \nL 146.931313 54.487219 \nL 120.147313 54.487219 \nL 120.147313 32.743219 \n\" clip-path=\"url(#pb69aa9847f)\" style=\"fill: #e7e419\"/>\n    <path d=\"M 146.931313 32.743219 \nL 173.715313 32.743219 \nL 173.715313 54.487219 \nL 146.931313 54.487219 \nL 146.931313 32.743219 \n\" clip-path=\"url(#pb69aa9847f)\" style=\"fill: #86d549\"/>\n    <path d=\"M 173.715313 32.743219 \nL 200.499313 32.743219 \nL 200.499313 54.487219 \nL 173.715313 54.487219 \nL 173.715313 32.743219 \n\" clip-path=\"url(#pb69aa9847f)\" style=\"fill: #c2df23\"/>\n    <path d=\"M 200.499313 32.743219 \nL 227.283313 32.743219 \nL 227.283313 54.487219 \nL 200.499313 54.487219 \nL 200.499313 32.743219 \n\" clip-path=\"url(#pb69aa9847f)\" style=\"fill: #fde725\"/>\n    <path d=\"M 227.283313 32.743219 \nL 254.067313 32.743219 \nL 254.067313 54.487219 \nL 227.283313 54.487219 \nL 227.283313 32.743219 \n\" clip-path=\"url(#pb69aa9847f)\" style=\"fill: #f1e51d\"/>\n    <path d=\"M 254.067313 32.743219 \nL 280.851313 32.743219 \nL 280.851313 54.487219 \nL 254.067313 54.487219 \nL 254.067313 32.743219 \n\" clip-path=\"url(#pb69aa9847f)\" style=\"fill: #f1e51d\"/>\n    <path d=\"M 280.851313 32.743219 \nL 307.635313 32.743219 \nL 307.635313 54.487219 \nL 280.851313 54.487219 \nL 280.851313 32.743219 \n\" clip-path=\"url(#pb69aa9847f)\" style=\"fill: #8bd646\"/>\n    <path d=\"M 39.795313 54.487219 \nL 66.579313 54.487219 \nL 66.579313 76.231219 \nL 39.795313 76.231219 \nL 39.795313 54.487219 \n\" clip-path=\"url(#pb69aa9847f)\" style=\"fill: #2a768e\"/>\n    <path d=\"M 66.579313 54.487219 \nL 93.363313 54.487219 \nL 93.363313 76.231219 \nL 66.579313 76.231219 \nL 66.579313 54.487219 \n\" clip-path=\"url(#pb69aa9847f)\" style=\"fill: #c2df23\"/>\n    <path d=\"M 93.363313 54.487219 \nL 120.147313 54.487219 \nL 120.147313 76.231219 \nL 93.363313 76.231219 \nL 93.363313 54.487219 \n\" clip-path=\"url(#pb69aa9847f)\" style=\"fill: #440154\"/>\n    <path d=\"M 120.147313 54.487219 \nL 146.931313 54.487219 \nL 146.931313 76.231219 \nL 120.147313 76.231219 \nL 120.147313 54.487219 \n\" clip-path=\"url(#pb69aa9847f)\" style=\"fill: #28ae80\"/>\n    <path d=\"M 146.931313 54.487219 \nL 173.715313 54.487219 \nL 173.715313 76.231219 \nL 146.931313 76.231219 \nL 146.931313 54.487219 \n\" clip-path=\"url(#pb69aa9847f)\" style=\"fill: #d0e11c\"/>\n    <path d=\"M 173.715313 54.487219 \nL 200.499313 54.487219 \nL 200.499313 76.231219 \nL 173.715313 76.231219 \nL 173.715313 54.487219 \n\" clip-path=\"url(#pb69aa9847f)\" style=\"fill: #b0dd2f\"/>\n    <path d=\"M 200.499313 54.487219 \nL 227.283313 54.487219 \nL 227.283313 76.231219 \nL 200.499313 76.231219 \nL 200.499313 54.487219 \n\" clip-path=\"url(#pb69aa9847f)\" style=\"fill: #b8de29\"/>\n    <path d=\"M 227.283313 54.487219 \nL 254.067313 54.487219 \nL 254.067313 76.231219 \nL 227.283313 76.231219 \nL 227.283313 54.487219 \n\" clip-path=\"url(#pb69aa9847f)\" style=\"fill: #cae11f\"/>\n    <path d=\"M 254.067313 54.487219 \nL 280.851313 54.487219 \nL 280.851313 76.231219 \nL 254.067313 76.231219 \nL 254.067313 54.487219 \n\" clip-path=\"url(#pb69aa9847f)\" style=\"fill: #46c06f\"/>\n    <path d=\"M 280.851313 54.487219 \nL 307.635313 54.487219 \nL 307.635313 76.231219 \nL 280.851313 76.231219 \nL 280.851313 54.487219 \n\" clip-path=\"url(#pb69aa9847f)\" style=\"fill: #69cd5b\"/>\n    <path d=\"M 39.795313 76.231219 \nL 66.579313 76.231219 \nL 66.579313 97.975219 \nL 39.795313 97.975219 \nL 39.795313 76.231219 \n\" clip-path=\"url(#pb69aa9847f)\" style=\"fill: #1f9f88\"/>\n    <path d=\"M 66.579313 76.231219 \nL 93.363313 76.231219 \nL 93.363313 97.975219 \nL 66.579313 97.975219 \nL 66.579313 76.231219 \n\" clip-path=\"url(#pb69aa9847f)\" style=\"fill: #e7e419\"/>\n    <path d=\"M 93.363313 76.231219 \nL 120.147313 76.231219 \nL 120.147313 97.975219 \nL 93.363313 97.975219 \nL 93.363313 76.231219 \n\" clip-path=\"url(#pb69aa9847f)\" style=\"fill: #28ae80\"/>\n    <path d=\"M 120.147313 76.231219 \nL 146.931313 76.231219 \nL 146.931313 97.975219 \nL 120.147313 97.975219 \nL 120.147313 76.231219 \n\" clip-path=\"url(#pb69aa9847f)\" style=\"fill: #440154\"/>\n    <path d=\"M 146.931313 76.231219 \nL 173.715313 76.231219 \nL 173.715313 97.975219 \nL 146.931313 97.975219 \nL 146.931313 76.231219 \n\" clip-path=\"url(#pb69aa9847f)\" style=\"fill: #bddf26\"/>\n    <path d=\"M 173.715313 76.231219 \nL 200.499313 76.231219 \nL 200.499313 97.975219 \nL 173.715313 97.975219 \nL 173.715313 76.231219 \n\" clip-path=\"url(#pb69aa9847f)\" style=\"fill: #eae51a\"/>\n    <path d=\"M 200.499313 76.231219 \nL 227.283313 76.231219 \nL 227.283313 97.975219 \nL 200.499313 97.975219 \nL 200.499313 76.231219 \n\" clip-path=\"url(#pb69aa9847f)\" style=\"fill: #c2df23\"/>\n    <path d=\"M 227.283313 76.231219 \nL 254.067313 76.231219 \nL 254.067313 97.975219 \nL 227.283313 97.975219 \nL 227.283313 76.231219 \n\" clip-path=\"url(#pb69aa9847f)\" style=\"fill: #b8de29\"/>\n    <path d=\"M 254.067313 76.231219 \nL 280.851313 76.231219 \nL 280.851313 97.975219 \nL 254.067313 97.975219 \nL 254.067313 76.231219 \n\" clip-path=\"url(#pb69aa9847f)\" style=\"fill: #90d743\"/>\n    <path d=\"M 280.851313 76.231219 \nL 307.635313 76.231219 \nL 307.635313 97.975219 \nL 280.851313 97.975219 \nL 280.851313 76.231219 \n\" clip-path=\"url(#pb69aa9847f)\" style=\"fill: #77d153\"/>\n    <path d=\"M 39.795313 97.975219 \nL 66.579313 97.975219 \nL 66.579313 119.719219 \nL 39.795313 119.719219 \nL 39.795313 97.975219 \n\" clip-path=\"url(#pb69aa9847f)\" style=\"fill: #8bd646\"/>\n    <path d=\"M 66.579313 97.975219 \nL 93.363313 97.975219 \nL 93.363313 119.719219 \nL 66.579313 119.719219 \nL 66.579313 97.975219 \n\" clip-path=\"url(#pb69aa9847f)\" style=\"fill: #86d549\"/>\n    <path d=\"M 93.363313 97.975219 \nL 120.147313 97.975219 \nL 120.147313 119.719219 \nL 93.363313 119.719219 \nL 93.363313 97.975219 \n\" clip-path=\"url(#pb69aa9847f)\" style=\"fill: #d0e11c\"/>\n    <path d=\"M 120.147313 97.975219 \nL 146.931313 97.975219 \nL 146.931313 119.719219 \nL 120.147313 119.719219 \nL 120.147313 97.975219 \n\" clip-path=\"url(#pb69aa9847f)\" style=\"fill: #bddf26\"/>\n    <path d=\"M 146.931313 97.975219 \nL 173.715313 97.975219 \nL 173.715313 119.719219 \nL 146.931313 119.719219 \nL 146.931313 97.975219 \n\" clip-path=\"url(#pb69aa9847f)\" style=\"fill: #440154\"/>\n    <path d=\"M 173.715313 97.975219 \nL 200.499313 97.975219 \nL 200.499313 119.719219 \nL 173.715313 119.719219 \nL 173.715313 97.975219 \n\" clip-path=\"url(#pb69aa9847f)\" style=\"fill: #d8e219\"/>\n    <path d=\"M 200.499313 97.975219 \nL 227.283313 97.975219 \nL 227.283313 119.719219 \nL 200.499313 119.719219 \nL 200.499313 97.975219 \n\" clip-path=\"url(#pb69aa9847f)\" style=\"fill: #b5de2b\"/>\n    <path d=\"M 227.283313 97.975219 \nL 254.067313 97.975219 \nL 254.067313 119.719219 \nL 227.283313 119.719219 \nL 227.283313 97.975219 \n\" clip-path=\"url(#pb69aa9847f)\" style=\"fill: #f4e61e\"/>\n    <path d=\"M 254.067313 97.975219 \nL 280.851313 97.975219 \nL 280.851313 119.719219 \nL 254.067313 119.719219 \nL 254.067313 97.975219 \n\" clip-path=\"url(#pb69aa9847f)\" style=\"fill: #fde725\"/>\n    <path d=\"M 280.851313 97.975219 \nL 307.635313 97.975219 \nL 307.635313 119.719219 \nL 280.851313 119.719219 \nL 280.851313 97.975219 \n\" clip-path=\"url(#pb69aa9847f)\" style=\"fill: #84d44b\"/>\n    <path d=\"M 39.795313 119.719219 \nL 66.579313 119.719219 \nL 66.579313 141.463219 \nL 39.795313 141.463219 \nL 39.795313 119.719219 \n\" clip-path=\"url(#pb69aa9847f)\" style=\"fill: #d5e21a\"/>\n    <path d=\"M 66.579313 119.719219 \nL 93.363313 119.719219 \nL 93.363313 141.463219 \nL 66.579313 141.463219 \nL 66.579313 119.719219 \n\" clip-path=\"url(#pb69aa9847f)\" style=\"fill: #c2df23\"/>\n    <path d=\"M 93.363313 119.719219 \nL 120.147313 119.719219 \nL 120.147313 141.463219 \nL 93.363313 141.463219 \nL 93.363313 119.719219 \n\" clip-path=\"url(#pb69aa9847f)\" style=\"fill: #b0dd2f\"/>\n    <path d=\"M 120.147313 119.719219 \nL 146.931313 119.719219 \nL 146.931313 141.463219 \nL 120.147313 141.463219 \nL 120.147313 119.719219 \n\" clip-path=\"url(#pb69aa9847f)\" style=\"fill: #eae51a\"/>\n    <path d=\"M 146.931313 119.719219 \nL 173.715313 119.719219 \nL 173.715313 141.463219 \nL 146.931313 141.463219 \nL 146.931313 119.719219 \n\" clip-path=\"url(#pb69aa9847f)\" style=\"fill: #d8e219\"/>\n    <path d=\"M 173.715313 119.719219 \nL 200.499313 119.719219 \nL 200.499313 141.463219 \nL 173.715313 141.463219 \nL 173.715313 119.719219 \n\" clip-path=\"url(#pb69aa9847f)\" style=\"fill: #440154\"/>\n    <path d=\"M 200.499313 119.719219 \nL 227.283313 119.719219 \nL 227.283313 141.463219 \nL 200.499313 141.463219 \nL 200.499313 119.719219 \n\" clip-path=\"url(#pb69aa9847f)\" style=\"fill: #2db27d\"/>\n    <path d=\"M 227.283313 119.719219 \nL 254.067313 119.719219 \nL 254.067313 141.463219 \nL 227.283313 141.463219 \nL 227.283313 119.719219 \n\" clip-path=\"url(#pb69aa9847f)\" style=\"fill: #fde725\"/>\n    <path d=\"M 254.067313 119.719219 \nL 280.851313 119.719219 \nL 280.851313 141.463219 \nL 254.067313 141.463219 \nL 254.067313 119.719219 \n\" clip-path=\"url(#pb69aa9847f)\" style=\"fill: #cae11f\"/>\n    <path d=\"M 280.851313 119.719219 \nL 307.635313 119.719219 \nL 307.635313 141.463219 \nL 280.851313 141.463219 \nL 280.851313 119.719219 \n\" clip-path=\"url(#pb69aa9847f)\" style=\"fill: #7fd34e\"/>\n    <path d=\"M 39.795313 141.463219 \nL 66.579313 141.463219 \nL 66.579313 163.207219 \nL 39.795313 163.207219 \nL 39.795313 141.463219 \n\" clip-path=\"url(#pb69aa9847f)\" style=\"fill: #d8e219\"/>\n    <path d=\"M 66.579313 141.463219 \nL 93.363313 141.463219 \nL 93.363313 163.207219 \nL 66.579313 163.207219 \nL 66.579313 141.463219 \n\" clip-path=\"url(#pb69aa9847f)\" style=\"fill: #fde725\"/>\n    <path d=\"M 93.363313 141.463219 \nL 120.147313 141.463219 \nL 120.147313 163.207219 \nL 93.363313 163.207219 \nL 93.363313 141.463219 \n\" clip-path=\"url(#pb69aa9847f)\" style=\"fill: #b8de29\"/>\n    <path d=\"M 120.147313 141.463219 \nL 146.931313 141.463219 \nL 146.931313 163.207219 \nL 120.147313 163.207219 \nL 120.147313 141.463219 \n\" clip-path=\"url(#pb69aa9847f)\" style=\"fill: #c2df23\"/>\n    <path d=\"M 146.931313 141.463219 \nL 173.715313 141.463219 \nL 173.715313 163.207219 \nL 146.931313 163.207219 \nL 146.931313 141.463219 \n\" clip-path=\"url(#pb69aa9847f)\" style=\"fill: #b5de2b\"/>\n    <path d=\"M 173.715313 141.463219 \nL 200.499313 141.463219 \nL 200.499313 163.207219 \nL 173.715313 163.207219 \nL 173.715313 141.463219 \n\" clip-path=\"url(#pb69aa9847f)\" style=\"fill: #2db27d\"/>\n    <path d=\"M 200.499313 141.463219 \nL 227.283313 141.463219 \nL 227.283313 163.207219 \nL 200.499313 163.207219 \nL 200.499313 141.463219 \n\" clip-path=\"url(#pb69aa9847f)\" style=\"fill: #440154\"/>\n    <path d=\"M 227.283313 141.463219 \nL 254.067313 141.463219 \nL 254.067313 163.207219 \nL 227.283313 163.207219 \nL 227.283313 141.463219 \n\" clip-path=\"url(#pb69aa9847f)\" style=\"fill: #f4e61e\"/>\n    <path d=\"M 254.067313 141.463219 \nL 280.851313 141.463219 \nL 280.851313 163.207219 \nL 254.067313 163.207219 \nL 254.067313 141.463219 \n\" clip-path=\"url(#pb69aa9847f)\" style=\"fill: #cde11d\"/>\n    <path d=\"M 280.851313 141.463219 \nL 307.635313 141.463219 \nL 307.635313 163.207219 \nL 280.851313 163.207219 \nL 280.851313 141.463219 \n\" clip-path=\"url(#pb69aa9847f)\" style=\"fill: #40bd72\"/>\n    <path d=\"M 39.795313 163.207219 \nL 66.579313 163.207219 \nL 66.579313 184.951219 \nL 39.795313 184.951219 \nL 39.795313 163.207219 \n\" clip-path=\"url(#pb69aa9847f)\" style=\"fill: #a2da37\"/>\n    <path d=\"M 66.579313 163.207219 \nL 93.363313 163.207219 \nL 93.363313 184.951219 \nL 66.579313 184.951219 \nL 66.579313 163.207219 \n\" clip-path=\"url(#pb69aa9847f)\" style=\"fill: #f1e51d\"/>\n    <path d=\"M 93.363313 163.207219 \nL 120.147313 163.207219 \nL 120.147313 184.951219 \nL 93.363313 184.951219 \nL 93.363313 163.207219 \n\" clip-path=\"url(#pb69aa9847f)\" style=\"fill: #cae11f\"/>\n    <path d=\"M 120.147313 163.207219 \nL 146.931313 163.207219 \nL 146.931313 184.951219 \nL 120.147313 184.951219 \nL 120.147313 163.207219 \n\" clip-path=\"url(#pb69aa9847f)\" style=\"fill: #b8de29\"/>\n    <path d=\"M 146.931313 163.207219 \nL 173.715313 163.207219 \nL 173.715313 184.951219 \nL 146.931313 184.951219 \nL 146.931313 163.207219 \n\" clip-path=\"url(#pb69aa9847f)\" style=\"fill: #f4e61e\"/>\n    <path d=\"M 173.715313 163.207219 \nL 200.499313 163.207219 \nL 200.499313 184.951219 \nL 173.715313 184.951219 \nL 173.715313 163.207219 \n\" clip-path=\"url(#pb69aa9847f)\" style=\"fill: #fde725\"/>\n    <path d=\"M 200.499313 163.207219 \nL 227.283313 163.207219 \nL 227.283313 184.951219 \nL 200.499313 184.951219 \nL 200.499313 163.207219 \n\" clip-path=\"url(#pb69aa9847f)\" style=\"fill: #f4e61e\"/>\n    <path d=\"M 227.283313 163.207219 \nL 254.067313 163.207219 \nL 254.067313 184.951219 \nL 227.283313 184.951219 \nL 227.283313 163.207219 \n\" clip-path=\"url(#pb69aa9847f)\" style=\"fill: #440154\"/>\n    <path d=\"M 254.067313 163.207219 \nL 280.851313 163.207219 \nL 280.851313 184.951219 \nL 254.067313 184.951219 \nL 254.067313 163.207219 \n\" clip-path=\"url(#pb69aa9847f)\" style=\"fill: #cae11f\"/>\n    <path d=\"M 280.851313 163.207219 \nL 307.635313 163.207219 \nL 307.635313 184.951219 \nL 280.851313 184.951219 \nL 280.851313 163.207219 \n\" clip-path=\"url(#pb69aa9847f)\" style=\"fill: #d8e219\"/>\n    <path d=\"M 39.795313 184.951219 \nL 66.579313 184.951219 \nL 66.579313 206.695219 \nL 39.795313 206.695219 \nL 39.795313 184.951219 \n\" clip-path=\"url(#pb69aa9847f)\" style=\"fill: #6ccd5a\"/>\n    <path d=\"M 66.579313 184.951219 \nL 93.363313 184.951219 \nL 93.363313 206.695219 \nL 66.579313 206.695219 \nL 66.579313 184.951219 \n\" clip-path=\"url(#pb69aa9847f)\" style=\"fill: #f1e51d\"/>\n    <path d=\"M 93.363313 184.951219 \nL 120.147313 184.951219 \nL 120.147313 206.695219 \nL 93.363313 206.695219 \nL 93.363313 184.951219 \n\" clip-path=\"url(#pb69aa9847f)\" style=\"fill: #46c06f\"/>\n    <path d=\"M 120.147313 184.951219 \nL 146.931313 184.951219 \nL 146.931313 206.695219 \nL 120.147313 206.695219 \nL 120.147313 184.951219 \n\" clip-path=\"url(#pb69aa9847f)\" style=\"fill: #90d743\"/>\n    <path d=\"M 146.931313 184.951219 \nL 173.715313 184.951219 \nL 173.715313 206.695219 \nL 146.931313 206.695219 \nL 146.931313 184.951219 \n\" clip-path=\"url(#pb69aa9847f)\" style=\"fill: #fde725\"/>\n    <path d=\"M 173.715313 184.951219 \nL 200.499313 184.951219 \nL 200.499313 206.695219 \nL 173.715313 206.695219 \nL 173.715313 184.951219 \n\" clip-path=\"url(#pb69aa9847f)\" style=\"fill: #cae11f\"/>\n    <path d=\"M 200.499313 184.951219 \nL 227.283313 184.951219 \nL 227.283313 206.695219 \nL 200.499313 206.695219 \nL 200.499313 184.951219 \n\" clip-path=\"url(#pb69aa9847f)\" style=\"fill: #cde11d\"/>\n    <path d=\"M 227.283313 184.951219 \nL 254.067313 184.951219 \nL 254.067313 206.695219 \nL 227.283313 206.695219 \nL 227.283313 184.951219 \n\" clip-path=\"url(#pb69aa9847f)\" style=\"fill: #cae11f\"/>\n    <path d=\"M 254.067313 184.951219 \nL 280.851313 184.951219 \nL 280.851313 206.695219 \nL 254.067313 206.695219 \nL 254.067313 184.951219 \n\" clip-path=\"url(#pb69aa9847f)\" style=\"fill: #440154\"/>\n    <path d=\"M 280.851313 184.951219 \nL 307.635313 184.951219 \nL 307.635313 206.695219 \nL 280.851313 206.695219 \nL 280.851313 184.951219 \n\" clip-path=\"url(#pb69aa9847f)\" style=\"fill: #a8db34\"/>\n    <path d=\"M 39.795313 206.695219 \nL 66.579313 206.695219 \nL 66.579313 228.439219 \nL 39.795313 228.439219 \nL 39.795313 206.695219 \n\" clip-path=\"url(#pb69aa9847f)\" style=\"fill: #56c667\"/>\n    <path d=\"M 66.579313 206.695219 \nL 93.363313 206.695219 \nL 93.363313 228.439219 \nL 66.579313 228.439219 \nL 66.579313 206.695219 \n\" clip-path=\"url(#pb69aa9847f)\" style=\"fill: #8bd646\"/>\n    <path d=\"M 93.363313 206.695219 \nL 120.147313 206.695219 \nL 120.147313 228.439219 \nL 93.363313 228.439219 \nL 93.363313 206.695219 \n\" clip-path=\"url(#pb69aa9847f)\" style=\"fill: #69cd5b\"/>\n    <path d=\"M 120.147313 206.695219 \nL 146.931313 206.695219 \nL 146.931313 228.439219 \nL 120.147313 228.439219 \nL 120.147313 206.695219 \n\" clip-path=\"url(#pb69aa9847f)\" style=\"fill: #77d153\"/>\n    <path d=\"M 146.931313 206.695219 \nL 173.715313 206.695219 \nL 173.715313 228.439219 \nL 146.931313 228.439219 \nL 146.931313 206.695219 \n\" clip-path=\"url(#pb69aa9847f)\" style=\"fill: #84d44b\"/>\n    <path d=\"M 173.715313 206.695219 \nL 200.499313 206.695219 \nL 200.499313 228.439219 \nL 173.715313 228.439219 \nL 173.715313 206.695219 \n\" clip-path=\"url(#pb69aa9847f)\" style=\"fill: #7fd34e\"/>\n    <path d=\"M 200.499313 206.695219 \nL 227.283313 206.695219 \nL 227.283313 228.439219 \nL 200.499313 228.439219 \nL 200.499313 206.695219 \n\" clip-path=\"url(#pb69aa9847f)\" style=\"fill: #40bd72\"/>\n    <path d=\"M 227.283313 206.695219 \nL 254.067313 206.695219 \nL 254.067313 228.439219 \nL 227.283313 228.439219 \nL 227.283313 206.695219 \n\" clip-path=\"url(#pb69aa9847f)\" style=\"fill: #d8e219\"/>\n    <path d=\"M 254.067313 206.695219 \nL 280.851313 206.695219 \nL 280.851313 228.439219 \nL 254.067313 228.439219 \nL 254.067313 206.695219 \n\" clip-path=\"url(#pb69aa9847f)\" style=\"fill: #a8db34\"/>\n    <path d=\"M 280.851313 206.695219 \nL 307.635313 206.695219 \nL 307.635313 228.439219 \nL 280.851313 228.439219 \nL 280.851313 206.695219 \n\" clip-path=\"url(#pb69aa9847f)\" style=\"fill: #440154\"/>\n   </g>\n   <g id=\"matplotlib.axis_1\">\n    <g id=\"xtick_1\">\n     <g id=\"line2d_1\">\n      <defs>\n       <path id=\"m0efab71bd6\" d=\"M 0 0 \nL 0 3.5 \n\" style=\"stroke: #000000; stroke-width: 0.8\"/>\n      </defs>\n      <g>\n       <use xlink:href=\"#m0efab71bd6\" x=\"53.187313\" y=\"228.439219\" style=\"stroke: #000000; stroke-width: 0.8\"/>\n      </g>\n     </g>\n     <g id=\"text_1\">\n      <!-- P01A -->\n      <g transform=\"translate(55.946688 261.034531)rotate(-90)scale(0.1 -0.1)\">\n       <defs>\n        <path id=\"DejaVuSans-50\" d=\"M 1259 4147 \nL 1259 2394 \nL 2053 2394 \nQ 2494 2394 2734 2622 \nQ 2975 2850 2975 3272 \nQ 2975 3691 2734 3919 \nQ 2494 4147 2053 4147 \nL 1259 4147 \nz\nM 628 4666 \nL 2053 4666 \nQ 2838 4666 3239 4311 \nQ 3641 3956 3641 3272 \nQ 3641 2581 3239 2228 \nQ 2838 1875 2053 1875 \nL 1259 1875 \nL 1259 0 \nL 628 0 \nL 628 4666 \nz\n\" transform=\"scale(0.015625)\"/>\n        <path id=\"DejaVuSans-30\" d=\"M 2034 4250 \nQ 1547 4250 1301 3770 \nQ 1056 3291 1056 2328 \nQ 1056 1369 1301 889 \nQ 1547 409 2034 409 \nQ 2525 409 2770 889 \nQ 3016 1369 3016 2328 \nQ 3016 3291 2770 3770 \nQ 2525 4250 2034 4250 \nz\nM 2034 4750 \nQ 2819 4750 3233 4129 \nQ 3647 3509 3647 2328 \nQ 3647 1150 3233 529 \nQ 2819 -91 2034 -91 \nQ 1250 -91 836 529 \nQ 422 1150 422 2328 \nQ 422 3509 836 4129 \nQ 1250 4750 2034 4750 \nz\n\" transform=\"scale(0.015625)\"/>\n        <path id=\"DejaVuSans-31\" d=\"M 794 531 \nL 1825 531 \nL 1825 4091 \nL 703 3866 \nL 703 4441 \nL 1819 4666 \nL 2450 4666 \nL 2450 531 \nL 3481 531 \nL 3481 0 \nL 794 0 \nL 794 531 \nz\n\" transform=\"scale(0.015625)\"/>\n        <path id=\"DejaVuSans-41\" d=\"M 2188 4044 \nL 1331 1722 \nL 3047 1722 \nL 2188 4044 \nz\nM 1831 4666 \nL 2547 4666 \nL 4325 0 \nL 3669 0 \nL 3244 1197 \nL 1141 1197 \nL 716 0 \nL 50 0 \nL 1831 4666 \nz\n\" transform=\"scale(0.015625)\"/>\n       </defs>\n       <use xlink:href=\"#DejaVuSans-50\"/>\n       <use xlink:href=\"#DejaVuSans-30\" x=\"60.302734\"/>\n       <use xlink:href=\"#DejaVuSans-31\" x=\"123.925781\"/>\n       <use xlink:href=\"#DejaVuSans-41\" x=\"187.548828\"/>\n      </g>\n     </g>\n    </g>\n    <g id=\"xtick_2\">\n     <g id=\"line2d_2\">\n      <g>\n       <use xlink:href=\"#m0efab71bd6\" x=\"79.971313\" y=\"228.439219\" style=\"stroke: #000000; stroke-width: 0.8\"/>\n      </g>\n     </g>\n     <g id=\"text_2\">\n      <!-- P03A -->\n      <g transform=\"translate(82.730688 261.034531)rotate(-90)scale(0.1 -0.1)\">\n       <defs>\n        <path id=\"DejaVuSans-33\" d=\"M 2597 2516 \nQ 3050 2419 3304 2112 \nQ 3559 1806 3559 1356 \nQ 3559 666 3084 287 \nQ 2609 -91 1734 -91 \nQ 1441 -91 1130 -33 \nQ 819 25 488 141 \nL 488 750 \nQ 750 597 1062 519 \nQ 1375 441 1716 441 \nQ 2309 441 2620 675 \nQ 2931 909 2931 1356 \nQ 2931 1769 2642 2001 \nQ 2353 2234 1838 2234 \nL 1294 2234 \nL 1294 2753 \nL 1863 2753 \nQ 2328 2753 2575 2939 \nQ 2822 3125 2822 3475 \nQ 2822 3834 2567 4026 \nQ 2313 4219 1838 4219 \nQ 1578 4219 1281 4162 \nQ 984 4106 628 3988 \nL 628 4550 \nQ 988 4650 1302 4700 \nQ 1616 4750 1894 4750 \nQ 2613 4750 3031 4423 \nQ 3450 4097 3450 3541 \nQ 3450 3153 3228 2886 \nQ 3006 2619 2597 2516 \nz\n\" transform=\"scale(0.015625)\"/>\n       </defs>\n       <use xlink:href=\"#DejaVuSans-50\"/>\n       <use xlink:href=\"#DejaVuSans-30\" x=\"60.302734\"/>\n       <use xlink:href=\"#DejaVuSans-33\" x=\"123.925781\"/>\n       <use xlink:href=\"#DejaVuSans-41\" x=\"187.548828\"/>\n      </g>\n     </g>\n    </g>\n    <g id=\"xtick_3\">\n     <g id=\"line2d_3\">\n      <g>\n       <use xlink:href=\"#m0efab71bd6\" x=\"106.755313\" y=\"228.439219\" style=\"stroke: #000000; stroke-width: 0.8\"/>\n      </g>\n     </g>\n     <g id=\"text_3\">\n      <!-- P05A -->\n      <g transform=\"translate(109.514688 261.034531)rotate(-90)scale(0.1 -0.1)\">\n       <defs>\n        <path id=\"DejaVuSans-35\" d=\"M 691 4666 \nL 3169 4666 \nL 3169 4134 \nL 1269 4134 \nL 1269 2991 \nQ 1406 3038 1543 3061 \nQ 1681 3084 1819 3084 \nQ 2600 3084 3056 2656 \nQ 3513 2228 3513 1497 \nQ 3513 744 3044 326 \nQ 2575 -91 1722 -91 \nQ 1428 -91 1123 -41 \nQ 819 9 494 109 \nL 494 744 \nQ 775 591 1075 516 \nQ 1375 441 1709 441 \nQ 2250 441 2565 725 \nQ 2881 1009 2881 1497 \nQ 2881 1984 2565 2268 \nQ 2250 2553 1709 2553 \nQ 1456 2553 1204 2497 \nQ 953 2441 691 2322 \nL 691 4666 \nz\n\" transform=\"scale(0.015625)\"/>\n       </defs>\n       <use xlink:href=\"#DejaVuSans-50\"/>\n       <use xlink:href=\"#DejaVuSans-30\" x=\"60.302734\"/>\n       <use xlink:href=\"#DejaVuSans-35\" x=\"123.925781\"/>\n       <use xlink:href=\"#DejaVuSans-41\" x=\"187.548828\"/>\n      </g>\n     </g>\n    </g>\n    <g id=\"xtick_4\">\n     <g id=\"line2d_4\">\n      <g>\n       <use xlink:href=\"#m0efab71bd6\" x=\"133.539313\" y=\"228.439219\" style=\"stroke: #000000; stroke-width: 0.8\"/>\n      </g>\n     </g>\n     <g id=\"text_4\">\n      <!-- P07A -->\n      <g transform=\"translate(136.298688 261.034531)rotate(-90)scale(0.1 -0.1)\">\n       <defs>\n        <path id=\"DejaVuSans-37\" d=\"M 525 4666 \nL 3525 4666 \nL 3525 4397 \nL 1831 0 \nL 1172 0 \nL 2766 4134 \nL 525 4134 \nL 525 4666 \nz\n\" transform=\"scale(0.015625)\"/>\n       </defs>\n       <use xlink:href=\"#DejaVuSans-50\"/>\n       <use xlink:href=\"#DejaVuSans-30\" x=\"60.302734\"/>\n       <use xlink:href=\"#DejaVuSans-37\" x=\"123.925781\"/>\n       <use xlink:href=\"#DejaVuSans-41\" x=\"187.548828\"/>\n      </g>\n     </g>\n    </g>\n    <g id=\"xtick_5\">\n     <g id=\"line2d_5\">\n      <g>\n       <use xlink:href=\"#m0efab71bd6\" x=\"160.323313\" y=\"228.439219\" style=\"stroke: #000000; stroke-width: 0.8\"/>\n      </g>\n     </g>\n     <g id=\"text_5\">\n      <!-- P09A -->\n      <g transform=\"translate(163.082688 261.034531)rotate(-90)scale(0.1 -0.1)\">\n       <defs>\n        <path id=\"DejaVuSans-39\" d=\"M 703 97 \nL 703 672 \nQ 941 559 1184 500 \nQ 1428 441 1663 441 \nQ 2288 441 2617 861 \nQ 2947 1281 2994 2138 \nQ 2813 1869 2534 1725 \nQ 2256 1581 1919 1581 \nQ 1219 1581 811 2004 \nQ 403 2428 403 3163 \nQ 403 3881 828 4315 \nQ 1253 4750 1959 4750 \nQ 2769 4750 3195 4129 \nQ 3622 3509 3622 2328 \nQ 3622 1225 3098 567 \nQ 2575 -91 1691 -91 \nQ 1453 -91 1209 -44 \nQ 966 3 703 97 \nz\nM 1959 2075 \nQ 2384 2075 2632 2365 \nQ 2881 2656 2881 3163 \nQ 2881 3666 2632 3958 \nQ 2384 4250 1959 4250 \nQ 1534 4250 1286 3958 \nQ 1038 3666 1038 3163 \nQ 1038 2656 1286 2365 \nQ 1534 2075 1959 2075 \nz\n\" transform=\"scale(0.015625)\"/>\n       </defs>\n       <use xlink:href=\"#DejaVuSans-50\"/>\n       <use xlink:href=\"#DejaVuSans-30\" x=\"60.302734\"/>\n       <use xlink:href=\"#DejaVuSans-39\" x=\"123.925781\"/>\n       <use xlink:href=\"#DejaVuSans-41\" x=\"187.548828\"/>\n      </g>\n     </g>\n    </g>\n    <g id=\"xtick_6\">\n     <g id=\"line2d_6\">\n      <g>\n       <use xlink:href=\"#m0efab71bd6\" x=\"187.107313\" y=\"228.439219\" style=\"stroke: #000000; stroke-width: 0.8\"/>\n      </g>\n     </g>\n     <g id=\"text_6\">\n      <!-- P13A -->\n      <g transform=\"translate(189.866688 261.034531)rotate(-90)scale(0.1 -0.1)\">\n       <use xlink:href=\"#DejaVuSans-50\"/>\n       <use xlink:href=\"#DejaVuSans-31\" x=\"60.302734\"/>\n       <use xlink:href=\"#DejaVuSans-33\" x=\"123.925781\"/>\n       <use xlink:href=\"#DejaVuSans-41\" x=\"187.548828\"/>\n      </g>\n     </g>\n    </g>\n    <g id=\"xtick_7\">\n     <g id=\"line2d_7\">\n      <g>\n       <use xlink:href=\"#m0efab71bd6\" x=\"213.891313\" y=\"228.439219\" style=\"stroke: #000000; stroke-width: 0.8\"/>\n      </g>\n     </g>\n     <g id=\"text_7\">\n      <!-- P15A -->\n      <g transform=\"translate(216.650688 261.034531)rotate(-90)scale(0.1 -0.1)\">\n       <use xlink:href=\"#DejaVuSans-50\"/>\n       <use xlink:href=\"#DejaVuSans-31\" x=\"60.302734\"/>\n       <use xlink:href=\"#DejaVuSans-35\" x=\"123.925781\"/>\n       <use xlink:href=\"#DejaVuSans-41\" x=\"187.548828\"/>\n      </g>\n     </g>\n    </g>\n    <g id=\"xtick_8\">\n     <g id=\"line2d_8\">\n      <g>\n       <use xlink:href=\"#m0efab71bd6\" x=\"240.675313\" y=\"228.439219\" style=\"stroke: #000000; stroke-width: 0.8\"/>\n      </g>\n     </g>\n     <g id=\"text_8\">\n      <!-- P19A -->\n      <g transform=\"translate(243.434688 261.034531)rotate(-90)scale(0.1 -0.1)\">\n       <use xlink:href=\"#DejaVuSans-50\"/>\n       <use xlink:href=\"#DejaVuSans-31\" x=\"60.302734\"/>\n       <use xlink:href=\"#DejaVuSans-39\" x=\"123.925781\"/>\n       <use xlink:href=\"#DejaVuSans-41\" x=\"187.548828\"/>\n      </g>\n     </g>\n    </g>\n    <g id=\"xtick_9\">\n     <g id=\"line2d_9\">\n      <g>\n       <use xlink:href=\"#m0efab71bd6\" x=\"267.459313\" y=\"228.439219\" style=\"stroke: #000000; stroke-width: 0.8\"/>\n      </g>\n     </g>\n     <g id=\"text_9\">\n      <!-- P21A -->\n      <g transform=\"translate(270.218688 261.034531)rotate(-90)scale(0.1 -0.1)\">\n       <defs>\n        <path id=\"DejaVuSans-32\" d=\"M 1228 531 \nL 3431 531 \nL 3431 0 \nL 469 0 \nL 469 531 \nQ 828 903 1448 1529 \nQ 2069 2156 2228 2338 \nQ 2531 2678 2651 2914 \nQ 2772 3150 2772 3378 \nQ 2772 3750 2511 3984 \nQ 2250 4219 1831 4219 \nQ 1534 4219 1204 4116 \nQ 875 4013 500 3803 \nL 500 4441 \nQ 881 4594 1212 4672 \nQ 1544 4750 1819 4750 \nQ 2544 4750 2975 4387 \nQ 3406 4025 3406 3419 \nQ 3406 3131 3298 2873 \nQ 3191 2616 2906 2266 \nQ 2828 2175 2409 1742 \nQ 1991 1309 1228 531 \nz\n\" transform=\"scale(0.015625)\"/>\n       </defs>\n       <use xlink:href=\"#DejaVuSans-50\"/>\n       <use xlink:href=\"#DejaVuSans-32\" x=\"60.302734\"/>\n       <use xlink:href=\"#DejaVuSans-31\" x=\"123.925781\"/>\n       <use xlink:href=\"#DejaVuSans-41\" x=\"187.548828\"/>\n      </g>\n     </g>\n    </g>\n    <g id=\"xtick_10\">\n     <g id=\"line2d_10\">\n      <g>\n       <use xlink:href=\"#m0efab71bd6\" x=\"294.243313\" y=\"228.439219\" style=\"stroke: #000000; stroke-width: 0.8\"/>\n      </g>\n     </g>\n     <g id=\"text_10\">\n      <!-- P22A -->\n      <g transform=\"translate(297.002688 261.034531)rotate(-90)scale(0.1 -0.1)\">\n       <use xlink:href=\"#DejaVuSans-50\"/>\n       <use xlink:href=\"#DejaVuSans-32\" x=\"60.302734\"/>\n       <use xlink:href=\"#DejaVuSans-32\" x=\"123.925781\"/>\n       <use xlink:href=\"#DejaVuSans-41\" x=\"187.548828\"/>\n      </g>\n     </g>\n    </g>\n   </g>\n   <g id=\"matplotlib.axis_2\">\n    <g id=\"ytick_1\">\n     <g id=\"line2d_11\">\n      <defs>\n       <path id=\"m85e62199f1\" d=\"M 0 0 \nL -3.5 0 \n\" style=\"stroke: #000000; stroke-width: 0.8\"/>\n      </defs>\n      <g>\n       <use xlink:href=\"#m85e62199f1\" x=\"39.795313\" y=\"21.871219\" style=\"stroke: #000000; stroke-width: 0.8\"/>\n      </g>\n     </g>\n     <g id=\"text_11\">\n      <!-- P01A -->\n      <g transform=\"translate(7.2 25.670437)scale(0.1 -0.1)\">\n       <use xlink:href=\"#DejaVuSans-50\"/>\n       <use xlink:href=\"#DejaVuSans-30\" x=\"60.302734\"/>\n       <use xlink:href=\"#DejaVuSans-31\" x=\"123.925781\"/>\n       <use xlink:href=\"#DejaVuSans-41\" x=\"187.548828\"/>\n      </g>\n     </g>\n    </g>\n    <g id=\"ytick_2\">\n     <g id=\"line2d_12\">\n      <g>\n       <use xlink:href=\"#m85e62199f1\" x=\"39.795313\" y=\"43.615219\" style=\"stroke: #000000; stroke-width: 0.8\"/>\n      </g>\n     </g>\n     <g id=\"text_12\">\n      <!-- P03A -->\n      <g transform=\"translate(7.2 47.414437)scale(0.1 -0.1)\">\n       <use xlink:href=\"#DejaVuSans-50\"/>\n       <use xlink:href=\"#DejaVuSans-30\" x=\"60.302734\"/>\n       <use xlink:href=\"#DejaVuSans-33\" x=\"123.925781\"/>\n       <use xlink:href=\"#DejaVuSans-41\" x=\"187.548828\"/>\n      </g>\n     </g>\n    </g>\n    <g id=\"ytick_3\">\n     <g id=\"line2d_13\">\n      <g>\n       <use xlink:href=\"#m85e62199f1\" x=\"39.795313\" y=\"65.359219\" style=\"stroke: #000000; stroke-width: 0.8\"/>\n      </g>\n     </g>\n     <g id=\"text_13\">\n      <!-- P05A -->\n      <g transform=\"translate(7.2 69.158437)scale(0.1 -0.1)\">\n       <use xlink:href=\"#DejaVuSans-50\"/>\n       <use xlink:href=\"#DejaVuSans-30\" x=\"60.302734\"/>\n       <use xlink:href=\"#DejaVuSans-35\" x=\"123.925781\"/>\n       <use xlink:href=\"#DejaVuSans-41\" x=\"187.548828\"/>\n      </g>\n     </g>\n    </g>\n    <g id=\"ytick_4\">\n     <g id=\"line2d_14\">\n      <g>\n       <use xlink:href=\"#m85e62199f1\" x=\"39.795313\" y=\"87.103219\" style=\"stroke: #000000; stroke-width: 0.8\"/>\n      </g>\n     </g>\n     <g id=\"text_14\">\n      <!-- P07A -->\n      <g transform=\"translate(7.2 90.902437)scale(0.1 -0.1)\">\n       <use xlink:href=\"#DejaVuSans-50\"/>\n       <use xlink:href=\"#DejaVuSans-30\" x=\"60.302734\"/>\n       <use xlink:href=\"#DejaVuSans-37\" x=\"123.925781\"/>\n       <use xlink:href=\"#DejaVuSans-41\" x=\"187.548828\"/>\n      </g>\n     </g>\n    </g>\n    <g id=\"ytick_5\">\n     <g id=\"line2d_15\">\n      <g>\n       <use xlink:href=\"#m85e62199f1\" x=\"39.795313\" y=\"108.847219\" style=\"stroke: #000000; stroke-width: 0.8\"/>\n      </g>\n     </g>\n     <g id=\"text_15\">\n      <!-- P09A -->\n      <g transform=\"translate(7.2 112.646437)scale(0.1 -0.1)\">\n       <use xlink:href=\"#DejaVuSans-50\"/>\n       <use xlink:href=\"#DejaVuSans-30\" x=\"60.302734\"/>\n       <use xlink:href=\"#DejaVuSans-39\" x=\"123.925781\"/>\n       <use xlink:href=\"#DejaVuSans-41\" x=\"187.548828\"/>\n      </g>\n     </g>\n    </g>\n    <g id=\"ytick_6\">\n     <g id=\"line2d_16\">\n      <g>\n       <use xlink:href=\"#m85e62199f1\" x=\"39.795313\" y=\"130.591219\" style=\"stroke: #000000; stroke-width: 0.8\"/>\n      </g>\n     </g>\n     <g id=\"text_16\">\n      <!-- P13A -->\n      <g transform=\"translate(7.2 134.390437)scale(0.1 -0.1)\">\n       <use xlink:href=\"#DejaVuSans-50\"/>\n       <use xlink:href=\"#DejaVuSans-31\" x=\"60.302734\"/>\n       <use xlink:href=\"#DejaVuSans-33\" x=\"123.925781\"/>\n       <use xlink:href=\"#DejaVuSans-41\" x=\"187.548828\"/>\n      </g>\n     </g>\n    </g>\n    <g id=\"ytick_7\">\n     <g id=\"line2d_17\">\n      <g>\n       <use xlink:href=\"#m85e62199f1\" x=\"39.795313\" y=\"152.335219\" style=\"stroke: #000000; stroke-width: 0.8\"/>\n      </g>\n     </g>\n     <g id=\"text_17\">\n      <!-- P15A -->\n      <g transform=\"translate(7.2 156.134437)scale(0.1 -0.1)\">\n       <use xlink:href=\"#DejaVuSans-50\"/>\n       <use xlink:href=\"#DejaVuSans-31\" x=\"60.302734\"/>\n       <use xlink:href=\"#DejaVuSans-35\" x=\"123.925781\"/>\n       <use xlink:href=\"#DejaVuSans-41\" x=\"187.548828\"/>\n      </g>\n     </g>\n    </g>\n    <g id=\"ytick_8\">\n     <g id=\"line2d_18\">\n      <g>\n       <use xlink:href=\"#m85e62199f1\" x=\"39.795313\" y=\"174.079219\" style=\"stroke: #000000; stroke-width: 0.8\"/>\n      </g>\n     </g>\n     <g id=\"text_18\">\n      <!-- P19A -->\n      <g transform=\"translate(7.2 177.878437)scale(0.1 -0.1)\">\n       <use xlink:href=\"#DejaVuSans-50\"/>\n       <use xlink:href=\"#DejaVuSans-31\" x=\"60.302734\"/>\n       <use xlink:href=\"#DejaVuSans-39\" x=\"123.925781\"/>\n       <use xlink:href=\"#DejaVuSans-41\" x=\"187.548828\"/>\n      </g>\n     </g>\n    </g>\n    <g id=\"ytick_9\">\n     <g id=\"line2d_19\">\n      <g>\n       <use xlink:href=\"#m85e62199f1\" x=\"39.795313\" y=\"195.823219\" style=\"stroke: #000000; stroke-width: 0.8\"/>\n      </g>\n     </g>\n     <g id=\"text_19\">\n      <!-- P21A -->\n      <g transform=\"translate(7.2 199.622437)scale(0.1 -0.1)\">\n       <use xlink:href=\"#DejaVuSans-50\"/>\n       <use xlink:href=\"#DejaVuSans-32\" x=\"60.302734\"/>\n       <use xlink:href=\"#DejaVuSans-31\" x=\"123.925781\"/>\n       <use xlink:href=\"#DejaVuSans-41\" x=\"187.548828\"/>\n      </g>\n     </g>\n    </g>\n    <g id=\"ytick_10\">\n     <g id=\"line2d_20\">\n      <g>\n       <use xlink:href=\"#m85e62199f1\" x=\"39.795313\" y=\"217.567219\" style=\"stroke: #000000; stroke-width: 0.8\"/>\n      </g>\n     </g>\n     <g id=\"text_20\">\n      <!-- P22A -->\n      <g transform=\"translate(7.2 221.366437)scale(0.1 -0.1)\">\n       <use xlink:href=\"#DejaVuSans-50\"/>\n       <use xlink:href=\"#DejaVuSans-32\" x=\"60.302734\"/>\n       <use xlink:href=\"#DejaVuSans-32\" x=\"123.925781\"/>\n       <use xlink:href=\"#DejaVuSans-41\" x=\"187.548828\"/>\n      </g>\n     </g>\n    </g>\n   </g>\n   <g id=\"patch_3\">\n    <path d=\"M 39.795313 228.439219 \nL 39.795313 10.999219 \n\" style=\"fill: none; stroke: #000000; stroke-width: 0.8; stroke-linejoin: miter; stroke-linecap: square\"/>\n   </g>\n   <g id=\"patch_4\">\n    <path d=\"M 307.635313 228.439219 \nL 307.635313 10.999219 \n\" style=\"fill: none; stroke: #000000; stroke-width: 0.8; stroke-linejoin: miter; stroke-linecap: square\"/>\n   </g>\n   <g id=\"patch_5\">\n    <path d=\"M 39.795313 228.439219 \nL 307.635313 228.439219 \n\" style=\"fill: none; stroke: #000000; stroke-width: 0.8; stroke-linejoin: miter; stroke-linecap: square\"/>\n   </g>\n   <g id=\"patch_6\">\n    <path d=\"M 39.795313 10.999219 \nL 307.635313 10.999219 \n\" style=\"fill: none; stroke: #000000; stroke-width: 0.8; stroke-linejoin: miter; stroke-linecap: square\"/>\n   </g>\n  </g>\n  <g id=\"axes_2\">\n   <g id=\"patch_7\">\n    <path d=\"M 324.375313 228.439219 \nL 335.247313 228.439219 \nL 335.247313 10.999219 \nL 324.375313 10.999219 \nz\n\" style=\"fill: #ffffff\"/>\n   </g>\n   <g id=\"patch_8\">\n    <path clip-path=\"url(#pb54fad6d20)\" style=\"fill: #ffffff; stroke: #ffffff; stroke-width: 0.01; stroke-linejoin: miter\"/>\n   </g>\n   <image xlink:href=\"data:image/png;base64,\niVBORw0KGgoAAAANSUhEUgAAAAsAAADZCAYAAAD2WsoCAAABY0lEQVR4nN2awZHDMAwDSVFKZSkh/Vdyd0oL3MfO0Jc3BgMCEO3Yznd+bjR/O6u62NiRqw/OlRJzMGYAZm4sopnIQAOmZx0a0HPDAxfSPKKiQ9y4rM9t7Bg3bs2Qofl82YEFzGxArRsXaSYHVgyFFQkxEzBbX4AZ+kyYtQFFGd6xQjL6dz0PHZAtGcI8pRuEeUb5x7gxQoa4zB+oWWT+73F75Z+hGSh+5oBq3O0nQ8/ss+YGa53pBklQKz+TMcMN8PzGHJCBw5KRZBWk5ga45YehrCkDEhl9YsiM3FhIswhuY2PX+uuDFzlWSIZnHWI23bA0e+CdxI0Zms0BNTdIkaAbQPOZ4UYxNywZJ38l5grNOhY3GhAwewl6zMgNlCAKBa0CyAzAL7EbyDq0RdGAP4TZCoX1WWsd2vwsQe3ShpiPdwFqQyM2eDceu8D/JSbjkE8yoAwALvLeaoGHMkzGyd0GfwHsR4FmRQKvbQAAAABJRU5ErkJggg==\" id=\"image07c3c7a736\" transform=\"scale(1 -1)translate(0 -217)\" x=\"324\" y=\"-11\" width=\"11\" height=\"217\"/>\n   <g id=\"matplotlib.axis_3\">\n    <g id=\"ytick_11\">\n     <g id=\"line2d_21\">\n      <defs>\n       <path id=\"m5127bb95fb\" d=\"M 0 0 \nL 3.5 0 \n\" style=\"stroke: #000000; stroke-width: 0.8\"/>\n      </defs>\n      <g>\n       <use xlink:href=\"#m5127bb95fb\" x=\"335.247313\" y=\"228.439219\" style=\"stroke: #000000; stroke-width: 0.8\"/>\n      </g>\n     </g>\n     <g id=\"text_21\">\n      <!-- 0.0 -->\n      <g transform=\"translate(342.247313 232.238437)scale(0.1 -0.1)\">\n       <defs>\n        <path id=\"DejaVuSans-2e\" d=\"M 684 794 \nL 1344 794 \nL 1344 0 \nL 684 0 \nL 684 794 \nz\n\" transform=\"scale(0.015625)\"/>\n       </defs>\n       <use xlink:href=\"#DejaVuSans-30\"/>\n       <use xlink:href=\"#DejaVuSans-2e\" x=\"63.623047\"/>\n       <use xlink:href=\"#DejaVuSans-30\" x=\"95.410156\"/>\n      </g>\n     </g>\n    </g>\n    <g id=\"ytick_12\">\n     <g id=\"line2d_22\">\n      <g>\n       <use xlink:href=\"#m5127bb95fb\" x=\"335.247313\" y=\"184.951219\" style=\"stroke: #000000; stroke-width: 0.8\"/>\n      </g>\n     </g>\n     <g id=\"text_22\">\n      <!-- 0.2 -->\n      <g transform=\"translate(342.247313 188.750437)scale(0.1 -0.1)\">\n       <use xlink:href=\"#DejaVuSans-30\"/>\n       <use xlink:href=\"#DejaVuSans-2e\" x=\"63.623047\"/>\n       <use xlink:href=\"#DejaVuSans-32\" x=\"95.410156\"/>\n      </g>\n     </g>\n    </g>\n    <g id=\"ytick_13\">\n     <g id=\"line2d_23\">\n      <g>\n       <use xlink:href=\"#m5127bb95fb\" x=\"335.247313\" y=\"141.463219\" style=\"stroke: #000000; stroke-width: 0.8\"/>\n      </g>\n     </g>\n     <g id=\"text_23\">\n      <!-- 0.4 -->\n      <g transform=\"translate(342.247313 145.262437)scale(0.1 -0.1)\">\n       <defs>\n        <path id=\"DejaVuSans-34\" d=\"M 2419 4116 \nL 825 1625 \nL 2419 1625 \nL 2419 4116 \nz\nM 2253 4666 \nL 3047 4666 \nL 3047 1625 \nL 3713 1625 \nL 3713 1100 \nL 3047 1100 \nL 3047 0 \nL 2419 0 \nL 2419 1100 \nL 313 1100 \nL 313 1709 \nL 2253 4666 \nz\n\" transform=\"scale(0.015625)\"/>\n       </defs>\n       <use xlink:href=\"#DejaVuSans-30\"/>\n       <use xlink:href=\"#DejaVuSans-2e\" x=\"63.623047\"/>\n       <use xlink:href=\"#DejaVuSans-34\" x=\"95.410156\"/>\n      </g>\n     </g>\n    </g>\n    <g id=\"ytick_14\">\n     <g id=\"line2d_24\">\n      <g>\n       <use xlink:href=\"#m5127bb95fb\" x=\"335.247313\" y=\"97.975219\" style=\"stroke: #000000; stroke-width: 0.8\"/>\n      </g>\n     </g>\n     <g id=\"text_24\">\n      <!-- 0.6 -->\n      <g transform=\"translate(342.247313 101.774437)scale(0.1 -0.1)\">\n       <defs>\n        <path id=\"DejaVuSans-36\" d=\"M 2113 2584 \nQ 1688 2584 1439 2293 \nQ 1191 2003 1191 1497 \nQ 1191 994 1439 701 \nQ 1688 409 2113 409 \nQ 2538 409 2786 701 \nQ 3034 994 3034 1497 \nQ 3034 2003 2786 2293 \nQ 2538 2584 2113 2584 \nz\nM 3366 4563 \nL 3366 3988 \nQ 3128 4100 2886 4159 \nQ 2644 4219 2406 4219 \nQ 1781 4219 1451 3797 \nQ 1122 3375 1075 2522 \nQ 1259 2794 1537 2939 \nQ 1816 3084 2150 3084 \nQ 2853 3084 3261 2657 \nQ 3669 2231 3669 1497 \nQ 3669 778 3244 343 \nQ 2819 -91 2113 -91 \nQ 1303 -91 875 529 \nQ 447 1150 447 2328 \nQ 447 3434 972 4092 \nQ 1497 4750 2381 4750 \nQ 2619 4750 2861 4703 \nQ 3103 4656 3366 4563 \nz\n\" transform=\"scale(0.015625)\"/>\n       </defs>\n       <use xlink:href=\"#DejaVuSans-30\"/>\n       <use xlink:href=\"#DejaVuSans-2e\" x=\"63.623047\"/>\n       <use xlink:href=\"#DejaVuSans-36\" x=\"95.410156\"/>\n      </g>\n     </g>\n    </g>\n    <g id=\"ytick_15\">\n     <g id=\"line2d_25\">\n      <g>\n       <use xlink:href=\"#m5127bb95fb\" x=\"335.247313\" y=\"54.487219\" style=\"stroke: #000000; stroke-width: 0.8\"/>\n      </g>\n     </g>\n     <g id=\"text_25\">\n      <!-- 0.8 -->\n      <g transform=\"translate(342.247313 58.286437)scale(0.1 -0.1)\">\n       <defs>\n        <path id=\"DejaVuSans-38\" d=\"M 2034 2216 \nQ 1584 2216 1326 1975 \nQ 1069 1734 1069 1313 \nQ 1069 891 1326 650 \nQ 1584 409 2034 409 \nQ 2484 409 2743 651 \nQ 3003 894 3003 1313 \nQ 3003 1734 2745 1975 \nQ 2488 2216 2034 2216 \nz\nM 1403 2484 \nQ 997 2584 770 2862 \nQ 544 3141 544 3541 \nQ 544 4100 942 4425 \nQ 1341 4750 2034 4750 \nQ 2731 4750 3128 4425 \nQ 3525 4100 3525 3541 \nQ 3525 3141 3298 2862 \nQ 3072 2584 2669 2484 \nQ 3125 2378 3379 2068 \nQ 3634 1759 3634 1313 \nQ 3634 634 3220 271 \nQ 2806 -91 2034 -91 \nQ 1263 -91 848 271 \nQ 434 634 434 1313 \nQ 434 1759 690 2068 \nQ 947 2378 1403 2484 \nz\nM 1172 3481 \nQ 1172 3119 1398 2916 \nQ 1625 2713 2034 2713 \nQ 2441 2713 2670 2916 \nQ 2900 3119 2900 3481 \nQ 2900 3844 2670 4047 \nQ 2441 4250 2034 4250 \nQ 1625 4250 1398 4047 \nQ 1172 3844 1172 3481 \nz\n\" transform=\"scale(0.015625)\"/>\n       </defs>\n       <use xlink:href=\"#DejaVuSans-30\"/>\n       <use xlink:href=\"#DejaVuSans-2e\" x=\"63.623047\"/>\n       <use xlink:href=\"#DejaVuSans-38\" x=\"95.410156\"/>\n      </g>\n     </g>\n    </g>\n    <g id=\"ytick_16\">\n     <g id=\"line2d_26\">\n      <g>\n       <use xlink:href=\"#m5127bb95fb\" x=\"335.247313\" y=\"10.999219\" style=\"stroke: #000000; stroke-width: 0.8\"/>\n      </g>\n     </g>\n     <g id=\"text_26\">\n      <!-- 1.0 -->\n      <g transform=\"translate(342.247313 14.798437)scale(0.1 -0.1)\">\n       <use xlink:href=\"#DejaVuSans-31\"/>\n       <use xlink:href=\"#DejaVuSans-2e\" x=\"63.623047\"/>\n       <use xlink:href=\"#DejaVuSans-30\" x=\"95.410156\"/>\n      </g>\n     </g>\n    </g>\n   </g>\n   <g id=\"LineCollection_1\"/>\n   <g id=\"patch_9\">\n    <path d=\"M 324.375313 228.439219 \nL 329.811313 228.439219 \nL 335.247313 228.439219 \nL 335.247313 10.999219 \nL 329.811313 10.999219 \nL 324.375313 10.999219 \nL 324.375313 228.439219 \nz\n\" style=\"fill: none; stroke: #000000; stroke-width: 0.8; stroke-linejoin: miter; stroke-linecap: square\"/>\n   </g>\n  </g>\n </g>\n <defs>\n  <clipPath id=\"pb69aa9847f\">\n   <rect x=\"39.795313\" y=\"10.999219\" width=\"267.84\" height=\"217.44\"/>\n  </clipPath>\n  <clipPath id=\"pb54fad6d20\">\n   <rect x=\"324.375313\" y=\"10.999219\" width=\"10.872\" height=\"217.44\"/>\n  </clipPath>\n </defs>\n</svg>\n",
      "text/plain": [
       "<skbio.stats.distance._base.DistanceMatrix at 0x7f9a8cc9b760>"
      ]
     },
     "execution_count": 12,
     "metadata": {},
     "output_type": "execute_result"
    }
   ],
   "source": [
    "action_results.jaccard_distance_matrix.view(view_type=DistanceMatrix)"
   ]
  },
  {
   "cell_type": "code",
   "execution_count": 13,
   "id": "ed9cbfb0",
   "metadata": {},
   "outputs": [
    {
     "data": {
      "text/html": [
       "<div><img onload=\"(function(div, url){\n",
       "if (typeof require !== 'undefined') {\n",
       "    var baseURL = require.toUrl('').split('/').slice(0, -2).join('/');\n",
       "} else {\n",
       "    var baseURL = JSON.parse(\n",
       "        document.getElementById('jupyter-config-data').innerHTML\n",
       "    ).baseUrl.slice(0, -1);\n",
       "}\n",
       "url = baseURL + url;\n",
       "fetch(url).then(function(res) {\n",
       "    if (res.status === 404) {\n",
       "        div.innerHTML = 'Install QIIME 2 Jupyter extension with:<br />' +\n",
       "                        '<code>jupyter serverextension enable --py qiime2' +\n",
       "                        ' --sys-prefix</code><br />then restart your server.' +\n",
       "                        '<br /><br />(Interactive output not available on ' +\n",
       "                        'static notebook viewer services like nbviewer.)';\n",
       "    } else if (res.status === 409) {\n",
       "        div.innerHTML = 'Visualization no longer in scope. Re-run this cell' +\n",
       "                        ' to see the visualization.';\n",
       "    } else if (res.ok) {\n",
       "        url = res.url;\n",
       "        div.innerHTML = '<iframe src=\\'' + url + '\\' style=\\'' +\n",
       "                        'width: 100%; height: 700px; border: 0;\\'>' +\n",
       "                        '</iframe><hr />Open in a: <a href=\\'' + url + '\\'' +\n",
       "                        ' target=\\'_blank\\'>new window</a>'\n",
       "    } else {\n",
       "        div.innerHTML = 'Something has gone wrong. Check notebook server for' +\n",
       "                        ' errors.';\n",
       "    }\n",
       "});\n",
       "})(this.parentElement, '/qiime2/redirect?location=/tmp/qiime2-archive-3rfdu0xl')\" src=\"data:image/gif;base64,R0lGODlhAQABAIAAAP///wAAACH5BAEAAAAALAAAAAABAAEAAAICRAEAOw==\" /></div>"
      ],
      "text/plain": [
       "<visualization: Visualization uuid: 35926ce6-2990-47f7-b4bc-9885d77853da>"
      ]
     },
     "execution_count": 13,
     "metadata": {},
     "output_type": "execute_result"
    }
   ],
   "source": [
    "action_results.jaccard_emperor"
   ]
  },
  {
   "cell_type": "code",
   "execution_count": 14,
   "id": "e5b099f8",
   "metadata": {},
   "outputs": [],
   "source": [
    "# alpha_rarefaction = diversity.visualizers.alpha_rarefaction(\n",
    "#    table = denoisetable_fun,\n",
    "#    phylogeny = rooted_tree,\n",
    "#    max_depth = depth,\n",
    "#    metadata = sample_metadata,\n",
    "#    metrics = {'chao1', 'simpson', 'simpson_e', 'observed_features', 'dominance'},\n",
    "#    steps =  100\n",
    "# )\n",
    "# alpha_rarefaction.visualization.save('./results/alpha_diversity_new.qzv')"
   ]
  },
  {
   "cell_type": "code",
   "execution_count": 15,
   "id": "3a052b20",
   "metadata": {},
   "outputs": [],
   "source": [
    "#alpha_rarefaction.visualization.save('./results/alpha_diversity.qzv')\n",
    "alpha_rarefaction = q2.Visualization.load('./results/alpha_diversity_new.qzv')"
   ]
  },
  {
   "cell_type": "code",
   "execution_count": 16,
   "id": "5f795669",
   "metadata": {},
   "outputs": [
    {
     "data": {
      "text/html": [
       "<div><img onload=\"(function(div, url){\n",
       "if (typeof require !== 'undefined') {\n",
       "    var baseURL = require.toUrl('').split('/').slice(0, -2).join('/');\n",
       "} else {\n",
       "    var baseURL = JSON.parse(\n",
       "        document.getElementById('jupyter-config-data').innerHTML\n",
       "    ).baseUrl.slice(0, -1);\n",
       "}\n",
       "url = baseURL + url;\n",
       "fetch(url).then(function(res) {\n",
       "    if (res.status === 404) {\n",
       "        div.innerHTML = 'Install QIIME 2 Jupyter extension with:<br />' +\n",
       "                        '<code>jupyter serverextension enable --py qiime2' +\n",
       "                        ' --sys-prefix</code><br />then restart your server.' +\n",
       "                        '<br /><br />(Interactive output not available on ' +\n",
       "                        'static notebook viewer services like nbviewer.)';\n",
       "    } else if (res.status === 409) {\n",
       "        div.innerHTML = 'Visualization no longer in scope. Re-run this cell' +\n",
       "                        ' to see the visualization.';\n",
       "    } else if (res.ok) {\n",
       "        url = res.url;\n",
       "        div.innerHTML = '<iframe src=\\'' + url + '\\' style=\\'' +\n",
       "                        'width: 100%; height: 700px; border: 0;\\'>' +\n",
       "                        '</iframe><hr />Open in a: <a href=\\'' + url + '\\'' +\n",
       "                        ' target=\\'_blank\\'>new window</a>'\n",
       "    } else {\n",
       "        div.innerHTML = 'Something has gone wrong. Check notebook server for' +\n",
       "                        ' errors.';\n",
       "    }\n",
       "});\n",
       "})(this.parentElement, '/qiime2/redirect?location=/tmp/qiime2-archive-5mkqgtqp')\" src=\"data:image/gif;base64,R0lGODlhAQABAIAAAP///wAAACH5BAEAAAAALAAAAAABAAEAAAICRAEAOw==\" /></div>"
      ],
      "text/plain": [
       "<visualization: Visualization uuid: 74caa355-924d-458a-95c8-df801721c727>"
      ]
     },
     "execution_count": 16,
     "metadata": {},
     "output_type": "execute_result"
    }
   ],
   "source": [
    "alpha_rarefaction"
   ]
  },
  {
   "cell_type": "code",
   "execution_count": 19,
   "id": "67c2f8d0",
   "metadata": {},
   "outputs": [
    {
     "data": {
      "text/html": [
       "<div>\n",
       "<style scoped>\n",
       "    .dataframe tbody tr th:only-of-type {\n",
       "        vertical-align: middle;\n",
       "    }\n",
       "\n",
       "    .dataframe tbody tr th {\n",
       "        vertical-align: top;\n",
       "    }\n",
       "\n",
       "    .dataframe thead th {\n",
       "        text-align: right;\n",
       "    }\n",
       "</style>\n",
       "<table border=\"1\" class=\"dataframe\">\n",
       "  <thead>\n",
       "    <tr style=\"text-align: right;\">\n",
       "      <th></th>\n",
       "      <th>chao1</th>\n",
       "      <th>simpson</th>\n",
       "      <th>simpson_e</th>\n",
       "      <th>observed_features</th>\n",
       "      <th>dominance</th>\n",
       "    </tr>\n",
       "    <tr>\n",
       "      <th>Sample ID</th>\n",
       "      <th></th>\n",
       "      <th></th>\n",
       "      <th></th>\n",
       "      <th></th>\n",
       "      <th></th>\n",
       "    </tr>\n",
       "  </thead>\n",
       "  <tbody>\n",
       "    <tr>\n",
       "      <th>P01A</th>\n",
       "      <td>27.0</td>\n",
       "      <td>0.289505</td>\n",
       "      <td>0.056299</td>\n",
       "      <td>25.0</td>\n",
       "      <td>0.710495</td>\n",
       "    </tr>\n",
       "    <tr>\n",
       "      <th>P03A</th>\n",
       "      <td>4.0</td>\n",
       "      <td>0.103445</td>\n",
       "      <td>0.278845</td>\n",
       "      <td>4.0</td>\n",
       "      <td>0.896555</td>\n",
       "    </tr>\n",
       "    <tr>\n",
       "      <th>P05A</th>\n",
       "      <td>20.0</td>\n",
       "      <td>0.723742</td>\n",
       "      <td>0.180990</td>\n",
       "      <td>20.0</td>\n",
       "      <td>0.276258</td>\n",
       "    </tr>\n",
       "    <tr>\n",
       "      <th>P07A</th>\n",
       "      <td>29.0</td>\n",
       "      <td>0.697755</td>\n",
       "      <td>0.137857</td>\n",
       "      <td>24.0</td>\n",
       "      <td>0.302245</td>\n",
       "    </tr>\n",
       "    <tr>\n",
       "      <th>P09A</th>\n",
       "      <td>10.0</td>\n",
       "      <td>0.082969</td>\n",
       "      <td>0.121164</td>\n",
       "      <td>9.0</td>\n",
       "      <td>0.917031</td>\n",
       "    </tr>\n",
       "    <tr>\n",
       "      <th>P13A</th>\n",
       "      <td>9.5</td>\n",
       "      <td>0.102979</td>\n",
       "      <td>0.139350</td>\n",
       "      <td>8.0</td>\n",
       "      <td>0.897021</td>\n",
       "    </tr>\n",
       "    <tr>\n",
       "      <th>P15A</th>\n",
       "      <td>11.0</td>\n",
       "      <td>0.533658</td>\n",
       "      <td>0.194941</td>\n",
       "      <td>11.0</td>\n",
       "      <td>0.466342</td>\n",
       "    </tr>\n",
       "    <tr>\n",
       "      <th>P19A</th>\n",
       "      <td>51.0</td>\n",
       "      <td>0.944229</td>\n",
       "      <td>0.373554</td>\n",
       "      <td>48.0</td>\n",
       "      <td>0.055771</td>\n",
       "    </tr>\n",
       "    <tr>\n",
       "      <th>P21A</th>\n",
       "      <td>48.5</td>\n",
       "      <td>0.954192</td>\n",
       "      <td>0.474573</td>\n",
       "      <td>46.0</td>\n",
       "      <td>0.045808</td>\n",
       "    </tr>\n",
       "    <tr>\n",
       "      <th>P22A</th>\n",
       "      <td>26.0</td>\n",
       "      <td>0.744538</td>\n",
       "      <td>0.170194</td>\n",
       "      <td>23.0</td>\n",
       "      <td>0.255462</td>\n",
       "    </tr>\n",
       "  </tbody>\n",
       "</table>\n",
       "</div>"
      ],
      "text/plain": [
       "           chao1   simpson  simpson_e  observed_features  dominance\n",
       "Sample ID                                                          \n",
       "P01A        27.0  0.289505   0.056299               25.0   0.710495\n",
       "P03A         4.0  0.103445   0.278845                4.0   0.896555\n",
       "P05A        20.0  0.723742   0.180990               20.0   0.276258\n",
       "P07A        29.0  0.697755   0.137857               24.0   0.302245\n",
       "P09A        10.0  0.082969   0.121164                9.0   0.917031\n",
       "P13A         9.5  0.102979   0.139350                8.0   0.897021\n",
       "P15A        11.0  0.533658   0.194941               11.0   0.466342\n",
       "P19A        51.0  0.944229   0.373554               48.0   0.055771\n",
       "P21A        48.5  0.954192   0.474573               46.0   0.045808\n",
       "P22A        26.0  0.744538   0.170194               23.0   0.255462"
      ]
     },
     "execution_count": 19,
     "metadata": {},
     "output_type": "execute_result"
    }
   ],
   "source": [
    "metrics = ['chao1', 'simpson', 'simpson_e', 'observed_features', 'dominance']\n",
    "\n",
    "# alpha diversity metrics and significance\n",
    "\n",
    "# init empty list\n",
    "df_list = []\n",
    "artifacts = {}\n",
    "\n",
    "# loop over metrics\n",
    "for metric in metrics:\n",
    "    result = diversity.actions.alpha(\n",
    "        table = action_results.rarefied_table,\n",
    "        metric = metric\n",
    "    )  # save to result\n",
    "    artifact = result.alpha_diversity  # extract artifact\n",
    "    artifacts[metric] = artifact\n",
    "    df_list.append(artifact.view(view_type=q2.Metadata).to_dataframe())  # convert to DF and add to list\n",
    "    \n",
    "df = pd.concat(df_list, axis=1)  # merge list of dataframes, add each DF as new column (instead of new row (default))\n",
    "df"
   ]
  },
  {
   "cell_type": "code",
   "execution_count": 20,
   "id": "e24722fc",
   "metadata": {},
   "outputs": [],
   "source": [
    "ndf = df.merge(sample_metadata.to_dataframe(), left_index=True, right_index=True)\n",
    "#ndf[\"color\"] = ndf.groupby(\"population\").ngroup()\n",
    "#ndf.reset_index().plot.scatter(\"index\", \"observed_features\", c=\"color\", cmap=plt.cm.viridis)"
   ]
  },
  {
   "cell_type": "code",
   "execution_count": 21,
   "id": "93d81813",
   "metadata": {},
   "outputs": [],
   "source": [
    "col = 'observed_features'\n",
    "meta_cols = ['year', 'population']\n",
    "df1 = ndf[meta_cols + [col]].rename(columns={col: 'value'}).eval('type=\"Število ASV\"')\n",
    "\n",
    "col = 'chao1'\n",
    "df2 = ndf[meta_cols + [col]].rename(columns={col: 'value'}).eval('type=\"Chao1\"')\n",
    "\n",
    "df = pd.concat([df1, df2])"
   ]
  },
  {
   "cell_type": "code",
   "execution_count": 22,
   "id": "ab1382c2",
   "metadata": {},
   "outputs": [],
   "source": [
    "df = df.rename(columns={'population': 'Genetska linija', 'year': 'Leto', 'value': 'Število ASV', 'type': 'Metrika'})\n",
    "df.index.name = 'Osebek'"
   ]
  },
  {
   "cell_type": "code",
   "execution_count": 23,
   "id": "d479febb",
   "metadata": {
    "scrolled": true
   },
   "outputs": [
    {
     "name": "stderr",
     "output_type": "stream",
     "text": [
      "/home/npajek/miniconda3/envs/qiime2-2022.2/lib/python3.8/site-packages/plotnine/ggplot.py:718: PlotnineWarning: Saving 6.4 x 4.8 in image.\n",
      "/home/npajek/miniconda3/envs/qiime2-2022.2/lib/python3.8/site-packages/plotnine/ggplot.py:719: PlotnineWarning: Filename: ./results/fungi_obs-feat_chao1.png\n"
     ]
    },
    {
     "data": {
      "image/png": "[encoded data removed]",
      "text/plain": [
       "<Figure size 640x480 with 1 Axes>"
      ]
     },
     "metadata": {},
     "output_type": "display_data"
    },
    {
     "data": {
      "text/plain": [
       "<ggplot: (8768860050116)>"
      ]
     },
     "execution_count": 23,
     "metadata": {},
     "output_type": "execute_result"
    }
   ],
   "source": [
    "from plotnine import *\n",
    "from plotnine.data import *\n",
    "\n",
    "p = (\n",
    "    ggplot(df, aes(x=df.index, y='Število ASV', shape='Leto', color='Genetska linija', alpha='Metrika'))\n",
    "    + geom_point(size=4)\n",
    "    + labs(x='Osebek', y='Število ASV')\n",
    "    + scale_color_manual(['C0', 'C1', 'C2'])\n",
    "    + scale_alpha_manual([0.3, 1.0])\n",
    "    + theme(axis_text_x=element_text(rotation=90))\n",
    ")\n",
    "\n",
    "p.save('./results/fungi_obs-feat_chao1.png')\n",
    "\n",
    "p"
   ]
  },
  {
   "cell_type": "code",
   "execution_count": 23,
   "id": "1ed2d7e0",
   "metadata": {},
   "outputs": [
    {
     "data": {
      "text/html": [
       "<div>\n",
       "<style scoped>\n",
       "    .dataframe tbody tr th:only-of-type {\n",
       "        vertical-align: middle;\n",
       "    }\n",
       "\n",
       "    .dataframe tbody tr th {\n",
       "        vertical-align: top;\n",
       "    }\n",
       "\n",
       "    .dataframe thead th {\n",
       "        text-align: right;\n",
       "    }\n",
       "</style>\n",
       "<table border=\"1\" class=\"dataframe\">\n",
       "  <thead>\n",
       "    <tr style=\"text-align: right;\">\n",
       "      <th></th>\n",
       "      <th>chao1</th>\n",
       "      <th>simpson</th>\n",
       "      <th>simpson_e</th>\n",
       "      <th>observed_features</th>\n",
       "      <th>dominance</th>\n",
       "      <th>sample</th>\n",
       "      <th>location</th>\n",
       "      <th>origin</th>\n",
       "      <th>Leto</th>\n",
       "      <th>parkelj</th>\n",
       "      <th>specimen</th>\n",
       "      <th>Genetska linija</th>\n",
       "      <th>color</th>\n",
       "    </tr>\n",
       "    <tr>\n",
       "      <th>Osebek</th>\n",
       "      <th></th>\n",
       "      <th></th>\n",
       "      <th></th>\n",
       "      <th></th>\n",
       "      <th></th>\n",
       "      <th></th>\n",
       "      <th></th>\n",
       "      <th></th>\n",
       "      <th></th>\n",
       "      <th></th>\n",
       "      <th></th>\n",
       "      <th></th>\n",
       "      <th></th>\n",
       "    </tr>\n",
       "  </thead>\n",
       "  <tbody>\n",
       "    <tr>\n",
       "      <th>P01A</th>\n",
       "      <td>25.00</td>\n",
       "      <td>0.285022</td>\n",
       "      <td>0.055946</td>\n",
       "      <td>25.0</td>\n",
       "      <td>0.714978</td>\n",
       "      <td>P01A</td>\n",
       "      <td>Planinska_jama</td>\n",
       "      <td>Paa200_t0</td>\n",
       "      <td>2015</td>\n",
       "      <td>no</td>\n",
       "      <td>Paa200</td>\n",
       "      <td>Linija reke Ljubljanice</td>\n",
       "      <td>1</td>\n",
       "    </tr>\n",
       "    <tr>\n",
       "      <th>P03A</th>\n",
       "      <td>6.00</td>\n",
       "      <td>0.110563</td>\n",
       "      <td>0.224861</td>\n",
       "      <td>5.0</td>\n",
       "      <td>0.889437</td>\n",
       "      <td>P03A</td>\n",
       "      <td>Planinska_jama</td>\n",
       "      <td>Paa201_t0</td>\n",
       "      <td>2015</td>\n",
       "      <td>no</td>\n",
       "      <td>Paa201</td>\n",
       "      <td>Linija reke Ljubljanice</td>\n",
       "      <td>1</td>\n",
       "    </tr>\n",
       "    <tr>\n",
       "      <th>P05A</th>\n",
       "      <td>23.50</td>\n",
       "      <td>0.721367</td>\n",
       "      <td>0.163134</td>\n",
       "      <td>22.0</td>\n",
       "      <td>0.278633</td>\n",
       "      <td>P05A</td>\n",
       "      <td>Stobe</td>\n",
       "      <td>Paa204_t10d</td>\n",
       "      <td>2016</td>\n",
       "      <td>no</td>\n",
       "      <td>Paa204</td>\n",
       "      <td>Dolenjska linija</td>\n",
       "      <td>0</td>\n",
       "    </tr>\n",
       "    <tr>\n",
       "      <th>P07A</th>\n",
       "      <td>24.60</td>\n",
       "      <td>0.694250</td>\n",
       "      <td>0.136277</td>\n",
       "      <td>24.0</td>\n",
       "      <td>0.305750</td>\n",
       "      <td>P07A</td>\n",
       "      <td>Planinska_jama</td>\n",
       "      <td>Paa209_t0</td>\n",
       "      <td>2017</td>\n",
       "      <td>no</td>\n",
       "      <td>Paa209</td>\n",
       "      <td>Linija reke Ljubljanice</td>\n",
       "      <td>1</td>\n",
       "    </tr>\n",
       "    <tr>\n",
       "      <th>P09A</th>\n",
       "      <td>9.50</td>\n",
       "      <td>0.077047</td>\n",
       "      <td>0.120387</td>\n",
       "      <td>9.0</td>\n",
       "      <td>0.922953</td>\n",
       "      <td>P09A</td>\n",
       "      <td>Planinska_jama</td>\n",
       "      <td>Paa210_t0</td>\n",
       "      <td>2019</td>\n",
       "      <td>no</td>\n",
       "      <td>Paa210</td>\n",
       "      <td>Linija reke Ljubljanice</td>\n",
       "      <td>1</td>\n",
       "    </tr>\n",
       "    <tr>\n",
       "      <th>P13A</th>\n",
       "      <td>5.00</td>\n",
       "      <td>0.106882</td>\n",
       "      <td>0.223935</td>\n",
       "      <td>5.0</td>\n",
       "      <td>0.893118</td>\n",
       "      <td>P13A</td>\n",
       "      <td>Planinska_jama</td>\n",
       "      <td>Paa219_t0</td>\n",
       "      <td>2019</td>\n",
       "      <td>no</td>\n",
       "      <td>Paa219</td>\n",
       "      <td>Linija reke Ljubljanice</td>\n",
       "      <td>1</td>\n",
       "    </tr>\n",
       "    <tr>\n",
       "      <th>P15A</th>\n",
       "      <td>11.00</td>\n",
       "      <td>0.533689</td>\n",
       "      <td>0.194954</td>\n",
       "      <td>11.0</td>\n",
       "      <td>0.466311</td>\n",
       "      <td>P15A</td>\n",
       "      <td>Planinska_jama</td>\n",
       "      <td>Paa220_t0</td>\n",
       "      <td>2019</td>\n",
       "      <td>no</td>\n",
       "      <td>Paa220</td>\n",
       "      <td>Linija reke Ljubljanice</td>\n",
       "      <td>1</td>\n",
       "    </tr>\n",
       "    <tr>\n",
       "      <th>P19A</th>\n",
       "      <td>49.25</td>\n",
       "      <td>0.942108</td>\n",
       "      <td>0.352523</td>\n",
       "      <td>49.0</td>\n",
       "      <td>0.057892</td>\n",
       "      <td>P19A</td>\n",
       "      <td>Obrsec</td>\n",
       "      <td>PB271_parkelj</td>\n",
       "      <td>2016</td>\n",
       "      <td>yes</td>\n",
       "      <td>PB271</td>\n",
       "      <td>Črna podvrsta</td>\n",
       "      <td>2</td>\n",
       "    </tr>\n",
       "    <tr>\n",
       "      <th>P21A</th>\n",
       "      <td>50.00</td>\n",
       "      <td>0.953781</td>\n",
       "      <td>0.480798</td>\n",
       "      <td>45.0</td>\n",
       "      <td>0.046219</td>\n",
       "      <td>P21A</td>\n",
       "      <td>Jelsevnik</td>\n",
       "      <td>PB644_parkelj</td>\n",
       "      <td>2015</td>\n",
       "      <td>yes</td>\n",
       "      <td>PB644</td>\n",
       "      <td>Črna podvrsta</td>\n",
       "      <td>2</td>\n",
       "    </tr>\n",
       "    <tr>\n",
       "      <th>P22A</th>\n",
       "      <td>30.00</td>\n",
       "      <td>0.742133</td>\n",
       "      <td>0.161582</td>\n",
       "      <td>24.0</td>\n",
       "      <td>0.257867</td>\n",
       "      <td>P22A</td>\n",
       "      <td>Obrsec</td>\n",
       "      <td>PAP20_parkelj</td>\n",
       "      <td>2020</td>\n",
       "      <td>yes</td>\n",
       "      <td>PAP20</td>\n",
       "      <td>Črna podvrsta</td>\n",
       "      <td>2</td>\n",
       "    </tr>\n",
       "  </tbody>\n",
       "</table>\n",
       "</div>"
      ],
      "text/plain": [
       "        chao1   simpson  simpson_e  observed_features  dominance sample  \\\n",
       "Osebek                                                                    \n",
       "P01A    25.00  0.285022   0.055946               25.0   0.714978   P01A   \n",
       "P03A     6.00  0.110563   0.224861                5.0   0.889437   P03A   \n",
       "P05A    23.50  0.721367   0.163134               22.0   0.278633   P05A   \n",
       "P07A    24.60  0.694250   0.136277               24.0   0.305750   P07A   \n",
       "P09A     9.50  0.077047   0.120387                9.0   0.922953   P09A   \n",
       "P13A     5.00  0.106882   0.223935                5.0   0.893118   P13A   \n",
       "P15A    11.00  0.533689   0.194954               11.0   0.466311   P15A   \n",
       "P19A    49.25  0.942108   0.352523               49.0   0.057892   P19A   \n",
       "P21A    50.00  0.953781   0.480798               45.0   0.046219   P21A   \n",
       "P22A    30.00  0.742133   0.161582               24.0   0.257867   P22A   \n",
       "\n",
       "              location         origin  Leto parkelj specimen  \\\n",
       "Osebek                                                         \n",
       "P01A    Planinska_jama      Paa200_t0  2015      no   Paa200   \n",
       "P03A    Planinska_jama      Paa201_t0  2015      no   Paa201   \n",
       "P05A             Stobe    Paa204_t10d  2016      no   Paa204   \n",
       "P07A    Planinska_jama      Paa209_t0  2017      no   Paa209   \n",
       "P09A    Planinska_jama      Paa210_t0  2019      no   Paa210   \n",
       "P13A    Planinska_jama      Paa219_t0  2019      no   Paa219   \n",
       "P15A    Planinska_jama      Paa220_t0  2019      no   Paa220   \n",
       "P19A            Obrsec  PB271_parkelj  2016     yes    PB271   \n",
       "P21A         Jelsevnik  PB644_parkelj  2015     yes    PB644   \n",
       "P22A            Obrsec  PAP20_parkelj  2020     yes    PAP20   \n",
       "\n",
       "                Genetska linija  color  \n",
       "Osebek                                  \n",
       "P01A    Linija reke Ljubljanice      1  \n",
       "P03A    Linija reke Ljubljanice      1  \n",
       "P05A           Dolenjska linija      0  \n",
       "P07A    Linija reke Ljubljanice      1  \n",
       "P09A    Linija reke Ljubljanice      1  \n",
       "P13A    Linija reke Ljubljanice      1  \n",
       "P15A    Linija reke Ljubljanice      1  \n",
       "P19A              Črna podvrsta      2  \n",
       "P21A              Črna podvrsta      2  \n",
       "P22A              Črna podvrsta      2  "
      ]
     },
     "execution_count": 23,
     "metadata": {},
     "output_type": "execute_result"
    }
   ],
   "source": [
    "ndf = ndf.rename(columns={'population': 'Genetska linija', 'year': 'Leto'})\n",
    "ndf.index.name = 'Osebek'\n",
    "ndf"
   ]
  },
  {
   "cell_type": "code",
   "execution_count": 24,
   "id": "b534b468",
   "metadata": {},
   "outputs": [
    {
     "name": "stderr",
     "output_type": "stream",
     "text": [
      "/opt/miniconda3/envs/qiime2-2022.2/lib/python3.8/site-packages/plotnine/ggplot.py:719: PlotnineWarning: Saving 6.4 x 4.8 in image.\n",
      "/opt/miniconda3/envs/qiime2-2022.2/lib/python3.8/site-packages/plotnine/ggplot.py:722: PlotnineWarning: Filename: ./results/fungi_simpson_e.png\n"
     ]
    },
    {
     "data": {
      "image/png": "[encoded data removed]",
      "text/plain": [
       "<Figure size 640x480 with 1 Axes>"
      ]
     },
     "metadata": {},
     "output_type": "display_data"
    },
    {
     "data": {
      "text/plain": [
       "<ggplot: (8781254485703)>"
      ]
     },
     "execution_count": 24,
     "metadata": {},
     "output_type": "execute_result"
    }
   ],
   "source": [
    "simpson = (\n",
    "    ggplot(ndf, aes(x=ndf.index, y='simpson_e', shape='Leto', color='Genetska linija'))\n",
    "    + geom_point(size=4)\n",
    "    + labs(x='Osebek', y='Simpson E')\n",
    "    + scale_color_manual(['C0', 'C1', 'C2'])\n",
    "    + ylim(0,1)\n",
    ")\n",
    "\n",
    "\n",
    "simpson.save('./results/fungi_simpson_e.png')\n",
    "simpson "
   ]
  },
  {
   "cell_type": "code",
   "execution_count": 25,
   "id": "e8e48eab",
   "metadata": {},
   "outputs": [],
   "source": [
    "# visualisations of alpha diversity metrics\n",
    "visualizations = {}\n",
    "\n",
    "for key, value in artifacts.items():\n",
    "    visualizations[key] = diversity.visualizers.alpha_group_significance(\n",
    "        alpha_diversity = value,\n",
    "        metadata = sample_metadata\n",
    "    ).visualization"
   ]
  },
  {
   "cell_type": "code",
   "execution_count": 26,
   "id": "1ac1b0a7",
   "metadata": {},
   "outputs": [],
   "source": [
    "# # simpson viz\n",
    "# visualizations['simpson']\n",
    "\n",
    "# # observed_features viz\n",
    "# visualizations['observed_features']\n",
    "\n",
    "# # fisher_alpha viz\n",
    "# visualizations['fisher_alpha']\n",
    "\n",
    "# # chao1 viz\n",
    "# visualizations['chao1']\n",
    "\n",
    "# # shannon viz\n",
    "# visualizations['shannon']\n",
    "\n",
    "# # evenness_vector viz\n",
    "# diversity.visualizers.alpha_group_significance(\n",
    "#     alpha_diversity = action_results.evenness_vector,\n",
    "#     metadata = sample_metadata\n",
    "# ).visualization\n",
    "\n",
    "# # faith_pd viz\n",
    "# diversity.visualizers.alpha_group_significance(\n",
    "#     alpha_diversity = action_results.faith_pd_vector,\n",
    "#     metadata = sample_metadata\n",
    "# ).visualization"
   ]
  },
  {
   "cell_type": "markdown",
   "id": "0742c771",
   "metadata": {},
   "source": [
    "### BETA DIVERSITY"
   ]
  },
  {
   "cell_type": "code",
   "execution_count": 27,
   "id": "d004d434",
   "metadata": {},
   "outputs": [],
   "source": [
    "denoisetable_subset_population = q2.plugins.feature_table.methods.filter_samples(\n",
    "    table = denoisetable_fun,\n",
    "    metadata = sample_metadata,\n",
    "    where = \"[population] IN ('Linija reke Ljubljanice', 'Črna podvrsta')\"\n",
    ")"
   ]
  },
  {
   "cell_type": "code",
   "execution_count": 28,
   "id": "afd0ff10",
   "metadata": {},
   "outputs": [],
   "source": [
    "# 2016 pade ven\n",
    "denoisetable_subset_year = q2.plugins.feature_table.methods.filter_samples(\n",
    "    table = denoisetable_fun,\n",
    "    metadata = sample_metadata,\n",
    "    where = \"[year] IN ('2015', '2019')\"\n",
    ")"
   ]
  },
  {
   "cell_type": "code",
   "execution_count": 29,
   "id": "82ebfc52",
   "metadata": {},
   "outputs": [
    {
     "name": "stderr",
     "output_type": "stream",
     "text": [
      "/opt/miniconda3/envs/qiime2-2022.2/lib/python3.8/site-packages/sklearn/metrics/pairwise.py:1776: DataConversionWarning: Data was converted to boolean for metric jaccard\n"
     ]
    },
    {
     "name": "stdout",
     "output_type": "stream",
     "text": [
      "Running external command line application. This may print messages to stdout and/or stderr.\n",
      "The command being run is below. This command cannot be manually re-run as it will depend on temporary files that no longer exist.\n",
      "\n",
      "Command:\n",
      "\n",
      "faithpd -i /tmp/qiime2-archive-ht9_yeoi/96dbd30f-e403-4497-ab1b-d196783cf30e/data/feature-table.biom -t /tmp/qiime2-archive-55v2vkqs/686496ad-0690-47cf-8fb2-e7f2857851e4/data/tree.nwk -o /tmp/q2-AlphaDiversityFormat-afn3v70_\n",
      "\n",
      "Running external command line application. This may print messages to stdout and/or stderr.\n",
      "The command being run is below. This command cannot be manually re-run as it will depend on temporary files that no longer exist.\n",
      "\n",
      "Command:\n",
      "\n",
      "ssu -i /tmp/qiime2-archive-ht9_yeoi/96dbd30f-e403-4497-ab1b-d196783cf30e/data/feature-table.biom -t /tmp/qiime2-archive-55v2vkqs/686496ad-0690-47cf-8fb2-e7f2857851e4/data/tree.nwk -m unweighted -o /tmp/q2-LSMatFormat-rvszvs4s\n",
      "\n",
      "Running external command line application. This may print messages to stdout and/or stderr.\n",
      "The command being run is below. This command cannot be manually re-run as it will depend on temporary files that no longer exist.\n",
      "\n",
      "Command:\n",
      "\n",
      "ssu -i /tmp/qiime2-archive-ht9_yeoi/96dbd30f-e403-4497-ab1b-d196783cf30e/data/feature-table.biom -t /tmp/qiime2-archive-55v2vkqs/686496ad-0690-47cf-8fb2-e7f2857851e4/data/tree.nwk -m weighted_unnormalized -o /tmp/q2-LSMatFormat-3ujtgze7\n",
      "\n"
     ]
    }
   ],
   "source": [
    "# determine depth/s from alpha_rarefaction\n",
    "# determine conditions from metadata column names\n",
    "depth = 8367\n",
    "condition = 'population'\n",
    "\n",
    "core_metrics_results_subset_population = diversity.actions.core_metrics_phylogenetic(\n",
    "    phylogeny = rooted_tree,\n",
    "    table = denoisetable_subset_population.filtered_table,\n",
    "    sampling_depth = depth,\n",
    "    metadata = sample_metadata\n",
    ")"
   ]
  },
  {
   "cell_type": "code",
   "execution_count": 30,
   "id": "f0cf5f2e",
   "metadata": {},
   "outputs": [
    {
     "name": "stderr",
     "output_type": "stream",
     "text": [
      "/opt/miniconda3/envs/qiime2-2022.2/lib/python3.8/site-packages/sklearn/metrics/pairwise.py:1776: DataConversionWarning: Data was converted to boolean for metric jaccard\n"
     ]
    },
    {
     "name": "stdout",
     "output_type": "stream",
     "text": [
      "Running external command line application. This may print messages to stdout and/or stderr.\n",
      "The command being run is below. This command cannot be manually re-run as it will depend on temporary files that no longer exist.\n",
      "\n",
      "Command:\n",
      "\n",
      "faithpd -i /tmp/qiime2-archive-_34561v8/aec24b54-c0e1-46bf-bbdf-fcd145df3495/data/feature-table.biom -t /tmp/qiime2-archive-55v2vkqs/686496ad-0690-47cf-8fb2-e7f2857851e4/data/tree.nwk -o /tmp/q2-AlphaDiversityFormat-6lnoczcu\n",
      "\n",
      "Running external command line application. This may print messages to stdout and/or stderr.\n",
      "The command being run is below. This command cannot be manually re-run as it will depend on temporary files that no longer exist.\n",
      "\n",
      "Command:\n",
      "\n",
      "ssu -i /tmp/qiime2-archive-_34561v8/aec24b54-c0e1-46bf-bbdf-fcd145df3495/data/feature-table.biom -t /tmp/qiime2-archive-55v2vkqs/686496ad-0690-47cf-8fb2-e7f2857851e4/data/tree.nwk -m unweighted -o /tmp/q2-LSMatFormat-rhe_h640\n",
      "\n",
      "Running external command line application. This may print messages to stdout and/or stderr.\n",
      "The command being run is below. This command cannot be manually re-run as it will depend on temporary files that no longer exist.\n",
      "\n",
      "Command:\n",
      "\n",
      "ssu -i /tmp/qiime2-archive-_34561v8/aec24b54-c0e1-46bf-bbdf-fcd145df3495/data/feature-table.biom -t /tmp/qiime2-archive-55v2vkqs/686496ad-0690-47cf-8fb2-e7f2857851e4/data/tree.nwk -m weighted_unnormalized -o /tmp/q2-LSMatFormat-cprajjn2\n",
      "\n"
     ]
    }
   ],
   "source": [
    "depth = 8367\n",
    "condition = 'year'\n",
    "\n",
    "core_metrics_results_subset_year = diversity.actions.core_metrics_phylogenetic(\n",
    "    phylogeny = rooted_tree,\n",
    "    table = denoisetable_subset_year.filtered_table,\n",
    "    sampling_depth = depth,\n",
    "    metadata = sample_metadata\n",
    ")"
   ]
  },
  {
   "cell_type": "markdown",
   "id": "56cec911",
   "metadata": {},
   "source": [
    "#### PERMANOVA"
   ]
  },
  {
   "cell_type": "code",
   "execution_count": 31,
   "id": "4329bebb",
   "metadata": {},
   "outputs": [
    {
     "data": {
      "text/html": [
       "<div><img onload=\"(function(div, url){\n",
       "if (typeof require !== 'undefined') {\n",
       "    var baseURL = require.toUrl('').split('/').slice(0, -2).join('/');\n",
       "} else {\n",
       "    var baseURL = JSON.parse(\n",
       "        document.getElementById('jupyter-config-data').innerHTML\n",
       "    ).baseUrl.slice(0, -1);\n",
       "}\n",
       "url = baseURL + url;\n",
       "fetch(url).then(function(res) {\n",
       "    if (res.status === 404) {\n",
       "        div.innerHTML = 'Install QIIME 2 Jupyter extension with:<br />' +\n",
       "                        '<code>jupyter serverextension enable --py qiime2' +\n",
       "                        ' --sys-prefix</code><br />then restart your server.' +\n",
       "                        '<br /><br />(Interactive output not available on ' +\n",
       "                        'static notebook viewer services like nbviewer.)';\n",
       "    } else if (res.status === 409) {\n",
       "        div.innerHTML = 'Visualization no longer in scope. Re-run this cell' +\n",
       "                        ' to see the visualization.';\n",
       "    } else if (res.ok) {\n",
       "        url = res.url;\n",
       "        div.innerHTML = '<iframe src=\\'' + url + '\\' style=\\'' +\n",
       "                        'width: 100%; height: 700px; border: 0;\\'>' +\n",
       "                        '</iframe><hr />Open in a: <a href=\\'' + url + '\\'' +\n",
       "                        ' target=\\'_blank\\'>new window</a>'\n",
       "    } else {\n",
       "        div.innerHTML = 'Something has gone wrong. Check notebook server for' +\n",
       "                        ' errors.';\n",
       "    }\n",
       "});\n",
       "})(this.parentElement, '/qiime2/redirect?location=/tmp/qiime2-archive-zniqj15t')\" src=\"data:image/gif;base64,R0lGODlhAQABAIAAAP///wAAACH5BAEAAAAALAAAAAABAAEAAAICRAEAOw==\" /></div>"
      ],
      "text/plain": [
       "<visualization: Visualization uuid: 6e5fd32b-d743-4639-aff7-381847b520d0>"
      ]
     },
     "execution_count": 31,
     "metadata": {},
     "output_type": "execute_result"
    },
    {
     "data": {
      "text/plain": [
       "<Figure size 432x288 with 0 Axes>"
      ]
     },
     "metadata": {},
     "output_type": "display_data"
    }
   ],
   "source": [
    "from qiime2.plugins.diversity.visualizers import beta_group_significance\n",
    "\n",
    "permanova_population = beta_group_significance(\n",
    "    distance_matrix = core_metrics_results_subset_population.unweighted_unifrac_distance_matrix,\n",
    "    metadata = sample_metadata.get_column('population'),\n",
    "    method = \"permanova\",\n",
    "    pairwise = True\n",
    ")\n",
    "permanova_population.visualization"
   ]
  },
  {
   "cell_type": "code",
   "execution_count": 32,
   "id": "f3b161b0",
   "metadata": {},
   "outputs": [
    {
     "data": {
      "text/html": [
       "<div><img onload=\"(function(div, url){\n",
       "if (typeof require !== 'undefined') {\n",
       "    var baseURL = require.toUrl('').split('/').slice(0, -2).join('/');\n",
       "} else {\n",
       "    var baseURL = JSON.parse(\n",
       "        document.getElementById('jupyter-config-data').innerHTML\n",
       "    ).baseUrl.slice(0, -1);\n",
       "}\n",
       "url = baseURL + url;\n",
       "fetch(url).then(function(res) {\n",
       "    if (res.status === 404) {\n",
       "        div.innerHTML = 'Install QIIME 2 Jupyter extension with:<br />' +\n",
       "                        '<code>jupyter serverextension enable --py qiime2' +\n",
       "                        ' --sys-prefix</code><br />then restart your server.' +\n",
       "                        '<br /><br />(Interactive output not available on ' +\n",
       "                        'static notebook viewer services like nbviewer.)';\n",
       "    } else if (res.status === 409) {\n",
       "        div.innerHTML = 'Visualization no longer in scope. Re-run this cell' +\n",
       "                        ' to see the visualization.';\n",
       "    } else if (res.ok) {\n",
       "        url = res.url;\n",
       "        div.innerHTML = '<iframe src=\\'' + url + '\\' style=\\'' +\n",
       "                        'width: 100%; height: 700px; border: 0;\\'>' +\n",
       "                        '</iframe><hr />Open in a: <a href=\\'' + url + '\\'' +\n",
       "                        ' target=\\'_blank\\'>new window</a>'\n",
       "    } else {\n",
       "        div.innerHTML = 'Something has gone wrong. Check notebook server for' +\n",
       "                        ' errors.';\n",
       "    }\n",
       "});\n",
       "})(this.parentElement, '/qiime2/redirect?location=/tmp/qiime2-archive-ls_2mj7x')\" src=\"data:image/gif;base64,R0lGODlhAQABAIAAAP///wAAACH5BAEAAAAALAAAAAABAAEAAAICRAEAOw==\" /></div>"
      ],
      "text/plain": [
       "<visualization: Visualization uuid: 8671b3bd-88fb-4c46-9a7b-dc4192a8dc67>"
      ]
     },
     "execution_count": 32,
     "metadata": {},
     "output_type": "execute_result"
    },
    {
     "data": {
      "text/plain": [
       "<Figure size 432x288 with 0 Axes>"
      ]
     },
     "metadata": {},
     "output_type": "display_data"
    }
   ],
   "source": [
    "# PERMANOVA year\n",
    "from qiime2.plugins.diversity.visualizers import beta_group_significance\n",
    "\n",
    "permanova_year = beta_group_significance(\n",
    "    distance_matrix = core_metrics_results_subset_year.unweighted_unifrac_distance_matrix,\n",
    "    metadata = sample_metadata.get_column('year'),\n",
    "    method = \"permanova\",\n",
    "    pairwise = True\n",
    ")\n",
    "permanova_year.visualization"
   ]
  },
  {
   "cell_type": "markdown",
   "id": "3fc24f39",
   "metadata": {},
   "source": [
    "#### ANOSIM"
   ]
  },
  {
   "cell_type": "code",
   "execution_count": 33,
   "id": "e9eee1e1",
   "metadata": {},
   "outputs": [
    {
     "data": {
      "text/html": [
       "<div><img onload=\"(function(div, url){\n",
       "if (typeof require !== 'undefined') {\n",
       "    var baseURL = require.toUrl('').split('/').slice(0, -2).join('/');\n",
       "} else {\n",
       "    var baseURL = JSON.parse(\n",
       "        document.getElementById('jupyter-config-data').innerHTML\n",
       "    ).baseUrl.slice(0, -1);\n",
       "}\n",
       "url = baseURL + url;\n",
       "fetch(url).then(function(res) {\n",
       "    if (res.status === 404) {\n",
       "        div.innerHTML = 'Install QIIME 2 Jupyter extension with:<br />' +\n",
       "                        '<code>jupyter serverextension enable --py qiime2' +\n",
       "                        ' --sys-prefix</code><br />then restart your server.' +\n",
       "                        '<br /><br />(Interactive output not available on ' +\n",
       "                        'static notebook viewer services like nbviewer.)';\n",
       "    } else if (res.status === 409) {\n",
       "        div.innerHTML = 'Visualization no longer in scope. Re-run this cell' +\n",
       "                        ' to see the visualization.';\n",
       "    } else if (res.ok) {\n",
       "        url = res.url;\n",
       "        div.innerHTML = '<iframe src=\\'' + url + '\\' style=\\'' +\n",
       "                        'width: 100%; height: 700px; border: 0;\\'>' +\n",
       "                        '</iframe><hr />Open in a: <a href=\\'' + url + '\\'' +\n",
       "                        ' target=\\'_blank\\'>new window</a>'\n",
       "    } else {\n",
       "        div.innerHTML = 'Something has gone wrong. Check notebook server for' +\n",
       "                        ' errors.';\n",
       "    }\n",
       "});\n",
       "})(this.parentElement, '/qiime2/redirect?location=/tmp/qiime2-archive-5z9xk1ox')\" src=\"data:image/gif;base64,R0lGODlhAQABAIAAAP///wAAACH5BAEAAAAALAAAAAABAAEAAAICRAEAOw==\" /></div>"
      ],
      "text/plain": [
       "<visualization: Visualization uuid: e7299470-7ae6-4da7-896d-864ebca9f2c4>"
      ]
     },
     "execution_count": 33,
     "metadata": {},
     "output_type": "execute_result"
    },
    {
     "data": {
      "text/plain": [
       "<Figure size 432x288 with 0 Axes>"
      ]
     },
     "metadata": {},
     "output_type": "display_data"
    }
   ],
   "source": [
    "anosim_population = beta_group_significance(\n",
    "    distance_matrix = core_metrics_results_subset_population.unweighted_unifrac_distance_matrix,\n",
    "    metadata = sample_metadata.get_column('population'),\n",
    "    method = \"anosim\",\n",
    "    pairwise = True\n",
    ")\n",
    "anosim_population.visualization"
   ]
  },
  {
   "cell_type": "code",
   "execution_count": 34,
   "id": "f3acea8c",
   "metadata": {},
   "outputs": [
    {
     "data": {
      "text/html": [
       "<div><img onload=\"(function(div, url){\n",
       "if (typeof require !== 'undefined') {\n",
       "    var baseURL = require.toUrl('').split('/').slice(0, -2).join('/');\n",
       "} else {\n",
       "    var baseURL = JSON.parse(\n",
       "        document.getElementById('jupyter-config-data').innerHTML\n",
       "    ).baseUrl.slice(0, -1);\n",
       "}\n",
       "url = baseURL + url;\n",
       "fetch(url).then(function(res) {\n",
       "    if (res.status === 404) {\n",
       "        div.innerHTML = 'Install QIIME 2 Jupyter extension with:<br />' +\n",
       "                        '<code>jupyter serverextension enable --py qiime2' +\n",
       "                        ' --sys-prefix</code><br />then restart your server.' +\n",
       "                        '<br /><br />(Interactive output not available on ' +\n",
       "                        'static notebook viewer services like nbviewer.)';\n",
       "    } else if (res.status === 409) {\n",
       "        div.innerHTML = 'Visualization no longer in scope. Re-run this cell' +\n",
       "                        ' to see the visualization.';\n",
       "    } else if (res.ok) {\n",
       "        url = res.url;\n",
       "        div.innerHTML = '<iframe src=\\'' + url + '\\' style=\\'' +\n",
       "                        'width: 100%; height: 700px; border: 0;\\'>' +\n",
       "                        '</iframe><hr />Open in a: <a href=\\'' + url + '\\'' +\n",
       "                        ' target=\\'_blank\\'>new window</a>'\n",
       "    } else {\n",
       "        div.innerHTML = 'Something has gone wrong. Check notebook server for' +\n",
       "                        ' errors.';\n",
       "    }\n",
       "});\n",
       "})(this.parentElement, '/qiime2/redirect?location=/tmp/qiime2-archive-0gsvqx9d')\" src=\"data:image/gif;base64,R0lGODlhAQABAIAAAP///wAAACH5BAEAAAAALAAAAAABAAEAAAICRAEAOw==\" /></div>"
      ],
      "text/plain": [
       "<visualization: Visualization uuid: 9f4eb158-4788-423c-ad1a-816ab9839c71>"
      ]
     },
     "execution_count": 34,
     "metadata": {},
     "output_type": "execute_result"
    },
    {
     "data": {
      "text/plain": [
       "<Figure size 432x288 with 0 Axes>"
      ]
     },
     "metadata": {},
     "output_type": "display_data"
    }
   ],
   "source": [
    "# anosim year\n",
    "\n",
    "anosim_year = beta_group_significance(\n",
    "    distance_matrix = core_metrics_results_subset_year.unweighted_unifrac_distance_matrix,\n",
    "    metadata = sample_metadata.get_column('year'),\n",
    "    method = \"anosim\",\n",
    "    pairwise = True\n",
    ")\n",
    "anosim_year.visualization"
   ]
  },
  {
   "cell_type": "code",
   "execution_count": null,
   "id": "f0563ae2",
   "metadata": {},
   "outputs": [],
   "source": []
  }
 ],
 "metadata": {
  "kernelspec": {
   "display_name": "Python 3 (ipykernel)",
   "language": "python",
   "name": "python3"
  },
  "language_info": {
   "codemirror_mode": {
    "name": "ipython",
    "version": 3
   },
   "file_extension": ".py",
   "mimetype": "text/x-python",
   "name": "python",
   "nbconvert_exporter": "python",
   "pygments_lexer": "ipython3",
   "version": "3.8.13"
  }
 },
 "nbformat": 4,
 "nbformat_minor": 5
}
