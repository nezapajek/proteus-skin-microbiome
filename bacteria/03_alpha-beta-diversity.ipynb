{
 "cells": [
  {
   "cell_type": "markdown",
   "metadata": {},
   "source": [
    "# BACTERIA"
   ]
  },
  {
   "cell_type": "code",
   "execution_count": 1,
   "metadata": {},
   "outputs": [],
   "source": [
    "%load_ext autoreload\n",
    "%autoreload 2\n",
    "%reload_ext autoreload\n",
    "%matplotlib inline"
   ]
  },
  {
   "cell_type": "markdown",
   "metadata": {},
   "source": [
    "### ALPHA & BETA DIVERSITY\n",
    "1. make a MAFFT tree\n",
    "2. alpha rarefaction\n",
    "3. alpha diversity\n",
    "4. beta diversity"
   ]
  },
  {
   "cell_type": "code",
   "execution_count": 2,
   "metadata": {},
   "outputs": [],
   "source": [
    "#import packages\n",
    "import os\n",
    "import dokdo\n",
    "import qiime2 as q2\n",
    "import seaborn as sns\n",
    "import pandas as pd\n",
    "import plotnine as p9\n",
    "import matplotlib.pyplot as plt\n",
    "from qiime2.plugins import phylogeny\n",
    "from qiime2.plugins import diversity\n",
    "from skbio import DistanceMatrix\n",
    "import qiime2.plugins.phylogeny.actions as phylogeny_actions"
   ]
  },
  {
   "cell_type": "code",
   "execution_count": 126,
   "metadata": {},
   "outputs": [
    {
     "name": "stdout",
     "output_type": "stream",
     "text": [
      "env: WORKDIR=/home/nezapa/qiime-thesis\n"
     ]
    }
   ],
   "source": [
    "# define workdir\n",
    "%env WORKDIR /home/nezapa/qiime-thesis\n",
    "WORKDIR = os.environ.get(\"WORKDIR\")"
   ]
  },
  {
   "cell_type": "code",
   "execution_count": 3,
   "metadata": {},
   "outputs": [],
   "source": [
    "# import data\n",
    "denoisetable_ba = q2.Artifact.load('./results/denoisetable_ba.qza')\n",
    "rep_seqs_ba = q2.Artifact.load('./results/rep_seqs_ba.qza')\n",
    "denoising_stats = q2.Artifact.load('./results/denoising_stats.qza')\n",
    "sample_metadata = q2.Metadata.load('../00.sample-metadata.tsv')"
   ]
  },
  {
   "cell_type": "code",
   "execution_count": 128,
   "metadata": {},
   "outputs": [
    {
     "data": {
      "text/html": [
       "<div><img onload=\"(function(div, url){\n",
       "if (typeof require !== 'undefined') {\n",
       "    var baseURL = require.toUrl('').split('/').slice(0, -2).join('/');\n",
       "} else {\n",
       "    var baseURL = JSON.parse(\n",
       "        document.getElementById('jupyter-config-data').innerHTML\n",
       "    ).baseUrl.slice(0, -1);\n",
       "}\n",
       "url = baseURL + url;\n",
       "fetch(url).then(function(res) {\n",
       "    if (res.status === 404) {\n",
       "        div.innerHTML = 'Install QIIME 2 Jupyter extension with:<br />' +\n",
       "                        '<code>jupyter serverextension enable --py qiime2' +\n",
       "                        ' --sys-prefix</code><br />then restart your server.' +\n",
       "                        '<br /><br />(Interactive output not available on ' +\n",
       "                        'static notebook viewer services like nbviewer.)';\n",
       "    } else if (res.status === 409) {\n",
       "        div.innerHTML = 'Visualization no longer in scope. Re-run this cell' +\n",
       "                        ' to see the visualization.';\n",
       "    } else if (res.ok) {\n",
       "        url = res.url;\n",
       "        div.innerHTML = '<iframe src=\\'' + url + '\\' style=\\'' +\n",
       "                        'width: 100%; height: 700px; border: 0;\\'>' +\n",
       "                        '</iframe><hr />Open in a: <a href=\\'' + url + '\\'' +\n",
       "                        ' target=\\'_blank\\'>new window</a>'\n",
       "    } else {\n",
       "        div.innerHTML = 'Something has gone wrong. Check notebook server for' +\n",
       "                        ' errors.';\n",
       "    }\n",
       "});\n",
       "})(this.parentElement, '/qiime2/redirect?location=/tmp/qiime2-archive-0upfrq2g')\" src=\"data:image/gif;base64,R0lGODlhAQABAIAAAP///wAAACH5BAEAAAAALAAAAAABAAEAAAICRAEAOw==\" /></div>"
      ],
      "text/plain": [
       "<visualization: Visualization uuid: 97bfc346-8575-4045-acdb-78f7c0baa3ca>"
      ]
     },
     "execution_count": 128,
     "metadata": {},
     "output_type": "execute_result"
    }
   ],
   "source": [
    "from qiime2.plugins import feature_table\n",
    "\n",
    "# summarise and visualise\n",
    "feature_table.visualizers.summarize(\n",
    "    table = denoisetable_ba,\n",
    "    sample_metadata = sample_metadata\n",
    ").visualization"
   ]
  },
  {
   "cell_type": "markdown",
   "metadata": {},
   "source": [
    "## TREE"
   ]
  },
  {
   "cell_type": "code",
   "execution_count": 4,
   "metadata": {
    "collapsed": true
   },
   "outputs": [
    {
     "name": "stdout",
     "output_type": "stream",
     "text": [
      "Running external command line application. This may print messages to stdout and/or stderr.\n",
      "The command being run is below. This command cannot be manually re-run as it will depend on temporary files that no longer exist.\n",
      "\n",
      "Command: mafft --preservecase --inputorder --thread 1 /tmp/qiime2-archive-t7wwjvem/2797c268-0b4a-41b3-9713-4abc70f88a75/data/dna-sequences.fasta\n",
      "\n"
     ]
    },
    {
     "name": "stderr",
     "output_type": "stream",
     "text": [
      "inputfile = orig\n",
      "416 x 260 - 260 d\n",
      "nthread = 1\n",
      "nthreadpair = 1\n",
      "nthreadtb = 1\n",
      "ppenalty_ex = 0\n",
      "stacksize: 8192 kb\n",
      "generating a scoring matrix for nucleotide (dist=200) ... done\n",
      "Gap Penalty = -1.53, +0.00, +0.00\n",
      "\n",
      "\n",
      "\n",
      "Making a distance matrix ..\n",
      "  401 / 416 (thread    0)\n",
      "done.\n",
      "\n",
      "Constructing a UPGMA tree (efffree=0) ... \n",
      "  410 / 416\n",
      "done.\n",
      "\n",
      "Progressive alignment 1/2... \n",
      "STEP    42 / 415 (thread    0)\n",
      "Reallocating..done. *alloclen = 1525\n",
      "STEP   415 / 415 (thread    0) h\n",
      "done.\n",
      "\n",
      "Making a distance matrix from msa.. \n",
      "  400 / 416 (thread    0)\n",
      "done.\n",
      "\n",
      "Constructing a UPGMA tree (efffree=1) ... \n",
      "  410 / 416\n",
      "done.\n",
      "\n",
      "Progressive alignment 2/2... \n",
      "STEP   194 / 415 (thread    0)\n",
      "Reallocating..done. *alloclen = 1521\n",
      "STEP   415 / 415 (thread    0) h\n",
      "done.\n",
      "\n",
      "disttbfast (nuc) Version 7.505\n",
      "alg=A, model=DNA200 (2), 1.53 (4.59), -0.00 (-0.00), noshift, amax=0.0\n",
      "1 thread(s)\n",
      "\n",
      "\n",
      "Strategy:\n",
      " FFT-NS-2 (Fast but rough)\n",
      " Progressive method (guide trees were built 2 times.)\n",
      "\n",
      "If unsure which option to use, try 'mafft --auto input > output'.\n",
      "For more information, see 'mafft --help', 'mafft --man' and the mafft page.\n",
      "\n",
      "The default gap scoring scheme has been changed in version 7.110 (2013 Oct).\n",
      "It tends to insert more gaps into gap-rich regions than previous versions.\n",
      "To disable this change, add the --leavegappyregion option.\n",
      "\n"
     ]
    },
    {
     "name": "stdout",
     "output_type": "stream",
     "text": [
      "Running external command line application. This may print messages to stdout and/or stderr.\n",
      "The command being run is below. This command cannot be manually re-run as it will depend on temporary files that no longer exist.\n",
      "\n",
      "Command: FastTree -quote -nt /tmp/qiime2-archive-jn6as7or/ee567644-d8d5-4853-b9e8-c598c13c103a/data/aligned-dna-sequences.fasta\n",
      "\n"
     ]
    },
    {
     "name": "stderr",
     "output_type": "stream",
     "text": [
      "FastTree Version 2.1.10 Double precision (No SSE3)\n",
      "Alignment: /tmp/qiime2-archive-jn6as7or/ee567644-d8d5-4853-b9e8-c598c13c103a/data/aligned-dna-sequences.fasta\n",
      "Nucleotide distances: Jukes-Cantor Joins: balanced Support: SH-like 1000\n",
      "Search: Normal +NNI +SPR (2 rounds range 10) +ML-NNI opt-each=1\n",
      "TopHits: 1.00*sqrtN close=default refresh=0.80\n",
      "ML Model: Jukes-Cantor, CAT approximation with 20 rate categories\n",
      "      0.14 seconds: Joined    100 of    400\n",
      "      0.28 seconds: Joined    300 of    400\n",
      "Initial topology in 0.34 seconds\n",
      "Refining topology: 35 rounds ME-NNIs, 2 rounds ME-SPRs, 17 rounds ML-NNIs\n",
      "      0.38 seconds: ME NNI round 2 of 35, 301 of 401 splits, 30 changes (max delta 0.146)\n",
      "      0.53 seconds: SPR round   1 of   2, 101 of 804 nodes\n",
      "      0.64 seconds: SPR round   1 of   2, 201 of 804 nodes\n",
      "      0.74 seconds: SPR round   1 of   2, 301 of 804 nodes\n",
      "      0.95 seconds: SPR round   1 of   2, 501 of 804 nodes\n",
      "      1.07 seconds: SPR round   1 of   2, 601 of 804 nodes\n",
      "      1.20 seconds: SPR round   1 of   2, 701 of 804 nodes\n",
      "      1.30 seconds: SPR round   1 of   2, 801 of 804 nodes\n",
      "      1.45 seconds: SPR round   2 of   2, 101 of 804 nodes\n",
      "      1.67 seconds: SPR round   2 of   2, 301 of 804 nodes\n",
      "      1.87 seconds: SPR round   2 of   2, 501 of 804 nodes\n",
      "      2.10 seconds: SPR round   2 of   2, 701 of 804 nodes\n",
      "      2.20 seconds: ME NNI round 23 of 35, 1 of 401 splits\n",
      "Total branch-length 31.242 after 2.29 sec\n",
      "      2.35 seconds: ML Lengths 101 of 401 splits\n",
      "      2.48 seconds: ML Lengths 301 of 401 splits\n",
      "      2.81 seconds: ML NNI round 1 of 17, 101 of 401 splits, 18 changes (max delta 8.005)\n",
      "      3.07 seconds: ML NNI round 1 of 17, 201 of 401 splits, 41 changes (max delta 8.005)\n",
      "      3.36 seconds: ML NNI round 1 of 17, 301 of 401 splits, 56 changes (max delta 8.005)\n",
      "ML-NNI round 1: LogLk = -31789.563 NNIs 71 max delta 8.01 Time 3.63\n",
      "      3.63 seconds: Site likelihoods with rate category 1 of 20\n",
      "      3.74 seconds: Site likelihoods with rate category 11 of 20\n",
      "Switched to using 20 rate categories (CAT approximation)\n",
      "Rate categories were divided by 0.903 so that average rate = 1.0\n",
      "CAT-based log-likelihoods may not be comparable across runs\n",
      "Use -gamma for approximate but comparable Gamma(20) log-likelihoods\n",
      "      3.85 seconds: ML NNI round 2 of 17, 1 of 401 splits\n",
      "      4.03 seconds: ML NNI round 2 of 17, 101 of 401 splits, 11 changes (max delta 0.778)\n",
      "      4.24 seconds: ML NNI round 2 of 17, 201 of 401 splits, 22 changes (max delta 4.514)\n",
      "      4.45 seconds: ML NNI round 2 of 17, 301 of 401 splits, 32 changes (max delta 10.421)\n",
      "ML-NNI round 2: LogLk = -28724.081 NNIs 42 max delta 10.42 Time 4.65\n",
      "      4.65 seconds: ML NNI round 3 of 17, 1 of 401 splits\n",
      "      4.81 seconds: ML NNI round 3 of 17, 101 of 401 splits, 7 changes (max delta 5.008)\n",
      "      5.00 seconds: ML NNI round 3 of 17, 201 of 401 splits, 14 changes (max delta 5.008)\n",
      "ML-NNI round 3: LogLk = -28702.816 NNIs 19 max delta 5.01 Time 5.18\n",
      "      5.17 seconds: ML NNI round 4 of 17, 1 of 401 splits\n",
      "      5.36 seconds: ML NNI round 4 of 17, 101 of 401 splits, 4 changes (max delta 3.107)\n",
      "ML-NNI round 4: LogLk = -28697.771 NNIs 4 max delta 3.11 Time 5.50\n",
      "      5.50 seconds: ML NNI round 5 of 17, 1 of 401 splits\n",
      "ML-NNI round 5: LogLk = -28697.581 NNIs 2 max delta 0.00 Time 5.64\n",
      "Turning off heuristics for final round of ML NNIs (converged)\n",
      "      5.64 seconds: ML NNI round 6 of 17, 1 of 401 splits\n",
      "      5.89 seconds: ML NNI round 6 of 17, 101 of 401 splits, 0 changes\n",
      "      6.17 seconds: ML NNI round 6 of 17, 201 of 401 splits, 2 changes (max delta 3.112)\n",
      "      6.43 seconds: ML NNI round 6 of 17, 301 of 401 splits, 2 changes (max delta 3.112)\n",
      "ML-NNI round 6: LogLk = -28668.771 NNIs 5 max delta 3.11 Time 6.73 (final)\n",
      "      6.72 seconds: ML Lengths 1 of 401 splits\n",
      "      6.83 seconds: ML Lengths 201 of 401 splits\n",
      "      6.95 seconds: ML Lengths 401 of 401 splits\n",
      "Optimize all lengths: LogLk = -28667.245 Time 6.96\n",
      "      7.28 seconds: ML split tests for    100 of    400 internal splits\n",
      "      7.60 seconds: ML split tests for    200 of    400 internal splits\n",
      "      7.92 seconds: ML split tests for    300 of    400 internal splits\n",
      "Total time: 8.24 seconds Unique: 403/416 Bad splits: 1/400 Worst delta-LogLk 0.247\n"
     ]
    }
   ],
   "source": [
    "action_results = phylogeny_actions.align_to_tree_mafft_fasttree(\n",
    "    sequences=rep_seqs_ba,\n",
    ")\n",
    "aligned_rep_seqs = action_results.alignment\n",
    "masked_aligned_rep_seqs = action_results.masked_alignment\n",
    "unrooted_tree = action_results.tree\n",
    "rooted_tree = action_results.rooted_tree"
   ]
  },
  {
   "cell_type": "markdown",
   "metadata": {},
   "source": [
    "## ALPHA AND BETA DIVERSITY"
   ]
  },
  {
   "cell_type": "code",
   "execution_count": 5,
   "metadata": {},
   "outputs": [],
   "source": [
    "# # choose a round number in the 3rd quartile frequency per sample from the feature table visual summary\n",
    "# # this step can take some time\n",
    "# alpha_rarefaction_all = diversity.actions.alpha_rarefaction(\n",
    "#     table = denoisetable_ba,\n",
    "#     max_depth = 40000,\n",
    "#     phylogeny = rooted_tree,\n",
    "#     metrics = {'observed_features'},\n",
    "#     metadata = sample_metadata,\n",
    "#     steps = 1000\n",
    "# )"
   ]
  },
  {
   "cell_type": "code",
   "execution_count": 6,
   "metadata": {},
   "outputs": [],
   "source": [
    "# save alpha_rarefacion\n",
    "# alpha_rarefaction_all.visualization.save('./results/alpha_rarefaction_40000.qzv')\n",
    "qzv_file_alpha = q2.Visualization.load('./results/alpha_rarefaction_40000.qzv')"
   ]
  },
  {
   "cell_type": "code",
   "execution_count": 7,
   "metadata": {},
   "outputs": [],
   "source": [
    "# sns.set()\n",
    "# ax = dokdo.alpha_rarefaction_plot(qzv_file_alpha,\n",
    "#                                   figsize=(9, 6),\n",
    "#                                   metric='observed_features')\n",
    "\n",
    "# ax.set_xlabel('Globina sekvenciranja')\n",
    "# ax.set_ylabel('Opažene vrednosti')\n",
    "\n",
    "# ax.legend(ncol=5)\n",
    "# plt.tight_layout()\n",
    "# plt.savefig('./results/alpha_rarefaction_plot_ba.png')"
   ]
  },
  {
   "cell_type": "code",
   "execution_count": 8,
   "metadata": {
    "scrolled": true
   },
   "outputs": [
    {
     "data": {
      "text/html": [
       "<div><img onload=\"(function(div, url){\n",
       "if (typeof require !== 'undefined') {\n",
       "    var baseURL = require.toUrl('').split('/').slice(0, -2).join('/');\n",
       "} else {\n",
       "    var baseURL = JSON.parse(\n",
       "        document.getElementById('jupyter-config-data').innerHTML\n",
       "    ).baseUrl.slice(0, -1);\n",
       "}\n",
       "url = baseURL + url;\n",
       "fetch(url).then(function(res) {\n",
       "    if (res.status === 404) {\n",
       "        div.innerHTML = 'Install QIIME 2 Jupyter extension with:<br />' +\n",
       "                        '<code>jupyter serverextension enable --py qiime2' +\n",
       "                        ' --sys-prefix</code><br />then restart your server.' +\n",
       "                        '<br /><br />(Interactive output not available on ' +\n",
       "                        'static notebook viewer services like nbviewer.)';\n",
       "    } else if (res.status === 409) {\n",
       "        div.innerHTML = 'Visualization no longer in scope. Re-run this cell' +\n",
       "                        ' to see the visualization.';\n",
       "    } else if (res.ok) {\n",
       "        url = res.url;\n",
       "        div.innerHTML = '<iframe src=\\'' + url + '\\' style=\\'' +\n",
       "                        'width: 100%; height: 700px; border: 0;\\'>' +\n",
       "                        '</iframe><hr />Open in a: <a href=\\'' + url + '\\'' +\n",
       "                        ' target=\\'_blank\\'>new window</a>'\n",
       "    } else {\n",
       "        div.innerHTML = 'Something has gone wrong. Check notebook server for' +\n",
       "                        ' errors.';\n",
       "    }\n",
       "});\n",
       "})(this.parentElement, '/qiime2/redirect?location=/tmp/qiime2-archive-_y72ctth')\" src=\"data:image/gif;base64,R0lGODlhAQABAIAAAP///wAAACH5BAEAAAAALAAAAAABAAEAAAICRAEAOw==\" /></div>"
      ],
      "text/plain": [
       "<visualization: Visualization uuid: caaa43da-3fef-4226-9c91-3c3c5251f23d>"
      ]
     },
     "execution_count": 8,
     "metadata": {},
     "output_type": "execute_result"
    }
   ],
   "source": [
    "qzv_file_alpha"
   ]
  },
  {
   "cell_type": "markdown",
   "metadata": {},
   "source": [
    "### ALPHA DIVERSITY"
   ]
  },
  {
   "cell_type": "code",
   "execution_count": 9,
   "metadata": {},
   "outputs": [
    {
     "name": "stderr",
     "output_type": "stream",
     "text": [
      "/opt/miniconda3/envs/qiime2-2022.2/lib/python3.8/site-packages/sklearn/metrics/pairwise.py:1776: DataConversionWarning: Data was converted to boolean for metric jaccard\n",
      "/opt/miniconda3/envs/qiime2-2022.2/lib/python3.8/site-packages/skbio/stats/ordination/_principal_coordinate_analysis.py:143: RuntimeWarning: The result contains negative eigenvalues. Please compare their magnitude with the magnitude of some of the largest positive eigenvalues. If the negative ones are smaller, it's probably safe to ignore them, but if they are large in magnitude, the results won't be useful. See the Notes section for more details. The smallest eigenvalue is -0.0005625466937824226 and the largest is 1.4086221437176962.\n"
     ]
    },
    {
     "name": "stdout",
     "output_type": "stream",
     "text": [
      "Running external command line application. This may print messages to stdout and/or stderr.\n",
      "The command being run is below. This command cannot be manually re-run as it will depend on temporary files that no longer exist.\n",
      "\n",
      "Command:\n",
      "\n",
      "faithpd -i /tmp/qiime2-archive-rqcbwy8r/d84b0323-bb72-4e37-bc54-c05d594584dd/data/feature-table.biom -t /tmp/qiime2-archive-mjk0hom7/faf05c05-c486-4bd3-91c8-95df252c4071/data/tree.nwk -o /tmp/q2-AlphaDiversityFormat-x7iu3t0h\n",
      "\n",
      "Running external command line application. This may print messages to stdout and/or stderr.\n",
      "The command being run is below. This command cannot be manually re-run as it will depend on temporary files that no longer exist.\n",
      "\n",
      "Command:\n",
      "\n",
      "ssu -i /tmp/qiime2-archive-rqcbwy8r/d84b0323-bb72-4e37-bc54-c05d594584dd/data/feature-table.biom -t /tmp/qiime2-archive-mjk0hom7/faf05c05-c486-4bd3-91c8-95df252c4071/data/tree.nwk -m unweighted -o /tmp/q2-LSMatFormat-r8b7oj5f\n",
      "\n",
      "Running external command line application. This may print messages to stdout and/or stderr.\n",
      "The command being run is below. This command cannot be manually re-run as it will depend on temporary files that no longer exist.\n",
      "\n",
      "Command:\n",
      "\n",
      "ssu -i /tmp/qiime2-archive-rqcbwy8r/d84b0323-bb72-4e37-bc54-c05d594584dd/data/feature-table.biom -t /tmp/qiime2-archive-mjk0hom7/faf05c05-c486-4bd3-91c8-95df252c4071/data/tree.nwk -m weighted_unnormalized -o /tmp/q2-LSMatFormat-vav938_c\n",
      "\n"
     ]
    },
    {
     "name": "stderr",
     "output_type": "stream",
     "text": [
      "/opt/miniconda3/envs/qiime2-2022.2/lib/python3.8/site-packages/skbio/stats/ordination/_principal_coordinate_analysis.py:143: RuntimeWarning: The result contains negative eigenvalues. Please compare their magnitude with the magnitude of some of the largest positive eigenvalues. If the negative ones are smaller, it's probably safe to ignore them, but if they are large in magnitude, the results won't be useful. See the Notes section for more details. The smallest eigenvalue is -0.002167390368231996 and the largest is 0.16057053982825747.\n"
     ]
    }
   ],
   "source": [
    "# set sampling_depth based on alpha rarefacation curve\n",
    "# normalization step\n",
    "depth = 25899\n",
    "action_results = diversity.actions.core_metrics_phylogenetic(\n",
    "    table = denoisetable_ba,\n",
    "    phylogeny = rooted_tree,\n",
    "    sampling_depth = depth,\n",
    "    metadata = sample_metadata\n",
    ")"
   ]
  },
  {
   "cell_type": "code",
   "execution_count": 10,
   "metadata": {},
   "outputs": [],
   "source": [
    "#action_results.bray_curtis_distance_matrix.view(view_type=DistanceMatrix)"
   ]
  },
  {
   "cell_type": "code",
   "execution_count": 11,
   "metadata": {},
   "outputs": [],
   "source": [
    "#action_results.jaccard_distance_matrix.view(view_type=DistanceMatrix)"
   ]
  },
  {
   "cell_type": "code",
   "execution_count": 12,
   "metadata": {},
   "outputs": [],
   "source": [
    "#action_results.jaccard_emperor"
   ]
  },
  {
   "cell_type": "code",
   "execution_count": 13,
   "metadata": {},
   "outputs": [],
   "source": [
    "# alpha_rarefaction = diversity.visualizers.alpha_rarefaction(\n",
    "#    table = denoisetable_ba,\n",
    "#    phylogeny = rooted_tree,\n",
    "#    max_depth = depth,\n",
    "#    metadata = sample_metadata,\n",
    "#    metrics = {'chao1', 'simpson', 'simpson_e', 'observed_features', 'dominance'},\n",
    "#    steps =  100\n",
    "# )\n",
    "\n",
    "# #   metrics = {'chao1', 'shannon', 'simpson', 'simpson_e', 'observed_features', 'fisher_alpha'}\n",
    "\n",
    "# # save alpha_rarefacion\n",
    "# alpha_rarefaction.visualization.save('./results/alpha_rar_new.qzv')"
   ]
  },
  {
   "cell_type": "code",
   "execution_count": 14,
   "metadata": {
    "collapsed": true
   },
   "outputs": [
    {
     "data": {
      "text/html": [
       "<div><img onload=\"(function(div, url){\n",
       "if (typeof require !== 'undefined') {\n",
       "    var baseURL = require.toUrl('').split('/').slice(0, -2).join('/');\n",
       "} else {\n",
       "    var baseURL = JSON.parse(\n",
       "        document.getElementById('jupyter-config-data').innerHTML\n",
       "    ).baseUrl.slice(0, -1);\n",
       "}\n",
       "url = baseURL + url;\n",
       "fetch(url).then(function(res) {\n",
       "    if (res.status === 404) {\n",
       "        div.innerHTML = 'Install QIIME 2 Jupyter extension with:<br />' +\n",
       "                        '<code>jupyter serverextension enable --py qiime2' +\n",
       "                        ' --sys-prefix</code><br />then restart your server.' +\n",
       "                        '<br /><br />(Interactive output not available on ' +\n",
       "                        'static notebook viewer services like nbviewer.)';\n",
       "    } else if (res.status === 409) {\n",
       "        div.innerHTML = 'Visualization no longer in scope. Re-run this cell' +\n",
       "                        ' to see the visualization.';\n",
       "    } else if (res.ok) {\n",
       "        url = res.url;\n",
       "        div.innerHTML = '<iframe src=\\'' + url + '\\' style=\\'' +\n",
       "                        'width: 100%; height: 700px; border: 0;\\'>' +\n",
       "                        '</iframe><hr />Open in a: <a href=\\'' + url + '\\'' +\n",
       "                        ' target=\\'_blank\\'>new window</a>'\n",
       "    } else {\n",
       "        div.innerHTML = 'Something has gone wrong. Check notebook server for' +\n",
       "                        ' errors.';\n",
       "    }\n",
       "});\n",
       "})(this.parentElement, '/qiime2/redirect?location=/tmp/qiime2-archive-vfqnhn24')\" src=\"data:image/gif;base64,R0lGODlhAQABAIAAAP///wAAACH5BAEAAAAALAAAAAABAAEAAAICRAEAOw==\" /></div>"
      ],
      "text/plain": [
       "<visualization: Visualization uuid: 33052260-2124-4f91-9eb4-ed70e8979cd4>"
      ]
     },
     "execution_count": 14,
     "metadata": {},
     "output_type": "execute_result"
    }
   ],
   "source": [
    "# load alpha_rarefacion\n",
    "alpha_rar = q2.Visualization.load('./results/alpha_rar_new.qzv')\n",
    "alpha_rar"
   ]
  },
  {
   "cell_type": "code",
   "execution_count": 15,
   "metadata": {},
   "outputs": [
    {
     "data": {
      "text/html": [
       "<div>\n",
       "<style scoped>\n",
       "    .dataframe tbody tr th:only-of-type {\n",
       "        vertical-align: middle;\n",
       "    }\n",
       "\n",
       "    .dataframe tbody tr th {\n",
       "        vertical-align: top;\n",
       "    }\n",
       "\n",
       "    .dataframe thead th {\n",
       "        text-align: right;\n",
       "    }\n",
       "</style>\n",
       "<table border=\"1\" class=\"dataframe\">\n",
       "  <thead>\n",
       "    <tr style=\"text-align: right;\">\n",
       "      <th></th>\n",
       "      <th>chao1</th>\n",
       "      <th>simpson</th>\n",
       "      <th>simpson_e</th>\n",
       "      <th>observed_features</th>\n",
       "      <th>dominance</th>\n",
       "    </tr>\n",
       "    <tr>\n",
       "      <th>Sample ID</th>\n",
       "      <th></th>\n",
       "      <th></th>\n",
       "      <th></th>\n",
       "      <th></th>\n",
       "      <th></th>\n",
       "    </tr>\n",
       "  </thead>\n",
       "  <tbody>\n",
       "    <tr>\n",
       "      <th>P01A</th>\n",
       "      <td>34.000000</td>\n",
       "      <td>0.073073</td>\n",
       "      <td>0.037201</td>\n",
       "      <td>29.0</td>\n",
       "      <td>0.926927</td>\n",
       "    </tr>\n",
       "    <tr>\n",
       "      <th>P03A</th>\n",
       "      <td>82.000000</td>\n",
       "      <td>0.875866</td>\n",
       "      <td>0.099455</td>\n",
       "      <td>81.0</td>\n",
       "      <td>0.124134</td>\n",
       "    </tr>\n",
       "    <tr>\n",
       "      <th>P05A</th>\n",
       "      <td>21.333333</td>\n",
       "      <td>0.022309</td>\n",
       "      <td>0.056823</td>\n",
       "      <td>18.0</td>\n",
       "      <td>0.977691</td>\n",
       "    </tr>\n",
       "    <tr>\n",
       "      <th>P07A</th>\n",
       "      <td>55.750000</td>\n",
       "      <td>0.707867</td>\n",
       "      <td>0.065829</td>\n",
       "      <td>52.0</td>\n",
       "      <td>0.292133</td>\n",
       "    </tr>\n",
       "    <tr>\n",
       "      <th>P09A</th>\n",
       "      <td>29.000000</td>\n",
       "      <td>0.135409</td>\n",
       "      <td>0.044485</td>\n",
       "      <td>26.0</td>\n",
       "      <td>0.864591</td>\n",
       "    </tr>\n",
       "    <tr>\n",
       "      <th>P11A</th>\n",
       "      <td>91.000000</td>\n",
       "      <td>0.956280</td>\n",
       "      <td>0.254144</td>\n",
       "      <td>90.0</td>\n",
       "      <td>0.043720</td>\n",
       "    </tr>\n",
       "    <tr>\n",
       "      <th>P13A</th>\n",
       "      <td>72.750000</td>\n",
       "      <td>0.797497</td>\n",
       "      <td>0.068586</td>\n",
       "      <td>72.0</td>\n",
       "      <td>0.202503</td>\n",
       "    </tr>\n",
       "    <tr>\n",
       "      <th>P15A</th>\n",
       "      <td>45.000000</td>\n",
       "      <td>0.497584</td>\n",
       "      <td>0.049760</td>\n",
       "      <td>40.0</td>\n",
       "      <td>0.502416</td>\n",
       "    </tr>\n",
       "    <tr>\n",
       "      <th>P17A</th>\n",
       "      <td>119.000000</td>\n",
       "      <td>0.563580</td>\n",
       "      <td>0.019255</td>\n",
       "      <td>119.0</td>\n",
       "      <td>0.436420</td>\n",
       "    </tr>\n",
       "    <tr>\n",
       "      <th>P19A</th>\n",
       "      <td>45.100000</td>\n",
       "      <td>0.033091</td>\n",
       "      <td>0.024052</td>\n",
       "      <td>43.0</td>\n",
       "      <td>0.966909</td>\n",
       "    </tr>\n",
       "    <tr>\n",
       "      <th>P20A</th>\n",
       "      <td>85.500000</td>\n",
       "      <td>0.604320</td>\n",
       "      <td>0.030449</td>\n",
       "      <td>83.0</td>\n",
       "      <td>0.395680</td>\n",
       "    </tr>\n",
       "    <tr>\n",
       "      <th>P21A</th>\n",
       "      <td>76.600000</td>\n",
       "      <td>0.097300</td>\n",
       "      <td>0.015175</td>\n",
       "      <td>73.0</td>\n",
       "      <td>0.902700</td>\n",
       "    </tr>\n",
       "    <tr>\n",
       "      <th>P22A</th>\n",
       "      <td>99.000000</td>\n",
       "      <td>0.877394</td>\n",
       "      <td>0.084960</td>\n",
       "      <td>96.0</td>\n",
       "      <td>0.122606</td>\n",
       "    </tr>\n",
       "  </tbody>\n",
       "</table>\n",
       "</div>"
      ],
      "text/plain": [
       "                chao1   simpson  simpson_e  observed_features  dominance\n",
       "Sample ID                                                               \n",
       "P01A        34.000000  0.073073   0.037201               29.0   0.926927\n",
       "P03A        82.000000  0.875866   0.099455               81.0   0.124134\n",
       "P05A        21.333333  0.022309   0.056823               18.0   0.977691\n",
       "P07A        55.750000  0.707867   0.065829               52.0   0.292133\n",
       "P09A        29.000000  0.135409   0.044485               26.0   0.864591\n",
       "P11A        91.000000  0.956280   0.254144               90.0   0.043720\n",
       "P13A        72.750000  0.797497   0.068586               72.0   0.202503\n",
       "P15A        45.000000  0.497584   0.049760               40.0   0.502416\n",
       "P17A       119.000000  0.563580   0.019255              119.0   0.436420\n",
       "P19A        45.100000  0.033091   0.024052               43.0   0.966909\n",
       "P20A        85.500000  0.604320   0.030449               83.0   0.395680\n",
       "P21A        76.600000  0.097300   0.015175               73.0   0.902700\n",
       "P22A        99.000000  0.877394   0.084960               96.0   0.122606"
      ]
     },
     "execution_count": 15,
     "metadata": {},
     "output_type": "execute_result"
    }
   ],
   "source": [
    "metrics = ['chao1', 'simpson', 'simpson_e', 'observed_features', 'dominance']\n",
    "#metrics = ['observed_features', 'fisher_alpha', 'chao1', 'shannon', 'simpson', 'simpson_e']\n",
    "\n",
    "# alpha diversity metrics and significance\n",
    "\n",
    "# init empty list\n",
    "df_list = []\n",
    "artifacts = {}\n",
    "\n",
    "# loop over metrics\n",
    "for metric in metrics:\n",
    "    result = diversity.actions.alpha(\n",
    "        table = action_results.rarefied_table,\n",
    "        metric = metric\n",
    "    )  # save to result\n",
    "    artifact = result.alpha_diversity  # extract artifact\n",
    "    artifacts[metric] = artifact\n",
    "    df_list.append(artifact.view(view_type=q2.Metadata).to_dataframe())  # convert to DF and add to list\n",
    "    \n",
    "df= pd.concat(df_list, axis=1)  # merge list of dataframes, add each DF as new column (instead of new row (default))\n",
    "df"
   ]
  },
  {
   "cell_type": "code",
   "execution_count": 39,
   "metadata": {},
   "outputs": [
    {
     "data": {
      "text/html": [
       "<div>\n",
       "<style scoped>\n",
       "    .dataframe tbody tr th:only-of-type {\n",
       "        vertical-align: middle;\n",
       "    }\n",
       "\n",
       "    .dataframe tbody tr th {\n",
       "        vertical-align: top;\n",
       "    }\n",
       "\n",
       "    .dataframe thead th {\n",
       "        text-align: right;\n",
       "    }\n",
       "</style>\n",
       "<table border=\"1\" class=\"dataframe\">\n",
       "  <thead>\n",
       "    <tr style=\"text-align: right;\">\n",
       "      <th></th>\n",
       "      <th>Leto</th>\n",
       "      <th>Genetska linija</th>\n",
       "      <th>Število ASV</th>\n",
       "      <th>Metrika</th>\n",
       "      <th>sample</th>\n",
       "      <th>location</th>\n",
       "      <th>origin</th>\n",
       "      <th>year</th>\n",
       "      <th>parkelj</th>\n",
       "      <th>specimen</th>\n",
       "      <th>population</th>\n",
       "    </tr>\n",
       "  </thead>\n",
       "  <tbody>\n",
       "    <tr>\n",
       "      <th>P01A</th>\n",
       "      <td>2015</td>\n",
       "      <td>Linija reke Ljubljanice</td>\n",
       "      <td>29.0</td>\n",
       "      <td>Opažene vrednosti</td>\n",
       "      <td>P01A</td>\n",
       "      <td>Planinska_jama</td>\n",
       "      <td>Paa200_t0</td>\n",
       "      <td>2015</td>\n",
       "      <td>no</td>\n",
       "      <td>Paa200</td>\n",
       "      <td>Linija reke Ljubljanice</td>\n",
       "    </tr>\n",
       "    <tr>\n",
       "      <th>P01A</th>\n",
       "      <td>2015</td>\n",
       "      <td>Linija reke Ljubljanice</td>\n",
       "      <td>34.0</td>\n",
       "      <td>Chao1</td>\n",
       "      <td>P01A</td>\n",
       "      <td>Planinska_jama</td>\n",
       "      <td>Paa200_t0</td>\n",
       "      <td>2015</td>\n",
       "      <td>no</td>\n",
       "      <td>Paa200</td>\n",
       "      <td>Linija reke Ljubljanice</td>\n",
       "    </tr>\n",
       "    <tr>\n",
       "      <th>P03A</th>\n",
       "      <td>2015</td>\n",
       "      <td>Linija reke Ljubljanice</td>\n",
       "      <td>81.0</td>\n",
       "      <td>Opažene vrednosti</td>\n",
       "      <td>P03A</td>\n",
       "      <td>Planinska_jama</td>\n",
       "      <td>Paa201_t0</td>\n",
       "      <td>2015</td>\n",
       "      <td>no</td>\n",
       "      <td>Paa201</td>\n",
       "      <td>Linija reke Ljubljanice</td>\n",
       "    </tr>\n",
       "    <tr>\n",
       "      <th>P03A</th>\n",
       "      <td>2015</td>\n",
       "      <td>Linija reke Ljubljanice</td>\n",
       "      <td>82.0</td>\n",
       "      <td>Chao1</td>\n",
       "      <td>P03A</td>\n",
       "      <td>Planinska_jama</td>\n",
       "      <td>Paa201_t0</td>\n",
       "      <td>2015</td>\n",
       "      <td>no</td>\n",
       "      <td>Paa201</td>\n",
       "      <td>Linija reke Ljubljanice</td>\n",
       "    </tr>\n",
       "    <tr>\n",
       "      <th>P05A</th>\n",
       "      <td>2016</td>\n",
       "      <td>Dolenjska linija</td>\n",
       "      <td>18.0</td>\n",
       "      <td>Opažene vrednosti</td>\n",
       "      <td>P05A</td>\n",
       "      <td>Stobe</td>\n",
       "      <td>Paa204_t10d</td>\n",
       "      <td>2016</td>\n",
       "      <td>no</td>\n",
       "      <td>Paa204</td>\n",
       "      <td>Dolenjska linija</td>\n",
       "    </tr>\n",
       "  </tbody>\n",
       "</table>\n",
       "</div>"
      ],
      "text/plain": [
       "      Leto          Genetska linija  Število ASV            Metrika sample  \\\n",
       "P01A  2015  Linija reke Ljubljanice         29.0  Opažene vrednosti   P01A   \n",
       "P01A  2015  Linija reke Ljubljanice         34.0              Chao1   P01A   \n",
       "P03A  2015  Linija reke Ljubljanice         81.0  Opažene vrednosti   P03A   \n",
       "P03A  2015  Linija reke Ljubljanice         82.0              Chao1   P03A   \n",
       "P05A  2016         Dolenjska linija         18.0  Opažene vrednosti   P05A   \n",
       "\n",
       "            location       origin  year parkelj specimen  \\\n",
       "P01A  Planinska_jama    Paa200_t0  2015      no   Paa200   \n",
       "P01A  Planinska_jama    Paa200_t0  2015      no   Paa200   \n",
       "P03A  Planinska_jama    Paa201_t0  2015      no   Paa201   \n",
       "P03A  Planinska_jama    Paa201_t0  2015      no   Paa201   \n",
       "P05A           Stobe  Paa204_t10d  2016      no   Paa204   \n",
       "\n",
       "                   population  \n",
       "P01A  Linija reke Ljubljanice  \n",
       "P01A  Linija reke Ljubljanice  \n",
       "P03A  Linija reke Ljubljanice  \n",
       "P03A  Linija reke Ljubljanice  \n",
       "P05A         Dolenjska linija  "
      ]
     },
     "execution_count": 39,
     "metadata": {},
     "output_type": "execute_result"
    }
   ],
   "source": [
    "ndf = df.merge(sample_metadata.to_dataframe(), left_index=True, right_index=True)\n",
    "ndf.head()"
   ]
  },
  {
   "cell_type": "code",
   "execution_count": 41,
   "metadata": {
    "scrolled": false
   },
   "outputs": [
    {
     "ename": "KeyError",
     "evalue": "\"['observed_features'] not in index\"",
     "output_type": "error",
     "traceback": [
      "\u001b[0;31m---------------------------------------------------------------------------\u001b[0m",
      "\u001b[0;31mKeyError\u001b[0m                                  Traceback (most recent call last)",
      "Input \u001b[0;32mIn [41]\u001b[0m, in \u001b[0;36m<cell line: 3>\u001b[0;34m()\u001b[0m\n\u001b[1;32m      1\u001b[0m col \u001b[38;5;241m=\u001b[39m \u001b[38;5;124m'\u001b[39m\u001b[38;5;124mobserved_features\u001b[39m\u001b[38;5;124m'\u001b[39m\n\u001b[1;32m      2\u001b[0m meta_cols \u001b[38;5;241m=\u001b[39m [\u001b[38;5;124m'\u001b[39m\u001b[38;5;124myear\u001b[39m\u001b[38;5;124m'\u001b[39m, \u001b[38;5;124m'\u001b[39m\u001b[38;5;124mpopulation\u001b[39m\u001b[38;5;124m'\u001b[39m]\n\u001b[0;32m----> 3\u001b[0m df1 \u001b[38;5;241m=\u001b[39m \u001b[43mndf\u001b[49m\u001b[43m[\u001b[49m\u001b[43mmeta_cols\u001b[49m\u001b[43m \u001b[49m\u001b[38;5;241;43m+\u001b[39;49m\u001b[43m \u001b[49m\u001b[43m[\u001b[49m\u001b[43mcol\u001b[49m\u001b[43m]\u001b[49m\u001b[43m]\u001b[49m\u001b[38;5;241m.\u001b[39mrename(columns\u001b[38;5;241m=\u001b[39m{col: \u001b[38;5;124m'\u001b[39m\u001b[38;5;124mvalue\u001b[39m\u001b[38;5;124m'\u001b[39m})\u001b[38;5;241m.\u001b[39meval(\u001b[38;5;124m'\u001b[39m\u001b[38;5;124mtype=\u001b[39m\u001b[38;5;124m\"\u001b[39m\u001b[38;5;124mOpažene vrednosti\u001b[39m\u001b[38;5;124m\"\u001b[39m\u001b[38;5;124m'\u001b[39m)\n\u001b[1;32m      5\u001b[0m col \u001b[38;5;241m=\u001b[39m \u001b[38;5;124m'\u001b[39m\u001b[38;5;124mchao1\u001b[39m\u001b[38;5;124m'\u001b[39m\n\u001b[1;32m      6\u001b[0m df2 \u001b[38;5;241m=\u001b[39m ndf[meta_cols \u001b[38;5;241m+\u001b[39m [col]]\u001b[38;5;241m.\u001b[39mrename(columns\u001b[38;5;241m=\u001b[39m{col: \u001b[38;5;124m'\u001b[39m\u001b[38;5;124mvalue\u001b[39m\u001b[38;5;124m'\u001b[39m})\u001b[38;5;241m.\u001b[39meval(\u001b[38;5;124m'\u001b[39m\u001b[38;5;124mtype=\u001b[39m\u001b[38;5;124m\"\u001b[39m\u001b[38;5;124mChao1\u001b[39m\u001b[38;5;124m\"\u001b[39m\u001b[38;5;124m'\u001b[39m)\n",
      "File \u001b[0;32m/opt/miniconda3/envs/qiime2-2022.2/lib/python3.8/site-packages/pandas/core/frame.py:3030\u001b[0m, in \u001b[0;36mDataFrame.__getitem__\u001b[0;34m(self, key)\u001b[0m\n\u001b[1;32m   3028\u001b[0m     \u001b[38;5;28;01mif\u001b[39;00m is_iterator(key):\n\u001b[1;32m   3029\u001b[0m         key \u001b[38;5;241m=\u001b[39m \u001b[38;5;28mlist\u001b[39m(key)\n\u001b[0;32m-> 3030\u001b[0m     indexer \u001b[38;5;241m=\u001b[39m \u001b[38;5;28;43mself\u001b[39;49m\u001b[38;5;241;43m.\u001b[39;49m\u001b[43mloc\u001b[49m\u001b[38;5;241;43m.\u001b[39;49m\u001b[43m_get_listlike_indexer\u001b[49m\u001b[43m(\u001b[49m\u001b[43mkey\u001b[49m\u001b[43m,\u001b[49m\u001b[43m \u001b[49m\u001b[43maxis\u001b[49m\u001b[38;5;241;43m=\u001b[39;49m\u001b[38;5;241;43m1\u001b[39;49m\u001b[43m,\u001b[49m\u001b[43m \u001b[49m\u001b[43mraise_missing\u001b[49m\u001b[38;5;241;43m=\u001b[39;49m\u001b[38;5;28;43;01mTrue\u001b[39;49;00m\u001b[43m)\u001b[49m[\u001b[38;5;241m1\u001b[39m]\n\u001b[1;32m   3032\u001b[0m \u001b[38;5;66;03m# take() does not accept boolean indexers\u001b[39;00m\n\u001b[1;32m   3033\u001b[0m \u001b[38;5;28;01mif\u001b[39;00m \u001b[38;5;28mgetattr\u001b[39m(indexer, \u001b[38;5;124m\"\u001b[39m\u001b[38;5;124mdtype\u001b[39m\u001b[38;5;124m\"\u001b[39m, \u001b[38;5;28;01mNone\u001b[39;00m) \u001b[38;5;241m==\u001b[39m \u001b[38;5;28mbool\u001b[39m:\n",
      "File \u001b[0;32m/opt/miniconda3/envs/qiime2-2022.2/lib/python3.8/site-packages/pandas/core/indexing.py:1266\u001b[0m, in \u001b[0;36m_LocIndexer._get_listlike_indexer\u001b[0;34m(self, key, axis, raise_missing)\u001b[0m\n\u001b[1;32m   1263\u001b[0m \u001b[38;5;28;01melse\u001b[39;00m:\n\u001b[1;32m   1264\u001b[0m     keyarr, indexer, new_indexer \u001b[38;5;241m=\u001b[39m ax\u001b[38;5;241m.\u001b[39m_reindex_non_unique(keyarr)\n\u001b[0;32m-> 1266\u001b[0m \u001b[38;5;28;43mself\u001b[39;49m\u001b[38;5;241;43m.\u001b[39;49m\u001b[43m_validate_read_indexer\u001b[49m\u001b[43m(\u001b[49m\u001b[43mkeyarr\u001b[49m\u001b[43m,\u001b[49m\u001b[43m \u001b[49m\u001b[43mindexer\u001b[49m\u001b[43m,\u001b[49m\u001b[43m \u001b[49m\u001b[43maxis\u001b[49m\u001b[43m,\u001b[49m\u001b[43m \u001b[49m\u001b[43mraise_missing\u001b[49m\u001b[38;5;241;43m=\u001b[39;49m\u001b[43mraise_missing\u001b[49m\u001b[43m)\u001b[49m\n\u001b[1;32m   1267\u001b[0m \u001b[38;5;28;01mreturn\u001b[39;00m keyarr, indexer\n",
      "File \u001b[0;32m/opt/miniconda3/envs/qiime2-2022.2/lib/python3.8/site-packages/pandas/core/indexing.py:1316\u001b[0m, in \u001b[0;36m_LocIndexer._validate_read_indexer\u001b[0;34m(self, key, indexer, axis, raise_missing)\u001b[0m\n\u001b[1;32m   1314\u001b[0m \u001b[38;5;28;01mif\u001b[39;00m raise_missing:\n\u001b[1;32m   1315\u001b[0m     not_found \u001b[38;5;241m=\u001b[39m \u001b[38;5;28mlist\u001b[39m(\u001b[38;5;28mset\u001b[39m(key) \u001b[38;5;241m-\u001b[39m \u001b[38;5;28mset\u001b[39m(ax))\n\u001b[0;32m-> 1316\u001b[0m     \u001b[38;5;28;01mraise\u001b[39;00m \u001b[38;5;167;01mKeyError\u001b[39;00m(\u001b[38;5;124mf\u001b[39m\u001b[38;5;124m\"\u001b[39m\u001b[38;5;132;01m{\u001b[39;00mnot_found\u001b[38;5;132;01m}\u001b[39;00m\u001b[38;5;124m not in index\u001b[39m\u001b[38;5;124m\"\u001b[39m)\n\u001b[1;32m   1318\u001b[0m not_found \u001b[38;5;241m=\u001b[39m key[missing_mask]\n\u001b[1;32m   1320\u001b[0m \u001b[38;5;28;01mwith\u001b[39;00m option_context(\u001b[38;5;124m\"\u001b[39m\u001b[38;5;124mdisplay.max_seq_items\u001b[39m\u001b[38;5;124m\"\u001b[39m, \u001b[38;5;241m10\u001b[39m, \u001b[38;5;124m\"\u001b[39m\u001b[38;5;124mdisplay.width\u001b[39m\u001b[38;5;124m\"\u001b[39m, \u001b[38;5;241m80\u001b[39m):\n",
      "\u001b[0;31mKeyError\u001b[0m: \"['observed_features'] not in index\""
     ]
    }
   ],
   "source": [
    "col = 'observed_features'\n",
    "meta_cols = ['year', 'population']\n",
    "df1 = ndf[meta_cols + [col]].rename(columns={col: 'value'}).eval('type=\"Opažene vrednosti\"')\n",
    "\n",
    "col = 'chao1'\n",
    "df2 = ndf[meta_cols + [col]].rename(columns={col: 'value'}).eval('type=\"Chao1\"')\n",
    "\n",
    "df = pd.concat([df1, df2])\n",
    "#df = df.reindex(columns=['1Sun', '2Mon', '3Tue', '4Wed', '5Thu', '6Fri', '7Sat'])"
   ]
  },
  {
   "cell_type": "code",
   "execution_count": 18,
   "metadata": {},
   "outputs": [],
   "source": [
    "df = df.rename(columns={'population': 'Genetska linija', 'year': 'Leto', 'value': 'Število ASV', 'type': 'Metrika'})\n",
    "df.index.name = 'Osebek'"
   ]
  },
  {
   "cell_type": "code",
   "execution_count": 19,
   "metadata": {},
   "outputs": [
    {
     "name": "stderr",
     "output_type": "stream",
     "text": [
      "/opt/miniconda3/envs/qiime2-2022.2/lib/python3.8/site-packages/plotnine/ggplot.py:719: PlotnineWarning: Saving 6.4 x 4.8 in image.\n",
      "/opt/miniconda3/envs/qiime2-2022.2/lib/python3.8/site-packages/plotnine/ggplot.py:722: PlotnineWarning: Filename: ./results/bacteria_obs-feat_chao1.png\n"
     ]
    },
    {
     "data": {
      "image/png": "[encoded data removed]",
      "text/plain": [
       "<Figure size 640x480 with 1 Axes>"
      ]
     },
     "metadata": {},
     "output_type": "display_data"
    },
    {
     "data": {
      "text/plain": [
       "<ggplot: (8774834503671)>"
      ]
     },
     "execution_count": 19,
     "metadata": {},
     "output_type": "execute_result"
    }
   ],
   "source": [
    "from plotnine import *\n",
    "from plotnine.data import *\n",
    "\n",
    "p = (\n",
    "    ggplot(df, aes(x=df.index, y='Število ASV', shape='Leto', color='Genetska linija', alpha='Metrika'))\n",
    "    + geom_point(size=4)\n",
    "    + labs(x='Osebek', y='Število ASV')\n",
    "    + scale_color_manual(['C0', 'C1', 'C2'])\n",
    "    + scale_alpha_manual([0.3, 1.0])\n",
    "    + theme(axis_text_x=element_text(rotation=90))\n",
    ")\n",
    "\n",
    "p.save('./results/bacteria_obs-feat_chao1.png')\n",
    "\n",
    "p"
   ]
  },
  {
   "cell_type": "code",
   "execution_count": 20,
   "metadata": {},
   "outputs": [
    {
     "data": {
      "text/html": [
       "<div>\n",
       "<style scoped>\n",
       "    .dataframe tbody tr th:only-of-type {\n",
       "        vertical-align: middle;\n",
       "    }\n",
       "\n",
       "    .dataframe tbody tr th {\n",
       "        vertical-align: top;\n",
       "    }\n",
       "\n",
       "    .dataframe thead th {\n",
       "        text-align: right;\n",
       "    }\n",
       "</style>\n",
       "<table border=\"1\" class=\"dataframe\">\n",
       "  <thead>\n",
       "    <tr style=\"text-align: right;\">\n",
       "      <th></th>\n",
       "      <th>chao1</th>\n",
       "      <th>simpson</th>\n",
       "      <th>simpson_e</th>\n",
       "      <th>observed_features</th>\n",
       "      <th>dominance</th>\n",
       "      <th>sample</th>\n",
       "      <th>location</th>\n",
       "      <th>origin</th>\n",
       "      <th>year</th>\n",
       "      <th>parkelj</th>\n",
       "      <th>specimen</th>\n",
       "      <th>population</th>\n",
       "    </tr>\n",
       "    <tr>\n",
       "      <th>Sample ID</th>\n",
       "      <th></th>\n",
       "      <th></th>\n",
       "      <th></th>\n",
       "      <th></th>\n",
       "      <th></th>\n",
       "      <th></th>\n",
       "      <th></th>\n",
       "      <th></th>\n",
       "      <th></th>\n",
       "      <th></th>\n",
       "      <th></th>\n",
       "      <th></th>\n",
       "    </tr>\n",
       "  </thead>\n",
       "  <tbody>\n",
       "    <tr>\n",
       "      <th>P01A</th>\n",
       "      <td>34.000000</td>\n",
       "      <td>0.073073</td>\n",
       "      <td>0.037201</td>\n",
       "      <td>29.0</td>\n",
       "      <td>0.926927</td>\n",
       "      <td>P01A</td>\n",
       "      <td>Planinska_jama</td>\n",
       "      <td>Paa200_t0</td>\n",
       "      <td>2015</td>\n",
       "      <td>no</td>\n",
       "      <td>Paa200</td>\n",
       "      <td>Linija reke Ljubljanice</td>\n",
       "    </tr>\n",
       "    <tr>\n",
       "      <th>P03A</th>\n",
       "      <td>82.000000</td>\n",
       "      <td>0.875866</td>\n",
       "      <td>0.099455</td>\n",
       "      <td>81.0</td>\n",
       "      <td>0.124134</td>\n",
       "      <td>P03A</td>\n",
       "      <td>Planinska_jama</td>\n",
       "      <td>Paa201_t0</td>\n",
       "      <td>2015</td>\n",
       "      <td>no</td>\n",
       "      <td>Paa201</td>\n",
       "      <td>Linija reke Ljubljanice</td>\n",
       "    </tr>\n",
       "    <tr>\n",
       "      <th>P05A</th>\n",
       "      <td>21.333333</td>\n",
       "      <td>0.022309</td>\n",
       "      <td>0.056823</td>\n",
       "      <td>18.0</td>\n",
       "      <td>0.977691</td>\n",
       "      <td>P05A</td>\n",
       "      <td>Stobe</td>\n",
       "      <td>Paa204_t10d</td>\n",
       "      <td>2016</td>\n",
       "      <td>no</td>\n",
       "      <td>Paa204</td>\n",
       "      <td>Dolenjska linija</td>\n",
       "    </tr>\n",
       "    <tr>\n",
       "      <th>P07A</th>\n",
       "      <td>55.750000</td>\n",
       "      <td>0.707867</td>\n",
       "      <td>0.065829</td>\n",
       "      <td>52.0</td>\n",
       "      <td>0.292133</td>\n",
       "      <td>P07A</td>\n",
       "      <td>Planinska_jama</td>\n",
       "      <td>Paa209_t0</td>\n",
       "      <td>2017</td>\n",
       "      <td>no</td>\n",
       "      <td>Paa209</td>\n",
       "      <td>Linija reke Ljubljanice</td>\n",
       "    </tr>\n",
       "    <tr>\n",
       "      <th>P09A</th>\n",
       "      <td>29.000000</td>\n",
       "      <td>0.135409</td>\n",
       "      <td>0.044485</td>\n",
       "      <td>26.0</td>\n",
       "      <td>0.864591</td>\n",
       "      <td>P09A</td>\n",
       "      <td>Planinska_jama</td>\n",
       "      <td>Paa210_t0</td>\n",
       "      <td>2019</td>\n",
       "      <td>no</td>\n",
       "      <td>Paa210</td>\n",
       "      <td>Linija reke Ljubljanice</td>\n",
       "    </tr>\n",
       "    <tr>\n",
       "      <th>P11A</th>\n",
       "      <td>91.000000</td>\n",
       "      <td>0.956280</td>\n",
       "      <td>0.254144</td>\n",
       "      <td>90.0</td>\n",
       "      <td>0.043720</td>\n",
       "      <td>P11A</td>\n",
       "      <td>Planinska_jama</td>\n",
       "      <td>Paa211_t0</td>\n",
       "      <td>2018</td>\n",
       "      <td>no</td>\n",
       "      <td>Paa211</td>\n",
       "      <td>Linija reke Ljubljanice</td>\n",
       "    </tr>\n",
       "    <tr>\n",
       "      <th>P13A</th>\n",
       "      <td>72.750000</td>\n",
       "      <td>0.797497</td>\n",
       "      <td>0.068586</td>\n",
       "      <td>72.0</td>\n",
       "      <td>0.202503</td>\n",
       "      <td>P13A</td>\n",
       "      <td>Planinska_jama</td>\n",
       "      <td>Paa219_t0</td>\n",
       "      <td>2019</td>\n",
       "      <td>no</td>\n",
       "      <td>Paa219</td>\n",
       "      <td>Linija reke Ljubljanice</td>\n",
       "    </tr>\n",
       "    <tr>\n",
       "      <th>P15A</th>\n",
       "      <td>45.000000</td>\n",
       "      <td>0.497584</td>\n",
       "      <td>0.049760</td>\n",
       "      <td>40.0</td>\n",
       "      <td>0.502416</td>\n",
       "      <td>P15A</td>\n",
       "      <td>Planinska_jama</td>\n",
       "      <td>Paa220_t0</td>\n",
       "      <td>2019</td>\n",
       "      <td>no</td>\n",
       "      <td>Paa220</td>\n",
       "      <td>Linija reke Ljubljanice</td>\n",
       "    </tr>\n",
       "    <tr>\n",
       "      <th>P17A</th>\n",
       "      <td>119.000000</td>\n",
       "      <td>0.563580</td>\n",
       "      <td>0.019255</td>\n",
       "      <td>119.0</td>\n",
       "      <td>0.436420</td>\n",
       "      <td>P17A</td>\n",
       "      <td>Planinska_jama</td>\n",
       "      <td>Paa221_t0</td>\n",
       "      <td>2019</td>\n",
       "      <td>no</td>\n",
       "      <td>Paa221</td>\n",
       "      <td>Linija reke Ljubljanice</td>\n",
       "    </tr>\n",
       "    <tr>\n",
       "      <th>P19A</th>\n",
       "      <td>45.100000</td>\n",
       "      <td>0.033091</td>\n",
       "      <td>0.024052</td>\n",
       "      <td>43.0</td>\n",
       "      <td>0.966909</td>\n",
       "      <td>P19A</td>\n",
       "      <td>Obrsec</td>\n",
       "      <td>PB271_parkelj</td>\n",
       "      <td>2016</td>\n",
       "      <td>yes</td>\n",
       "      <td>PB271</td>\n",
       "      <td>Črna podvrsta</td>\n",
       "    </tr>\n",
       "    <tr>\n",
       "      <th>P20A</th>\n",
       "      <td>85.500000</td>\n",
       "      <td>0.604320</td>\n",
       "      <td>0.030449</td>\n",
       "      <td>83.0</td>\n",
       "      <td>0.395680</td>\n",
       "      <td>P20A</td>\n",
       "      <td>Obrsec</td>\n",
       "      <td>PB272_parkelj</td>\n",
       "      <td>2016</td>\n",
       "      <td>yes</td>\n",
       "      <td>PB272</td>\n",
       "      <td>Črna podvrsta</td>\n",
       "    </tr>\n",
       "    <tr>\n",
       "      <th>P21A</th>\n",
       "      <td>76.600000</td>\n",
       "      <td>0.097300</td>\n",
       "      <td>0.015175</td>\n",
       "      <td>73.0</td>\n",
       "      <td>0.902700</td>\n",
       "      <td>P21A</td>\n",
       "      <td>Jelsevnik</td>\n",
       "      <td>PB644_parkelj</td>\n",
       "      <td>2015</td>\n",
       "      <td>yes</td>\n",
       "      <td>PB644</td>\n",
       "      <td>Črna podvrsta</td>\n",
       "    </tr>\n",
       "    <tr>\n",
       "      <th>P22A</th>\n",
       "      <td>99.000000</td>\n",
       "      <td>0.877394</td>\n",
       "      <td>0.084960</td>\n",
       "      <td>96.0</td>\n",
       "      <td>0.122606</td>\n",
       "      <td>P22A</td>\n",
       "      <td>Obrsec</td>\n",
       "      <td>PAP20_parkelj</td>\n",
       "      <td>2020</td>\n",
       "      <td>yes</td>\n",
       "      <td>PAP20</td>\n",
       "      <td>Črna podvrsta</td>\n",
       "    </tr>\n",
       "  </tbody>\n",
       "</table>\n",
       "</div>"
      ],
      "text/plain": [
       "                chao1   simpson  simpson_e  observed_features  dominance  \\\n",
       "Sample ID                                                                  \n",
       "P01A        34.000000  0.073073   0.037201               29.0   0.926927   \n",
       "P03A        82.000000  0.875866   0.099455               81.0   0.124134   \n",
       "P05A        21.333333  0.022309   0.056823               18.0   0.977691   \n",
       "P07A        55.750000  0.707867   0.065829               52.0   0.292133   \n",
       "P09A        29.000000  0.135409   0.044485               26.0   0.864591   \n",
       "P11A        91.000000  0.956280   0.254144               90.0   0.043720   \n",
       "P13A        72.750000  0.797497   0.068586               72.0   0.202503   \n",
       "P15A        45.000000  0.497584   0.049760               40.0   0.502416   \n",
       "P17A       119.000000  0.563580   0.019255              119.0   0.436420   \n",
       "P19A        45.100000  0.033091   0.024052               43.0   0.966909   \n",
       "P20A        85.500000  0.604320   0.030449               83.0   0.395680   \n",
       "P21A        76.600000  0.097300   0.015175               73.0   0.902700   \n",
       "P22A        99.000000  0.877394   0.084960               96.0   0.122606   \n",
       "\n",
       "          sample        location         origin  year parkelj specimen  \\\n",
       "Sample ID                                                                \n",
       "P01A        P01A  Planinska_jama      Paa200_t0  2015      no   Paa200   \n",
       "P03A        P03A  Planinska_jama      Paa201_t0  2015      no   Paa201   \n",
       "P05A        P05A           Stobe    Paa204_t10d  2016      no   Paa204   \n",
       "P07A        P07A  Planinska_jama      Paa209_t0  2017      no   Paa209   \n",
       "P09A        P09A  Planinska_jama      Paa210_t0  2019      no   Paa210   \n",
       "P11A        P11A  Planinska_jama      Paa211_t0  2018      no   Paa211   \n",
       "P13A        P13A  Planinska_jama      Paa219_t0  2019      no   Paa219   \n",
       "P15A        P15A  Planinska_jama      Paa220_t0  2019      no   Paa220   \n",
       "P17A        P17A  Planinska_jama      Paa221_t0  2019      no   Paa221   \n",
       "P19A        P19A          Obrsec  PB271_parkelj  2016     yes    PB271   \n",
       "P20A        P20A          Obrsec  PB272_parkelj  2016     yes    PB272   \n",
       "P21A        P21A       Jelsevnik  PB644_parkelj  2015     yes    PB644   \n",
       "P22A        P22A          Obrsec  PAP20_parkelj  2020     yes    PAP20   \n",
       "\n",
       "                        population  \n",
       "Sample ID                           \n",
       "P01A       Linija reke Ljubljanice  \n",
       "P03A       Linija reke Ljubljanice  \n",
       "P05A              Dolenjska linija  \n",
       "P07A       Linija reke Ljubljanice  \n",
       "P09A       Linija reke Ljubljanice  \n",
       "P11A       Linija reke Ljubljanice  \n",
       "P13A       Linija reke Ljubljanice  \n",
       "P15A       Linija reke Ljubljanice  \n",
       "P17A       Linija reke Ljubljanice  \n",
       "P19A                 Črna podvrsta  \n",
       "P20A                 Črna podvrsta  \n",
       "P21A                 Črna podvrsta  \n",
       "P22A                 Črna podvrsta  "
      ]
     },
     "execution_count": 20,
     "metadata": {},
     "output_type": "execute_result"
    }
   ],
   "source": [
    "ndf"
   ]
  },
  {
   "cell_type": "code",
   "execution_count": 21,
   "metadata": {},
   "outputs": [
    {
     "data": {
      "text/html": [
       "<div>\n",
       "<style scoped>\n",
       "    .dataframe tbody tr th:only-of-type {\n",
       "        vertical-align: middle;\n",
       "    }\n",
       "\n",
       "    .dataframe tbody tr th {\n",
       "        vertical-align: top;\n",
       "    }\n",
       "\n",
       "    .dataframe thead th {\n",
       "        text-align: right;\n",
       "    }\n",
       "</style>\n",
       "<table border=\"1\" class=\"dataframe\">\n",
       "  <thead>\n",
       "    <tr style=\"text-align: right;\">\n",
       "      <th></th>\n",
       "      <th>chao1</th>\n",
       "      <th>simpson</th>\n",
       "      <th>simpson_e</th>\n",
       "      <th>observed_features</th>\n",
       "      <th>dominance</th>\n",
       "      <th>sample</th>\n",
       "      <th>location</th>\n",
       "      <th>origin</th>\n",
       "      <th>Leto</th>\n",
       "      <th>parkelj</th>\n",
       "      <th>specimen</th>\n",
       "      <th>Genetska linija</th>\n",
       "    </tr>\n",
       "    <tr>\n",
       "      <th>Osebek</th>\n",
       "      <th></th>\n",
       "      <th></th>\n",
       "      <th></th>\n",
       "      <th></th>\n",
       "      <th></th>\n",
       "      <th></th>\n",
       "      <th></th>\n",
       "      <th></th>\n",
       "      <th></th>\n",
       "      <th></th>\n",
       "      <th></th>\n",
       "      <th></th>\n",
       "    </tr>\n",
       "  </thead>\n",
       "  <tbody>\n",
       "    <tr>\n",
       "      <th>P01A</th>\n",
       "      <td>34.000000</td>\n",
       "      <td>0.073073</td>\n",
       "      <td>0.037201</td>\n",
       "      <td>29.0</td>\n",
       "      <td>0.926927</td>\n",
       "      <td>P01A</td>\n",
       "      <td>Planinska_jama</td>\n",
       "      <td>Paa200_t0</td>\n",
       "      <td>2015</td>\n",
       "      <td>no</td>\n",
       "      <td>Paa200</td>\n",
       "      <td>Linija reke Ljubljanice</td>\n",
       "    </tr>\n",
       "    <tr>\n",
       "      <th>P03A</th>\n",
       "      <td>82.000000</td>\n",
       "      <td>0.875866</td>\n",
       "      <td>0.099455</td>\n",
       "      <td>81.0</td>\n",
       "      <td>0.124134</td>\n",
       "      <td>P03A</td>\n",
       "      <td>Planinska_jama</td>\n",
       "      <td>Paa201_t0</td>\n",
       "      <td>2015</td>\n",
       "      <td>no</td>\n",
       "      <td>Paa201</td>\n",
       "      <td>Linija reke Ljubljanice</td>\n",
       "    </tr>\n",
       "    <tr>\n",
       "      <th>P05A</th>\n",
       "      <td>21.333333</td>\n",
       "      <td>0.022309</td>\n",
       "      <td>0.056823</td>\n",
       "      <td>18.0</td>\n",
       "      <td>0.977691</td>\n",
       "      <td>P05A</td>\n",
       "      <td>Stobe</td>\n",
       "      <td>Paa204_t10d</td>\n",
       "      <td>2016</td>\n",
       "      <td>no</td>\n",
       "      <td>Paa204</td>\n",
       "      <td>Dolenjska linija</td>\n",
       "    </tr>\n",
       "    <tr>\n",
       "      <th>P07A</th>\n",
       "      <td>55.750000</td>\n",
       "      <td>0.707867</td>\n",
       "      <td>0.065829</td>\n",
       "      <td>52.0</td>\n",
       "      <td>0.292133</td>\n",
       "      <td>P07A</td>\n",
       "      <td>Planinska_jama</td>\n",
       "      <td>Paa209_t0</td>\n",
       "      <td>2017</td>\n",
       "      <td>no</td>\n",
       "      <td>Paa209</td>\n",
       "      <td>Linija reke Ljubljanice</td>\n",
       "    </tr>\n",
       "    <tr>\n",
       "      <th>P09A</th>\n",
       "      <td>29.000000</td>\n",
       "      <td>0.135409</td>\n",
       "      <td>0.044485</td>\n",
       "      <td>26.0</td>\n",
       "      <td>0.864591</td>\n",
       "      <td>P09A</td>\n",
       "      <td>Planinska_jama</td>\n",
       "      <td>Paa210_t0</td>\n",
       "      <td>2019</td>\n",
       "      <td>no</td>\n",
       "      <td>Paa210</td>\n",
       "      <td>Linija reke Ljubljanice</td>\n",
       "    </tr>\n",
       "    <tr>\n",
       "      <th>P11A</th>\n",
       "      <td>91.000000</td>\n",
       "      <td>0.956280</td>\n",
       "      <td>0.254144</td>\n",
       "      <td>90.0</td>\n",
       "      <td>0.043720</td>\n",
       "      <td>P11A</td>\n",
       "      <td>Planinska_jama</td>\n",
       "      <td>Paa211_t0</td>\n",
       "      <td>2018</td>\n",
       "      <td>no</td>\n",
       "      <td>Paa211</td>\n",
       "      <td>Linija reke Ljubljanice</td>\n",
       "    </tr>\n",
       "    <tr>\n",
       "      <th>P13A</th>\n",
       "      <td>72.750000</td>\n",
       "      <td>0.797497</td>\n",
       "      <td>0.068586</td>\n",
       "      <td>72.0</td>\n",
       "      <td>0.202503</td>\n",
       "      <td>P13A</td>\n",
       "      <td>Planinska_jama</td>\n",
       "      <td>Paa219_t0</td>\n",
       "      <td>2019</td>\n",
       "      <td>no</td>\n",
       "      <td>Paa219</td>\n",
       "      <td>Linija reke Ljubljanice</td>\n",
       "    </tr>\n",
       "    <tr>\n",
       "      <th>P15A</th>\n",
       "      <td>45.000000</td>\n",
       "      <td>0.497584</td>\n",
       "      <td>0.049760</td>\n",
       "      <td>40.0</td>\n",
       "      <td>0.502416</td>\n",
       "      <td>P15A</td>\n",
       "      <td>Planinska_jama</td>\n",
       "      <td>Paa220_t0</td>\n",
       "      <td>2019</td>\n",
       "      <td>no</td>\n",
       "      <td>Paa220</td>\n",
       "      <td>Linija reke Ljubljanice</td>\n",
       "    </tr>\n",
       "    <tr>\n",
       "      <th>P17A</th>\n",
       "      <td>119.000000</td>\n",
       "      <td>0.563580</td>\n",
       "      <td>0.019255</td>\n",
       "      <td>119.0</td>\n",
       "      <td>0.436420</td>\n",
       "      <td>P17A</td>\n",
       "      <td>Planinska_jama</td>\n",
       "      <td>Paa221_t0</td>\n",
       "      <td>2019</td>\n",
       "      <td>no</td>\n",
       "      <td>Paa221</td>\n",
       "      <td>Linija reke Ljubljanice</td>\n",
       "    </tr>\n",
       "    <tr>\n",
       "      <th>P19A</th>\n",
       "      <td>45.100000</td>\n",
       "      <td>0.033091</td>\n",
       "      <td>0.024052</td>\n",
       "      <td>43.0</td>\n",
       "      <td>0.966909</td>\n",
       "      <td>P19A</td>\n",
       "      <td>Obrsec</td>\n",
       "      <td>PB271_parkelj</td>\n",
       "      <td>2016</td>\n",
       "      <td>yes</td>\n",
       "      <td>PB271</td>\n",
       "      <td>Črna podvrsta</td>\n",
       "    </tr>\n",
       "    <tr>\n",
       "      <th>P20A</th>\n",
       "      <td>85.500000</td>\n",
       "      <td>0.604320</td>\n",
       "      <td>0.030449</td>\n",
       "      <td>83.0</td>\n",
       "      <td>0.395680</td>\n",
       "      <td>P20A</td>\n",
       "      <td>Obrsec</td>\n",
       "      <td>PB272_parkelj</td>\n",
       "      <td>2016</td>\n",
       "      <td>yes</td>\n",
       "      <td>PB272</td>\n",
       "      <td>Črna podvrsta</td>\n",
       "    </tr>\n",
       "    <tr>\n",
       "      <th>P21A</th>\n",
       "      <td>76.600000</td>\n",
       "      <td>0.097300</td>\n",
       "      <td>0.015175</td>\n",
       "      <td>73.0</td>\n",
       "      <td>0.902700</td>\n",
       "      <td>P21A</td>\n",
       "      <td>Jelsevnik</td>\n",
       "      <td>PB644_parkelj</td>\n",
       "      <td>2015</td>\n",
       "      <td>yes</td>\n",
       "      <td>PB644</td>\n",
       "      <td>Črna podvrsta</td>\n",
       "    </tr>\n",
       "    <tr>\n",
       "      <th>P22A</th>\n",
       "      <td>99.000000</td>\n",
       "      <td>0.877394</td>\n",
       "      <td>0.084960</td>\n",
       "      <td>96.0</td>\n",
       "      <td>0.122606</td>\n",
       "      <td>P22A</td>\n",
       "      <td>Obrsec</td>\n",
       "      <td>PAP20_parkelj</td>\n",
       "      <td>2020</td>\n",
       "      <td>yes</td>\n",
       "      <td>PAP20</td>\n",
       "      <td>Črna podvrsta</td>\n",
       "    </tr>\n",
       "  </tbody>\n",
       "</table>\n",
       "</div>"
      ],
      "text/plain": [
       "             chao1   simpson  simpson_e  observed_features  dominance sample  \\\n",
       "Osebek                                                                         \n",
       "P01A     34.000000  0.073073   0.037201               29.0   0.926927   P01A   \n",
       "P03A     82.000000  0.875866   0.099455               81.0   0.124134   P03A   \n",
       "P05A     21.333333  0.022309   0.056823               18.0   0.977691   P05A   \n",
       "P07A     55.750000  0.707867   0.065829               52.0   0.292133   P07A   \n",
       "P09A     29.000000  0.135409   0.044485               26.0   0.864591   P09A   \n",
       "P11A     91.000000  0.956280   0.254144               90.0   0.043720   P11A   \n",
       "P13A     72.750000  0.797497   0.068586               72.0   0.202503   P13A   \n",
       "P15A     45.000000  0.497584   0.049760               40.0   0.502416   P15A   \n",
       "P17A    119.000000  0.563580   0.019255              119.0   0.436420   P17A   \n",
       "P19A     45.100000  0.033091   0.024052               43.0   0.966909   P19A   \n",
       "P20A     85.500000  0.604320   0.030449               83.0   0.395680   P20A   \n",
       "P21A     76.600000  0.097300   0.015175               73.0   0.902700   P21A   \n",
       "P22A     99.000000  0.877394   0.084960               96.0   0.122606   P22A   \n",
       "\n",
       "              location         origin  Leto parkelj specimen  \\\n",
       "Osebek                                                         \n",
       "P01A    Planinska_jama      Paa200_t0  2015      no   Paa200   \n",
       "P03A    Planinska_jama      Paa201_t0  2015      no   Paa201   \n",
       "P05A             Stobe    Paa204_t10d  2016      no   Paa204   \n",
       "P07A    Planinska_jama      Paa209_t0  2017      no   Paa209   \n",
       "P09A    Planinska_jama      Paa210_t0  2019      no   Paa210   \n",
       "P11A    Planinska_jama      Paa211_t0  2018      no   Paa211   \n",
       "P13A    Planinska_jama      Paa219_t0  2019      no   Paa219   \n",
       "P15A    Planinska_jama      Paa220_t0  2019      no   Paa220   \n",
       "P17A    Planinska_jama      Paa221_t0  2019      no   Paa221   \n",
       "P19A            Obrsec  PB271_parkelj  2016     yes    PB271   \n",
       "P20A            Obrsec  PB272_parkelj  2016     yes    PB272   \n",
       "P21A         Jelsevnik  PB644_parkelj  2015     yes    PB644   \n",
       "P22A            Obrsec  PAP20_parkelj  2020     yes    PAP20   \n",
       "\n",
       "                Genetska linija  \n",
       "Osebek                           \n",
       "P01A    Linija reke Ljubljanice  \n",
       "P03A    Linija reke Ljubljanice  \n",
       "P05A           Dolenjska linija  \n",
       "P07A    Linija reke Ljubljanice  \n",
       "P09A    Linija reke Ljubljanice  \n",
       "P11A    Linija reke Ljubljanice  \n",
       "P13A    Linija reke Ljubljanice  \n",
       "P15A    Linija reke Ljubljanice  \n",
       "P17A    Linija reke Ljubljanice  \n",
       "P19A              Črna podvrsta  \n",
       "P20A              Črna podvrsta  \n",
       "P21A              Črna podvrsta  \n",
       "P22A              Črna podvrsta  "
      ]
     },
     "execution_count": 21,
     "metadata": {},
     "output_type": "execute_result"
    }
   ],
   "source": [
    "ndf = ndf.rename(columns={'population': 'Genetska linija', 'year': 'Leto'})\n",
    "ndf.index.name = 'Osebek'\n",
    "ndf"
   ]
  },
  {
   "cell_type": "code",
   "execution_count": 22,
   "metadata": {},
   "outputs": [
    {
     "name": "stderr",
     "output_type": "stream",
     "text": [
      "/opt/miniconda3/envs/qiime2-2022.2/lib/python3.8/site-packages/plotnine/ggplot.py:719: PlotnineWarning: Saving 6.4 x 4.8 in image.\n",
      "/opt/miniconda3/envs/qiime2-2022.2/lib/python3.8/site-packages/plotnine/ggplot.py:722: PlotnineWarning: Filename: ./results/bacteria_simpson_e.png\n"
     ]
    },
    {
     "data": {
      "image/png": "[encoded data removed]",
      "text/plain": [
       "<Figure size 640x480 with 1 Axes>"
      ]
     },
     "metadata": {},
     "output_type": "display_data"
    },
    {
     "data": {
      "text/plain": [
       "<ggplot: (8774834328670)>"
      ]
     },
     "execution_count": 22,
     "metadata": {},
     "output_type": "execute_result"
    }
   ],
   "source": [
    "simpson = (\n",
    "    ggplot(ndf, aes(x=ndf.index, y='simpson_e', shape='Leto', color='Genetska linija'))\n",
    "    + geom_point(size=4)\n",
    "    + labs(x='Osebek', y='Simpson E')\n",
    "    + scale_color_manual(['C0', 'C1', 'C2'])\n",
    "    + ylim(0,1)\n",
    ")\n",
    "\n",
    "simpson.save('./results/bacteria_simpson_e.png')\n",
    "simpson "
   ]
  },
  {
   "cell_type": "code",
   "execution_count": 23,
   "metadata": {},
   "outputs": [],
   "source": [
    "# dominance = (\n",
    "#     ggplot(ndf, aes(x=ndf.index, y='dominance', shape='year', color='population'))\n",
    "#     + geom_point(size=4)\n",
    "#     + labs(x='Sample ID', y='dominance')\n",
    "#     + scale_color_manual(['C0', 'C1', 'C2'])\n",
    "#     + ylim(0,1)\n",
    "# )\n",
    "\n",
    "# dominance.save('./results/bacteria_dominance.png')\n",
    "# dominance"
   ]
  },
  {
   "cell_type": "code",
   "execution_count": 24,
   "metadata": {},
   "outputs": [],
   "source": [
    "# visualisations of alpha diversity metrics\n",
    "visualizations = {}\n",
    "\n",
    "for key, value in artifacts.items():\n",
    "    visualizations[key] = diversity.visualizers.alpha_group_significance(\n",
    "        alpha_diversity = value,\n",
    "        metadata = sample_metadata\n",
    "    ).visualization"
   ]
  },
  {
   "cell_type": "code",
   "execution_count": 25,
   "metadata": {},
   "outputs": [],
   "source": [
    "# # simpson viz\n",
    "# visualizations['simpson_e']\n",
    "\n",
    "# # simpson viz\n",
    "# visualizations['simpson']\n",
    "\n",
    "# # fisher_alpha viz\n",
    "# visualizations['fisher_alpha']\n",
    "\n",
    "# # evenness_vector viz\n",
    "# diversity.visualizers.alpha_group_significance(\n",
    "#     alpha_diversity = action_results.evenness_vector,\n",
    "#     metadata = sample_metadata\n",
    "# ).visualization\n",
    "\n",
    "# # faith_pd viz\n",
    "# diversity.visualizers.alpha_group_significance(\n",
    "#     alpha_diversity = action_results.faith_pd_vector,\n",
    "#     metadata = sample_metadata\n",
    "# ).visualization\n",
    "\n",
    "# # observed_features viz\n",
    "# visualizations['observed_features']\n",
    "\n",
    "# # chao1 viz\n",
    "# visualizations['chao1']\n",
    "\n",
    "# # shannon viz\n",
    "# visualizations['shannon']"
   ]
  },
  {
   "cell_type": "markdown",
   "metadata": {},
   "source": [
    "### BETA DIVERSITY"
   ]
  },
  {
   "cell_type": "code",
   "execution_count": 26,
   "metadata": {},
   "outputs": [],
   "source": [
    "# make a subset, filter out dolenjska linija P05A\n",
    "denoisetable_subset_population = q2.plugins.feature_table.methods.filter_samples(\n",
    "    table = denoisetable_ba,\n",
    "    metadata = sample_metadata,\n",
    "    where = \"[population] IN ('Linija reke Ljubljanice', 'Črna podvrsta')\"\n",
    ")"
   ]
  },
  {
   "cell_type": "code",
   "execution_count": 27,
   "metadata": {},
   "outputs": [],
   "source": [
    "# make a subset, filter out P07A (2017), P11A (2018), P22A (2020); leave 2015, 2016, 2019\n",
    "denoisetable_subset_year = q2.plugins.feature_table.methods.filter_samples(\n",
    "    table = denoisetable_ba,\n",
    "    metadata = sample_metadata,\n",
    "    where = \"[year] IN ('2015', '2016', '2019')\"\n",
    ")"
   ]
  },
  {
   "cell_type": "code",
   "execution_count": 28,
   "metadata": {},
   "outputs": [
    {
     "name": "stderr",
     "output_type": "stream",
     "text": [
      "/opt/miniconda3/envs/qiime2-2022.2/lib/python3.8/site-packages/sklearn/metrics/pairwise.py:1776: DataConversionWarning: Data was converted to boolean for metric jaccard\n",
      "/opt/miniconda3/envs/qiime2-2022.2/lib/python3.8/site-packages/skbio/stats/ordination/_principal_coordinate_analysis.py:143: RuntimeWarning: The result contains negative eigenvalues. Please compare their magnitude with the magnitude of some of the largest positive eigenvalues. If the negative ones are smaller, it's probably safe to ignore them, but if they are large in magnitude, the results won't be useful. See the Notes section for more details. The smallest eigenvalue is -0.0005730340705253102 and the largest is 1.3174658016739451.\n"
     ]
    },
    {
     "name": "stdout",
     "output_type": "stream",
     "text": [
      "Running external command line application. This may print messages to stdout and/or stderr.\n",
      "The command being run is below. This command cannot be manually re-run as it will depend on temporary files that no longer exist.\n",
      "\n",
      "Command:\n",
      "\n",
      "faithpd -i /tmp/qiime2-archive-2qz8tklj/3b2692d6-a023-41da-be63-a24023159cb4/data/feature-table.biom -t /tmp/qiime2-archive-mjk0hom7/faf05c05-c486-4bd3-91c8-95df252c4071/data/tree.nwk -o /tmp/q2-AlphaDiversityFormat-4h0p0e6c\n",
      "\n",
      "Running external command line application. This may print messages to stdout and/or stderr.\n",
      "The command being run is below. This command cannot be manually re-run as it will depend on temporary files that no longer exist.\n",
      "\n",
      "Command:\n",
      "\n",
      "ssu -i /tmp/qiime2-archive-2qz8tklj/3b2692d6-a023-41da-be63-a24023159cb4/data/feature-table.biom -t /tmp/qiime2-archive-mjk0hom7/faf05c05-c486-4bd3-91c8-95df252c4071/data/tree.nwk -m unweighted -o /tmp/q2-LSMatFormat-4yv1rpe1\n",
      "\n",
      "Running external command line application. This may print messages to stdout and/or stderr.\n",
      "The command being run is below. This command cannot be manually re-run as it will depend on temporary files that no longer exist.\n",
      "\n",
      "Command:\n",
      "\n",
      "ssu -i /tmp/qiime2-archive-2qz8tklj/3b2692d6-a023-41da-be63-a24023159cb4/data/feature-table.biom -t /tmp/qiime2-archive-mjk0hom7/faf05c05-c486-4bd3-91c8-95df252c4071/data/tree.nwk -m weighted_unnormalized -o /tmp/q2-LSMatFormat-rjx0a8fq\n",
      "\n"
     ]
    },
    {
     "name": "stderr",
     "output_type": "stream",
     "text": [
      "/opt/miniconda3/envs/qiime2-2022.2/lib/python3.8/site-packages/skbio/stats/ordination/_principal_coordinate_analysis.py:143: RuntimeWarning: The result contains negative eigenvalues. Please compare their magnitude with the magnitude of some of the largest positive eigenvalues. If the negative ones are smaller, it's probably safe to ignore them, but if they are large in magnitude, the results won't be useful. See the Notes section for more details. The smallest eigenvalue is -0.001880728995911453 and the largest is 0.15258349192860404.\n"
     ]
    }
   ],
   "source": [
    "# determine depth/s from alpha_rarefaction\n",
    "# determine conditions from metadata column names\n",
    "depth = 27291\n",
    "condition = 'population'\n",
    "\n",
    "core_metrics_results_subset_population = diversity.actions.core_metrics_phylogenetic(\n",
    "    phylogeny = rooted_tree,\n",
    "    table = denoisetable_subset_population.filtered_table,\n",
    "    sampling_depth = depth,\n",
    "    metadata = sample_metadata\n",
    ")"
   ]
  },
  {
   "cell_type": "code",
   "execution_count": 29,
   "metadata": {},
   "outputs": [
    {
     "name": "stderr",
     "output_type": "stream",
     "text": [
      "/opt/miniconda3/envs/qiime2-2022.2/lib/python3.8/site-packages/sklearn/metrics/pairwise.py:1776: DataConversionWarning: Data was converted to boolean for metric jaccard\n",
      "/opt/miniconda3/envs/qiime2-2022.2/lib/python3.8/site-packages/skbio/stats/ordination/_principal_coordinate_analysis.py:143: RuntimeWarning: The result contains negative eigenvalues. Please compare their magnitude with the magnitude of some of the largest positive eigenvalues. If the negative ones are smaller, it's probably safe to ignore them, but if they are large in magnitude, the results won't be useful. See the Notes section for more details. The smallest eigenvalue is -0.0002766148211990032 and the largest is 0.835091600129807.\n"
     ]
    },
    {
     "name": "stdout",
     "output_type": "stream",
     "text": [
      "Running external command line application. This may print messages to stdout and/or stderr.\n",
      "The command being run is below. This command cannot be manually re-run as it will depend on temporary files that no longer exist.\n",
      "\n",
      "Command:\n",
      "\n",
      "faithpd -i /tmp/qiime2-archive-_a3r10wt/10129330-e500-4d94-a9a8-dcf84cfba866/data/feature-table.biom -t /tmp/qiime2-archive-mjk0hom7/faf05c05-c486-4bd3-91c8-95df252c4071/data/tree.nwk -o /tmp/q2-AlphaDiversityFormat-copqageb\n",
      "\n",
      "Running external command line application. This may print messages to stdout and/or stderr.\n",
      "The command being run is below. This command cannot be manually re-run as it will depend on temporary files that no longer exist.\n",
      "\n",
      "Command:\n",
      "\n",
      "ssu -i /tmp/qiime2-archive-_a3r10wt/10129330-e500-4d94-a9a8-dcf84cfba866/data/feature-table.biom -t /tmp/qiime2-archive-mjk0hom7/faf05c05-c486-4bd3-91c8-95df252c4071/data/tree.nwk -m unweighted -o /tmp/q2-LSMatFormat-upe0o6ql\n",
      "\n",
      "Running external command line application. This may print messages to stdout and/or stderr.\n",
      "The command being run is below. This command cannot be manually re-run as it will depend on temporary files that no longer exist.\n",
      "\n",
      "Command:\n",
      "\n",
      "ssu -i /tmp/qiime2-archive-_a3r10wt/10129330-e500-4d94-a9a8-dcf84cfba866/data/feature-table.biom -t /tmp/qiime2-archive-mjk0hom7/faf05c05-c486-4bd3-91c8-95df252c4071/data/tree.nwk -m weighted_unnormalized -o /tmp/q2-LSMatFormat-bz5h4bqy\n",
      "\n"
     ]
    },
    {
     "name": "stderr",
     "output_type": "stream",
     "text": [
      "/opt/miniconda3/envs/qiime2-2022.2/lib/python3.8/site-packages/skbio/stats/ordination/_principal_coordinate_analysis.py:143: RuntimeWarning: The result contains negative eigenvalues. Please compare their magnitude with the magnitude of some of the largest positive eigenvalues. If the negative ones are smaller, it's probably safe to ignore them, but if they are large in magnitude, the results won't be useful. See the Notes section for more details. The smallest eigenvalue is -0.0005945984515048183 and the largest is 0.10184383056746887.\n"
     ]
    }
   ],
   "source": [
    "depth = 27291\n",
    "condition = 'year'\n",
    "\n",
    "core_metrics_results_subset_year = diversity.actions.core_metrics_phylogenetic(\n",
    "    phylogeny = rooted_tree,\n",
    "    table = denoisetable_subset_year.filtered_table,\n",
    "    sampling_depth = depth,\n",
    "    metadata = sample_metadata\n",
    ")"
   ]
  },
  {
   "cell_type": "markdown",
   "metadata": {},
   "source": [
    "#### PERMANOVA"
   ]
  },
  {
   "cell_type": "code",
   "execution_count": 30,
   "metadata": {},
   "outputs": [
    {
     "data": {
      "text/html": [
       "<div><img onload=\"(function(div, url){\n",
       "if (typeof require !== 'undefined') {\n",
       "    var baseURL = require.toUrl('').split('/').slice(0, -2).join('/');\n",
       "} else {\n",
       "    var baseURL = JSON.parse(\n",
       "        document.getElementById('jupyter-config-data').innerHTML\n",
       "    ).baseUrl.slice(0, -1);\n",
       "}\n",
       "url = baseURL + url;\n",
       "fetch(url).then(function(res) {\n",
       "    if (res.status === 404) {\n",
       "        div.innerHTML = 'Install QIIME 2 Jupyter extension with:<br />' +\n",
       "                        '<code>jupyter serverextension enable --py qiime2' +\n",
       "                        ' --sys-prefix</code><br />then restart your server.' +\n",
       "                        '<br /><br />(Interactive output not available on ' +\n",
       "                        'static notebook viewer services like nbviewer.)';\n",
       "    } else if (res.status === 409) {\n",
       "        div.innerHTML = 'Visualization no longer in scope. Re-run this cell' +\n",
       "                        ' to see the visualization.';\n",
       "    } else if (res.ok) {\n",
       "        url = res.url;\n",
       "        div.innerHTML = '<iframe src=\\'' + url + '\\' style=\\'' +\n",
       "                        'width: 100%; height: 700px; border: 0;\\'>' +\n",
       "                        '</iframe><hr />Open in a: <a href=\\'' + url + '\\'' +\n",
       "                        ' target=\\'_blank\\'>new window</a>'\n",
       "    } else {\n",
       "        div.innerHTML = 'Something has gone wrong. Check notebook server for' +\n",
       "                        ' errors.';\n",
       "    }\n",
       "});\n",
       "})(this.parentElement, '/qiime2/redirect?location=/tmp/qiime2-archive-gppfmhs4')\" src=\"data:image/gif;base64,R0lGODlhAQABAIAAAP///wAAACH5BAEAAAAALAAAAAABAAEAAAICRAEAOw==\" /></div>"
      ],
      "text/plain": [
       "<visualization: Visualization uuid: 13b7611f-0255-4244-bbe2-9dc1b84bd7dd>"
      ]
     },
     "execution_count": 30,
     "metadata": {},
     "output_type": "execute_result"
    },
    {
     "data": {
      "text/plain": [
       "<Figure size 432x288 with 0 Axes>"
      ]
     },
     "metadata": {},
     "output_type": "display_data"
    }
   ],
   "source": [
    "from qiime2.plugins.diversity.visualizers import beta_group_significance\n",
    "\n",
    "permanova_population = beta_group_significance(\n",
    "    distance_matrix = core_metrics_results_subset_population.unweighted_unifrac_distance_matrix,\n",
    "    metadata = sample_metadata.get_column('population'),\n",
    "    method = \"permanova\",\n",
    "    pairwise = True\n",
    ")\n",
    "permanova_population.visualization\n",
    "# statistično značilno skupine enake - potrjena nulta hpoteza"
   ]
  },
  {
   "cell_type": "code",
   "execution_count": 31,
   "metadata": {},
   "outputs": [
    {
     "data": {
      "text/html": [
       "<div><img onload=\"(function(div, url){\n",
       "if (typeof require !== 'undefined') {\n",
       "    var baseURL = require.toUrl('').split('/').slice(0, -2).join('/');\n",
       "} else {\n",
       "    var baseURL = JSON.parse(\n",
       "        document.getElementById('jupyter-config-data').innerHTML\n",
       "    ).baseUrl.slice(0, -1);\n",
       "}\n",
       "url = baseURL + url;\n",
       "fetch(url).then(function(res) {\n",
       "    if (res.status === 404) {\n",
       "        div.innerHTML = 'Install QIIME 2 Jupyter extension with:<br />' +\n",
       "                        '<code>jupyter serverextension enable --py qiime2' +\n",
       "                        ' --sys-prefix</code><br />then restart your server.' +\n",
       "                        '<br /><br />(Interactive output not available on ' +\n",
       "                        'static notebook viewer services like nbviewer.)';\n",
       "    } else if (res.status === 409) {\n",
       "        div.innerHTML = 'Visualization no longer in scope. Re-run this cell' +\n",
       "                        ' to see the visualization.';\n",
       "    } else if (res.ok) {\n",
       "        url = res.url;\n",
       "        div.innerHTML = '<iframe src=\\'' + url + '\\' style=\\'' +\n",
       "                        'width: 100%; height: 700px; border: 0;\\'>' +\n",
       "                        '</iframe><hr />Open in a: <a href=\\'' + url + '\\'' +\n",
       "                        ' target=\\'_blank\\'>new window</a>'\n",
       "    } else {\n",
       "        div.innerHTML = 'Something has gone wrong. Check notebook server for' +\n",
       "                        ' errors.';\n",
       "    }\n",
       "});\n",
       "})(this.parentElement, '/qiime2/redirect?location=/tmp/qiime2-archive-_47xs3sf')\" src=\"data:image/gif;base64,R0lGODlhAQABAIAAAP///wAAACH5BAEAAAAALAAAAAABAAEAAAICRAEAOw==\" /></div>"
      ],
      "text/plain": [
       "<visualization: Visualization uuid: dca6e060-2f31-493b-b3d3-a641f4d2a970>"
      ]
     },
     "execution_count": 31,
     "metadata": {},
     "output_type": "execute_result"
    },
    {
     "data": {
      "text/plain": [
       "<Figure size 432x288 with 0 Axes>"
      ]
     },
     "metadata": {},
     "output_type": "display_data"
    }
   ],
   "source": [
    "# PERMANOVA year\n",
    "from qiime2.plugins.diversity.visualizers import beta_group_significance\n",
    "\n",
    "permanova_year = beta_group_significance(\n",
    "    distance_matrix = core_metrics_results_subset_year.unweighted_unifrac_distance_matrix,\n",
    "    metadata = sample_metadata.get_column('year'),\n",
    "    method = \"permanova\",\n",
    "    pairwise = True\n",
    ")\n",
    "permanova_year.visualization\n",
    "\n",
    "# ne moremo trdit da so si med leti enake"
   ]
  },
  {
   "cell_type": "markdown",
   "metadata": {},
   "source": [
    "#### PERMANOVA ADONIS\n",
    "\n",
    "Thefunction partitions sums of squares of a multivariate data set, and is\n",
    "directly analogous to MANOVA (multivariate analysis of variance). This\n",
    "action differs from beta_group_significance in that it accepts R formulae\n",
    "to perform multi-way ADONIS tests; beta_group_signficance only performs\n",
    "one-way tests."
   ]
  },
  {
   "cell_type": "code",
   "execution_count": 32,
   "metadata": {},
   "outputs": [
    {
     "name": "stdout",
     "output_type": "stream",
     "text": [
      "Running external command line application. This may print messages to stdout and/or stderr.\n",
      "The command being run is below. This command cannot be manually re-run as it will depend on temporary files that no longer exist.\n",
      "\n",
      "Command: run_adonis.R /tmp/tmp5rq5a1a0/dm.tsv /tmp/tmp5rq5a1a0/md.tsv population+year 999 1 /tmp/qiime2-temp-xfx8o95d/adonis.tsv\n",
      "\n",
      "R version 4.1.3 (2022-03-10) \n"
     ]
    },
    {
     "name": "stderr",
     "output_type": "stream",
     "text": [
      "Loading required package: permute\n",
      "Loading required package: lattice\n",
      "This is vegan 2.6-2\n",
      "'adonis' will be deprecated: use 'adonis2' instead\n"
     ]
    },
    {
     "data": {
      "text/html": [
       "<div><img onload=\"(function(div, url){\n",
       "if (typeof require !== 'undefined') {\n",
       "    var baseURL = require.toUrl('').split('/').slice(0, -2).join('/');\n",
       "} else {\n",
       "    var baseURL = JSON.parse(\n",
       "        document.getElementById('jupyter-config-data').innerHTML\n",
       "    ).baseUrl.slice(0, -1);\n",
       "}\n",
       "url = baseURL + url;\n",
       "fetch(url).then(function(res) {\n",
       "    if (res.status === 404) {\n",
       "        div.innerHTML = 'Install QIIME 2 Jupyter extension with:<br />' +\n",
       "                        '<code>jupyter serverextension enable --py qiime2' +\n",
       "                        ' --sys-prefix</code><br />then restart your server.' +\n",
       "                        '<br /><br />(Interactive output not available on ' +\n",
       "                        'static notebook viewer services like nbviewer.)';\n",
       "    } else if (res.status === 409) {\n",
       "        div.innerHTML = 'Visualization no longer in scope. Re-run this cell' +\n",
       "                        ' to see the visualization.';\n",
       "    } else if (res.ok) {\n",
       "        url = res.url;\n",
       "        div.innerHTML = '<iframe src=\\'' + url + '\\' style=\\'' +\n",
       "                        'width: 100%; height: 700px; border: 0;\\'>' +\n",
       "                        '</iframe><hr />Open in a: <a href=\\'' + url + '\\'' +\n",
       "                        ' target=\\'_blank\\'>new window</a>'\n",
       "    } else {\n",
       "        div.innerHTML = 'Something has gone wrong. Check notebook server for' +\n",
       "                        ' errors.';\n",
       "    }\n",
       "});\n",
       "})(this.parentElement, '/qiime2/redirect?location=/tmp/qiime2-archive-5gcgouoq')\" src=\"data:image/gif;base64,R0lGODlhAQABAIAAAP///wAAACH5BAEAAAAALAAAAAABAAEAAAICRAEAOw==\" /></div>"
      ],
      "text/plain": [
       "<visualization: Visualization uuid: 3b703f1c-e37d-4d3f-a95e-3c3a7de656be>"
      ]
     },
     "execution_count": 32,
     "metadata": {},
     "output_type": "execute_result"
    }
   ],
   "source": [
    "adonis = q2.plugins.diversity.visualizers.adonis(\n",
    "    distance_matrix = action_results.unweighted_unifrac_distance_matrix,\n",
    "    metadata = sample_metadata,\n",
    "    formula =  \"population+year\"\n",
    ")\n",
    "\n",
    "adonis.visualization"
   ]
  },
  {
   "cell_type": "code",
   "execution_count": 33,
   "metadata": {},
   "outputs": [
    {
     "name": "stdout",
     "output_type": "stream",
     "text": [
      "Running external command line application. This may print messages to stdout and/or stderr.\n",
      "The command being run is below. This command cannot be manually re-run as it will depend on temporary files that no longer exist.\n",
      "\n",
      "Command: run_adonis.R /tmp/tmplr0n4b2i/dm.tsv /tmp/tmplr0n4b2i/md.tsv year+population 999 1 /tmp/qiime2-temp-k46zfl07/adonis.tsv\n",
      "\n",
      "R version 4.1.3 (2022-03-10) \n"
     ]
    },
    {
     "name": "stderr",
     "output_type": "stream",
     "text": [
      "Loading required package: permute\n",
      "Loading required package: lattice\n",
      "This is vegan 2.6-2\n",
      "'adonis' will be deprecated: use 'adonis2' instead\n"
     ]
    },
    {
     "data": {
      "text/html": [
       "<div><img onload=\"(function(div, url){\n",
       "if (typeof require !== 'undefined') {\n",
       "    var baseURL = require.toUrl('').split('/').slice(0, -2).join('/');\n",
       "} else {\n",
       "    var baseURL = JSON.parse(\n",
       "        document.getElementById('jupyter-config-data').innerHTML\n",
       "    ).baseUrl.slice(0, -1);\n",
       "}\n",
       "url = baseURL + url;\n",
       "fetch(url).then(function(res) {\n",
       "    if (res.status === 404) {\n",
       "        div.innerHTML = 'Install QIIME 2 Jupyter extension with:<br />' +\n",
       "                        '<code>jupyter serverextension enable --py qiime2' +\n",
       "                        ' --sys-prefix</code><br />then restart your server.' +\n",
       "                        '<br /><br />(Interactive output not available on ' +\n",
       "                        'static notebook viewer services like nbviewer.)';\n",
       "    } else if (res.status === 409) {\n",
       "        div.innerHTML = 'Visualization no longer in scope. Re-run this cell' +\n",
       "                        ' to see the visualization.';\n",
       "    } else if (res.ok) {\n",
       "        url = res.url;\n",
       "        div.innerHTML = '<iframe src=\\'' + url + '\\' style=\\'' +\n",
       "                        'width: 100%; height: 700px; border: 0;\\'>' +\n",
       "                        '</iframe><hr />Open in a: <a href=\\'' + url + '\\'' +\n",
       "                        ' target=\\'_blank\\'>new window</a>'\n",
       "    } else {\n",
       "        div.innerHTML = 'Something has gone wrong. Check notebook server for' +\n",
       "                        ' errors.';\n",
       "    }\n",
       "});\n",
       "})(this.parentElement, '/qiime2/redirect?location=/tmp/qiime2-archive-1m8v9led')\" src=\"data:image/gif;base64,R0lGODlhAQABAIAAAP///wAAACH5BAEAAAAALAAAAAABAAEAAAICRAEAOw==\" /></div>"
      ],
      "text/plain": [
       "<visualization: Visualization uuid: b8b489f6-3b09-46f0-ab8e-efea89a59139>"
      ]
     },
     "execution_count": 33,
     "metadata": {},
     "output_type": "execute_result"
    }
   ],
   "source": [
    "adonis2 = q2.plugins.diversity.visualizers.adonis(\n",
    "    distance_matrix = action_results.unweighted_unifrac_distance_matrix,\n",
    "    metadata = sample_metadata,\n",
    "    formula =  \"year+population\"\n",
    ")\n",
    "\n",
    "adonis2.visualization"
   ]
  },
  {
   "cell_type": "code",
   "execution_count": 34,
   "metadata": {},
   "outputs": [
    {
     "name": "stdout",
     "output_type": "stream",
     "text": [
      "Running external command line application. This may print messages to stdout and/or stderr.\n",
      "The command being run is below. This command cannot be manually re-run as it will depend on temporary files that no longer exist.\n",
      "\n",
      "Command: run_adonis.R /tmp/tmp1mfu68ek/dm.tsv /tmp/tmp1mfu68ek/md.tsv population*year 999 1 /tmp/qiime2-temp-t_jwyoo9/adonis.tsv\n",
      "\n",
      "R version 4.1.3 (2022-03-10) \n"
     ]
    },
    {
     "name": "stderr",
     "output_type": "stream",
     "text": [
      "Loading required package: permute\n",
      "Loading required package: lattice\n",
      "This is vegan 2.6-2\n",
      "'adonis' will be deprecated: use 'adonis2' instead\n"
     ]
    },
    {
     "data": {
      "text/html": [
       "<div><img onload=\"(function(div, url){\n",
       "if (typeof require !== 'undefined') {\n",
       "    var baseURL = require.toUrl('').split('/').slice(0, -2).join('/');\n",
       "} else {\n",
       "    var baseURL = JSON.parse(\n",
       "        document.getElementById('jupyter-config-data').innerHTML\n",
       "    ).baseUrl.slice(0, -1);\n",
       "}\n",
       "url = baseURL + url;\n",
       "fetch(url).then(function(res) {\n",
       "    if (res.status === 404) {\n",
       "        div.innerHTML = 'Install QIIME 2 Jupyter extension with:<br />' +\n",
       "                        '<code>jupyter serverextension enable --py qiime2' +\n",
       "                        ' --sys-prefix</code><br />then restart your server.' +\n",
       "                        '<br /><br />(Interactive output not available on ' +\n",
       "                        'static notebook viewer services like nbviewer.)';\n",
       "    } else if (res.status === 409) {\n",
       "        div.innerHTML = 'Visualization no longer in scope. Re-run this cell' +\n",
       "                        ' to see the visualization.';\n",
       "    } else if (res.ok) {\n",
       "        url = res.url;\n",
       "        div.innerHTML = '<iframe src=\\'' + url + '\\' style=\\'' +\n",
       "                        'width: 100%; height: 700px; border: 0;\\'>' +\n",
       "                        '</iframe><hr />Open in a: <a href=\\'' + url + '\\'' +\n",
       "                        ' target=\\'_blank\\'>new window</a>'\n",
       "    } else {\n",
       "        div.innerHTML = 'Something has gone wrong. Check notebook server for' +\n",
       "                        ' errors.';\n",
       "    }\n",
       "});\n",
       "})(this.parentElement, '/qiime2/redirect?location=/tmp/qiime2-archive-tu_hytuf')\" src=\"data:image/gif;base64,R0lGODlhAQABAIAAAP///wAAACH5BAEAAAAALAAAAAABAAEAAAICRAEAOw==\" /></div>"
      ],
      "text/plain": [
       "<visualization: Visualization uuid: 8953f70e-a337-4363-b3e7-7893b82c60e0>"
      ]
     },
     "execution_count": 34,
     "metadata": {},
     "output_type": "execute_result"
    }
   ],
   "source": [
    "adonis = q2.plugins.diversity.visualizers.adonis(\n",
    "    distance_matrix = action_results.unweighted_unifrac_distance_matrix,\n",
    "    metadata = sample_metadata,\n",
    "    formula =  \"population*year\"\n",
    ")\n",
    "\n",
    "adonis.visualization"
   ]
  },
  {
   "cell_type": "code",
   "execution_count": 35,
   "metadata": {},
   "outputs": [
    {
     "name": "stdout",
     "output_type": "stream",
     "text": [
      "Running external command line application. This may print messages to stdout and/or stderr.\n",
      "The command being run is below. This command cannot be manually re-run as it will depend on temporary files that no longer exist.\n",
      "\n",
      "Command: run_adonis.R /tmp/tmpinfigc6y/dm.tsv /tmp/tmpinfigc6y/md.tsv year*population 999 1 /tmp/qiime2-temp-8s11gqmy/adonis.tsv\n",
      "\n",
      "R version 4.1.3 (2022-03-10) \n"
     ]
    },
    {
     "name": "stderr",
     "output_type": "stream",
     "text": [
      "Loading required package: permute\n",
      "Loading required package: lattice\n",
      "This is vegan 2.6-2\n",
      "'adonis' will be deprecated: use 'adonis2' instead\n"
     ]
    },
    {
     "data": {
      "text/html": [
       "<div><img onload=\"(function(div, url){\n",
       "if (typeof require !== 'undefined') {\n",
       "    var baseURL = require.toUrl('').split('/').slice(0, -2).join('/');\n",
       "} else {\n",
       "    var baseURL = JSON.parse(\n",
       "        document.getElementById('jupyter-config-data').innerHTML\n",
       "    ).baseUrl.slice(0, -1);\n",
       "}\n",
       "url = baseURL + url;\n",
       "fetch(url).then(function(res) {\n",
       "    if (res.status === 404) {\n",
       "        div.innerHTML = 'Install QIIME 2 Jupyter extension with:<br />' +\n",
       "                        '<code>jupyter serverextension enable --py qiime2' +\n",
       "                        ' --sys-prefix</code><br />then restart your server.' +\n",
       "                        '<br /><br />(Interactive output not available on ' +\n",
       "                        'static notebook viewer services like nbviewer.)';\n",
       "    } else if (res.status === 409) {\n",
       "        div.innerHTML = 'Visualization no longer in scope. Re-run this cell' +\n",
       "                        ' to see the visualization.';\n",
       "    } else if (res.ok) {\n",
       "        url = res.url;\n",
       "        div.innerHTML = '<iframe src=\\'' + url + '\\' style=\\'' +\n",
       "                        'width: 100%; height: 700px; border: 0;\\'>' +\n",
       "                        '</iframe><hr />Open in a: <a href=\\'' + url + '\\'' +\n",
       "                        ' target=\\'_blank\\'>new window</a>'\n",
       "    } else {\n",
       "        div.innerHTML = 'Something has gone wrong. Check notebook server for' +\n",
       "                        ' errors.';\n",
       "    }\n",
       "});\n",
       "})(this.parentElement, '/qiime2/redirect?location=/tmp/qiime2-archive-7qcikly1')\" src=\"data:image/gif;base64,R0lGODlhAQABAIAAAP///wAAACH5BAEAAAAALAAAAAABAAEAAAICRAEAOw==\" /></div>"
      ],
      "text/plain": [
       "<visualization: Visualization uuid: 44b752e0-c541-4db1-830c-fcaed036e765>"
      ]
     },
     "execution_count": 35,
     "metadata": {},
     "output_type": "execute_result"
    }
   ],
   "source": [
    "adonis = q2.plugins.diversity.visualizers.adonis(\n",
    "    distance_matrix = action_results.unweighted_unifrac_distance_matrix,\n",
    "    metadata = sample_metadata,\n",
    "    formula =  \"year*population\"\n",
    ")\n",
    "\n",
    "adonis.visualization"
   ]
  },
  {
   "cell_type": "markdown",
   "metadata": {},
   "source": [
    "#### ANOSIM"
   ]
  },
  {
   "cell_type": "code",
   "execution_count": 36,
   "metadata": {},
   "outputs": [
    {
     "data": {
      "text/html": [
       "<div><img onload=\"(function(div, url){\n",
       "if (typeof require !== 'undefined') {\n",
       "    var baseURL = require.toUrl('').split('/').slice(0, -2).join('/');\n",
       "} else {\n",
       "    var baseURL = JSON.parse(\n",
       "        document.getElementById('jupyter-config-data').innerHTML\n",
       "    ).baseUrl.slice(0, -1);\n",
       "}\n",
       "url = baseURL + url;\n",
       "fetch(url).then(function(res) {\n",
       "    if (res.status === 404) {\n",
       "        div.innerHTML = 'Install QIIME 2 Jupyter extension with:<br />' +\n",
       "                        '<code>jupyter serverextension enable --py qiime2' +\n",
       "                        ' --sys-prefix</code><br />then restart your server.' +\n",
       "                        '<br /><br />(Interactive output not available on ' +\n",
       "                        'static notebook viewer services like nbviewer.)';\n",
       "    } else if (res.status === 409) {\n",
       "        div.innerHTML = 'Visualization no longer in scope. Re-run this cell' +\n",
       "                        ' to see the visualization.';\n",
       "    } else if (res.ok) {\n",
       "        url = res.url;\n",
       "        div.innerHTML = '<iframe src=\\'' + url + '\\' style=\\'' +\n",
       "                        'width: 100%; height: 700px; border: 0;\\'>' +\n",
       "                        '</iframe><hr />Open in a: <a href=\\'' + url + '\\'' +\n",
       "                        ' target=\\'_blank\\'>new window</a>'\n",
       "    } else {\n",
       "        div.innerHTML = 'Something has gone wrong. Check notebook server for' +\n",
       "                        ' errors.';\n",
       "    }\n",
       "});\n",
       "})(this.parentElement, '/qiime2/redirect?location=/tmp/qiime2-archive-dafvc5ap')\" src=\"data:image/gif;base64,R0lGODlhAQABAIAAAP///wAAACH5BAEAAAAALAAAAAABAAEAAAICRAEAOw==\" /></div>"
      ],
      "text/plain": [
       "<visualization: Visualization uuid: afc791fc-1071-4775-8cdf-36f724cb92d0>"
      ]
     },
     "execution_count": 36,
     "metadata": {},
     "output_type": "execute_result"
    },
    {
     "data": {
      "text/plain": [
       "<Figure size 432x288 with 0 Axes>"
      ]
     },
     "metadata": {},
     "output_type": "display_data"
    }
   ],
   "source": [
    "anosim_population = beta_group_significance(\n",
    "    distance_matrix = core_metrics_results_subset_population.unweighted_unifrac_distance_matrix,\n",
    "    metadata = sample_metadata.get_column('population'),\n",
    "    method = \"anosim\",\n",
    "    pairwise = True\n",
    ")\n",
    "anosim_population.visualization"
   ]
  },
  {
   "cell_type": "code",
   "execution_count": 37,
   "metadata": {},
   "outputs": [
    {
     "data": {
      "text/html": [
       "<div><img onload=\"(function(div, url){\n",
       "if (typeof require !== 'undefined') {\n",
       "    var baseURL = require.toUrl('').split('/').slice(0, -2).join('/');\n",
       "} else {\n",
       "    var baseURL = JSON.parse(\n",
       "        document.getElementById('jupyter-config-data').innerHTML\n",
       "    ).baseUrl.slice(0, -1);\n",
       "}\n",
       "url = baseURL + url;\n",
       "fetch(url).then(function(res) {\n",
       "    if (res.status === 404) {\n",
       "        div.innerHTML = 'Install QIIME 2 Jupyter extension with:<br />' +\n",
       "                        '<code>jupyter serverextension enable --py qiime2' +\n",
       "                        ' --sys-prefix</code><br />then restart your server.' +\n",
       "                        '<br /><br />(Interactive output not available on ' +\n",
       "                        'static notebook viewer services like nbviewer.)';\n",
       "    } else if (res.status === 409) {\n",
       "        div.innerHTML = 'Visualization no longer in scope. Re-run this cell' +\n",
       "                        ' to see the visualization.';\n",
       "    } else if (res.ok) {\n",
       "        url = res.url;\n",
       "        div.innerHTML = '<iframe src=\\'' + url + '\\' style=\\'' +\n",
       "                        'width: 100%; height: 700px; border: 0;\\'>' +\n",
       "                        '</iframe><hr />Open in a: <a href=\\'' + url + '\\'' +\n",
       "                        ' target=\\'_blank\\'>new window</a>'\n",
       "    } else {\n",
       "        div.innerHTML = 'Something has gone wrong. Check notebook server for' +\n",
       "                        ' errors.';\n",
       "    }\n",
       "});\n",
       "})(this.parentElement, '/qiime2/redirect?location=/tmp/qiime2-archive-uguhaz12')\" src=\"data:image/gif;base64,R0lGODlhAQABAIAAAP///wAAACH5BAEAAAAALAAAAAABAAEAAAICRAEAOw==\" /></div>"
      ],
      "text/plain": [
       "<visualization: Visualization uuid: e88ef79c-d819-47d1-a075-69d3b8cfe155>"
      ]
     },
     "execution_count": 37,
     "metadata": {},
     "output_type": "execute_result"
    },
    {
     "data": {
      "text/plain": [
       "<Figure size 432x288 with 0 Axes>"
      ]
     },
     "metadata": {},
     "output_type": "display_data"
    }
   ],
   "source": [
    "# anosim year\n",
    "\n",
    "anosim_year = beta_group_significance(\n",
    "    distance_matrix = core_metrics_results_subset_year.unweighted_unifrac_distance_matrix,\n",
    "    metadata = sample_metadata.get_column('year'),\n",
    "    method = \"anosim\",\n",
    "    pairwise = True\n",
    ")\n",
    "anosim_year.visualization"
   ]
  },
  {
   "cell_type": "code",
   "execution_count": null,
   "metadata": {},
   "outputs": [],
   "source": []
  }
 ],
 "metadata": {
  "interpreter": {
   "hash": "9cfc1ea77cca5050ec46e353aa698c92876315d524268f42327e9c97aacfbb5a"
  },
  "kernelspec": {
   "display_name": "Python 3 (ipykernel)",
   "language": "python",
   "name": "python3"
  },
  "language_info": {
   "codemirror_mode": {
    "name": "ipython",
    "version": 3
   },
   "file_extension": ".py",
   "mimetype": "text/x-python",
   "name": "python",
   "nbconvert_exporter": "python",
   "pygments_lexer": "ipython3",
   "version": "3.8.13"
  }
 },
 "nbformat": 4,
 "nbformat_minor": 4
}
