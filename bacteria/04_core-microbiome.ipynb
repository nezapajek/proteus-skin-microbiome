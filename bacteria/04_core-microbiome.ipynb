{
 "cells": [
  {
   "cell_type": "markdown",
   "id": "02405c5a",
   "metadata": {},
   "source": [
    "# BACTERIA"
   ]
  },
  {
   "cell_type": "code",
   "execution_count": 5,
   "id": "0cca8787",
   "metadata": {},
   "outputs": [
    {
     "name": "stdout",
     "output_type": "stream",
     "text": [
      "The autoreload extension is already loaded. To reload it, use:\n",
      "  %reload_ext autoreload\n"
     ]
    }
   ],
   "source": [
    "%load_ext autoreload\n",
    "%autoreload 2\n",
    "%reload_ext autoreload\n",
    "%matplotlib inline"
   ]
  },
  {
   "cell_type": "code",
   "execution_count": 6,
   "id": "09be6c2a",
   "metadata": {},
   "outputs": [],
   "source": [
    "#import packages\n",
    "import os\n",
    "import qiime2 as q2\n",
    "import pandas as pd\n",
    "from qiime2.plugins import feature_table\n",
    "from qiime2.plugins.taxa.methods import collapse\n",
    "from qiime2.plugins.feature_table.visualizers import core_features"
   ]
  },
  {
   "cell_type": "code",
   "execution_count": 7,
   "id": "a0e23849",
   "metadata": {},
   "outputs": [
    {
     "name": "stdout",
     "output_type": "stream",
     "text": [
      "env: WORKDIR=/home/nezapa/qiime-thesis\n"
     ]
    }
   ],
   "source": [
    "# define workdir\n",
    "%env WORKDIR /home/nezapa/qiime-thesis\n",
    "WORKDIR = os.environ.get(\"WORKDIR\")"
   ]
  },
  {
   "cell_type": "code",
   "execution_count": 8,
   "id": "247dc8d2",
   "metadata": {},
   "outputs": [],
   "source": [
    "# import data\n",
    "denoisetable_ba = q2.Artifact.load('./results/denoisetable_ba.qza')\n",
    "rep_seqs_ba = q2.Artifact.load('./results/rep_seqs_ba.qza')\n",
    "denoising_stats = q2.Artifact.load('./results/denoising_stats.qza')\n",
    "sample_metadata = q2.Metadata.load('../00.sample-metadata.tsv')\n",
    "taxonomy = q2.Artifact.load('./results/taxonomy_sklearn.qza')"
   ]
  },
  {
   "cell_type": "markdown",
   "id": "46bdf0a0",
   "metadata": {},
   "source": [
    "### CORE MICROBIOME"
   ]
  },
  {
   "cell_type": "code",
   "execution_count": 9,
   "id": "9e752bb9",
   "metadata": {},
   "outputs": [
    {
     "data": {
      "image/png": "[encoded data removed]",
      "text/plain": [
       "<Figure size 432x288 with 1 Axes>"
      ]
     },
     "metadata": {
      "needs_background": "light"
     },
     "output_type": "display_data"
    }
   ],
   "source": [
    "core_microbiome_asv = feature_table.actions.core_features(\n",
    "    table = denoisetable_ba,\n",
    "    min_fraction = 0.5,\n",
    "    steps = 6\n",
    ")"
   ]
  },
  {
   "cell_type": "code",
   "execution_count": 10,
   "id": "2365ad98",
   "metadata": {},
   "outputs": [],
   "source": [
    "taxtable ={}\n",
    "\n",
    "for level in range(2,8):\n",
    "    result = collapse(\n",
    "        table = denoisetable_ba,\n",
    "        taxonomy = taxonomy,\n",
    "        level = level\n",
    "    )\n",
    "    taxtable[level] = result.collapsed_table"
   ]
  },
  {
   "cell_type": "code",
   "execution_count": 11,
   "id": "8180fea7",
   "metadata": {},
   "outputs": [
    {
     "data": {
      "text/html": [
       "<div>\n",
       "<style scoped>\n",
       "    .dataframe tbody tr th:only-of-type {\n",
       "        vertical-align: middle;\n",
       "    }\n",
       "\n",
       "    .dataframe tbody tr th {\n",
       "        vertical-align: top;\n",
       "    }\n",
       "\n",
       "    .dataframe thead th {\n",
       "        text-align: right;\n",
       "    }\n",
       "</style>\n",
       "<table border=\"1\" class=\"dataframe\">\n",
       "  <thead>\n",
       "    <tr style=\"text-align: right;\">\n",
       "      <th></th>\n",
       "      <th>P01A</th>\n",
       "      <th>P03A</th>\n",
       "      <th>P05A</th>\n",
       "      <th>P07A</th>\n",
       "      <th>P09A</th>\n",
       "      <th>P11A</th>\n",
       "      <th>P13A</th>\n",
       "      <th>P15A</th>\n",
       "      <th>P17A</th>\n",
       "      <th>P19A</th>\n",
       "      <th>P20A</th>\n",
       "      <th>P21A</th>\n",
       "      <th>P22A</th>\n",
       "    </tr>\n",
       "  </thead>\n",
       "  <tbody>\n",
       "    <tr>\n",
       "      <th>d__Bacteria;__;__;__;__</th>\n",
       "      <td>367.0</td>\n",
       "      <td>323.0</td>\n",
       "      <td>303.0</td>\n",
       "      <td>244.0</td>\n",
       "      <td>85.0</td>\n",
       "      <td>298.0</td>\n",
       "      <td>169.0</td>\n",
       "      <td>118.0</td>\n",
       "      <td>809.0</td>\n",
       "      <td>317.0</td>\n",
       "      <td>712.0</td>\n",
       "      <td>295.0</td>\n",
       "      <td>212.0</td>\n",
       "    </tr>\n",
       "    <tr>\n",
       "      <th>d__Bacteria;p__Proteobacteria;c__Gammaproteobacteria;o__Burkholderiales;f__Nitrosomonadaceae</th>\n",
       "      <td>0.0</td>\n",
       "      <td>0.0</td>\n",
       "      <td>0.0</td>\n",
       "      <td>0.0</td>\n",
       "      <td>0.0</td>\n",
       "      <td>0.0</td>\n",
       "      <td>0.0</td>\n",
       "      <td>0.0</td>\n",
       "      <td>0.0</td>\n",
       "      <td>0.0</td>\n",
       "      <td>0.0</td>\n",
       "      <td>0.0</td>\n",
       "      <td>1526.0</td>\n",
       "    </tr>\n",
       "    <tr>\n",
       "      <th>d__Bacteria;p__Firmicutes;c__Clostridia;o__Oscillospirales;f__Ruminococcaceae</th>\n",
       "      <td>0.0</td>\n",
       "      <td>0.0</td>\n",
       "      <td>0.0</td>\n",
       "      <td>4.0</td>\n",
       "      <td>0.0</td>\n",
       "      <td>0.0</td>\n",
       "      <td>0.0</td>\n",
       "      <td>1.0</td>\n",
       "      <td>281.0</td>\n",
       "      <td>7.0</td>\n",
       "      <td>87.0</td>\n",
       "      <td>45.0</td>\n",
       "      <td>4.0</td>\n",
       "    </tr>\n",
       "    <tr>\n",
       "      <th>d__Bacteria;p__Proteobacteria;c__Gammaproteobacteria;o__Burkholderiales;f__Chitinibacteraceae</th>\n",
       "      <td>0.0</td>\n",
       "      <td>367.0</td>\n",
       "      <td>0.0</td>\n",
       "      <td>0.0</td>\n",
       "      <td>0.0</td>\n",
       "      <td>0.0</td>\n",
       "      <td>0.0</td>\n",
       "      <td>0.0</td>\n",
       "      <td>0.0</td>\n",
       "      <td>0.0</td>\n",
       "      <td>0.0</td>\n",
       "      <td>0.0</td>\n",
       "      <td>0.0</td>\n",
       "    </tr>\n",
       "    <tr>\n",
       "      <th>d__Bacteria;p__Firmicutes;c__Clostridia;o__Lachnospirales;f__Lachnospiraceae</th>\n",
       "      <td>1.0</td>\n",
       "      <td>0.0</td>\n",
       "      <td>0.0</td>\n",
       "      <td>0.0</td>\n",
       "      <td>0.0</td>\n",
       "      <td>0.0</td>\n",
       "      <td>0.0</td>\n",
       "      <td>0.0</td>\n",
       "      <td>608.0</td>\n",
       "      <td>19.0</td>\n",
       "      <td>196.0</td>\n",
       "      <td>98.0</td>\n",
       "      <td>5.0</td>\n",
       "    </tr>\n",
       "    <tr>\n",
       "      <th>...</th>\n",
       "      <td>...</td>\n",
       "      <td>...</td>\n",
       "      <td>...</td>\n",
       "      <td>...</td>\n",
       "      <td>...</td>\n",
       "      <td>...</td>\n",
       "      <td>...</td>\n",
       "      <td>...</td>\n",
       "      <td>...</td>\n",
       "      <td>...</td>\n",
       "      <td>...</td>\n",
       "      <td>...</td>\n",
       "      <td>...</td>\n",
       "    </tr>\n",
       "    <tr>\n",
       "      <th>d__Bacteria;p__Desulfobacterota;c__Desulfobacteria;o__Desulfobacterales;f__Desulfosarcinaceae</th>\n",
       "      <td>0.0</td>\n",
       "      <td>0.0</td>\n",
       "      <td>0.0</td>\n",
       "      <td>0.0</td>\n",
       "      <td>0.0</td>\n",
       "      <td>0.0</td>\n",
       "      <td>0.0</td>\n",
       "      <td>0.0</td>\n",
       "      <td>0.0</td>\n",
       "      <td>0.0</td>\n",
       "      <td>0.0</td>\n",
       "      <td>0.0</td>\n",
       "      <td>263.0</td>\n",
       "    </tr>\n",
       "    <tr>\n",
       "      <th>d__Bacteria;p__Verrucomicrobiota;c__Verrucomicrobiae;o__Verrucomicrobiales;f__Akkermansiaceae</th>\n",
       "      <td>0.0</td>\n",
       "      <td>0.0</td>\n",
       "      <td>0.0</td>\n",
       "      <td>0.0</td>\n",
       "      <td>0.0</td>\n",
       "      <td>0.0</td>\n",
       "      <td>0.0</td>\n",
       "      <td>0.0</td>\n",
       "      <td>119.0</td>\n",
       "      <td>4.0</td>\n",
       "      <td>35.0</td>\n",
       "      <td>22.0</td>\n",
       "      <td>0.0</td>\n",
       "    </tr>\n",
       "    <tr>\n",
       "      <th>d__Bacteria;p__Bacteroidota;c__Bacteroidia;o__Bacteroidales;f__Rikenellaceae</th>\n",
       "      <td>0.0</td>\n",
       "      <td>0.0</td>\n",
       "      <td>0.0</td>\n",
       "      <td>0.0</td>\n",
       "      <td>0.0</td>\n",
       "      <td>0.0</td>\n",
       "      <td>0.0</td>\n",
       "      <td>0.0</td>\n",
       "      <td>33.0</td>\n",
       "      <td>0.0</td>\n",
       "      <td>7.0</td>\n",
       "      <td>3.0</td>\n",
       "      <td>0.0</td>\n",
       "    </tr>\n",
       "    <tr>\n",
       "      <th>d__Bacteria;p__Proteobacteria;c__Gammaproteobacteria;__;__</th>\n",
       "      <td>0.0</td>\n",
       "      <td>37.0</td>\n",
       "      <td>0.0</td>\n",
       "      <td>0.0</td>\n",
       "      <td>0.0</td>\n",
       "      <td>0.0</td>\n",
       "      <td>0.0</td>\n",
       "      <td>0.0</td>\n",
       "      <td>0.0</td>\n",
       "      <td>0.0</td>\n",
       "      <td>0.0</td>\n",
       "      <td>0.0</td>\n",
       "      <td>0.0</td>\n",
       "    </tr>\n",
       "    <tr>\n",
       "      <th>d__Bacteria;p__Proteobacteria;c__Alphaproteobacteria;o__Rickettsiales;f__Rickettsiaceae</th>\n",
       "      <td>0.0</td>\n",
       "      <td>31.0</td>\n",
       "      <td>0.0</td>\n",
       "      <td>0.0</td>\n",
       "      <td>0.0</td>\n",
       "      <td>0.0</td>\n",
       "      <td>0.0</td>\n",
       "      <td>0.0</td>\n",
       "      <td>0.0</td>\n",
       "      <td>0.0</td>\n",
       "      <td>0.0</td>\n",
       "      <td>0.0</td>\n",
       "      <td>0.0</td>\n",
       "    </tr>\n",
       "  </tbody>\n",
       "</table>\n",
       "<p>109 rows × 13 columns</p>\n",
       "</div>"
      ],
      "text/plain": [
       "                                                     P01A   P03A   P05A  \\\n",
       "d__Bacteria;__;__;__;__                             367.0  323.0  303.0   \n",
       "d__Bacteria;p__Proteobacteria;c__Gammaproteobac...    0.0    0.0    0.0   \n",
       "d__Bacteria;p__Firmicutes;c__Clostridia;o__Osci...    0.0    0.0    0.0   \n",
       "d__Bacteria;p__Proteobacteria;c__Gammaproteobac...    0.0  367.0    0.0   \n",
       "d__Bacteria;p__Firmicutes;c__Clostridia;o__Lach...    1.0    0.0    0.0   \n",
       "...                                                   ...    ...    ...   \n",
       "d__Bacteria;p__Desulfobacterota;c__Desulfobacte...    0.0    0.0    0.0   \n",
       "d__Bacteria;p__Verrucomicrobiota;c__Verrucomicr...    0.0    0.0    0.0   \n",
       "d__Bacteria;p__Bacteroidota;c__Bacteroidia;o__B...    0.0    0.0    0.0   \n",
       "d__Bacteria;p__Proteobacteria;c__Gammaproteobac...    0.0   37.0    0.0   \n",
       "d__Bacteria;p__Proteobacteria;c__Alphaproteobac...    0.0   31.0    0.0   \n",
       "\n",
       "                                                     P07A  P09A   P11A   P13A  \\\n",
       "d__Bacteria;__;__;__;__                             244.0  85.0  298.0  169.0   \n",
       "d__Bacteria;p__Proteobacteria;c__Gammaproteobac...    0.0   0.0    0.0    0.0   \n",
       "d__Bacteria;p__Firmicutes;c__Clostridia;o__Osci...    4.0   0.0    0.0    0.0   \n",
       "d__Bacteria;p__Proteobacteria;c__Gammaproteobac...    0.0   0.0    0.0    0.0   \n",
       "d__Bacteria;p__Firmicutes;c__Clostridia;o__Lach...    0.0   0.0    0.0    0.0   \n",
       "...                                                   ...   ...    ...    ...   \n",
       "d__Bacteria;p__Desulfobacterota;c__Desulfobacte...    0.0   0.0    0.0    0.0   \n",
       "d__Bacteria;p__Verrucomicrobiota;c__Verrucomicr...    0.0   0.0    0.0    0.0   \n",
       "d__Bacteria;p__Bacteroidota;c__Bacteroidia;o__B...    0.0   0.0    0.0    0.0   \n",
       "d__Bacteria;p__Proteobacteria;c__Gammaproteobac...    0.0   0.0    0.0    0.0   \n",
       "d__Bacteria;p__Proteobacteria;c__Alphaproteobac...    0.0   0.0    0.0    0.0   \n",
       "\n",
       "                                                     P15A   P17A   P19A  \\\n",
       "d__Bacteria;__;__;__;__                             118.0  809.0  317.0   \n",
       "d__Bacteria;p__Proteobacteria;c__Gammaproteobac...    0.0    0.0    0.0   \n",
       "d__Bacteria;p__Firmicutes;c__Clostridia;o__Osci...    1.0  281.0    7.0   \n",
       "d__Bacteria;p__Proteobacteria;c__Gammaproteobac...    0.0    0.0    0.0   \n",
       "d__Bacteria;p__Firmicutes;c__Clostridia;o__Lach...    0.0  608.0   19.0   \n",
       "...                                                   ...    ...    ...   \n",
       "d__Bacteria;p__Desulfobacterota;c__Desulfobacte...    0.0    0.0    0.0   \n",
       "d__Bacteria;p__Verrucomicrobiota;c__Verrucomicr...    0.0  119.0    4.0   \n",
       "d__Bacteria;p__Bacteroidota;c__Bacteroidia;o__B...    0.0   33.0    0.0   \n",
       "d__Bacteria;p__Proteobacteria;c__Gammaproteobac...    0.0    0.0    0.0   \n",
       "d__Bacteria;p__Proteobacteria;c__Alphaproteobac...    0.0    0.0    0.0   \n",
       "\n",
       "                                                     P20A   P21A    P22A  \n",
       "d__Bacteria;__;__;__;__                             712.0  295.0   212.0  \n",
       "d__Bacteria;p__Proteobacteria;c__Gammaproteobac...    0.0    0.0  1526.0  \n",
       "d__Bacteria;p__Firmicutes;c__Clostridia;o__Osci...   87.0   45.0     4.0  \n",
       "d__Bacteria;p__Proteobacteria;c__Gammaproteobac...    0.0    0.0     0.0  \n",
       "d__Bacteria;p__Firmicutes;c__Clostridia;o__Lach...  196.0   98.0     5.0  \n",
       "...                                                   ...    ...     ...  \n",
       "d__Bacteria;p__Desulfobacterota;c__Desulfobacte...    0.0    0.0   263.0  \n",
       "d__Bacteria;p__Verrucomicrobiota;c__Verrucomicr...   35.0   22.0     0.0  \n",
       "d__Bacteria;p__Bacteroidota;c__Bacteroidia;o__B...    7.0    3.0     0.0  \n",
       "d__Bacteria;p__Proteobacteria;c__Gammaproteobac...    0.0    0.0     0.0  \n",
       "d__Bacteria;p__Proteobacteria;c__Alphaproteobac...    0.0    0.0     0.0  \n",
       "\n",
       "[109 rows x 13 columns]"
      ]
     },
     "execution_count": 11,
     "metadata": {},
     "output_type": "execute_result"
    }
   ],
   "source": [
    "taxtable[5].view(pd.DataFrame).T"
   ]
  },
  {
   "cell_type": "code",
   "execution_count": 12,
   "id": "43687590",
   "metadata": {
    "scrolled": false
   },
   "outputs": [
    {
     "data": {
      "image/png": "[encoded data removed]",
      "text/plain": [
       "<Figure size 432x288 with 1 Axes>"
      ]
     },
     "metadata": {
      "needs_background": "light"
     },
     "output_type": "display_data"
    }
   ],
   "source": [
    "core_microbiome ={}\n",
    "\n",
    "for level in range(2,8):\n",
    "    result = core_features(\n",
    "        table = taxtable[level],\n",
    "        min_fraction = 0.5,\n",
    "        steps = 6       \n",
    "    )\n",
    "    core_microbiome[level] = result.visualization"
   ]
  }
 ],
 "metadata": {
  "kernelspec": {
   "display_name": "Python 3 (ipykernel)",
   "language": "python",
   "name": "python3"
  },
  "language_info": {
   "codemirror_mode": {
    "name": "ipython",
    "version": 3
   },
   "file_extension": ".py",
   "mimetype": "text/x-python",
   "name": "python",
   "nbconvert_exporter": "python",
   "pygments_lexer": "ipython3",
   "version": "3.8.13"
  }
 },
 "nbformat": 4,
 "nbformat_minor": 5
}
