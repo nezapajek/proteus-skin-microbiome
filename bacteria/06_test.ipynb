{
 "cells": [
  {
   "cell_type": "code",
   "execution_count": 20,
   "id": "b1a872d0",
   "metadata": {},
   "outputs": [],
   "source": [
    "# import packages\n",
    "\n",
    "import qiime2 as q2\n",
    "# import pandas as pd\n",
    "# from qiime2.plugins import feature_classifier\n",
    "from qiime2.plugins import feature_table\n",
    "# from qiime2.plugins.taxa.visualizers import barplot\n",
    "# from qiime2.plugins.taxa.methods import filter_table\n",
    "# from qiime2.plugins.taxa.methods import filter_seqs\n",
    "# from qiime2.plugins.metadata.visualizers import tabulate"
   ]
  },
  {
   "cell_type": "code",
   "execution_count": 21,
   "id": "c6637195",
   "metadata": {},
   "outputs": [],
   "source": [
    "silva_138_99_seqs = q2.Artifact.load('../taxonomy_training/silva-138-99-seqs.qza')\n",
    "silva_138_99_taxonomy = q2.Artifact.load('../taxonomy_training/silva-138-99-tax.qza')"
   ]
  },
  {
   "cell_type": "code",
   "execution_count": 22,
   "id": "c1a915d1",
   "metadata": {},
   "outputs": [],
   "source": [
    "## opens gui\n",
    "# feature_table.visualizers.tabulate_seqs(silva_138_99_seqs).visualization"
   ]
  },
  {
   "cell_type": "code",
   "execution_count": 23,
   "id": "b8b95d82",
   "metadata": {},
   "outputs": [],
   "source": [
    "seqs = silva_138_99_seqs.view(q2.Metadata).to_dataframe()"
   ]
  },
  {
   "cell_type": "code",
   "execution_count": 24,
   "id": "1d6c396c",
   "metadata": {},
   "outputs": [],
   "source": [
    "taxonomy = silva_138_99_taxonomy.view(q2.Metadata).to_dataframe()"
   ]
  },
  {
   "cell_type": "code",
   "execution_count": 25,
   "id": "75340722",
   "metadata": {},
   "outputs": [
    {
     "data": {
      "text/html": [
       "<div>\n",
       "<style scoped>\n",
       "    .dataframe tbody tr th:only-of-type {\n",
       "        vertical-align: middle;\n",
       "    }\n",
       "\n",
       "    .dataframe tbody tr th {\n",
       "        vertical-align: top;\n",
       "    }\n",
       "\n",
       "    .dataframe thead th {\n",
       "        text-align: right;\n",
       "    }\n",
       "</style>\n",
       "<table border=\"1\" class=\"dataframe\">\n",
       "  <thead>\n",
       "    <tr style=\"text-align: right;\">\n",
       "      <th></th>\n",
       "      <th>Sequence</th>\n",
       "    </tr>\n",
       "    <tr>\n",
       "      <th>Feature ID</th>\n",
       "      <th></th>\n",
       "    </tr>\n",
       "  </thead>\n",
       "  <tbody>\n",
       "    <tr>\n",
       "      <th>CP013078.2406498.2408039</th>\n",
       "      <td>AGAGATTGAACTGAAGAGTTTGATCCTGGCTCAGATTGAACGCTGG...</td>\n",
       "    </tr>\n",
       "    <tr>\n",
       "      <th>CP015924.1224168.1225721</th>\n",
       "      <td>TTAAATTGAAGAGTTTGATCATGGCTCAGATTGAACGCTGGCGGCA...</td>\n",
       "    </tr>\n",
       "    <tr>\n",
       "      <th>CP003278.287486.289015</th>\n",
       "      <td>AGAGTTTGATCATGGCTCAGATTGAACGCTGGCGGCAGGCCTAACA...</td>\n",
       "    </tr>\n",
       "    <tr>\n",
       "      <th>LS483321.16842.18378</th>\n",
       "      <td>AGAGTTTGATCCTGGCTCAGGACGAACGCTGGCGGCGTGCCTAATA...</td>\n",
       "    </tr>\n",
       "    <tr>\n",
       "      <th>CP012870.431955.433510</th>\n",
       "      <td>TTAAATTGAAGAGTTTGATCATGGCTCAGATTGAACGCTGGCGGCA...</td>\n",
       "    </tr>\n",
       "    <tr>\n",
       "      <th>...</th>\n",
       "      <td>...</td>\n",
       "    </tr>\n",
       "    <tr>\n",
       "      <th>X90756.1.1769</th>\n",
       "      <td>CTGGTTGATCCTGCCAGTAGTCATATGCTTGTCTCAAAGATTAAGC...</td>\n",
       "    </tr>\n",
       "    <tr>\n",
       "      <th>X97777.1.1771</th>\n",
       "      <td>CTGGTTGATCCTGCCAGTAGTCATATGCTTGTCTCAAAGATTAAGC...</td>\n",
       "    </tr>\n",
       "    <tr>\n",
       "      <th>ABCY02000001.445842.447355</th>\n",
       "      <td>GTTTGATCCTGGCTTAGAACTAACGCTGGCAGTGCGTCTTAAGCAT...</td>\n",
       "    </tr>\n",
       "    <tr>\n",
       "      <th>Y10757.1.1502</th>\n",
       "      <td>AGTGAACGCTGGCGGCAGGCCTAACACATGCAAGTCGAACGGCAGC...</td>\n",
       "    </tr>\n",
       "    <tr>\n",
       "      <th>Z76660.1.1493</th>\n",
       "      <td>ATTGAACGCTGGCGGCAGGCCTAACACATGCAAGTCGAGCGGCAGC...</td>\n",
       "    </tr>\n",
       "  </tbody>\n",
       "</table>\n",
       "<p>436680 rows × 1 columns</p>\n",
       "</div>"
      ],
      "text/plain": [
       "                                                                     Sequence\n",
       "Feature ID                                                                   \n",
       "CP013078.2406498.2408039    AGAGATTGAACTGAAGAGTTTGATCCTGGCTCAGATTGAACGCTGG...\n",
       "CP015924.1224168.1225721    TTAAATTGAAGAGTTTGATCATGGCTCAGATTGAACGCTGGCGGCA...\n",
       "CP003278.287486.289015      AGAGTTTGATCATGGCTCAGATTGAACGCTGGCGGCAGGCCTAACA...\n",
       "LS483321.16842.18378        AGAGTTTGATCCTGGCTCAGGACGAACGCTGGCGGCGTGCCTAATA...\n",
       "CP012870.431955.433510      TTAAATTGAAGAGTTTGATCATGGCTCAGATTGAACGCTGGCGGCA...\n",
       "...                                                                       ...\n",
       "X90756.1.1769               CTGGTTGATCCTGCCAGTAGTCATATGCTTGTCTCAAAGATTAAGC...\n",
       "X97777.1.1771               CTGGTTGATCCTGCCAGTAGTCATATGCTTGTCTCAAAGATTAAGC...\n",
       "ABCY02000001.445842.447355  GTTTGATCCTGGCTTAGAACTAACGCTGGCAGTGCGTCTTAAGCAT...\n",
       "Y10757.1.1502               AGTGAACGCTGGCGGCAGGCCTAACACATGCAAGTCGAACGGCAGC...\n",
       "Z76660.1.1493               ATTGAACGCTGGCGGCAGGCCTAACACATGCAAGTCGAGCGGCAGC...\n",
       "\n",
       "[436680 rows x 1 columns]"
      ]
     },
     "execution_count": 25,
     "metadata": {},
     "output_type": "execute_result"
    }
   ],
   "source": [
    "seqs"
   ]
  },
  {
   "cell_type": "code",
   "execution_count": 26,
   "id": "6d5d77a0",
   "metadata": {},
   "outputs": [
    {
     "name": "stdout",
     "output_type": "stream",
     "text": [
      "(4, 4)\n"
     ]
    }
   ],
   "source": [
    "from sklearn.feature_extraction.text import HashingVectorizer\n",
    "corpus = [\n",
    "    'This is the first document.',\n",
    "    'This document is the second document.',\n",
    "    'And this is the third one.',\n",
    "    'Is this the first document?',\n",
    "]\n",
    "vectorizer = HashingVectorizer(n_features=2**2, norm=None)\n",
    "X = vectorizer.fit_transform(corpus)\n",
    "print(X.shape)"
   ]
  },
  {
   "cell_type": "code",
   "execution_count": 27,
   "id": "2541873d",
   "metadata": {},
   "outputs": [
    {
     "data": {
      "text/plain": [
       "array([[-2.,  1.,  0.,  0.],\n",
       "       [-2.,  1.,  0.,  1.],\n",
       "       [-1.,  1.,  0.,  0.],\n",
       "       [-2.,  1.,  0.,  0.]])"
      ]
     },
     "execution_count": 27,
     "metadata": {},
     "output_type": "execute_result"
    }
   ],
   "source": [
    "import numpy as np\n",
    "X.toarray()"
   ]
  },
  {
   "cell_type": "code",
   "execution_count": 28,
   "id": "949f8168",
   "metadata": {},
   "outputs": [
    {
     "data": {
      "text/html": [
       "<div>\n",
       "<style scoped>\n",
       "    .dataframe tbody tr th:only-of-type {\n",
       "        vertical-align: middle;\n",
       "    }\n",
       "\n",
       "    .dataframe tbody tr th {\n",
       "        vertical-align: top;\n",
       "    }\n",
       "\n",
       "    .dataframe thead th {\n",
       "        text-align: right;\n",
       "    }\n",
       "</style>\n",
       "<table border=\"1\" class=\"dataframe\">\n",
       "  <thead>\n",
       "    <tr style=\"text-align: right;\">\n",
       "      <th></th>\n",
       "      <th>Taxon</th>\n",
       "    </tr>\n",
       "    <tr>\n",
       "      <th>Feature ID</th>\n",
       "      <th></th>\n",
       "    </tr>\n",
       "  </thead>\n",
       "  <tbody>\n",
       "    <tr>\n",
       "      <th>CP013078.2406498.2408039</th>\n",
       "      <td>d__Bacteria; p__Proteobacteria; c__Gammaproteo...</td>\n",
       "    </tr>\n",
       "    <tr>\n",
       "      <th>CP015924.1224168.1225721</th>\n",
       "      <td>d__Bacteria; p__Proteobacteria; c__Gammaproteo...</td>\n",
       "    </tr>\n",
       "    <tr>\n",
       "      <th>CP003278.287486.289015</th>\n",
       "      <td>d__Bacteria; p__Proteobacteria; c__Gammaproteo...</td>\n",
       "    </tr>\n",
       "    <tr>\n",
       "      <th>LS483321.16842.18378</th>\n",
       "      <td>d__Bacteria; p__Firmicutes; c__Bacilli; o__Lac...</td>\n",
       "    </tr>\n",
       "    <tr>\n",
       "      <th>CP012870.431955.433510</th>\n",
       "      <td>d__Bacteria; p__Proteobacteria; c__Gammaproteo...</td>\n",
       "    </tr>\n",
       "    <tr>\n",
       "      <th>...</th>\n",
       "      <td>...</td>\n",
       "    </tr>\n",
       "    <tr>\n",
       "      <th>X90756.1.1769</th>\n",
       "      <td>d__Eukaryota; p__Ascomycota; c__Saccharomycete...</td>\n",
       "    </tr>\n",
       "    <tr>\n",
       "      <th>X97777.1.1771</th>\n",
       "      <td>d__Eukaryota; p__Ascomycota; c__Saccharomycete...</td>\n",
       "    </tr>\n",
       "    <tr>\n",
       "      <th>ABCY02000001.445842.447355</th>\n",
       "      <td>d__Bacteria; p__Spirochaetota; c__Spirochaetia...</td>\n",
       "    </tr>\n",
       "    <tr>\n",
       "      <th>Y10757.1.1502</th>\n",
       "      <td>d__Bacteria; p__Proteobacteria; c__Gammaproteo...</td>\n",
       "    </tr>\n",
       "    <tr>\n",
       "      <th>Z76660.1.1493</th>\n",
       "      <td>d__Bacteria; p__Proteobacteria; c__Gammaproteo...</td>\n",
       "    </tr>\n",
       "  </tbody>\n",
       "</table>\n",
       "<p>436680 rows × 1 columns</p>\n",
       "</div>"
      ],
      "text/plain": [
       "                                                                        Taxon\n",
       "Feature ID                                                                   \n",
       "CP013078.2406498.2408039    d__Bacteria; p__Proteobacteria; c__Gammaproteo...\n",
       "CP015924.1224168.1225721    d__Bacteria; p__Proteobacteria; c__Gammaproteo...\n",
       "CP003278.287486.289015      d__Bacteria; p__Proteobacteria; c__Gammaproteo...\n",
       "LS483321.16842.18378        d__Bacteria; p__Firmicutes; c__Bacilli; o__Lac...\n",
       "CP012870.431955.433510      d__Bacteria; p__Proteobacteria; c__Gammaproteo...\n",
       "...                                                                       ...\n",
       "X90756.1.1769               d__Eukaryota; p__Ascomycota; c__Saccharomycete...\n",
       "X97777.1.1771               d__Eukaryota; p__Ascomycota; c__Saccharomycete...\n",
       "ABCY02000001.445842.447355  d__Bacteria; p__Spirochaetota; c__Spirochaetia...\n",
       "Y10757.1.1502               d__Bacteria; p__Proteobacteria; c__Gammaproteo...\n",
       "Z76660.1.1493               d__Bacteria; p__Proteobacteria; c__Gammaproteo...\n",
       "\n",
       "[436680 rows x 1 columns]"
      ]
     },
     "execution_count": 28,
     "metadata": {},
     "output_type": "execute_result"
    }
   ],
   "source": [
    "taxonomy"
   ]
  },
  {
   "cell_type": "code",
   "execution_count": 37,
   "id": "3f006ba9",
   "metadata": {},
   "outputs": [],
   "source": [
    "from qiime2.plugins.feature_classifier.methods import fit_classifier_naive_bayes\n",
    "from qiime2.plugins.feature_classifier.methods import extract_reads"
   ]
  },
  {
   "cell_type": "code",
   "execution_count": 92,
   "id": "3d0ed9d6",
   "metadata": {},
   "outputs": [],
   "source": [
    "# extract the relevant part of the sequences - BACTERIA\n",
    "ref_seqs_341F_802R= extract_reads(\n",
    "    sequences= silva_138_99_seqs,\n",
    "    f_primer='CCTACGGGNGGCWGCAG',\n",
    "    r_primer='GACTACHVGGGTATCTAATCC',\n",
    "    n_jobs=6\n",
    ")"
   ]
  },
  {
   "cell_type": "code",
   "execution_count": 95,
   "id": "da58987e",
   "metadata": {},
   "outputs": [
    {
     "data": {
      "text/plain": [
       "'./ref_seqs_341F_802R.qza'"
      ]
     },
     "execution_count": 95,
     "metadata": {},
     "output_type": "execute_result"
    }
   ],
   "source": [
    "ref_seqs_341F_802R.reads.save('./ref_seqs_341F_802R.qza')"
   ]
  },
  {
   "cell_type": "code",
   "execution_count": 30,
   "id": "9a7e646d",
   "metadata": {},
   "outputs": [],
   "source": [
    "seq = q2.Artifact.load('../bacteria/ref_seqs_341F_802R.qza')"
   ]
  },
  {
   "cell_type": "code",
   "execution_count": 42,
   "id": "e2c1f52f",
   "metadata": {},
   "outputs": [
    {
     "ename": "NameError",
     "evalue": "name 'pd' is not defined",
     "output_type": "error",
     "traceback": [
      "\u001b[0;31m---------------------------------------------------------------------------\u001b[0m",
      "\u001b[0;31mNameError\u001b[0m                                 Traceback (most recent call last)",
      "Input \u001b[0;32mIn [42]\u001b[0m, in \u001b[0;36m<cell line: 2>\u001b[0;34m()\u001b[0m\n\u001b[1;32m      1\u001b[0m df \u001b[38;5;241m=\u001b[39m seq\u001b[38;5;241m.\u001b[39mview(q2\u001b[38;5;241m.\u001b[39mMetadata)\u001b[38;5;241m.\u001b[39mto_dataframe()\n\u001b[0;32m----> 2\u001b[0m df \u001b[38;5;241m=\u001b[39m \u001b[43mpd\u001b[49m\u001b[38;5;241m.\u001b[39mDataFrame(df)\n\u001b[1;32m      3\u001b[0m df\n",
      "\u001b[0;31mNameError\u001b[0m: name 'pd' is not defined"
     ]
    }
   ],
   "source": [
    "df = seq.view(q2.Metadata).to_dataframe()\n",
    "df = pd.DataFrame(df)\n",
    "df"
   ]
  },
  {
   "cell_type": "code",
   "execution_count": 41,
   "id": "12bd4785",
   "metadata": {},
   "outputs": [
    {
     "ename": "AttributeError",
     "evalue": "'Artifact' object has no attribute 'reads'",
     "output_type": "error",
     "traceback": [
      "\u001b[0;31m---------------------------------------------------------------------------\u001b[0m",
      "\u001b[0;31mAttributeError\u001b[0m                            Traceback (most recent call last)",
      "Input \u001b[0;32mIn [41]\u001b[0m, in \u001b[0;36m<cell line: 1>\u001b[0;34m()\u001b[0m\n\u001b[0;32m----> 1\u001b[0m \u001b[38;5;28mtype\u001b[39m(\u001b[43mseq\u001b[49m\u001b[38;5;241;43m.\u001b[39;49m\u001b[43mreads\u001b[49m)\n",
      "\u001b[0;31mAttributeError\u001b[0m: 'Artifact' object has no attribute 'reads'"
     ]
    }
   ],
   "source": [
    "type(seq.reads)"
   ]
  },
  {
   "cell_type": "code",
   "execution_count": 35,
   "id": "db28f8ab",
   "metadata": {},
   "outputs": [],
   "source": [
    "small = df.iloc[:100]"
   ]
  },
  {
   "cell_type": "code",
   "execution_count": 38,
   "id": "ad4c7535",
   "metadata": {},
   "outputs": [
    {
     "ename": "TypeError",
     "evalue": "Parameter 'reference_reads' received                                                                    Sequence\nFeature ID                                                                 \nCP013078.2406498.2408039  TGGGGAATTTTGGACAATGGGGGCAACCCTGATCCAGCCATCCCGC...\nCP015924.1224168.1225721  TGGGGAATATTGCACAATGGGCGCAAGCCTGATGCAGCCATGCCGC...\nCP003278.287486.289015    TGGGGAATATTGCACAATGGGCGCAAGCCTGATGCAGCCATGCCGC...\nLS483321.16842.18378      TAGGGAATCTTCGGCAATGGGGGCAACCCTGACCGAGCAACGCCGC...\nCP012870.431955.433510    TGGGGAATATTGCACAATGGGCGCAAGCCTGATGCAGCCATGCCGC...\n...                                                                     ...\nCP015244.3701152.3702707  TGGGGAATATTGCACAATGGGCGCAAGCCTGATGCAGCCATGCCGC...\nCP016935.4284451.4285999  TGGGGAATATTGCACAATGGGCGCAAGCCTGATGCAGCCATGCCGC...\nCP023265.323620.325129    TAGGGAATATTGCTCAATGGGGGAAACCCTGAAGCAGCAACGCCGC...\nCP026777.1537383.1538904  TGGGGAATATTGCACAATGGGCGCAAGCCTGATGCAGCCATGCCGC...\nCP006751.2210384.2211914  TGGGGAATATTGCACAATGGGCGCAAGCCTGATGCAGCCATGCCGC...\n\n[100 rows x 1 columns] as an argument, which is incompatible with parameter type: FeatureData[Sequence]",
     "output_type": "error",
     "traceback": [
      "\u001b[0;31m---------------------------------------------------------------------------\u001b[0m",
      "\u001b[0;31mTypeError\u001b[0m                                 Traceback (most recent call last)",
      "Input \u001b[0;32mIn [38]\u001b[0m, in \u001b[0;36m<cell line: 2>\u001b[0;34m()\u001b[0m\n\u001b[1;32m      1\u001b[0m \u001b[38;5;66;03m# Train the classifier\u001b[39;00m\n\u001b[0;32m----> 2\u001b[0m classifier_B_341F_802R \u001b[38;5;241m=\u001b[39m \u001b[43mfit_classifier_naive_bayes\u001b[49m\u001b[43m(\u001b[49m\n\u001b[1;32m      3\u001b[0m \u001b[43m    \u001b[49m\u001b[43mreference_reads\u001b[49m\u001b[43m \u001b[49m\u001b[38;5;241;43m=\u001b[39;49m\u001b[43m \u001b[49m\u001b[43msmall\u001b[49m\u001b[43m,\u001b[49m\n\u001b[1;32m      4\u001b[0m \u001b[43m    \u001b[49m\u001b[43mreference_taxonomy\u001b[49m\u001b[43m \u001b[49m\u001b[38;5;241;43m=\u001b[39;49m\u001b[43msilva_138_99_taxonomy\u001b[49m\n\u001b[1;32m      5\u001b[0m \u001b[43m)\u001b[49m\n",
      "File \u001b[0;32m<decorator-gen-329>:2\u001b[0m, in \u001b[0;36mfit_classifier_naive_bayes\u001b[0;34m(reference_reads, reference_taxonomy, class_weight, classify__alpha, classify__chunk_size, classify__class_prior, classify__fit_prior, feat_ext__alternate_sign, feat_ext__analyzer, feat_ext__binary, feat_ext__decode_error, feat_ext__encoding, feat_ext__input, feat_ext__lowercase, feat_ext__n_features, feat_ext__ngram_range, feat_ext__norm, feat_ext__preprocessor, feat_ext__stop_words, feat_ext__strip_accents, feat_ext__token_pattern, feat_ext__tokenizer, verbose)\u001b[0m\n",
      "File \u001b[0;32m~/miniconda3/envs/qiime2-2022.2/lib/python3.8/site-packages/qiime2/sdk/action.py:209\u001b[0m, in \u001b[0;36mAction._bind.<locals>.bound_callable\u001b[0;34m(*args, **kwargs)\u001b[0m\n\u001b[1;32m    206\u001b[0m user_input\u001b[38;5;241m.\u001b[39mupdate(kwargs)\n\u001b[1;32m    208\u001b[0m \u001b[38;5;66;03m# Type management\u001b[39;00m\n\u001b[0;32m--> 209\u001b[0m \u001b[38;5;28;43mself\u001b[39;49m\u001b[38;5;241;43m.\u001b[39;49m\u001b[43msignature\u001b[49m\u001b[38;5;241;43m.\u001b[39;49m\u001b[43mcheck_types\u001b[49m\u001b[43m(\u001b[49m\u001b[38;5;241;43m*\u001b[39;49m\u001b[38;5;241;43m*\u001b[39;49m\u001b[43muser_input\u001b[49m\u001b[43m)\u001b[49m\n\u001b[1;32m    210\u001b[0m output_types \u001b[38;5;241m=\u001b[39m \u001b[38;5;28mself\u001b[39m\u001b[38;5;241m.\u001b[39msignature\u001b[38;5;241m.\u001b[39msolve_output(\u001b[38;5;241m*\u001b[39m\u001b[38;5;241m*\u001b[39muser_input)\n\u001b[1;32m    211\u001b[0m callable_args \u001b[38;5;241m=\u001b[39m {}\n",
      "File \u001b[0;32m~/miniconda3/envs/qiime2-2022.2/lib/python3.8/site-packages/qiime2/core/type/signature.py:351\u001b[0m, in \u001b[0;36mPipelineSignature.check_types\u001b[0;34m(self, **kwargs)\u001b[0m\n\u001b[1;32m    345\u001b[0m     \u001b[38;5;28;01mraise\u001b[39;00m \u001b[38;5;167;01mTypeError\u001b[39;00m(\n\u001b[1;32m    346\u001b[0m         \u001b[38;5;124m\"\u001b[39m\u001b[38;5;124mParameter \u001b[39m\u001b[38;5;132;01m%r\u001b[39;00m\u001b[38;5;124m received Metadata as an \u001b[39m\u001b[38;5;124m\"\u001b[39m\n\u001b[1;32m    347\u001b[0m         \u001b[38;5;124m\"\u001b[39m\u001b[38;5;124margument, which is incompatible with parameter \u001b[39m\u001b[38;5;124m\"\u001b[39m\n\u001b[1;32m    348\u001b[0m         \u001b[38;5;124m\"\u001b[39m\u001b[38;5;124mtype: \u001b[39m\u001b[38;5;132;01m%r\u001b[39;00m\u001b[38;5;124m\"\u001b[39m \u001b[38;5;241m%\u001b[39m (name, spec\u001b[38;5;241m.\u001b[39mqiime_type))\n\u001b[1;32m    350\u001b[0m \u001b[38;5;28;01melse\u001b[39;00m:  \u001b[38;5;66;03m# handle primitive types\u001b[39;00m\n\u001b[0;32m--> 351\u001b[0m     \u001b[38;5;28;01mraise\u001b[39;00m \u001b[38;5;167;01mTypeError\u001b[39;00m(\n\u001b[1;32m    352\u001b[0m         \u001b[38;5;124m\"\u001b[39m\u001b[38;5;124mParameter \u001b[39m\u001b[38;5;132;01m%r\u001b[39;00m\u001b[38;5;124m received \u001b[39m\u001b[38;5;132;01m%r\u001b[39;00m\u001b[38;5;124m as an argument, which is \u001b[39m\u001b[38;5;124m\"\u001b[39m\n\u001b[1;32m    353\u001b[0m         \u001b[38;5;124m\"\u001b[39m\u001b[38;5;124mincompatible with parameter type: \u001b[39m\u001b[38;5;132;01m%r\u001b[39;00m\u001b[38;5;124m\"\u001b[39m\n\u001b[1;32m    354\u001b[0m         \u001b[38;5;241m%\u001b[39m (name, parameter, spec\u001b[38;5;241m.\u001b[39mqiime_type))\n",
      "\u001b[0;31mTypeError\u001b[0m: Parameter 'reference_reads' received                                                                    Sequence\nFeature ID                                                                 \nCP013078.2406498.2408039  TGGGGAATTTTGGACAATGGGGGCAACCCTGATCCAGCCATCCCGC...\nCP015924.1224168.1225721  TGGGGAATATTGCACAATGGGCGCAAGCCTGATGCAGCCATGCCGC...\nCP003278.287486.289015    TGGGGAATATTGCACAATGGGCGCAAGCCTGATGCAGCCATGCCGC...\nLS483321.16842.18378      TAGGGAATCTTCGGCAATGGGGGCAACCCTGACCGAGCAACGCCGC...\nCP012870.431955.433510    TGGGGAATATTGCACAATGGGCGCAAGCCTGATGCAGCCATGCCGC...\n...                                                                     ...\nCP015244.3701152.3702707  TGGGGAATATTGCACAATGGGCGCAAGCCTGATGCAGCCATGCCGC...\nCP016935.4284451.4285999  TGGGGAATATTGCACAATGGGCGCAAGCCTGATGCAGCCATGCCGC...\nCP023265.323620.325129    TAGGGAATATTGCTCAATGGGGGAAACCCTGAAGCAGCAACGCCGC...\nCP026777.1537383.1538904  TGGGGAATATTGCACAATGGGCGCAAGCCTGATGCAGCCATGCCGC...\nCP006751.2210384.2211914  TGGGGAATATTGCACAATGGGCGCAAGCCTGATGCAGCCATGCCGC...\n\n[100 rows x 1 columns] as an argument, which is incompatible with parameter type: FeatureData[Sequence]"
     ]
    }
   ],
   "source": [
    "# # Train the classifier\n",
    "# classifier_B_341F_802R = fit_classifier_naive_bayes(\n",
    "#     reference_reads = small,\n",
    "#     reference_taxonomy =silva_138_99_taxonomy\n",
    "# )"
   ]
  },
  {
   "cell_type": "code",
   "execution_count": null,
   "id": "b435346e",
   "metadata": {},
   "outputs": [],
   "source": [
    "# classifier_B_341F_802R.\n",
    "# reads.save('./classifier_B_341F_802R.qza')"
   ]
  },
  {
   "cell_type": "code",
   "execution_count": null,
   "id": "2d97a6ee",
   "metadata": {},
   "outputs": [],
   "source": []
  },
  {
   "cell_type": "code",
   "execution_count": null,
   "id": "5d260a61",
   "metadata": {},
   "outputs": [],
   "source": []
  },
  {
   "cell_type": "code",
   "execution_count": null,
   "id": "d09d54eb",
   "metadata": {},
   "outputs": [],
   "source": []
  },
  {
   "cell_type": "markdown",
   "id": "df2a5599",
   "metadata": {},
   "source": [
    "Import & view data"
   ]
  },
  {
   "cell_type": "code",
   "execution_count": 48,
   "id": "48720277",
   "metadata": {},
   "outputs": [],
   "source": [
    "# # import data\n",
    "# denoisetable = q2.Artifact.load('./results/denoisetable.qza')\n",
    "# rep_seqs = q2.Artifact.load('./results/rep_seqs.qza')\n",
    "# denoising_stats = q2.Artifact.load('./results/denoising_stats.qza')\n",
    "# sample_metadata = q2.Metadata.load('../00.sample-metadata.tsv')"
   ]
  },
  {
   "cell_type": "code",
   "execution_count": 49,
   "id": "8c8afb2d",
   "metadata": {},
   "outputs": [],
   "source": [
    "# # summarise and visualise\n",
    "# feature_table.visualizers.summarize(\n",
    "#     table = denoisetable,\n",
    "#     sample_metadata = sample_metadata\n",
    "# ).visualization;"
   ]
  },
  {
   "cell_type": "code",
   "execution_count": 50,
   "id": "9524424c",
   "metadata": {},
   "outputs": [],
   "source": [
    "# feature_table.visualizers.tabulate_seqs(data = rep_seqs).visualization;"
   ]
  },
  {
   "cell_type": "code",
   "execution_count": 51,
   "id": "e2ab50bb",
   "metadata": {},
   "outputs": [],
   "source": [
    "# import qiime2.plugins.metadata.actions as metadata_actions\n",
    "\n",
    "# denoising_stats.view(q2.Metadata).to_dataframe();"
   ]
  }
 ],
 "metadata": {
  "kernelspec": {
   "display_name": "Python 3 (ipykernel)",
   "language": "python",
   "name": "python3"
  },
  "language_info": {
   "codemirror_mode": {
    "name": "ipython",
    "version": 3
   },
   "file_extension": ".py",
   "mimetype": "text/x-python",
   "name": "python",
   "nbconvert_exporter": "python",
   "pygments_lexer": "ipython3",
   "version": "3.8.13"
  }
 },
 "nbformat": 4,
 "nbformat_minor": 5
}
