{
 "cells": [
  {
   "cell_type": "markdown",
   "metadata": {},
   "source": [
    "# BACTERIA"
   ]
  },
  {
   "cell_type": "code",
   "execution_count": 1,
   "metadata": {},
   "outputs": [],
   "source": [
    "%load_ext autoreload\n",
    "%autoreload 2\n",
    "%reload_ext autoreload\n",
    "%matplotlib inline"
   ]
  },
  {
   "cell_type": "code",
   "execution_count": 2,
   "metadata": {},
   "outputs": [],
   "source": [
    "# import packages\n",
    "import os\n",
    "import qiime2 as q2\n",
    "import pandas as pd\n",
    "import plotnine as p9\n",
    "import dokdo\n",
    "import matplotlib.pyplot as plt\n",
    "from qiime2.plugins import feature_classifier\n",
    "from qiime2.plugins import feature_table\n",
    "from qiime2.plugins.taxa.visualizers import barplot\n",
    "from qiime2.plugins.taxa.methods import filter_table\n",
    "from qiime2.plugins.taxa.methods import filter_seqs\n",
    "from qiime2.plugins.metadata.visualizers import tabulate"
   ]
  },
  {
   "cell_type": "code",
   "execution_count": 3,
   "metadata": {},
   "outputs": [
    {
     "name": "stdout",
     "output_type": "stream",
     "text": [
      "env: WORKDIR=/home/nezapa/qiime-thesis\n"
     ]
    }
   ],
   "source": [
    "# define workdir\n",
    "%env WORKDIR /home/nezapa/qiime-thesis\n",
    "WORKDIR = os.environ.get(\"WORKDIR\")"
   ]
  },
  {
   "cell_type": "code",
   "execution_count": 4,
   "metadata": {},
   "outputs": [],
   "source": [
    "# import data\n",
    "denoisetable = q2.Artifact.load('./results/denoisetable.qza')\n",
    "rep_seqs = q2.Artifact.load('./results/rep_seqs.qza')\n",
    "denoising_stats = q2.Artifact.load('./results/denoising_stats.qza')\n",
    "sample_metadata = q2.Metadata.load('../00.sample-metadata.tsv')"
   ]
  },
  {
   "cell_type": "code",
   "execution_count": 5,
   "metadata": {},
   "outputs": [
    {
     "data": {
      "text/html": [
       "<div>\n",
       "<style scoped>\n",
       "    .dataframe tbody tr th:only-of-type {\n",
       "        vertical-align: middle;\n",
       "    }\n",
       "\n",
       "    .dataframe tbody tr th {\n",
       "        vertical-align: top;\n",
       "    }\n",
       "\n",
       "    .dataframe thead th {\n",
       "        text-align: right;\n",
       "    }\n",
       "</style>\n",
       "<table border=\"1\" class=\"dataframe\">\n",
       "  <thead>\n",
       "    <tr style=\"text-align: right;\">\n",
       "      <th></th>\n",
       "      <th>Sequence</th>\n",
       "    </tr>\n",
       "    <tr>\n",
       "      <th>Feature ID</th>\n",
       "      <th></th>\n",
       "    </tr>\n",
       "  </thead>\n",
       "  <tbody>\n",
       "    <tr>\n",
       "      <th>1eba318014a80c7ef58c4fe5a25317e7</th>\n",
       "      <td>TGGGGAATTTTGGACAATGGGGGCAACCCTGATCCAGCAATGCCGC...</td>\n",
       "    </tr>\n",
       "    <tr>\n",
       "      <th>6fb0ae5e8d7e91acc3481ae385563c37</th>\n",
       "      <td>TGGGGAATTTTGGACAATGGGGGCAACCCTGATCCAGCAATGCCGC...</td>\n",
       "    </tr>\n",
       "    <tr>\n",
       "      <th>4d4ae718b70724fc25f959b8888ba0c8</th>\n",
       "      <td>TGGGGAATATTGCACAATGGGGGAAACCCTGATGCAGCCATGCCGC...</td>\n",
       "    </tr>\n",
       "    <tr>\n",
       "      <th>b2573224b84130faa841a65345bd6686</th>\n",
       "      <td>TAGGGAATATTGGGCAATGGAGGCAACTCTGACCCAGCCATGCCGC...</td>\n",
       "    </tr>\n",
       "    <tr>\n",
       "      <th>2d4b6ec0c2f78d209e9f3dea142e80ee</th>\n",
       "      <td>TAACGAATCTTCCGCAATGCACGAAAGTGTGACGGAGCGACGCCGC...</td>\n",
       "    </tr>\n",
       "    <tr>\n",
       "      <th>...</th>\n",
       "      <td>...</td>\n",
       "    </tr>\n",
       "    <tr>\n",
       "      <th>d944d372f9e6f181de0b1e03964925b9</th>\n",
       "      <td>GAATCGGATTTCCGGTGGTTTTTGTAACCTGCCCCGCCTCGTTGGG...</td>\n",
       "    </tr>\n",
       "    <tr>\n",
       "      <th>06c409a280d0b5017226560ee5b53b94</th>\n",
       "      <td>TGGGGAATTTTGGACAATGGGCGCAAGCCTGATCCAGCAATGCCGC...</td>\n",
       "    </tr>\n",
       "    <tr>\n",
       "      <th>d6e8e226b606c9e3a6a571b0276b623c</th>\n",
       "      <td>TGGGGAATTTTGGACAATGGGCGCAAGCCTGATCCAGCAATGCCGC...</td>\n",
       "    </tr>\n",
       "    <tr>\n",
       "      <th>7b0206c4b953c37bbe8652b6ca55c52e</th>\n",
       "      <td>TAACGAATCTTCCGCAATGCACGAAAGTGTGACGGAGCGACGCCGC...</td>\n",
       "    </tr>\n",
       "    <tr>\n",
       "      <th>d0d47ceea207607950463efb07abb783</th>\n",
       "      <td>TGGGGAATTTTGGACAATGGGCGCAAGCCTGATCCAGCCATGCCGC...</td>\n",
       "    </tr>\n",
       "  </tbody>\n",
       "</table>\n",
       "<p>447 rows × 1 columns</p>\n",
       "</div>"
      ],
      "text/plain": [
       "                                                                           Sequence\n",
       "Feature ID                                                                         \n",
       "1eba318014a80c7ef58c4fe5a25317e7  TGGGGAATTTTGGACAATGGGGGCAACCCTGATCCAGCAATGCCGC...\n",
       "6fb0ae5e8d7e91acc3481ae385563c37  TGGGGAATTTTGGACAATGGGGGCAACCCTGATCCAGCAATGCCGC...\n",
       "4d4ae718b70724fc25f959b8888ba0c8  TGGGGAATATTGCACAATGGGGGAAACCCTGATGCAGCCATGCCGC...\n",
       "b2573224b84130faa841a65345bd6686  TAGGGAATATTGGGCAATGGAGGCAACTCTGACCCAGCCATGCCGC...\n",
       "2d4b6ec0c2f78d209e9f3dea142e80ee  TAACGAATCTTCCGCAATGCACGAAAGTGTGACGGAGCGACGCCGC...\n",
       "...                                                                             ...\n",
       "d944d372f9e6f181de0b1e03964925b9  GAATCGGATTTCCGGTGGTTTTTGTAACCTGCCCCGCCTCGTTGGG...\n",
       "06c409a280d0b5017226560ee5b53b94  TGGGGAATTTTGGACAATGGGCGCAAGCCTGATCCAGCAATGCCGC...\n",
       "d6e8e226b606c9e3a6a571b0276b623c  TGGGGAATTTTGGACAATGGGCGCAAGCCTGATCCAGCAATGCCGC...\n",
       "7b0206c4b953c37bbe8652b6ca55c52e  TAACGAATCTTCCGCAATGCACGAAAGTGTGACGGAGCGACGCCGC...\n",
       "d0d47ceea207607950463efb07abb783  TGGGGAATTTTGGACAATGGGCGCAAGCCTGATCCAGCCATGCCGC...\n",
       "\n",
       "[447 rows x 1 columns]"
      ]
     },
     "execution_count": 5,
     "metadata": {},
     "output_type": "execute_result"
    }
   ],
   "source": [
    "rep_seqs.view(view_type=q2.Metadata).to_dataframe()"
   ]
  },
  {
   "cell_type": "code",
   "execution_count": 6,
   "metadata": {},
   "outputs": [],
   "source": [
    "# define asv_table for mapping\n",
    "asv_table = denoisetable.view(view_type=pd.DataFrame).T\n",
    "\n",
    "# create mapping index to asv\n",
    "import json\n",
    "old_index = asv_table.index.tolist()\n",
    "asv_values = [f'ASVB{i:03d}' for i in range(len(asv_table))]\n",
    "asv_mapping = dict(zip(old_index, asv_values))\n",
    "json.dump(asv_mapping, open('asv_mapping.json', 'w'), indent=4)"
   ]
  },
  {
   "cell_type": "code",
   "execution_count": 7,
   "metadata": {
    "scrolled": true
   },
   "outputs": [
    {
     "data": {
      "text/html": [
       "<div><img onload=\"(function(div, url){\n",
       "if (typeof require !== 'undefined') {\n",
       "    var baseURL = require.toUrl('').split('/').slice(0, -2).join('/');\n",
       "} else {\n",
       "    var baseURL = JSON.parse(\n",
       "        document.getElementById('jupyter-config-data').innerHTML\n",
       "    ).baseUrl.slice(0, -1);\n",
       "}\n",
       "url = baseURL + url;\n",
       "fetch(url).then(function(res) {\n",
       "    if (res.status === 404) {\n",
       "        div.innerHTML = 'Install QIIME 2 Jupyter extension with:<br />' +\n",
       "                        '<code>jupyter serverextension enable --py qiime2' +\n",
       "                        ' --sys-prefix</code><br />then restart your server.' +\n",
       "                        '<br /><br />(Interactive output not available on ' +\n",
       "                        'static notebook viewer services like nbviewer.)';\n",
       "    } else if (res.status === 409) {\n",
       "        div.innerHTML = 'Visualization no longer in scope. Re-run this cell' +\n",
       "                        ' to see the visualization.';\n",
       "    } else if (res.ok) {\n",
       "        url = res.url;\n",
       "        div.innerHTML = '<iframe src=\\'' + url + '\\' style=\\'' +\n",
       "                        'width: 100%; height: 700px; border: 0;\\'>' +\n",
       "                        '</iframe><hr />Open in a: <a href=\\'' + url + '\\'' +\n",
       "                        ' target=\\'_blank\\'>new window</a>'\n",
       "    } else {\n",
       "        div.innerHTML = 'Something has gone wrong. Check notebook server for' +\n",
       "                        ' errors.';\n",
       "    }\n",
       "});\n",
       "})(this.parentElement, '/qiime2/redirect?location=/tmp/qiime2-archive-9ese7y2c')\" src=\"data:image/gif;base64,R0lGODlhAQABAIAAAP///wAAACH5BAEAAAAALAAAAAABAAEAAAICRAEAOw==\" /></div>"
      ],
      "text/plain": [
       "<visualization: Visualization uuid: 814bdacd-10c1-421d-9b36-5e217317212a>"
      ]
     },
     "execution_count": 7,
     "metadata": {},
     "output_type": "execute_result"
    }
   ],
   "source": [
    "# summarise and visualise\n",
    "feature_table.visualizers.summarize(\n",
    "    table = denoisetable,\n",
    "    sample_metadata = sample_metadata\n",
    ").visualization"
   ]
  },
  {
   "cell_type": "code",
   "execution_count": 8,
   "metadata": {
    "scrolled": true
   },
   "outputs": [
    {
     "data": {
      "text/html": [
       "<div>\n",
       "<style scoped>\n",
       "    .dataframe tbody tr th:only-of-type {\n",
       "        vertical-align: middle;\n",
       "    }\n",
       "\n",
       "    .dataframe tbody tr th {\n",
       "        vertical-align: top;\n",
       "    }\n",
       "\n",
       "    .dataframe thead th {\n",
       "        text-align: right;\n",
       "    }\n",
       "</style>\n",
       "<table border=\"1\" class=\"dataframe\">\n",
       "  <thead>\n",
       "    <tr style=\"text-align: right;\">\n",
       "      <th></th>\n",
       "      <th>sample</th>\n",
       "      <th>location</th>\n",
       "      <th>origin</th>\n",
       "      <th>year</th>\n",
       "      <th>parkelj</th>\n",
       "      <th>specimen</th>\n",
       "      <th>population</th>\n",
       "      <th>reads</th>\n",
       "    </tr>\n",
       "    <tr>\n",
       "      <th>sampleid</th>\n",
       "      <th></th>\n",
       "      <th></th>\n",
       "      <th></th>\n",
       "      <th></th>\n",
       "      <th></th>\n",
       "      <th></th>\n",
       "      <th></th>\n",
       "      <th></th>\n",
       "    </tr>\n",
       "  </thead>\n",
       "  <tbody>\n",
       "    <tr>\n",
       "      <th>P01A</th>\n",
       "      <td>P01A</td>\n",
       "      <td>Planinska_jama</td>\n",
       "      <td>Paa200_t0</td>\n",
       "      <td>2015</td>\n",
       "      <td>no</td>\n",
       "      <td>Paa200</td>\n",
       "      <td>linija reke Ljubljanice</td>\n",
       "      <td>32593</td>\n",
       "    </tr>\n",
       "    <tr>\n",
       "      <th>P03A</th>\n",
       "      <td>P03A</td>\n",
       "      <td>Planinska_jama</td>\n",
       "      <td>Paa201_t0</td>\n",
       "      <td>2015</td>\n",
       "      <td>no</td>\n",
       "      <td>Paa201</td>\n",
       "      <td>linija reke Ljubljanice</td>\n",
       "      <td>51974</td>\n",
       "    </tr>\n",
       "    <tr>\n",
       "      <th>P05A</th>\n",
       "      <td>P05A</td>\n",
       "      <td>Stobe</td>\n",
       "      <td>Paa204_t10d</td>\n",
       "      <td>2016</td>\n",
       "      <td>no</td>\n",
       "      <td>Paa204</td>\n",
       "      <td>dolenjska linija</td>\n",
       "      <td>45495</td>\n",
       "    </tr>\n",
       "    <tr>\n",
       "      <th>P07A</th>\n",
       "      <td>P07A</td>\n",
       "      <td>Planinska_jama</td>\n",
       "      <td>Paa209_t0</td>\n",
       "      <td>2017</td>\n",
       "      <td>no</td>\n",
       "      <td>Paa209</td>\n",
       "      <td>linija reke Ljubljanice</td>\n",
       "      <td>31795</td>\n",
       "    </tr>\n",
       "    <tr>\n",
       "      <th>P09A</th>\n",
       "      <td>P09A</td>\n",
       "      <td>Planinska_jama</td>\n",
       "      <td>Paa210_t0</td>\n",
       "      <td>2019</td>\n",
       "      <td>no</td>\n",
       "      <td>Paa210</td>\n",
       "      <td>linija reke Ljubljanice</td>\n",
       "      <td>34937</td>\n",
       "    </tr>\n",
       "    <tr>\n",
       "      <th>P11A</th>\n",
       "      <td>P11A</td>\n",
       "      <td>Planinska_jama</td>\n",
       "      <td>Paa211_t0</td>\n",
       "      <td>2018</td>\n",
       "      <td>no</td>\n",
       "      <td>Paa211</td>\n",
       "      <td>linija reke Ljubljanice</td>\n",
       "      <td>38028</td>\n",
       "    </tr>\n",
       "    <tr>\n",
       "      <th>P13A</th>\n",
       "      <td>P13A</td>\n",
       "      <td>Planinska_jama</td>\n",
       "      <td>Paa219_t0</td>\n",
       "      <td>2019</td>\n",
       "      <td>no</td>\n",
       "      <td>Paa219</td>\n",
       "      <td>linija reke Ljubljanice</td>\n",
       "      <td>27291</td>\n",
       "    </tr>\n",
       "    <tr>\n",
       "      <th>P15A</th>\n",
       "      <td>P15A</td>\n",
       "      <td>Planinska_jama</td>\n",
       "      <td>Paa220_t0</td>\n",
       "      <td>2019</td>\n",
       "      <td>no</td>\n",
       "      <td>Paa220</td>\n",
       "      <td>linija reke Ljubljanice</td>\n",
       "      <td>27881</td>\n",
       "    </tr>\n",
       "    <tr>\n",
       "      <th>P17A</th>\n",
       "      <td>P17A</td>\n",
       "      <td>Planinska_jama</td>\n",
       "      <td>Paa221_t0</td>\n",
       "      <td>2019</td>\n",
       "      <td>no</td>\n",
       "      <td>Paa221</td>\n",
       "      <td>linija reke Ljubljanice</td>\n",
       "      <td>39116</td>\n",
       "    </tr>\n",
       "    <tr>\n",
       "      <th>P19A</th>\n",
       "      <td>P19A</td>\n",
       "      <td>Obrsec</td>\n",
       "      <td>PB271_parkelj</td>\n",
       "      <td>2016</td>\n",
       "      <td>yes</td>\n",
       "      <td>PB271</td>\n",
       "      <td>črna podvrsta</td>\n",
       "      <td>38227</td>\n",
       "    </tr>\n",
       "    <tr>\n",
       "      <th>P20A</th>\n",
       "      <td>P20A</td>\n",
       "      <td>Obrsec</td>\n",
       "      <td>PB272_parkelj</td>\n",
       "      <td>2016</td>\n",
       "      <td>yes</td>\n",
       "      <td>PB272</td>\n",
       "      <td>črna podvrsta</td>\n",
       "      <td>42491</td>\n",
       "    </tr>\n",
       "    <tr>\n",
       "      <th>P21A</th>\n",
       "      <td>P21A</td>\n",
       "      <td>Jelsevnik</td>\n",
       "      <td>PB644_parkelj</td>\n",
       "      <td>2015</td>\n",
       "      <td>yes</td>\n",
       "      <td>PB644</td>\n",
       "      <td>črna podvrsta</td>\n",
       "      <td>45382</td>\n",
       "    </tr>\n",
       "    <tr>\n",
       "      <th>P22A</th>\n",
       "      <td>P22A</td>\n",
       "      <td>Obrsec</td>\n",
       "      <td>PAP20_parkelj</td>\n",
       "      <td>2020</td>\n",
       "      <td>yes</td>\n",
       "      <td>PAP20</td>\n",
       "      <td>črna podvrsta</td>\n",
       "      <td>54906</td>\n",
       "    </tr>\n",
       "  </tbody>\n",
       "</table>\n",
       "</div>"
      ],
      "text/plain": [
       "         sample        location         origin  year parkelj specimen  \\\n",
       "sampleid                                                                \n",
       "P01A       P01A  Planinska_jama      Paa200_t0  2015      no   Paa200   \n",
       "P03A       P03A  Planinska_jama      Paa201_t0  2015      no   Paa201   \n",
       "P05A       P05A           Stobe    Paa204_t10d  2016      no   Paa204   \n",
       "P07A       P07A  Planinska_jama      Paa209_t0  2017      no   Paa209   \n",
       "P09A       P09A  Planinska_jama      Paa210_t0  2019      no   Paa210   \n",
       "P11A       P11A  Planinska_jama      Paa211_t0  2018      no   Paa211   \n",
       "P13A       P13A  Planinska_jama      Paa219_t0  2019      no   Paa219   \n",
       "P15A       P15A  Planinska_jama      Paa220_t0  2019      no   Paa220   \n",
       "P17A       P17A  Planinska_jama      Paa221_t0  2019      no   Paa221   \n",
       "P19A       P19A          Obrsec  PB271_parkelj  2016     yes    PB271   \n",
       "P20A       P20A          Obrsec  PB272_parkelj  2016     yes    PB272   \n",
       "P21A       P21A       Jelsevnik  PB644_parkelj  2015     yes    PB644   \n",
       "P22A       P22A          Obrsec  PAP20_parkelj  2020     yes    PAP20   \n",
       "\n",
       "                       population  reads  \n",
       "sampleid                                  \n",
       "P01A      linija reke Ljubljanice  32593  \n",
       "P03A      linija reke Ljubljanice  51974  \n",
       "P05A             dolenjska linija  45495  \n",
       "P07A      linija reke Ljubljanice  31795  \n",
       "P09A      linija reke Ljubljanice  34937  \n",
       "P11A      linija reke Ljubljanice  38028  \n",
       "P13A      linija reke Ljubljanice  27291  \n",
       "P15A      linija reke Ljubljanice  27881  \n",
       "P17A      linija reke Ljubljanice  39116  \n",
       "P19A                črna podvrsta  38227  \n",
       "P20A                črna podvrsta  42491  \n",
       "P21A                črna podvrsta  45382  \n",
       "P22A                črna podvrsta  54906  "
      ]
     },
     "execution_count": 8,
     "metadata": {},
     "output_type": "execute_result"
    }
   ],
   "source": [
    "mtdt_df = sample_metadata.to_dataframe()\n",
    "mtdt_df = pd.DataFrame(mtdt_df)\n",
    "reads = ['32593', '51974', '45495', '31795', '34937', '38028', '27291', '27881', '39116', '38227', '42491','45382', '54906']\n",
    "mtdt_df['reads'] = reads\n",
    "mtdt_df"
   ]
  },
  {
   "cell_type": "code",
   "execution_count": 9,
   "metadata": {},
   "outputs": [
    {
     "data": {
      "image/png": "[encoded data removed]",
      "text/plain": [
       "<Figure size 640x480 with 1 Axes>"
      ]
     },
     "metadata": {},
     "output_type": "display_data"
    },
    {
     "data": {
      "text/plain": [
       "<ggplot: (8729504644750)>"
      ]
     },
     "execution_count": 9,
     "metadata": {},
     "output_type": "execute_result"
    }
   ],
   "source": [
    "# plot no of reads per year\n",
    "(p9.ggplot(data=mtdt_df.reset_index(),\n",
    "           mapping=p9.aes(x='year', y='reads'))\n",
    "+ p9.geom_point())"
   ]
  },
  {
   "cell_type": "markdown",
   "metadata": {},
   "source": [
    "## TAXONOMIC ANALYSIS"
   ]
  },
  {
   "cell_type": "code",
   "execution_count": null,
   "metadata": {},
   "outputs": [],
   "source": [
    "# load classifier data\n",
    "classifier = q2.Artifact.load(f'{WORKDIR}/database/200827SILVA138/classifier-B-341F_802R.qza')\n",
    "reference_reads = q2.Artifact.load(f'{WORKDIR}/database/200827SILVA138/ref-seqs_341F_802R.qza')\n",
    "reference_taxonomy = q2.Artifact.load(f'{WORKDIR}/database/200827SILVA138/silva-138-99-tax.qza')"
   ]
  },
  {
   "cell_type": "code",
   "execution_count": null,
   "metadata": {},
   "outputs": [],
   "source": [
    "# define model choices\n",
    "models = {\n",
    "    'sklearn': feature_classifier.methods.classify_sklearn,\n",
    "    'vsearch': feature_classifier.methods.classify_consensus_vsearch,\n",
    "    'blast': feature_classifier.methods.classify_consensus_blast,\n",
    "    'hybrid': feature_classifier.pipelines.classify_hybrid_vsearch_sklearn\n",
    "}"
   ]
  },
  {
   "cell_type": "code",
   "execution_count": null,
   "metadata": {},
   "outputs": [],
   "source": [
    "# choose model, run for each model_name\n",
    "model_name = \"sklearn\"\n",
    "model = models[model_name]"
   ]
  },
  {
   "cell_type": "code",
   "execution_count": null,
   "metadata": {},
   "outputs": [],
   "source": [
    "# classify the seqences using different classifiers\n",
    "# run once for each model\n",
    "# this step might take some time\n",
    "\n",
    "if os.path.exists(f'./results/taxonomy_{model_name}.qza'):\n",
    "    taxonomy = q2.Artifact.load(f'./results/taxonomy_{model_name}.qza')\n",
    "else:\n",
    "    if model_name == \"sklearn\":\n",
    "        taxonomy = model(\n",
    "            reads = rep_seqs,\n",
    "            classifier = classifier,\n",
    "            n_jobs=4\n",
    "        )\n",
    "        \n",
    "    elif model_name == \"vsearch\":\n",
    "        taxonomy = model(\n",
    "            query = rep_seqs,\n",
    "            reference_reads = reference_reads,\n",
    "            reference_taxonomy = reference_taxonomy,\n",
    "            threads = 15\n",
    "        )\n",
    "    elif model_name == \"blast\":\n",
    "        taxonomy = model(\n",
    "            query = rep_seqs,\n",
    "            reference_reads = reference_reads,\n",
    "            reference_taxonomy = reference_taxonomy\n",
    "            )\n",
    "    elif model_name == \"hybrid\":\n",
    "        taxonomy = model(\n",
    "            query = rep_seqs,\n",
    "            reference_reads = reference_reads,\n",
    "            reference_taxonomy = reference_taxonomy,\n",
    "            classifier = classifier,\n",
    "            threads = 2,\n",
    "            prefilter = False\n",
    "            )\n",
    "    else:\n",
    "        print(f\"model name {model_name} doesn't exist\")\n",
    "    \n",
    "    taxonomy = taxonomy.classification\n",
    "    taxonomy.save(f'./results/taxonomy_{model_name}.qza')"
   ]
  },
  {
   "cell_type": "code",
   "execution_count": null,
   "metadata": {},
   "outputs": [],
   "source": [
    "# merge all taxonomy classifications\n",
    "for idx, model_name in enumerate(models.keys()):\n",
    "    model_df = q2.Artifact.load(f'./results/taxonomy_{model_name}.qza').view(pd.DataFrame)\n",
    "    model_df.columns = [f'{col}_{model_name}' for col in model_df.columns]\n",
    "    if idx == 0:\n",
    "        res_df = model_df.copy()\n",
    "    else:\n",
    "        res_df = res_df.merge(model_df, on = 'Feature ID')"
   ]
  },
  {
   "cell_type": "code",
   "execution_count": null,
   "metadata": {},
   "outputs": [],
   "source": [
    "# view merged df as q2 viz, compare different classifiers\n",
    "res_df_viz = q2.plugins.metadata.visualizers.tabulate(q2.Metadata(res_df)).visualization\n",
    "res_df_viz.save('./results/res_df_viz.qzv')\n",
    "res_df_viz"
   ]
  },
  {
   "cell_type": "code",
   "execution_count": null,
   "metadata": {},
   "outputs": [],
   "source": [
    "# choose the best classifier, save as taxonomy\n",
    "model_name = \"sklearn\"\n",
    "taxonomy = q2.Artifact.load(f'./results/taxonomy_{model_name}.qza')"
   ]
  },
  {
   "cell_type": "code",
   "execution_count": null,
   "metadata": {},
   "outputs": [],
   "source": [
    "# load classification results of a chosen classifier as metadata and view them\n",
    "taxonomy_metadata = taxonomy.view(q2.Metadata)  # or pd.DataFrame\n",
    "q2.plugins.metadata.visualizers.tabulate(taxonomy_metadata).visualization"
   ]
  },
  {
   "cell_type": "code",
   "execution_count": null,
   "metadata": {
    "scrolled": true
   },
   "outputs": [],
   "source": [
    "# load rep_seqs as metadata\n",
    "rep_seqs_mtdt = rep_seqs.view(q2.Metadata)\n",
    "\n",
    "# merge dataframes in the background (appends new column)\n",
    "annotated_taxonomy_metadata = taxonomy_metadata.merge(rep_seqs_mtdt)\n",
    "\n",
    "# visualize merged dataframes as metadata viz\n",
    "q2.plugins.metadata.visualizers.tabulate(annotated_taxonomy_metadata).visualization"
   ]
  },
  {
   "cell_type": "markdown",
   "metadata": {},
   "source": [
    "### FILTER BY TAXONOMY"
   ]
  },
  {
   "cell_type": "code",
   "execution_count": null,
   "metadata": {},
   "outputs": [],
   "source": [
    "# filter denoisetable, keep only d_Bacteria\n",
    "denoisetable_ba = filter_table(\n",
    "    table = denoisetable,\n",
    "    taxonomy = taxonomy, \n",
    "    include = 'd__Bacteria'\n",
    ")\n",
    "denoisetable_ba.filtered_table.save('./results/denoisetable_ba.qza')"
   ]
  },
  {
   "cell_type": "code",
   "execution_count": null,
   "metadata": {},
   "outputs": [],
   "source": [
    "# filter rep_seqs, keep only d_Baceria\n",
    "rep_seqs_ba = filter_seqs(\n",
    "    sequences = rep_seqs,\n",
    "    taxonomy = taxonomy,\n",
    "    include = 'd__Bacteria'\n",
    ")\n",
    "\n",
    "rep_seqs_ba.filtered_sequences.save('./results/rep_seqs_ba.qza')"
   ]
  },
  {
   "cell_type": "code",
   "execution_count": null,
   "metadata": {},
   "outputs": [],
   "source": [
    "# # filter unassigned\n",
    "# unassigned_denoisetable = filter_table(\n",
    "#     table = denoisetable,\n",
    "#     taxonomy = taxonomy, \n",
    "#     exclude = 'd__Bacteria'\n",
    "# )"
   ]
  },
  {
   "cell_type": "markdown",
   "metadata": {},
   "source": [
    "### TAXONOMY CORRECTIONS, TAXA PER SPECIMEN"
   ]
  },
  {
   "cell_type": "code",
   "execution_count": null,
   "metadata": {},
   "outputs": [],
   "source": [
    "# load denoise as dataframe and transpose (feature id is index), add name to index\n",
    "denoise_df = denoisetable_ba.filtered_table.view(view_type = pd.DataFrame).T\n",
    "denoise_df.index.name = 'id'\n",
    "\n",
    "# load annotated data as df\n",
    "annotated_df = annotated_taxonomy_metadata.to_dataframe()\n",
    "\n",
    "# merge the two using indices of both dataframes\n",
    "merged_df = denoise_df.merge(annotated_df['Taxon'], left_index=True, right_index=True)\n",
    "\n",
    "# set Taxon column as index and show transposed\n",
    "taxon_df = merged_df.set_index('Taxon').T"
   ]
  },
  {
   "cell_type": "code",
   "execution_count": null,
   "metadata": {},
   "outputs": [],
   "source": [
    "# define functions\n",
    "# define extract lvl using regex (regular expressions)\n",
    "import re\n",
    "def extract_level(tax, level_prefix, null_data = '/'):\n",
    "    g = re.findall(fr'({level_prefix}[^;|^$]*)(?=;|$)', tax)\n",
    "    if len(g) == 0:\n",
    "        return null_data\n",
    "    \n",
    "    return g[0].replace(level_prefix, '')\n",
    "\n",
    "# define backtrace_unassigned \n",
    "def backtrace_unassigned(row, unassigned_like_words, invalid_words):\n",
    "    columns = ['Domain', 'Phylum', 'Class', 'Order', 'Family', 'Genus']\n",
    "    try:\n",
    "        valid_name = [val for val in row[columns].values if val not in invalid_words][-1]\n",
    "        row[columns] = [val if val not in invalid_words else f\"Unclass. {valid_name}\" for val in row[columns].values]\n",
    "        \n",
    "        valid_name = [val for val in row[columns].values if val not in unassigned_like_words][-1]\n",
    "        row[columns] = [val if val not in unassigned_like_words else f\"Unclass. {valid_name} {val}\" for val in row[columns].values]\n",
    "    except:\n",
    "        pass\n",
    "    return row\n",
    "\n",
    "# define reassemble taxon column\n",
    "def reassemble_taxon(row):\n",
    "    columns = ['Domain', 'Phylum', 'Class', 'Order', 'Family', 'Genus']\n",
    "    prefixes = ['d__', 'p__', 'c__', 'o__', 'f__', 'g__']\n",
    "    return \";\".join([\"\".join(pair) for pair in zip(prefixes, row[columns].values)])\n"
   ]
  },
  {
   "cell_type": "code",
   "execution_count": null,
   "metadata": {},
   "outputs": [],
   "source": [
    "# run once for each sample (subject)\n",
    "# choose a sample \n",
    "subject = 'P22A'\n",
    "taxon_df.loc[[subject]].T.reset_index().query(f'{subject} > 0.0').value_counts('Taxon')\n",
    "\n",
    "# define custom_df, get rid of Unassigned\n",
    "custom_df = taxon_df.loc[[subject]].T.reset_index()\n",
    "custom_df = custom_df.query(f'Taxon != \"Unassigned\" and {subject} > 0')\n",
    "\n",
    "custom_df['Domain'] = custom_df.Taxon.apply(lambda tax: extract_level(tax, level_prefix='d__', null_data='Unassigned'))\n",
    "custom_df['Phylum'] = custom_df.Taxon.apply(lambda tax: extract_level(tax, level_prefix='p__', null_data='Unassigned'))\n",
    "custom_df['Class'] = custom_df.Taxon.apply(lambda tax: extract_level(tax, level_prefix='c__', null_data='Unassigned'))\n",
    "custom_df['Order'] = custom_df.Taxon.apply(lambda tax: extract_level(tax, level_prefix='o__', null_data='Unassigned'))\n",
    "custom_df['Family'] = custom_df.Taxon.apply(lambda tax: extract_level(tax, level_prefix='f__', null_data='Unassigned'))\n",
    "custom_df['Genus'] = custom_df.Taxon.apply(lambda tax: extract_level(tax, level_prefix='g__', null_data='Unassigned'))\n",
    "#custom_df['Species'] = custom_df.Taxon.apply(lambda tax: extract_level(tax, level_prefix='s__'))\n",
    "\n",
    "invalid_words = ['Unknown_Family', \"uncultured\", \"Unassigned\"]\n",
    "unassigned_like_words = ['Candidatus_Amesbacteria', 'Sva0081_sediment_group', \"Marine_Group_II\", 'Sva0081_sediment_group', 'Allorhizobium-Neorhizobium-Pararhizobium-Rhizobium', 'Marine_Group_II', 'WD2101_soil_group', 'WWE3', 'CL500-29_marine_group', 'mle1-7', 'OM27_clade', 'MND1', 'Pir4_lineage','CCM11a', 'TRA3-20', 'hgcI_clade', 'BD2-11_terrestrial_group', 'Ellin6067', 'SC-I-84', 'NB1-j', 'OM182_clade', '[Eubacterium]_eligens_group', 'AKYG587','TM7a', 'OM60(NOR5)_clade', 'CCD24', 'vadinHA49', 'RCP2-54', 'SH-PL14', 'bacteriap25', 'ADurb.Bin063-1', 'NS11-12_marine_group', 'Mitochondria']\n",
    "custom_df = custom_df.apply(backtrace_unassigned, unassigned_like_words=unassigned_like_words, invalid_words=invalid_words, axis=1)\n",
    "\n",
    "custom_df['Taxon'] = custom_df.apply(reassemble_taxon, axis=1)\n",
    "\n",
    "\n",
    "columns = ['Phylum', 'Class', 'Order', 'Family', 'Genus']#, 'Species']\n",
    "# columns = ['Order', 'Family', 'Genus', 'Species']\n",
    "taxa_per_species = custom_df.groupby(columns).sum()\n",
    "print(taxa_per_species.to_latex(escape=False))\n",
    "\n",
    "#taxa_per_species"
   ]
  },
  {
   "cell_type": "markdown",
   "metadata": {},
   "source": [
    "### VISUALIZATIONS"
   ]
  },
  {
   "cell_type": "code",
   "execution_count": null,
   "metadata": {},
   "outputs": [],
   "source": [
    "# prepare new_taxonomy file with taxonomy corrections, same as above\n",
    "taxonomy_df = taxonomy.view(pd.DataFrame)\n",
    "\n",
    "taxonomy_df['Domain'] = taxonomy_df.Taxon.apply(extract_level, level_prefix='d__', null_data='Unassigned')\n",
    "taxonomy_df['Phylum'] = taxonomy_df.Taxon.apply(extract_level, level_prefix='p__', null_data='Unassigned')\n",
    "taxonomy_df['Class'] = taxonomy_df.Taxon.apply(extract_level, level_prefix='c__', null_data='Unassigned')\n",
    "taxonomy_df['Order'] = taxonomy_df.Taxon.apply(extract_level, level_prefix='o__', null_data='Unassigned')\n",
    "taxonomy_df['Family'] = taxonomy_df.Taxon.apply(extract_level, level_prefix='f__', null_data='Unassigned')\n",
    "taxonomy_df['Genus'] = taxonomy_df.Taxon.apply(extract_level, level_prefix='g__', null_data='Unassigned')\n",
    "\n",
    "invalid_words = ['Unknown_Family', \"uncultured\", \"Unassigned\"]\n",
    "unassigned_like_words = ['Candidatus_Amesbacteria', 'Sva0081_sediment_group', \"Marine_Group_II\", 'Sva0081_sediment_group', 'Allorhizobium-Neorhizobium-Pararhizobium-Rhizobium', 'Marine_Group_II', 'WD2101_soil_group', 'WWE3', 'CL500-29_marine_group', 'mle1-7', 'OM27_clade', 'MND1', 'Pir4_lineage','CCM11a', 'TRA3-20', 'hgcI_clade', 'BD2-11_terrestrial_group', 'Ellin6067', 'SC-I-84', 'NB1-j', 'OM182_clade', '[Eubacterium]_eligens_group', 'AKYG587','TM7a', 'OM60(NOR5)_clade', 'CCD24', 'vadinHA49', 'RCP2-54', 'SH-PL14', 'bacteriap25', 'ADurb.Bin063-1', 'NS11-12_marine_group', 'Mitochondria']\n",
    "taxonomy_df = taxonomy_df.apply(backtrace_unassigned, unassigned_like_words=unassigned_like_words, invalid_words=invalid_words, axis=1)\n",
    "\n",
    "taxonomy_df['Taxon'] = taxonomy_df.apply(reassemble_taxon, axis=1)\n",
    "\n",
    "new_taxonomy = q2.Artifact.import_data(\"FeatureData[Taxonomy]\", taxonomy_df)"
   ]
  },
  {
   "cell_type": "code",
   "execution_count": null,
   "metadata": {},
   "outputs": [],
   "source": [
    "taxonomy.view(pd.DataFrame)"
   ]
  },
  {
   "cell_type": "code",
   "execution_count": null,
   "metadata": {},
   "outputs": [],
   "source": [
    "taxonomy_df['Taxon'].nunique()"
   ]
  },
  {
   "cell_type": "code",
   "execution_count": null,
   "metadata": {},
   "outputs": [],
   "source": [
    "new_taxonomy_df = new_taxonomy.view(view_type = pd.DataFrame)\n",
    "new_taxonomy_df"
   ]
  },
  {
   "cell_type": "code",
   "execution_count": null,
   "metadata": {},
   "outputs": [],
   "source": [
    "# subset that contains certain string\n",
    "#dfx = df2[df2['Class'].str.contains('Unclass.', na = False)]\n",
    "new_taxonomy_df['Domain'].unique()\n",
    "df2=new_taxonomy_df.query(\"Domain == 'Bacteria'\")\n",
    "# subset that doesn't contain certain string\n",
    "df3 = df2[df2[\"Class\"].str.contains('Unclass.')==False]\n",
    "df4 = df3[df3[\"Order\"].str.contains('Unclass.')==False]\n",
    "df5 = df4[df4[\"Family\"].str.contains('Unclass.')==False]\n",
    "df6 = df5[df5[\"Genus\"].str.contains('Unclass.')==False]\n",
    "df6['Order'].unique()"
   ]
  },
  {
   "cell_type": "code",
   "execution_count": null,
   "metadata": {},
   "outputs": [],
   "source": [
    "# count unique values\n",
    "df6['Genus'].nunique()"
   ]
  },
  {
   "cell_type": "code",
   "execution_count": null,
   "metadata": {},
   "outputs": [],
   "source": [
    "# visualise classifications in qiime2\n",
    "taxa_bar_plot = barplot(\n",
    "    table = denoisetable_ba.filtered_table,\n",
    "    taxonomy = new_taxonomy,\n",
    "    metadata = sample_metadata\n",
    ").visualization"
   ]
  },
  {
   "cell_type": "code",
   "execution_count": null,
   "metadata": {},
   "outputs": [],
   "source": [
    "# save taxa_bar_plot in results folder\n",
    "taxa_bar_plot.save('./results/taxa_bar_plots.qzv')"
   ]
  },
  {
   "cell_type": "code",
   "execution_count": null,
   "metadata": {},
   "outputs": [],
   "source": [
    "# visualise taxa bar plot - interacive taxa bar plot visualisation\n",
    "taxa_bar_plot"
   ]
  },
  {
   "cell_type": "code",
   "execution_count": null,
   "metadata": {},
   "outputs": [],
   "source": [
    "# show 7 most abundant genera plus 'Others' with count = 8\n",
    "dokdo.taxa_abundance_bar_plot(\n",
    "    taxa_bar_plot,\n",
    "    figsize=(10, 7),\n",
    "    level=5,\n",
    "    count=8,\n",
    "    legend_short=True,\n",
    "    by=['year'],\n",
    "    label_columns=['sample-id'],\n",
    "    sort_by_mean2=False\n",
    ")\n",
    "\n",
    "plt.tight_layout()"
   ]
  },
  {
   "cell_type": "code",
   "execution_count": null,
   "metadata": {},
   "outputs": [],
   "source": [
    "kwargs = dict(\n",
    "    include_samples={'population': ['črna podvrsta']},\n",
    "    label_columns=['sample-id'],\n",
    "    level=6,\n",
    "    count=13\n",
    ")\n",
    "\n",
    "dokdo.taxa_abundance_bar_plot(\n",
    "    taxa_bar_plot,\n",
    "    figsize=(10, 7),\n",
    "    cmap_name='tab20c',\n",
    "    legend_short=True,\n",
    "    **kwargs\n",
    ")\n",
    "\n",
    "#handles, labels = ax2.get_legend_handles_labels()\n",
    "\n",
    "# ax2.clear()\n",
    "# ax2.legend(handles, labels)\n",
    "# ax2.axis('off')\n",
    "\n",
    "plt.tight_layout()\n",
    "plt.savefig('./results/ba_crni_primerjava10najpogostejsih.png')"
   ]
  },
  {
   "cell_type": "code",
   "execution_count": null,
   "metadata": {},
   "outputs": [],
   "source": [
    "# plot the legent separately\n",
    "fig, [ax1, ax2] = plt.subplots(1, 2, figsize=(12, 7), gridspec_kw={'width_ratios': [9, 1]})\n",
    "\n",
    "dokdo.taxa_abundance_bar_plot(\n",
    "    taxa_bar_plot,\n",
    "    ax=ax1,\n",
    "    level=5,\n",
    "    count=8,\n",
    "    cmap_name='Accent',\n",
    "    legend=False\n",
    ")\n",
    "\n",
    "dokdo.taxa_abundance_bar_plot(\n",
    "    taxa_bar_plot,\n",
    "    ax=ax2,\n",
    "    level=5,\n",
    "    count=8,\n",
    "    cmap_name='Accent',\n",
    "    legend_short=True\n",
    ")\n",
    "\n",
    "handles, labels = ax2.get_legend_handles_labels()\n",
    "\n",
    "# ax2.clear()\n",
    "# ax2.legend(handles, labels)\n",
    "# ax2.axis('off')\n",
    "\n",
    "# custom properties\n",
    "ax1.tick_params(labelsize=12) \n",
    "ax1.yaxis.label.set_size(12)\n",
    "\n",
    "ax2.clear()\n",
    "ax2.legend(handles, labels, fontsize=12)\n",
    "ax2.axis('off')\n",
    "\n",
    "plt.tight_layout()\n",
    "plt.savefig('./results/proteus_ba_all_7_fam.png')"
   ]
  },
  {
   "cell_type": "code",
   "execution_count": null,
   "metadata": {},
   "outputs": [],
   "source": [
    "def label_filter(lbl):\n",
    "    if lbl.count(';') == 0:\n",
    "        return lbl\n",
    "    \n",
    "    lbl_split = lbl.split(';')\n",
    "    \n",
    "    new_label = []\n",
    "    for piece in lbl_split[::-1]:\n",
    "        new_label.append(piece)\n",
    "        if 'uncultured' not in piece and piece != '__':\n",
    "            break\n",
    "            \n",
    "    return ';'.join(new_label[::-1][:2])"
   ]
  },
  {
   "cell_type": "code",
   "execution_count": null,
   "metadata": {},
   "outputs": [],
   "source": [
    "# use a different colour map\n",
    "fig, [ax1, ax2] = plt.subplots(1, 2, figsize=(10, 7), gridspec_kw={'width_ratios': [9, 1]})\n",
    "\n",
    "dokdo.taxa_abundance_bar_plot(\n",
    "    taxa_bar_plot,\n",
    "    ax=ax1,\n",
    "    level=5,\n",
    "    count=17,\n",
    "    cmap_name='tab20c',\n",
    "    legend=False\n",
    ")\n",
    "\n",
    "dokdo.taxa_abundance_bar_plot(\n",
    "    taxa_bar_plot,\n",
    "    ax=ax2,\n",
    "    level=5,\n",
    "    count=17,\n",
    "    cmap_name='tab20c',\n",
    "    legend_short=False\n",
    ")\n",
    "\n",
    "handles, labels = ax2.get_legend_handles_labels()\n",
    "labels = [label_filter(lbl) for lbl in labels]\n",
    "\n",
    "# custom properties\n",
    "ax1.tick_params(labelsize=12)  # reset rotation\n",
    "ax1.yaxis.label.set_size(12)\n",
    "\n",
    "\n",
    "ax2.clear()\n",
    "ax2.legend(handles, labels, fontsize=12)\n",
    "ax2.axis('off')\n",
    "\n",
    "plt.tight_layout()\n",
    "plt.savefig('./results/proteus_all_16taxa.png')"
   ]
  },
  {
   "cell_type": "code",
   "execution_count": null,
   "metadata": {},
   "outputs": [],
   "source": [
    "fig, axes = plt.subplots(1, 3, figsize=(17, 9))\n",
    "\n",
    "groups = ['dolenjska linija', 'linija reke Ljubljanice', 'črna podvrsta']\n",
    "kwargs = dict(level=5, count=7, sort_by_mean2=False)\n",
    "\n",
    "for i, group in enumerate(groups):\n",
    "    dokdo.taxa_abundance_bar_plot(\n",
    "        taxa_bar_plot,\n",
    "        ax=axes[i],\n",
    "        include_samples={'population': [group]},\n",
    "        cmap_name='Paired',\n",
    "        legend_short=True,\n",
    "        legend=True if i == 0 else False,\n",
    "        **kwargs # da razbije dictionary se uporabi **\n",
    "    )\n",
    "    if i != 0:\n",
    "        axes[i].get_yaxis().set_visible(False)\n",
    "    axes[i].set_title(group)\n",
    "\n",
    "# custom properties\n",
    "for idx, ax in enumerate(axes):\n",
    "    ax.tick_params(axis='x', labelrotation = 90, labelsize=15)  # reset rotation\n",
    "    ax.tick_params(axis='y', labelsize=15)\n",
    "    ax.yaxis.label.set_size(15)\n",
    "    ax.title.set_size(15)\n",
    "    \n",
    "    if idx == 0:\n",
    "        ax.legend(fontsize=15)\n",
    "    \n",
    "plt.tight_layout()\n",
    "plt.savefig('./results/proteus_all_populations.png')"
   ]
  },
  {
   "cell_type": "code",
   "execution_count": null,
   "metadata": {},
   "outputs": [],
   "source": [
    "fig, axes = plt.subplots(1, 3, figsize=(17, 9))\n",
    "\n",
    "groups = ['dolenjska linija', 'linija reke Ljubljanice', 'črna podvrsta']\n",
    "kwargs = dict(level=5, count=8, sort_by_mean2=False)\n",
    "\n",
    "for i, group in enumerate(groups):\n",
    "    dokdo.taxa_abundance_bar_plot(\n",
    "        taxa_bar_plot,\n",
    "        ax=axes[i],\n",
    "        include_samples={'population': [group]},\n",
    "        cmap_name='tab20c',\n",
    "        legend_short=True,\n",
    "        legend=True if i == 0 else False,\n",
    "        **kwargs # da razbije dictionary se uporabi **\n",
    "    )\n",
    "    if i != 0:\n",
    "        axes[i].get_yaxis().set_visible(False)\n",
    "    axes[i].set_title(group)\n",
    "\n",
    "# custom properties\n",
    "for idx, ax in enumerate(axes):\n",
    "    ax.tick_params(axis='x', labelrotation = 90, labelsize=15)  # reset rotation\n",
    "    ax.tick_params(axis='y', labelsize=15)\n",
    "    ax.yaxis.label.set_size(15)\n",
    "    ax.title.set_size(15)\n",
    "    \n",
    "    if idx == 0:\n",
    "        ax.legend(fontsize=15)\n",
    "    \n",
    "plt.tight_layout()\n",
    "plt.savefig('./results/proteus_all_populations.png')"
   ]
  },
  {
   "cell_type": "code",
   "execution_count": null,
   "metadata": {
    "scrolled": false
   },
   "outputs": [],
   "source": [
    "fig, [ax1, ax2] = plt.subplots(1, 2, figsize=(12, 7), gridspec_kw={'width_ratios': [9, 1]})\n",
    "\n",
    "dokdo.taxa_abundance_bar_plot(\n",
    "    taxa_bar_plot,\n",
    "    ax=ax1,\n",
    "    level=6,\n",
    "    count=20,\n",
    "    group='population',\n",
    "    group_order=['linija reke Ljubljanice', 'črna podvrsta'],\n",
    "    figsize=(10, 7),\n",
    "    legend=False,\n",
    "    cmap_name='tab20c'\n",
    ")\n",
    "\n",
    "dokdo.taxa_abundance_bar_plot(\n",
    "    taxa_bar_plot,\n",
    "    ax=ax2,\n",
    "    level=6,\n",
    "    count=20,\n",
    "    group='population',\n",
    "    group_order=['linija reke Ljubljanice', 'črna podvrsta'],\n",
    "    figsize=(10, 7),\n",
    "    legend_short=False,\n",
    "    cmap_name='tab20c'\n",
    ")\n",
    "\n",
    "handles, labels = ax2.get_legend_handles_labels()\n",
    "labels = [label_filter(lbl) for lbl in labels]\n",
    "\n",
    "ax2.clear()\n",
    "ax2.legend(handles, labels, fontsize=12)\n",
    "ax2.axis('off')\n",
    "\n",
    "# custom properties\n",
    "ax1.tick_params(labelrotation = 0, labelsize=15)  # reset rotation\n",
    "ax1.yaxis.label.set_size(15)\n",
    "\n",
    "plt.tight_layout()\n",
    "plt.savefig('./results/test3.png')"
   ]
  },
  {
   "cell_type": "code",
   "execution_count": null,
   "metadata": {},
   "outputs": [],
   "source": [
    "denoisetable_ba_df = denoisetable_ba.filtered_table.view(view_type=q2.Metadata).to_dataframe()"
   ]
  },
  {
   "cell_type": "code",
   "execution_count": null,
   "metadata": {},
   "outputs": [],
   "source": [
    "denoisetable_ba_df"
   ]
  },
  {
   "cell_type": "code",
   "execution_count": null,
   "metadata": {},
   "outputs": [],
   "source": [
    "denoisetable_ba_df_0 = denoisetable_ba_df.drop(labels='P22A')\n",
    "denoisetable_ba_df_1 = denoisetable_ba_df_0.drop(labels='P03A')"
   ]
  },
  {
   "cell_type": "code",
   "execution_count": null,
   "metadata": {},
   "outputs": [],
   "source": [
    "denoisetable_ba_filtered = q2.Artifact.import_data(denoisetable_ba.filtered_table.type, denoisetable_ba_df_0)"
   ]
  },
  {
   "cell_type": "code",
   "execution_count": null,
   "metadata": {},
   "outputs": [],
   "source": [
    "# visualise classifications in qiime2\n",
    "taxa_bar_plot_filtered = barplot(\n",
    "    table = denoisetable_ba_filtered,\n",
    "    taxonomy = new_taxonomy,\n",
    "    metadata = sample_metadata\n",
    ").visualization"
   ]
  },
  {
   "cell_type": "code",
   "execution_count": null,
   "metadata": {},
   "outputs": [],
   "source": [
    "# odstrani P22A iz črne podvrste, naredi primerjavo med populacijama\n",
    "\n",
    "fig, [ax1, ax2] = plt.subplots(1, 2, figsize=(12, 7), gridspec_kw={'width_ratios': [9, 1]})\n",
    "\n",
    "dokdo.taxa_abundance_bar_plot(\n",
    "    taxa_bar_plot_filtered,\n",
    "    ax=ax1,\n",
    "    level=6,\n",
    "    count=20,\n",
    "    group='population',\n",
    "    group_order=['linija reke Ljubljanice', 'črna podvrsta'],\n",
    "    figsize=(10, 7),\n",
    "    legend=False,\n",
    "    cmap_name='tab20c'\n",
    ")\n",
    "\n",
    "dokdo.taxa_abundance_bar_plot(\n",
    "    taxa_bar_plot_filtered,\n",
    "    ax=ax2,\n",
    "    level=6,\n",
    "    count=20,\n",
    "    group='population',\n",
    "    group_order=['linija reke Ljubljanice', 'črna podvrsta'],\n",
    "    figsize=(10, 7),\n",
    "    legend_short=False,\n",
    "    cmap_name='tab20c'\n",
    ")\n",
    "\n",
    "handles, labels = ax2.get_legend_handles_labels()\n",
    "labels = [label_filter(lbl) for lbl in labels]\n",
    "\n",
    "ax2.clear()\n",
    "ax2.legend(handles, labels, fontsize=12)\n",
    "ax2.axis('off')\n",
    "\n",
    "# custom properties\n",
    "ax1.tick_params(labelrotation = 0, labelsize=15)  # reset rotation\n",
    "ax1.yaxis.label.set_size(15)\n",
    "\n",
    "plt.tight_layout()\n",
    "plt.savefig('./results/ba_pop_brez_P22A.png')"
   ]
  },
  {
   "cell_type": "code",
   "execution_count": null,
   "metadata": {
    "scrolled": true
   },
   "outputs": [],
   "source": [
    "fig, [ax1, ax2,] = plt.subplots(1, 2, figsize=(12, 7), gridspec_kw={'width_ratios': [9, 1]})\n",
    "\n",
    "dokdo.taxa_abundance_bar_plot(\n",
    "    taxa_bar_plot,\n",
    "    ax=ax1,\n",
    "    level=6,\n",
    "    count=20,\n",
    "    group='population',\n",
    "    group_order=['linija reke Ljubljanice', 'črna podvrsta', 'dolenjska linija'],\n",
    "    figsize=(10, 7),\n",
    "    legend=False,\n",
    "    cmap_name='tab20c'\n",
    ")\n",
    "\n",
    "dokdo.taxa_abundance_bar_plot(\n",
    "    taxa_bar_plot,\n",
    "    ax=ax2,\n",
    "    level=6,\n",
    "    count=20,\n",
    "    group='population',\n",
    "    group_order=['linija reke Ljubljanice', 'črna podvrsta', 'dolenjska linija'],\n",
    "    figsize=(10, 7),\n",
    "    legend_short=False,\n",
    "    cmap_name='tab20c'\n",
    ")\n",
    "\n",
    "handles, labels = ax2.get_legend_handles_labels()\n",
    "labels = [label_filter(lbl) for lbl in labels]\n",
    "\n",
    "ax2.clear()\n",
    "ax2.legend(handles, labels, fontsize=12)\n",
    "ax2.axis('off')\n",
    "\n",
    "# custom properties\n",
    "ax1.tick_params(labelrotation = 0, labelsize=15)  # reset rotation\n",
    "ax1.yaxis.label.set_size(15)\n",
    "\n",
    "plt.tight_layout()\n",
    "plt.savefig('./results/proteus_all_populations_together_all.png')"
   ]
  }
 ],
 "metadata": {
  "interpreter": {
   "hash": "9cfc1ea77cca5050ec46e353aa698c92876315d524268f42327e9c97aacfbb5a"
  },
  "kernelspec": {
   "display_name": "Python 3 (ipykernel)",
   "language": "python",
   "name": "python3"
  },
  "language_info": {
   "codemirror_mode": {
    "name": "ipython",
    "version": 3
   },
   "file_extension": ".py",
   "mimetype": "text/x-python",
   "name": "python",
   "nbconvert_exporter": "python",
   "pygments_lexer": "ipython3",
   "version": "3.8.13"
  }
 },
 "nbformat": 4,
 "nbformat_minor": 4
}
