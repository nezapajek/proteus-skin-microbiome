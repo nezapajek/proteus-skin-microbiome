{
 "cells": [
  {
   "cell_type": "markdown",
   "id": "a59dea53",
   "metadata": {},
   "source": [
    "# EUKARYA"
   ]
  },
  {
   "cell_type": "code",
   "execution_count": 158,
   "id": "9e983cbd",
   "metadata": {},
   "outputs": [
    {
     "name": "stdout",
     "output_type": "stream",
     "text": [
      "The autoreload extension is already loaded. To reload it, use:\n",
      "  %reload_ext autoreload\n"
     ]
    }
   ],
   "source": [
    "%load_ext autoreload\n",
    "%autoreload 2\n",
    "%reload_ext autoreload\n",
    "%matplotlib inline"
   ]
  },
  {
   "cell_type": "code",
   "execution_count": 159,
   "id": "40763ba6",
   "metadata": {},
   "outputs": [],
   "source": [
    "# import packages\n",
    "import os\n",
    "import re\n",
    "\n",
    "import dokdo\n",
    "import matplotlib.pyplot as plt\n",
    "import numpy as np\n",
    "import pandas as pd\n",
    "import qiime2 as q2\n",
    "from qiime2.plugins import feature_classifier, feature_table\n",
    "from qiime2.plugins.metadata.visualizers import tabulate\n",
    "from qiime2.plugins.taxa.methods import filter_seqs, filter_table\n",
    "from qiime2.plugins.taxa.visualizers import barplot"
   ]
  },
  {
   "cell_type": "code",
   "execution_count": 160,
   "id": "252d68b2",
   "metadata": {},
   "outputs": [
    {
     "name": "stdout",
     "output_type": "stream",
     "text": [
      "env: WORKDIR=/home/nezapa/qiime-thesis\n"
     ]
    }
   ],
   "source": [
    "# define workdir\n",
    "%env WORKDIR /home/nezapa/qiime-thesis\n",
    "WORKDIR = os.environ.get(\"WORKDIR\")"
   ]
  },
  {
   "cell_type": "code",
   "execution_count": 161,
   "id": "a2319390",
   "metadata": {},
   "outputs": [],
   "source": [
    "# import data\n",
    "denoisetable = q2.Artifact.load('./results/denoisetable.qza')\n",
    "rep_seqs = q2.Artifact.load('./results/rep_seqs.qza')\n",
    "denoising_stats = q2.Artifact.load('./results/denoising_stats.qza')\n",
    "sample_metadata = q2.Metadata.load('../00.sample-metadata.tsv')"
   ]
  },
  {
   "cell_type": "code",
   "execution_count": 162,
   "id": "a4a9fdd1",
   "metadata": {
    "collapsed": true
   },
   "outputs": [
    {
     "data": {
      "text/html": [
       "<div>\n",
       "<style scoped>\n",
       "    .dataframe tbody tr th:only-of-type {\n",
       "        vertical-align: middle;\n",
       "    }\n",
       "\n",
       "    .dataframe tbody tr th {\n",
       "        vertical-align: top;\n",
       "    }\n",
       "\n",
       "    .dataframe thead th {\n",
       "        text-align: right;\n",
       "    }\n",
       "</style>\n",
       "<table border=\"1\" class=\"dataframe\">\n",
       "  <thead>\n",
       "    <tr style=\"text-align: right;\">\n",
       "      <th></th>\n",
       "      <th>input</th>\n",
       "      <th>filtered</th>\n",
       "      <th>percentage of input passed filter</th>\n",
       "      <th>denoised</th>\n",
       "      <th>non-chimeric</th>\n",
       "      <th>percentage of input non-chimeric</th>\n",
       "    </tr>\n",
       "    <tr>\n",
       "      <th>sample-id</th>\n",
       "      <th></th>\n",
       "      <th></th>\n",
       "      <th></th>\n",
       "      <th></th>\n",
       "      <th></th>\n",
       "      <th></th>\n",
       "    </tr>\n",
       "  </thead>\n",
       "  <tbody>\n",
       "    <tr>\n",
       "      <th>P19A</th>\n",
       "      <td>23977.0</td>\n",
       "      <td>20897.0</td>\n",
       "      <td>87.15</td>\n",
       "      <td>20811.0</td>\n",
       "      <td>20753.0</td>\n",
       "      <td>86.55</td>\n",
       "    </tr>\n",
       "    <tr>\n",
       "      <th>P22A</th>\n",
       "      <td>39904.0</td>\n",
       "      <td>37579.0</td>\n",
       "      <td>94.17</td>\n",
       "      <td>37339.0</td>\n",
       "      <td>35340.0</td>\n",
       "      <td>88.56</td>\n",
       "    </tr>\n",
       "    <tr>\n",
       "      <th>P01A</th>\n",
       "      <td>49871.0</td>\n",
       "      <td>47374.0</td>\n",
       "      <td>94.99</td>\n",
       "      <td>46615.0</td>\n",
       "      <td>44604.0</td>\n",
       "      <td>89.44</td>\n",
       "    </tr>\n",
       "    <tr>\n",
       "      <th>P05A</th>\n",
       "      <td>23073.0</td>\n",
       "      <td>22118.0</td>\n",
       "      <td>95.86</td>\n",
       "      <td>21937.0</td>\n",
       "      <td>21117.0</td>\n",
       "      <td>91.52</td>\n",
       "    </tr>\n",
       "    <tr>\n",
       "      <th>P07A</th>\n",
       "      <td>21077.0</td>\n",
       "      <td>19843.0</td>\n",
       "      <td>94.15</td>\n",
       "      <td>19657.0</td>\n",
       "      <td>19359.0</td>\n",
       "      <td>91.85</td>\n",
       "    </tr>\n",
       "    <tr>\n",
       "      <th>P21A</th>\n",
       "      <td>23275.0</td>\n",
       "      <td>21656.0</td>\n",
       "      <td>93.04</td>\n",
       "      <td>21540.0</td>\n",
       "      <td>21395.0</td>\n",
       "      <td>91.92</td>\n",
       "    </tr>\n",
       "    <tr>\n",
       "      <th>P15A</th>\n",
       "      <td>15637.0</td>\n",
       "      <td>14788.0</td>\n",
       "      <td>94.57</td>\n",
       "      <td>14682.0</td>\n",
       "      <td>14502.0</td>\n",
       "      <td>92.74</td>\n",
       "    </tr>\n",
       "    <tr>\n",
       "      <th>P13A</th>\n",
       "      <td>28469.0</td>\n",
       "      <td>26808.0</td>\n",
       "      <td>94.17</td>\n",
       "      <td>26566.0</td>\n",
       "      <td>26435.0</td>\n",
       "      <td>92.86</td>\n",
       "    </tr>\n",
       "    <tr>\n",
       "      <th>P03A</th>\n",
       "      <td>31396.0</td>\n",
       "      <td>29770.0</td>\n",
       "      <td>94.82</td>\n",
       "      <td>29414.0</td>\n",
       "      <td>29249.0</td>\n",
       "      <td>93.16</td>\n",
       "    </tr>\n",
       "    <tr>\n",
       "      <th>P20A</th>\n",
       "      <td>27674.0</td>\n",
       "      <td>26281.0</td>\n",
       "      <td>94.97</td>\n",
       "      <td>26121.0</td>\n",
       "      <td>25827.0</td>\n",
       "      <td>93.33</td>\n",
       "    </tr>\n",
       "    <tr>\n",
       "      <th>P17A</th>\n",
       "      <td>21407.0</td>\n",
       "      <td>20323.0</td>\n",
       "      <td>94.94</td>\n",
       "      <td>20202.0</td>\n",
       "      <td>20127.0</td>\n",
       "      <td>94.02</td>\n",
       "    </tr>\n",
       "    <tr>\n",
       "      <th>P11A</th>\n",
       "      <td>27808.0</td>\n",
       "      <td>26509.0</td>\n",
       "      <td>95.33</td>\n",
       "      <td>26401.0</td>\n",
       "      <td>26392.0</td>\n",
       "      <td>94.91</td>\n",
       "    </tr>\n",
       "    <tr>\n",
       "      <th>P09A</th>\n",
       "      <td>20350.0</td>\n",
       "      <td>19504.0</td>\n",
       "      <td>95.84</td>\n",
       "      <td>19389.0</td>\n",
       "      <td>19389.0</td>\n",
       "      <td>95.28</td>\n",
       "    </tr>\n",
       "  </tbody>\n",
       "</table>\n",
       "</div>"
      ],
      "text/plain": [
       "             input  filtered  percentage of input passed filter  denoised  \\\n",
       "sample-id                                                                   \n",
       "P19A       23977.0   20897.0                              87.15   20811.0   \n",
       "P22A       39904.0   37579.0                              94.17   37339.0   \n",
       "P01A       49871.0   47374.0                              94.99   46615.0   \n",
       "P05A       23073.0   22118.0                              95.86   21937.0   \n",
       "P07A       21077.0   19843.0                              94.15   19657.0   \n",
       "P21A       23275.0   21656.0                              93.04   21540.0   \n",
       "P15A       15637.0   14788.0                              94.57   14682.0   \n",
       "P13A       28469.0   26808.0                              94.17   26566.0   \n",
       "P03A       31396.0   29770.0                              94.82   29414.0   \n",
       "P20A       27674.0   26281.0                              94.97   26121.0   \n",
       "P17A       21407.0   20323.0                              94.94   20202.0   \n",
       "P11A       27808.0   26509.0                              95.33   26401.0   \n",
       "P09A       20350.0   19504.0                              95.84   19389.0   \n",
       "\n",
       "           non-chimeric  percentage of input non-chimeric  \n",
       "sample-id                                                  \n",
       "P19A            20753.0                             86.55  \n",
       "P22A            35340.0                             88.56  \n",
       "P01A            44604.0                             89.44  \n",
       "P05A            21117.0                             91.52  \n",
       "P07A            19359.0                             91.85  \n",
       "P21A            21395.0                             91.92  \n",
       "P15A            14502.0                             92.74  \n",
       "P13A            26435.0                             92.86  \n",
       "P03A            29249.0                             93.16  \n",
       "P20A            25827.0                             93.33  \n",
       "P17A            20127.0                             94.02  \n",
       "P11A            26392.0                             94.91  \n",
       "P09A            19389.0                             95.28  "
      ]
     },
     "execution_count": 162,
     "metadata": {},
     "output_type": "execute_result"
    }
   ],
   "source": [
    "# view denoising stats\n",
    "stats_df = denoising_stats.view(q2.Metadata).to_dataframe()\n",
    "stats_df\n",
    "#stats_df.sort_values('percentage of input passed filter')\n",
    "stats_df.sort_values('percentage of input non-chimeric')"
   ]
  },
  {
   "cell_type": "code",
   "execution_count": 163,
   "id": "c1a1adad",
   "metadata": {
    "collapsed": true
   },
   "outputs": [
    {
     "data": {
      "text/html": [
       "<div><img onload=\"(function(div, url){\n",
       "if (typeof require !== 'undefined') {\n",
       "    var baseURL = require.toUrl('').split('/').slice(0, -2).join('/');\n",
       "} else {\n",
       "    var baseURL = JSON.parse(\n",
       "        document.getElementById('jupyter-config-data').innerHTML\n",
       "    ).baseUrl.slice(0, -1);\n",
       "}\n",
       "url = baseURL + url;\n",
       "fetch(url).then(function(res) {\n",
       "    if (res.status === 404) {\n",
       "        div.innerHTML = 'Install QIIME 2 Jupyter extension with:<br />' +\n",
       "                        '<code>jupyter serverextension enable --py qiime2' +\n",
       "                        ' --sys-prefix</code><br />then restart your server.' +\n",
       "                        '<br /><br />(Interactive output not available on ' +\n",
       "                        'static notebook viewer services like nbviewer.)';\n",
       "    } else if (res.status === 409) {\n",
       "        div.innerHTML = 'Visualization no longer in scope. Re-run this cell' +\n",
       "                        ' to see the visualization.';\n",
       "    } else if (res.ok) {\n",
       "        url = res.url;\n",
       "        div.innerHTML = '<iframe src=\\'' + url + '\\' style=\\'' +\n",
       "                        'width: 100%; height: 700px; border: 0;\\'>' +\n",
       "                        '</iframe><hr />Open in a: <a href=\\'' + url + '\\'' +\n",
       "                        ' target=\\'_blank\\'>new window</a>'\n",
       "    } else {\n",
       "        div.innerHTML = 'Something has gone wrong. Check notebook server for' +\n",
       "                        ' errors.';\n",
       "    }\n",
       "});\n",
       "})(this.parentElement, '/qiime2/redirect?location=/tmp/qiime2-archive-z56nwcwj')\" src=\"data:image/gif;base64,R0lGODlhAQABAIAAAP///wAAACH5BAEAAAAALAAAAAABAAEAAAICRAEAOw==\" /></div>"
      ],
      "text/plain": [
       "<visualization: Visualization uuid: a3b4ceb9-43c5-4188-8bd3-d24720da8fa5>"
      ]
     },
     "execution_count": 163,
     "metadata": {},
     "output_type": "execute_result"
    }
   ],
   "source": [
    "# summarise and visualise\n",
    "feature_table.visualizers.summarize(\n",
    "    table = denoisetable,\n",
    "    sample_metadata = sample_metadata\n",
    ").visualization"
   ]
  },
  {
   "cell_type": "markdown",
   "id": "1303be73",
   "metadata": {},
   "source": [
    "## TAXONOMIC ANALYSIS"
   ]
  },
  {
   "cell_type": "code",
   "execution_count": 164,
   "id": "0013ed30",
   "metadata": {},
   "outputs": [],
   "source": [
    "# load classifier data, eukarya classifier classifier-E-18S616F_18S1132R\n",
    "classifier = q2.Artifact.load(f'{WORKDIR}/database/200827SILVA138/classifier-E-18S616F_18S1132R.qza')\n",
    "reference_reads = q2.Artifact.load(f'{WORKDIR}/database/200827SILVA138/ref-seqs_18S616F_18S1132R.qza')\n",
    "reference_taxonomy = q2.Artifact.load(f'{WORKDIR}/database/200827SILVA138/silva-138-99-tax.qza')"
   ]
  },
  {
   "cell_type": "code",
   "execution_count": 165,
   "id": "e9b3fb44",
   "metadata": {},
   "outputs": [],
   "source": [
    "# define model choices\n",
    "models = {\n",
    "    'sklearn': feature_classifier.methods.classify_sklearn,\n",
    "    'vsearch': feature_classifier.methods.classify_consensus_vsearch,\n",
    "    'blast': feature_classifier.methods.classify_consensus_blast,\n",
    "    'hybrid': feature_classifier.pipelines.classify_hybrid_vsearch_sklearn\n",
    "}"
   ]
  },
  {
   "cell_type": "code",
   "execution_count": 166,
   "id": "1de71f54",
   "metadata": {},
   "outputs": [],
   "source": [
    "# choose model, run for each model_name\n",
    "model_name = \"hybrid\"\n",
    "model = models[model_name]"
   ]
  },
  {
   "cell_type": "code",
   "execution_count": 167,
   "id": "b5bac663",
   "metadata": {},
   "outputs": [],
   "source": [
    "# classify the seqences using different classifiers\n",
    "# run once for each model\n",
    "# this step might take some time\n",
    "\n",
    "if os.path.exists(f'./results/taxonomy_{model_name}.qza'):\n",
    "    taxonomy = q2.Artifact.load(f'./results/taxonomy_{model_name}.qza')\n",
    "else:\n",
    "    if model_name == \"sklearn\":\n",
    "        taxonomy = model(\n",
    "            reads = rep_seqs,\n",
    "            classifier = classifier,\n",
    "            n_jobs=4\n",
    "        )\n",
    "        \n",
    "    elif model_name == \"vsearch\":\n",
    "        taxonomy = model(\n",
    "            query = rep_seqs,\n",
    "            reference_reads = reference_reads,\n",
    "            reference_taxonomy = reference_taxonomy,\n",
    "            threads = 15\n",
    "        )\n",
    "    elif model_name == \"blast\":\n",
    "        taxonomy = model(\n",
    "            query = rep_seqs,\n",
    "            reference_reads = reference_reads,\n",
    "            reference_taxonomy = reference_taxonomy\n",
    "            )\n",
    "    elif model_name == \"hybrid\":\n",
    "        taxonomy = model(\n",
    "            query = rep_seqs,\n",
    "            reference_reads = reference_reads,\n",
    "            reference_taxonomy = reference_taxonomy,\n",
    "            classifier = classifier,\n",
    "            threads = 2,\n",
    "            prefilter = False\n",
    "            )\n",
    "    else:\n",
    "        print(f\"model name {model_name} doesn't exist\")\n",
    "    \n",
    "    taxonomy = taxonomy.classification\n",
    "    taxonomy.save(f'./results/taxonomy_{model_name}.qza')"
   ]
  },
  {
   "cell_type": "code",
   "execution_count": 168,
   "id": "56dd8195",
   "metadata": {},
   "outputs": [],
   "source": [
    "# merge all taxonomy classifications\n",
    "for idx, model_name in enumerate(models.keys()):\n",
    "    model_df = q2.Artifact.load(f'./results/taxonomy_{model_name}.qza').view(pd.DataFrame)\n",
    "    model_df.columns = [f'{col}_{model_name}' for col in model_df.columns]\n",
    "    if idx == 0:\n",
    "        res_df = model_df.copy()\n",
    "    else:\n",
    "        res_df = res_df.merge(model_df, on = 'Feature ID')"
   ]
  },
  {
   "cell_type": "code",
   "execution_count": 169,
   "id": "a38ffc56",
   "metadata": {
    "collapsed": true
   },
   "outputs": [
    {
     "data": {
      "text/html": [
       "<div><img onload=\"(function(div, url){\n",
       "if (typeof require !== 'undefined') {\n",
       "    var baseURL = require.toUrl('').split('/').slice(0, -2).join('/');\n",
       "} else {\n",
       "    var baseURL = JSON.parse(\n",
       "        document.getElementById('jupyter-config-data').innerHTML\n",
       "    ).baseUrl.slice(0, -1);\n",
       "}\n",
       "url = baseURL + url;\n",
       "fetch(url).then(function(res) {\n",
       "    if (res.status === 404) {\n",
       "        div.innerHTML = 'Install QIIME 2 Jupyter extension with:<br />' +\n",
       "                        '<code>jupyter serverextension enable --py qiime2' +\n",
       "                        ' --sys-prefix</code><br />then restart your server.' +\n",
       "                        '<br /><br />(Interactive output not available on ' +\n",
       "                        'static notebook viewer services like nbviewer.)';\n",
       "    } else if (res.status === 409) {\n",
       "        div.innerHTML = 'Visualization no longer in scope. Re-run this cell' +\n",
       "                        ' to see the visualization.';\n",
       "    } else if (res.ok) {\n",
       "        url = res.url;\n",
       "        div.innerHTML = '<iframe src=\\'' + url + '\\' style=\\'' +\n",
       "                        'width: 100%; height: 700px; border: 0;\\'>' +\n",
       "                        '</iframe><hr />Open in a: <a href=\\'' + url + '\\'' +\n",
       "                        ' target=\\'_blank\\'>new window</a>'\n",
       "    } else {\n",
       "        div.innerHTML = 'Something has gone wrong. Check notebook server for' +\n",
       "                        ' errors.';\n",
       "    }\n",
       "});\n",
       "})(this.parentElement, '/qiime2/redirect?location=/tmp/qiime2-archive-uhbg915d')\" src=\"data:image/gif;base64,R0lGODlhAQABAIAAAP///wAAACH5BAEAAAAALAAAAAABAAEAAAICRAEAOw==\" /></div>"
      ],
      "text/plain": [
       "<visualization: Visualization uuid: e4b0f9b0-fce7-41c6-91ef-bbe57b1dfe1a>"
      ]
     },
     "execution_count": 169,
     "metadata": {},
     "output_type": "execute_result"
    }
   ],
   "source": [
    "# view merged df as q2 viz\n",
    "res_df_viz = q2.plugins.metadata.visualizers.tabulate(q2.Metadata(res_df)).visualization\n",
    "res_df_viz.save('./results/res_df_viz.qzv')\n",
    "res_df_viz"
   ]
  },
  {
   "cell_type": "code",
   "execution_count": 170,
   "id": "853aa9af",
   "metadata": {},
   "outputs": [],
   "source": [
    "# choose a classifier\n",
    "model_name = \"sklearn\"\n",
    "taxonomy = q2.Artifact.load(f'./results/taxonomy_{model_name}.qza')"
   ]
  },
  {
   "cell_type": "code",
   "execution_count": 171,
   "id": "bf9eeaa2",
   "metadata": {
    "collapsed": true
   },
   "outputs": [
    {
     "data": {
      "text/html": [
       "<div><img onload=\"(function(div, url){\n",
       "if (typeof require !== 'undefined') {\n",
       "    var baseURL = require.toUrl('').split('/').slice(0, -2).join('/');\n",
       "} else {\n",
       "    var baseURL = JSON.parse(\n",
       "        document.getElementById('jupyter-config-data').innerHTML\n",
       "    ).baseUrl.slice(0, -1);\n",
       "}\n",
       "url = baseURL + url;\n",
       "fetch(url).then(function(res) {\n",
       "    if (res.status === 404) {\n",
       "        div.innerHTML = 'Install QIIME 2 Jupyter extension with:<br />' +\n",
       "                        '<code>jupyter serverextension enable --py qiime2' +\n",
       "                        ' --sys-prefix</code><br />then restart your server.' +\n",
       "                        '<br /><br />(Interactive output not available on ' +\n",
       "                        'static notebook viewer services like nbviewer.)';\n",
       "    } else if (res.status === 409) {\n",
       "        div.innerHTML = 'Visualization no longer in scope. Re-run this cell' +\n",
       "                        ' to see the visualization.';\n",
       "    } else if (res.ok) {\n",
       "        url = res.url;\n",
       "        div.innerHTML = '<iframe src=\\'' + url + '\\' style=\\'' +\n",
       "                        'width: 100%; height: 700px; border: 0;\\'>' +\n",
       "                        '</iframe><hr />Open in a: <a href=\\'' + url + '\\'' +\n",
       "                        ' target=\\'_blank\\'>new window</a>'\n",
       "    } else {\n",
       "        div.innerHTML = 'Something has gone wrong. Check notebook server for' +\n",
       "                        ' errors.';\n",
       "    }\n",
       "});\n",
       "})(this.parentElement, '/qiime2/redirect?location=/tmp/qiime2-archive-yn0e7y8t')\" src=\"data:image/gif;base64,R0lGODlhAQABAIAAAP///wAAACH5BAEAAAAALAAAAAABAAEAAAICRAEAOw==\" /></div>"
      ],
      "text/plain": [
       "<visualization: Visualization uuid: 69cd01b0-6328-4b62-b4ee-f8ae9a13b0f2>"
      ]
     },
     "execution_count": 171,
     "metadata": {},
     "output_type": "execute_result"
    }
   ],
   "source": [
    "# load classification results of a chosen classifier as metadata and view them\n",
    "taxonomy_metadata = taxonomy.view(q2.Metadata)  # or pd.DataFrame\n",
    "q2.plugins.metadata.visualizers.tabulate(taxonomy_metadata).visualization"
   ]
  },
  {
   "cell_type": "code",
   "execution_count": 172,
   "id": "1473f994",
   "metadata": {
    "collapsed": true
   },
   "outputs": [
    {
     "data": {
      "text/html": [
       "<div><img onload=\"(function(div, url){\n",
       "if (typeof require !== 'undefined') {\n",
       "    var baseURL = require.toUrl('').split('/').slice(0, -2).join('/');\n",
       "} else {\n",
       "    var baseURL = JSON.parse(\n",
       "        document.getElementById('jupyter-config-data').innerHTML\n",
       "    ).baseUrl.slice(0, -1);\n",
       "}\n",
       "url = baseURL + url;\n",
       "fetch(url).then(function(res) {\n",
       "    if (res.status === 404) {\n",
       "        div.innerHTML = 'Install QIIME 2 Jupyter extension with:<br />' +\n",
       "                        '<code>jupyter serverextension enable --py qiime2' +\n",
       "                        ' --sys-prefix</code><br />then restart your server.' +\n",
       "                        '<br /><br />(Interactive output not available on ' +\n",
       "                        'static notebook viewer services like nbviewer.)';\n",
       "    } else if (res.status === 409) {\n",
       "        div.innerHTML = 'Visualization no longer in scope. Re-run this cell' +\n",
       "                        ' to see the visualization.';\n",
       "    } else if (res.ok) {\n",
       "        url = res.url;\n",
       "        div.innerHTML = '<iframe src=\\'' + url + '\\' style=\\'' +\n",
       "                        'width: 100%; height: 700px; border: 0;\\'>' +\n",
       "                        '</iframe><hr />Open in a: <a href=\\'' + url + '\\'' +\n",
       "                        ' target=\\'_blank\\'>new window</a>'\n",
       "    } else {\n",
       "        div.innerHTML = 'Something has gone wrong. Check notebook server for' +\n",
       "                        ' errors.';\n",
       "    }\n",
       "});\n",
       "})(this.parentElement, '/qiime2/redirect?location=/tmp/qiime2-archive-2gyv962d')\" src=\"data:image/gif;base64,R0lGODlhAQABAIAAAP///wAAACH5BAEAAAAALAAAAAABAAEAAAICRAEAOw==\" /></div>"
      ],
      "text/plain": [
       "<visualization: Visualization uuid: 62fed91a-abf8-4e72-b728-df55e0857950>"
      ]
     },
     "execution_count": 172,
     "metadata": {},
     "output_type": "execute_result"
    }
   ],
   "source": [
    "### FILTER BY TAXONOMY# load rep_seqs as metadata\n",
    "rep_seqs_mtdt = rep_seqs.view(q2.Metadata)\n",
    "\n",
    "# merge dataframes in the background (appends new column)\n",
    "annotated_taxonomy_metadata = taxonomy_metadata.merge(rep_seqs_mtdt)\n",
    "\n",
    "# visualize merged dataframes as metadata viz\n",
    "q2.plugins.metadata.visualizers.tabulate(annotated_taxonomy_metadata).visualization"
   ]
  },
  {
   "cell_type": "markdown",
   "id": "ecb183a2",
   "metadata": {},
   "source": [
    "### FILTER BY TAXONOMY"
   ]
  },
  {
   "cell_type": "code",
   "execution_count": 173,
   "id": "e350f73f",
   "metadata": {},
   "outputs": [
    {
     "data": {
      "text/plain": [
       "'./results/denoisetable_eu.qza'"
      ]
     },
     "execution_count": 173,
     "metadata": {},
     "output_type": "execute_result"
    }
   ],
   "source": [
    "# filter denoisetable, keep only d__Eukaryota\n",
    "denoisetable_eu = filter_table(\n",
    "    table = denoisetable,\n",
    "    taxonomy = taxonomy, \n",
    "    include = 'd__Eukaryota'\n",
    ")\n",
    "denoisetable_eu.filtered_table.save('./results/denoisetable_eu.qza')"
   ]
  },
  {
   "cell_type": "code",
   "execution_count": 174,
   "id": "96aa21e5",
   "metadata": {
    "collapsed": true
   },
   "outputs": [
    {
     "data": {
      "text/html": [
       "<div><img onload=\"(function(div, url){\n",
       "if (typeof require !== 'undefined') {\n",
       "    var baseURL = require.toUrl('').split('/').slice(0, -2).join('/');\n",
       "} else {\n",
       "    var baseURL = JSON.parse(\n",
       "        document.getElementById('jupyter-config-data').innerHTML\n",
       "    ).baseUrl.slice(0, -1);\n",
       "}\n",
       "url = baseURL + url;\n",
       "fetch(url).then(function(res) {\n",
       "    if (res.status === 404) {\n",
       "        div.innerHTML = 'Install QIIME 2 Jupyter extension with:<br />' +\n",
       "                        '<code>jupyter serverextension enable --py qiime2' +\n",
       "                        ' --sys-prefix</code><br />then restart your server.' +\n",
       "                        '<br /><br />(Interactive output not available on ' +\n",
       "                        'static notebook viewer services like nbviewer.)';\n",
       "    } else if (res.status === 409) {\n",
       "        div.innerHTML = 'Visualization no longer in scope. Re-run this cell' +\n",
       "                        ' to see the visualization.';\n",
       "    } else if (res.ok) {\n",
       "        url = res.url;\n",
       "        div.innerHTML = '<iframe src=\\'' + url + '\\' style=\\'' +\n",
       "                        'width: 100%; height: 700px; border: 0;\\'>' +\n",
       "                        '</iframe><hr />Open in a: <a href=\\'' + url + '\\'' +\n",
       "                        ' target=\\'_blank\\'>new window</a>'\n",
       "    } else {\n",
       "        div.innerHTML = 'Something has gone wrong. Check notebook server for' +\n",
       "                        ' errors.';\n",
       "    }\n",
       "});\n",
       "})(this.parentElement, '/qiime2/redirect?location=/tmp/qiime2-archive-x5hw7tce')\" src=\"data:image/gif;base64,R0lGODlhAQABAIAAAP///wAAACH5BAEAAAAALAAAAAABAAEAAAICRAEAOw==\" /></div>"
      ],
      "text/plain": [
       "<visualization: Visualization uuid: 3044b206-46a3-4d40-9ae2-5a0008d996fb>"
      ]
     },
     "execution_count": 174,
     "metadata": {},
     "output_type": "execute_result"
    }
   ],
   "source": [
    "# summarise and visualise\n",
    "feature_table.visualizers.summarize(\n",
    "    table = denoisetable_eu.filtered_table,\n",
    "    sample_metadata = sample_metadata\n",
    ").visualization"
   ]
  },
  {
   "cell_type": "code",
   "execution_count": 175,
   "id": "ae588faf",
   "metadata": {},
   "outputs": [
    {
     "data": {
      "text/plain": [
       "'./results/rep_seqs_eu.qza'"
      ]
     },
     "execution_count": 175,
     "metadata": {},
     "output_type": "execute_result"
    }
   ],
   "source": [
    "# filter rep_seqs, keep only d__Eukaryota\n",
    "\n",
    "rep_seqs_eu = filter_seqs(\n",
    "    sequences = rep_seqs,\n",
    "    taxonomy = taxonomy,\n",
    "    include = 'd__Eukaryota'\n",
    ")\n",
    "rep_seqs_eu.filtered_sequences.save('./results/rep_seqs_eu.qza')"
   ]
  },
  {
   "cell_type": "markdown",
   "id": "29a78527",
   "metadata": {},
   "source": [
    "### TAXA PER SPECIMEN"
   ]
  },
  {
   "cell_type": "code",
   "execution_count": 176,
   "id": "8ee293b6",
   "metadata": {},
   "outputs": [],
   "source": [
    "# load denoise as dataframe and transpose (feature id is index), add name to index\n",
    "denoise_df = denoisetable_eu.filtered_table.view(view_type = pd.DataFrame).T\n",
    "denoise_df.index.name = 'id'\n",
    "\n",
    "# load annotated data as df\n",
    "annotated_df = annotated_taxonomy_metadata.to_dataframe()\n",
    "\n",
    "# merge the two using indices of both dataframes\n",
    "merged_df = denoise_df.merge(annotated_df['Taxon'], left_index=True, right_index=True)\n",
    "\n",
    "# set Taxon column as index and show transposed\n",
    "taxon_df = merged_df.set_index('Taxon').T"
   ]
  },
  {
   "cell_type": "code",
   "execution_count": 177,
   "id": "42373e76",
   "metadata": {},
   "outputs": [],
   "source": [
    "# define functions\n",
    "# define extract lvl using regex (regular expressions)\n",
    "import re\n",
    "def extract_level(tax, level_prefix, null_data = '/'):\n",
    "    g = re.findall(fr'({level_prefix}[^;|^$]*)(?=;|$)', tax)\n",
    "    if len(g) == 0:\n",
    "        return null_data\n",
    "    \n",
    "    return g[0].replace(level_prefix, '')\n",
    "\n",
    "# define backtrace_unassigned \n",
    "def backtrace_unassigned(row, unassigned_like_words, invalid_words):\n",
    "    columns = ['Domain', 'Phylum', 'Class', 'Order', 'Family', 'Genus']\n",
    "    try:\n",
    "        valid_name = [val for val in row[columns].values if val not in invalid_words][-1]\n",
    "        row[columns] = [val if val not in invalid_words else f\"Unclass. {valid_name}\" for val in row[columns].values]\n",
    "        \n",
    "        valid_name = [val for val in row[columns].values if val not in unassigned_like_words][-1]\n",
    "        row[columns] = [val if val not in unassigned_like_words else f\"Unclass. {valid_name}_{val}\" for val in row[columns].values]\n",
    "    except:\n",
    "        pass\n",
    "    return row\n",
    "\n",
    "# define reassemble taxon column\n",
    "def reassemble_taxon(row):\n",
    "    columns = ['Domain', 'Phylum', 'Class', 'Order', 'Family', 'Genus']\n",
    "    prefixes = ['d__', 'p__', 'c__', 'o__', 'f__', 'g__']\n",
    "    return \";\".join([\"\".join(pair) for pair in zip(prefixes, row[columns].values)])\n",
    "\n",
    "\n",
    "# remove duplicates\n",
    "def remove_duplicates(row):\n",
    "    columns = ['Domain', 'Phylum', 'Class', 'Order', 'Family', 'Genus']\n",
    "    try:\n",
    "        values = [val for val in row[columns].values if \"Unclass.\" not in val]\n",
    "        unique_values, counts = np.unique(values, return_counts=True)\n",
    "        duplicate_id = np.where(counts > 1)[0][0] if any(counts > 1) else None\n",
    "        \n",
    "        if duplicate_id is not None:\n",
    "            count = counts[duplicate_id]\n",
    "            duplicate_str = unique_values[duplicate_id]\n",
    "            joined_str = '|'.join(row[columns].values[::-1])\n",
    "            row[columns] = re.sub(duplicate_str, f'Unclass. {duplicate_str}', joined_str, count=count-1).split('|')[::-1]\n",
    "    except:\n",
    "        pass\n",
    "    return row"
   ]
  },
  {
   "cell_type": "code",
   "execution_count": 222,
   "id": "1a190e62",
   "metadata": {},
   "outputs": [
    {
     "name": "stdout",
     "output_type": "stream",
     "text": [
      "\\begin{tabular}{llllll}\n",
      "\\toprule\n",
      "           &          &                   &                   &                   &    P22A \\\\\n",
      "Phylum & Class & Order & Family & Genus &         \\\\\n",
      "\\midrule\n",
      "Cercozoa & Incertae_Sedis & Unclass. Incertae_Sedis & Unclass. Incertae_Sedis & Gymnophrys &   1.358 \\\\\n",
      "Diatomea & Bacillariophyceae & Unclass. Bacillariophyceae & Unclass. Bacillariophyceae & Cocconeis &   6.635 \\\\\n",
      "Mollusca & Gastropoda & Heterobranchia & Unclass. Heterobranchia & Unclass. Heterobranchia &   0.257 \\\\\n",
      "Nematozoa & Chromadorea & Monhysterida & Unclass. Monhysterida & Unclass. Monhysterida &   1.334 \\\\\n",
      "Platyhelminthes & Monogenea & Monopisthocotylea & Gyrodactylidae & Unclass. Gyrodactylidae &   0.053 \\\\\n",
      "Unclass. Eukaryota & Unclass. Eukaryota & Unclass. Eukaryota & Unclass. Eukaryota & Unclass. Eukaryota &   0.306 \\\\\n",
      "Vertebrata & Amphibia & Unclass. Amphibia & Unclass. Amphibia & Unclass. Amphibia &  90.057 \\\\\n",
      "\\bottomrule\n",
      "\\end{tabular}\n",
      "\n"
     ]
    }
   ],
   "source": [
    "# run once for each sample (subject)\n",
    "# choose a sample \n",
    "subject = 'P22A'\n",
    "taxon_df.loc[[subject]].T.reset_index().query(f'{subject} > 0.0').value_counts('Taxon')\n",
    "\n",
    "# define custom_df, get rid of Unassigned\n",
    "custom_df = taxon_df.loc[[subject]].T.reset_index()\n",
    "custom_df = custom_df.query(f'Taxon != \"Unassigned\" and {subject} > 0')\n",
    "\n",
    "custom_df['Domain'] = custom_df.Taxon.apply(lambda tax: extract_level(tax, level_prefix='d__', null_data='Unassigned'))\n",
    "custom_df['Phylum'] = custom_df.Taxon.apply(lambda tax: extract_level(tax, level_prefix='p__', null_data='Unassigned'))\n",
    "custom_df['Class'] = custom_df.Taxon.apply(lambda tax: extract_level(tax, level_prefix='c__', null_data='Unassigned'))\n",
    "custom_df['Order'] = custom_df.Taxon.apply(lambda tax: extract_level(tax, level_prefix='o__', null_data='Unassigned'))\n",
    "custom_df['Family'] = custom_df.Taxon.apply(lambda tax: extract_level(tax, level_prefix='f__', null_data='Unassigned'))\n",
    "custom_df['Genus'] = custom_df.Taxon.apply(lambda tax: extract_level(tax, level_prefix='g__', null_data='Unassigned'))\n",
    "#custom_df['Species'] = custom_df.Taxon.apply(lambda tax: extract_level(tax, level_prefix='s__'))\n",
    "\n",
    "invalid_words = [\"uncultured\", \"Unassigned\"]\n",
    "unassigned_like_words = ['P34.45', 'WD2101_soil_group']\n",
    "custom_df = custom_df.apply(backtrace_unassigned, unassigned_like_words=unassigned_like_words, invalid_words=invalid_words, axis=1)\n",
    "\n",
    "custom_df['Taxon'] = custom_df.apply(reassemble_taxon, axis=1)\n",
    "custom_df = custom_df.apply(remove_duplicates, axis=1)\n",
    "\n",
    "columns = ['Phylum', 'Class', 'Order', 'Family', 'Genus']#, 'Species']\n",
    "# columns = ['Order', 'Family', 'Genus', 'Species']\n",
    "taxa_per_species = custom_df.groupby(columns).sum()\n",
    "taxa_per_species[subject] /= taxa_per_species[subject].sum()\n",
    "taxa_per_species[subject] = [f'{x*100:.3f}' for x in taxa_per_species[subject]]\n",
    "\n",
    "# table content for latex\n",
    "print(taxa_per_species.to_latex(escape=False))\n",
    "\n",
    "#taxa_per_species"
   ]
  },
  {
   "cell_type": "markdown",
   "id": "8a8aec57",
   "metadata": {},
   "source": [
    "### VISUALIZATIONS"
   ]
  },
  {
   "cell_type": "code",
   "execution_count": 179,
   "id": "258f515d",
   "metadata": {},
   "outputs": [],
   "source": [
    "import numpy as np\n",
    "\n",
    "# prepare new_taxonomy file with taxonomy corrections, same as above\n",
    "taxonomy_df = taxonomy.view(pd.DataFrame)\n",
    "\n",
    "taxonomy_df['Domain'] = taxonomy_df.Taxon.apply(extract_level, level_prefix='d__', null_data='Unassigned')\n",
    "taxonomy_df['Phylum'] = taxonomy_df.Taxon.apply(extract_level, level_prefix='p__', null_data='Unassigned')\n",
    "taxonomy_df['Class'] = taxonomy_df.Taxon.apply(extract_level, level_prefix='c__', null_data='Unassigned')\n",
    "taxonomy_df['Order'] = taxonomy_df.Taxon.apply(extract_level, level_prefix='o__', null_data='Unassigned')\n",
    "taxonomy_df['Family'] = taxonomy_df.Taxon.apply(extract_level, level_prefix='f__', null_data='Unassigned')\n",
    "taxonomy_df['Genus'] = taxonomy_df.Taxon.apply(extract_level, level_prefix='g__', null_data='Unassigned')\n",
    "\n",
    "invalid_words = [\"uncultured\", \"Unassigned\"]\n",
    "unassigned_like_words = ['P34.45', 'WD2101_soil_group']\n",
    "taxonomy_df = taxonomy_df.apply(backtrace_unassigned, unassigned_like_words=unassigned_like_words, invalid_words=invalid_words, axis=1)\n",
    "\n",
    "taxonomy_df = taxonomy_df.apply(remove_duplicates, axis=1)\n",
    "\n",
    "taxonomy_df['Taxon'] = taxonomy_df.apply(reassemble_taxon, axis=1)\n",
    "\n",
    "new_taxonomy = q2.Artifact.import_data(\"FeatureData[Taxonomy]\", taxonomy_df)"
   ]
  },
  {
   "cell_type": "code",
   "execution_count": 181,
   "id": "75e68189",
   "metadata": {},
   "outputs": [
    {
     "data": {
      "text/plain": [
       "True"
      ]
     },
     "execution_count": 181,
     "metadata": {},
     "output_type": "execute_result"
    }
   ],
   "source": [
    "# remove unclass.\n",
    "mask = ['Unclass.' in x for x in new_taxonomy_df.Family]\n",
    "df1 = new_taxonomy_df[mask]\n",
    "\n",
    "df2 = new_taxonomy_df.query('Family.str.contains(\"Unclass.\")')\n",
    "\n",
    "df1.equals(df2)"
   ]
  },
  {
   "cell_type": "code",
   "execution_count": 183,
   "id": "1d6b6fe5",
   "metadata": {
    "collapsed": true
   },
   "outputs": [
    {
     "name": "stdout",
     "output_type": "stream",
     "text": [
      "Phylum: 14\n",
      "['Vertebrata', 'Platyhelminthes', 'Ciliophora', 'Heterolobosea', 'Ochrophyta', 'Diatomea', 'Archamoebae', 'Cercozoa', 'Nematozoa', 'Basidiomycota', 'Euglenozoa', 'Ancyromonadida', 'Ascomycota', 'Mollusca']\n",
      "\n",
      "Class: 13\n",
      "['Amphibia', 'Monogenea', 'Intramacronucleata', 'Tetramitia', 'Chrysophyceae', 'Bacillariophyceae', 'Incertae_Sedis', 'Chromadorea', 'Agaricomycetes', 'Glissomonadida', 'Kinetoplastea', 'Sordariomycetes', 'Gastropoda']\n",
      "\n",
      "Order: 10\n",
      "['Monopisthocotylea', 'Conthreep', 'Ochromonadales', 'Chromulinales', 'Monhysterida', 'Polyporales', 'Neobodonida', 'Hypocreales', 'Heterobranchia', 'Russulales']\n",
      "\n",
      "Family: 7\n",
      "['Gyrodactylidae', 'Phyllopharyngea', 'Oligohymenophorea', 'Chromulinales', 'Incertae_Sedis', 'Hypocreaceae', 'Cordycipitaceae']\n",
      "\n",
      "Genus: 15\n",
      "['Chilodonella', 'Allovahlkampfia', 'Ochromonas', 'Telotrochidium', 'Cocconeis', 'Rhizomastix', 'Naegleria', 'Spumella', 'Gymnophrys', 'Trametes', 'Heteromita', 'Neobodo', 'Oikomonas', 'Trichoderma', 'Paraphysomonas']\n",
      "\n"
     ]
    }
   ],
   "source": [
    "# make a df\n",
    "new_taxonomy_df = new_taxonomy.view(view_type = pd.DataFrame)\n",
    "# select taxa of interest\n",
    "new_taxonomy_df = new_taxonomy_df.query(\"Domain == 'Eukaryota'\")\n",
    "new_taxonomy_df\n",
    "\n",
    "# check for unique values in each lvl\n",
    "for col in columns:\n",
    "    cases = new_taxonomy_df.query(f\"not {col}.str.contains('Unclass.')\")[col]\n",
    "    print(f'{col}: {cases.nunique()}')\n",
    "    print(cases.unique().tolist())\n",
    "    print('')"
   ]
  },
  {
   "cell_type": "code",
   "execution_count": 184,
   "id": "82f8f2d5",
   "metadata": {},
   "outputs": [],
   "source": [
    "# visualise classifications in qiime2\n",
    "taxa_bar_plot = barplot(\n",
    "    table = denoisetable_eu.filtered_table,\n",
    "    taxonomy = new_taxonomy,\n",
    "    metadata = sample_metadata\n",
    ").visualization"
   ]
  },
  {
   "cell_type": "code",
   "execution_count": 185,
   "id": "bd070937",
   "metadata": {},
   "outputs": [
    {
     "data": {
      "text/plain": [
       "'./results/taxa_bar_plots.qzv'"
      ]
     },
     "execution_count": 185,
     "metadata": {},
     "output_type": "execute_result"
    }
   ],
   "source": [
    "# save taxa_bar_plot in results folder\n",
    "taxa_bar_plot.save('./results/taxa_bar_plots.qzv')"
   ]
  },
  {
   "cell_type": "code",
   "execution_count": 186,
   "id": "0c437ffc",
   "metadata": {
    "collapsed": true
   },
   "outputs": [
    {
     "data": {
      "text/html": [
       "<div><img onload=\"(function(div, url){\n",
       "if (typeof require !== 'undefined') {\n",
       "    var baseURL = require.toUrl('').split('/').slice(0, -2).join('/');\n",
       "} else {\n",
       "    var baseURL = JSON.parse(\n",
       "        document.getElementById('jupyter-config-data').innerHTML\n",
       "    ).baseUrl.slice(0, -1);\n",
       "}\n",
       "url = baseURL + url;\n",
       "fetch(url).then(function(res) {\n",
       "    if (res.status === 404) {\n",
       "        div.innerHTML = 'Install QIIME 2 Jupyter extension with:<br />' +\n",
       "                        '<code>jupyter serverextension enable --py qiime2' +\n",
       "                        ' --sys-prefix</code><br />then restart your server.' +\n",
       "                        '<br /><br />(Interactive output not available on ' +\n",
       "                        'static notebook viewer services like nbviewer.)';\n",
       "    } else if (res.status === 409) {\n",
       "        div.innerHTML = 'Visualization no longer in scope. Re-run this cell' +\n",
       "                        ' to see the visualization.';\n",
       "    } else if (res.ok) {\n",
       "        url = res.url;\n",
       "        div.innerHTML = '<iframe src=\\'' + url + '\\' style=\\'' +\n",
       "                        'width: 100%; height: 700px; border: 0;\\'>' +\n",
       "                        '</iframe><hr />Open in a: <a href=\\'' + url + '\\'' +\n",
       "                        ' target=\\'_blank\\'>new window</a>'\n",
       "    } else {\n",
       "        div.innerHTML = 'Something has gone wrong. Check notebook server for' +\n",
       "                        ' errors.';\n",
       "    }\n",
       "});\n",
       "})(this.parentElement, '/qiime2/redirect?location=/tmp/qiime2-archive-3139884x')\" src=\"data:image/gif;base64,R0lGODlhAQABAIAAAP///wAAACH5BAEAAAAALAAAAAABAAEAAAICRAEAOw==\" /></div>"
      ],
      "text/plain": [
       "<visualization: Visualization uuid: 8345e534-568d-43f4-be26-86350b4b4949>"
      ]
     },
     "execution_count": 186,
     "metadata": {},
     "output_type": "execute_result"
    }
   ],
   "source": [
    "# visualise taxa bar plot - interacive taxa bar plot visualisation\n",
    "taxa_bar_plot"
   ]
  },
  {
   "cell_type": "code",
   "execution_count": 187,
   "id": "9be9b7cb",
   "metadata": {},
   "outputs": [
    {
     "data": {
      "text/plain": [
       "['d__Eukaryota;p__Vertebrata;c__Amphibia;o__Unclass. Amphibia;f__Unclass. Amphibia;g__Unclass. Amphibia',\n",
       " 'd__Eukaryota;p__Vertebrata;c__Unclass. Vertebrata;o__Unclass. Vertebrata;f__Unclass. Vertebrata;g__Unclass. Vertebrata']"
      ]
     },
     "execution_count": 187,
     "metadata": {},
     "output_type": "execute_result"
    }
   ],
   "source": [
    "taxa_to_remove = taxonomy_df.Taxon.value_counts().index[:2].tolist()\n",
    "taxa_to_remove"
   ]
  },
  {
   "cell_type": "code",
   "execution_count": 191,
   "id": "cdbdc9b5",
   "metadata": {},
   "outputs": [],
   "source": [
    "def label_filter(lbl):\n",
    "    if lbl.count(';') == 0:\n",
    "        return lbl\n",
    "    \n",
    "    lbl_split = lbl.split(';')\n",
    "    \n",
    "    new_label = []\n",
    "    for piece in lbl_split[::-1]:\n",
    "        new_label.append(piece)\n",
    "        if 'uncultured' not in piece and piece != '__':\n",
    "            break\n",
    "            \n",
    "    return ';'.join(new_label[::-1][:2])"
   ]
  },
  {
   "cell_type": "code",
   "execution_count": 205,
   "id": "231dbf78",
   "metadata": {},
   "outputs": [
    {
     "data": {
      "image/png": "[encoded data removed]",
      "text/plain": [
       "<Figure size 1080x504 with 3 Axes>"
      ]
     },
     "metadata": {
      "needs_background": "light"
     },
     "output_type": "display_data"
    }
   ],
   "source": [
    "fig, axes = plt.subplots(1, 3, figsize=(15, 7))\n",
    "\n",
    "groups = ['dolenjska linija', 'linija reke Ljubljanice', 'črna podvrsta']\n",
    "kwargs = dict(level=6, count=7, sort_by_mean2=False)\n",
    "\n",
    "for i, group in enumerate(groups):\n",
    "    dokdo.taxa_abundance_bar_plot(\n",
    "        taxa_bar_plot,\n",
    "        ax=axes[i],\n",
    "        include_samples={'population': [group]},\n",
    "        cmap_name='Paired',\n",
    "        legend_short=True,\n",
    "        exclude_taxa=taxa_to_remove,\n",
    "        legend=True if i == 0 else False,\n",
    "        **kwargs # da razbije dictionary se uporabi **\n",
    "    )\n",
    "    if i != 0:\n",
    "        axes[i].get_yaxis().set_visible(False)\n",
    "    axes[i].set_title(group)\n",
    "\n",
    "# custom properties\n",
    "for idx, ax in enumerate(axes):\n",
    "    ax.tick_params(axis='x', labelrotation = 90, labelsize=15)  # reset rotation\n",
    "    ax.tick_params(axis='y', labelsize=15)\n",
    "    ax.yaxis.label.set_size(15)\n",
    "    ax.title.set_size(15)\n",
    "    \n",
    "    if idx == 0:\n",
    "        ax.legend(prop={'size': 15, 'style': 'italic'})\n",
    "    \n",
    "    \n",
    "plt.tight_layout()\n",
    "plt.savefig('./results/proteus_all_populations_eukarya.png')"
   ]
  },
  {
   "cell_type": "code",
   "execution_count": 206,
   "id": "3569507f",
   "metadata": {},
   "outputs": [
    {
     "data": {
      "image/png": "[encoded data removed]",
      "text/plain": [
       "<Figure size 864x432 with 2 Axes>"
      ]
     },
     "metadata": {
      "needs_background": "light"
     },
     "output_type": "display_data"
    }
   ],
   "source": [
    "fig, [ax1, ax2] = plt.subplots(1, 2, figsize=(12, 6), gridspec_kw={'width_ratios': [9, 1]})\n",
    "\n",
    "dokdo.taxa_abundance_bar_plot(\n",
    "    taxa_bar_plot,\n",
    "    ax=ax1,\n",
    "    level=6,\n",
    "    count=20,\n",
    "    group='population',\n",
    "    group_order=['linija reke Ljubljanice', 'črna podvrsta'],\n",
    "    figsize=(10, 7),\n",
    "    legend=False,\n",
    "    exclude_taxa=taxa_to_remove,\n",
    "    cmap_name='tab20c'\n",
    ")\n",
    "\n",
    "dokdo.taxa_abundance_bar_plot(\n",
    "    taxa_bar_plot,\n",
    "    ax=ax2,\n",
    "    level=6,\n",
    "    count=20,\n",
    "    group='population',\n",
    "    group_order=['linija reke Ljubljanice', 'črna podvrsta'],\n",
    "    figsize=(10, 7),\n",
    "    exclude_taxa=taxa_to_remove,\n",
    "    legend_short=True,\n",
    "    cmap_name='tab20c'\n",
    ")\n",
    "\n",
    "handles, labels = ax2.get_legend_handles_labels()\n",
    "labels = [label_filter(lbl) for lbl in labels]\n",
    "\n",
    "ax2.clear()\n",
    "ax2.legend(handles, labels, prop={'size': 12, 'style': 'italic'})\n",
    "ax2.axis('off')\n",
    "\n",
    "# custom properties\n",
    "ax1.tick_params(labelrotation = 0, labelsize=15)  # reset rotation\n",
    "ax1.yaxis.label.set_size(15)\n",
    "\n",
    "plt.tight_layout()\n",
    "plt.savefig('./results/populations_together_euk.png')"
   ]
  },
  {
   "cell_type": "code",
   "execution_count": 207,
   "id": "59c645b7",
   "metadata": {},
   "outputs": [],
   "source": [
    "taxa_to_remove = taxonomy_df.Taxon.value_counts().index[:2].tolist()"
   ]
  },
  {
   "cell_type": "code",
   "execution_count": 209,
   "id": "bfae1e21",
   "metadata": {},
   "outputs": [
    {
     "data": {
      "image/png": "[encoded data removed]",
      "text/plain": [
       "<Figure size 864x432 with 1 Axes>"
      ]
     },
     "metadata": {
      "needs_background": "light"
     },
     "output_type": "display_data"
    }
   ],
   "source": [
    "kwargs = dict(\n",
    "    include_samples={'population': ['črna podvrsta']},\n",
    "    label_columns=['sample-id'],\n",
    "    level=6,\n",
    "    count=7,\n",
    ")\n",
    "\n",
    "fig, ax = plt.subplots(figsize=(12, 6))\n",
    "\n",
    "# taxa with highest count\n",
    "taxa_to_remove = taxonomy_df.Taxon.value_counts().index[:2].tolist()\n",
    "\n",
    "dokdo.taxa_abundance_bar_plot(\n",
    "    taxa_bar_plot,\n",
    "    figsize=(12, 6),\n",
    "    cmap_name='tab20c',\n",
    "    legend_short=True,\n",
    "    exclude_taxa=taxa_to_remove,\n",
    "    ax=ax,\n",
    "    **kwargs\n",
    ")\n",
    "\n",
    "handles, labels = ax.get_legend_handles_labels()\n",
    "\n",
    "ax.tick_params(labelsize=12) \n",
    "ax.yaxis.label.set_size(15)\n",
    "ax.xaxis.label.set_size(15)\n",
    "ax.legend(handles, labels, prop={'size': 12,'style': 'italic'})\n",
    "\n",
    "\n",
    "plt.tight_layout()\n",
    "plt.savefig('./results/crni_primerjava10najpogostejsih_euk.png')"
   ]
  }
 ],
 "metadata": {
  "kernelspec": {
   "display_name": "Python 3 (ipykernel)",
   "language": "python",
   "name": "python3"
  },
  "language_info": {
   "codemirror_mode": {
    "name": "ipython",
    "version": 3
   },
   "file_extension": ".py",
   "mimetype": "text/x-python",
   "name": "python",
   "nbconvert_exporter": "python",
   "pygments_lexer": "ipython3",
   "version": "3.8.13"
  },
  "vscode": {
   "interpreter": {
    "hash": "fe2b484680d6a169ff37352337215bf1580610ead378003b0f321e619b838430"
   }
  }
 },
 "nbformat": 4,
 "nbformat_minor": 5
}
