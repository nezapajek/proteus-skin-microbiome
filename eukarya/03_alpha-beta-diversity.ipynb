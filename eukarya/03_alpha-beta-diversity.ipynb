{
 "cells": [
  {
   "cell_type": "markdown",
   "id": "db6ad311",
   "metadata": {},
   "source": [
    "# EUKARYA"
   ]
  },
  {
   "cell_type": "code",
   "execution_count": 1,
   "id": "2008a7f9",
   "metadata": {},
   "outputs": [],
   "source": [
    "%load_ext autoreload\n",
    "%autoreload 2\n",
    "%reload_ext autoreload\n",
    "%matplotlib inline"
   ]
  },
  {
   "cell_type": "markdown",
   "id": "6cff07cf",
   "metadata": {},
   "source": [
    "### ALPHA & BETA DIVERSITY\n",
    "1. make a MAFFT tree\n",
    "2. alpha rarefaction\n",
    "3. alpha diversity\n",
    "4. beta diversity"
   ]
  },
  {
   "cell_type": "code",
   "execution_count": 2,
   "id": "f915aac4",
   "metadata": {},
   "outputs": [],
   "source": [
    "#import packages\n",
    "import os\n",
    "import dokdo\n",
    "import qiime2 as q2\n",
    "import seaborn as sns\n",
    "import pandas as pd\n",
    "import plotnine as p9\n",
    "import matplotlib.pyplot as plt\n",
    "from qiime2.plugins import phylogeny\n",
    "from qiime2.plugins import diversity\n",
    "from skbio import DistanceMatrix\n",
    "import qiime2.plugins.phylogeny.actions as phylogeny_actions"
   ]
  },
  {
   "cell_type": "code",
   "execution_count": 3,
   "id": "630879e7",
   "metadata": {},
   "outputs": [],
   "source": [
    "# import data\n",
    "denoisetable_eu = q2.Artifact.load('./results/denoisetable_eu.qza')\n",
    "rep_seqs_eu = q2.Artifact.load('./results/rep_seqs_eu.qza')\n",
    "denoising_stats = q2.Artifact.load('./results/denoising_stats.qza')\n",
    "sample_metadata = q2.Metadata.load('../00.sample-metadata.tsv')"
   ]
  },
  {
   "cell_type": "markdown",
   "id": "3909b719",
   "metadata": {},
   "source": [
    "## TREE"
   ]
  },
  {
   "cell_type": "code",
   "execution_count": 4,
   "id": "11560dc2",
   "metadata": {},
   "outputs": [
    {
     "name": "stdout",
     "output_type": "stream",
     "text": [
      "Running external command line application. This may print messages to stdout and/or stderr.\n",
      "The command being run is below. This command cannot be manually re-run as it will depend on temporary files that no longer exist.\n",
      "\n",
      "Command: mafft --preservecase --inputorder --thread 1 /tmp/qiime2-archive-ioflyyel/4bac6403-48df-4237-97c1-c16311ce66c8/data/dna-sequences.fasta\n",
      "\n"
     ]
    },
    {
     "name": "stderr",
     "output_type": "stream",
     "text": [
      "inputfile = orig\n",
      "578 x 260 - 260 d\n",
      "nthread = 1\n",
      "nthreadpair = 1\n",
      "nthreadtb = 1\n",
      "ppenalty_ex = 0\n",
      "stacksize: 8192 kb\n",
      "generating a scoring matrix for nucleotide (dist=200) ... done\n",
      "Gap Penalty = -1.53, +0.00, +0.00\n",
      "\n",
      "\n",
      "\n",
      "Making a distance matrix ..\n",
      "  501 / 578 (thread    0)\n",
      "done.\n",
      "\n",
      "Constructing a UPGMA tree (efffree=0) ... \n",
      "  570 / 578\n",
      "done.\n",
      "\n",
      "Progressive alignment 1/2... \n",
      "STEP    63 / 577 (thread    0)\n",
      "Reallocating..done. *alloclen = 1521\n",
      "STEP   501 / 577 (thread    0) h\n",
      "done.\n",
      "\n",
      "Making a distance matrix from msa.. \n",
      "  500 / 578 (thread    0)\n",
      "done.\n",
      "\n",
      "Constructing a UPGMA tree (efffree=1) ... \n",
      "  570 / 578\n",
      "done.\n",
      "\n",
      "Progressive alignment 2/2... \n",
      "STEP   470 / 577 (thread    0) h\n",
      "Reallocating..done. *alloclen = 1521\n",
      "STEP   501 / 577 (thread    0) h\n",
      "done.\n",
      "\n",
      "disttbfast (nuc) Version 7.505\n",
      "alg=A, model=DNA200 (2), 1.53 (4.59), -0.00 (-0.00), noshift, amax=0.0\n",
      "1 thread(s)\n",
      "\n",
      "\n",
      "Strategy:\n",
      " FFT-NS-2 (Fast but rough)\n",
      " Progressive method (guide trees were built 2 times.)\n",
      "\n",
      "If unsure which option to use, try 'mafft --auto input > output'.\n",
      "For more information, see 'mafft --help', 'mafft --man' and the mafft page.\n",
      "\n",
      "The default gap scoring scheme has been changed in version 7.110 (2013 Oct).\n",
      "It tends to insert more gaps into gap-rich regions than previous versions.\n",
      "To disable this change, add the --leavegappyregion option.\n",
      "\n",
      "/home/npajek/miniconda3/envs/qiime2-2022.2/lib/python3.8/site-packages/skbio/alignment/_tabular_msa.py:784: FutureWarning: The default dtype for empty Series will be 'object' instead of 'float64' in a future version. Specify a dtype explicitly to silence this warning.\n"
     ]
    },
    {
     "name": "stdout",
     "output_type": "stream",
     "text": [
      "Running external command line application. This may print messages to stdout and/or stderr.\n",
      "The command being run is below. This command cannot be manually re-run as it will depend on temporary files that no longer exist.\n",
      "\n",
      "Command: FastTree -quote -nt /tmp/qiime2-archive-muadktwt/485a8455-6adf-4596-bdc2-71a6f2a68be6/data/aligned-dna-sequences.fasta\n",
      "\n"
     ]
    },
    {
     "name": "stderr",
     "output_type": "stream",
     "text": [
      "FastTree Version 2.1.10 Double precision (No SSE3)\n",
      "Alignment: /tmp/qiime2-archive-muadktwt/485a8455-6adf-4596-bdc2-71a6f2a68be6/data/aligned-dna-sequences.fasta\n",
      "Nucleotide distances: Jukes-Cantor Joins: balanced Support: SH-like 1000\n",
      "Search: Normal +NNI +SPR (2 rounds range 10) +ML-NNI opt-each=1\n",
      "TopHits: 1.00*sqrtN close=default refresh=0.80\n",
      "ML Model: Jukes-Cantor, CAT approximation with 20 rate categories\n",
      "      0.13 seconds: Joined    100 of    575\n",
      "      0.26 seconds: Joined    400 of    575\n",
      "Initial topology in 0.35 seconds\n",
      "Refining topology: 37 rounds ME-NNIs, 2 rounds ME-SPRs, 18 rounds ML-NNIs\n",
      "      0.36 seconds: ME NNI round 2 of 37, 101 of 576 splits, 6 changes (max delta 0.000)\n",
      "      0.47 seconds: SPR round   1 of   2, 101 of 1154 nodes\n",
      "      0.59 seconds: SPR round   1 of   2, 301 of 1154 nodes\n",
      "      0.72 seconds: SPR round   1 of   2, 501 of 1154 nodes\n",
      "      0.84 seconds: SPR round   1 of   2, 701 of 1154 nodes\n",
      "      0.95 seconds: SPR round   1 of   2, 901 of 1154 nodes\n",
      "      1.07 seconds: SPR round   1 of   2, 1101 of 1154 nodes\n",
      "      1.22 seconds: SPR round   2 of   2, 101 of 1154 nodes\n",
      "      1.32 seconds: SPR round   2 of   2, 301 of 1154 nodes\n",
      "      1.46 seconds: SPR round   2 of   2, 501 of 1154 nodes\n",
      "      1.57 seconds: SPR round   2 of   2, 701 of 1154 nodes\n",
      "      1.68 seconds: SPR round   2 of   2, 901 of 1154 nodes\n",
      "      1.81 seconds: SPR round   2 of   2, 1101 of 1154 nodes\n",
      "Total branch-length 12.151 after 1.87 sec\n",
      "      1.91 seconds: ML Lengths 101 of 576 splits\n",
      "      2.02 seconds: ML Lengths 401 of 576 splits\n",
      "      2.18 seconds: ML NNI round 1 of 18, 101 of 576 splits, 29 changes (max delta 1.862)\n",
      "      2.28 seconds: ML NNI round 1 of 18, 201 of 576 splits, 58 changes (max delta 1.862)\n",
      "      2.45 seconds: ML NNI round 1 of 18, 401 of 576 splits, 122 changes (max delta 5.140)\n",
      "      2.58 seconds: ML NNI round 1 of 18, 501 of 576 splits, 154 changes (max delta 5.140)\n",
      "ML-NNI round 1: LogLk = -15990.709 NNIs 186 max delta 5.74 Time 2.66\n",
      "      2.68 seconds: Site likelihoods with rate category 5 of 20\n",
      "      2.80 seconds: Site likelihoods with rate category 18 of 20\n",
      "Switched to using 20 rate categories (CAT approximation)\n",
      "Rate categories were divided by 0.849 so that average rate = 1.0\n",
      "CAT-based log-likelihoods may not be comparable across runs\n",
      "Use -gamma for approximate but comparable Gamma(20) log-likelihoods\n",
      "      2.95 seconds: ML NNI round 2 of 18, 101 of 576 splits, 17 changes (max delta 0.286)\n",
      "      3.11 seconds: ML NNI round 2 of 18, 201 of 576 splits, 39 changes (max delta 0.286)\n",
      "      3.21 seconds: ML NNI round 2 of 18, 301 of 576 splits, 60 changes (max delta 0.286)\n",
      "      3.37 seconds: ML NNI round 2 of 18, 501 of 576 splits, 108 changes (max delta 8.015)\n",
      "ML-NNI round 2: LogLk = -15392.407 NNIs 124 max delta 8.02 Time 3.45\n",
      "      3.53 seconds: ML NNI round 3 of 18, 101 of 576 splits, 10 changes (max delta 0.182)\n",
      "      3.69 seconds: ML NNI round 3 of 18, 301 of 576 splits, 35 changes (max delta 2.213)\n",
      "ML-NNI round 3: LogLk = -15389.431 NNIs 57 max delta 2.21 Time 3.84\n",
      "      3.83 seconds: ML NNI round 4 of 18, 1 of 576 splits\n",
      "      3.97 seconds: ML NNI round 4 of 18, 201 of 576 splits, 14 changes (max delta 0.000)\n",
      "ML-NNI round 4: LogLk = -15389.367 NNIs 31 max delta 0.00 Time 4.09\n",
      "Turning off heuristics for final round of ML NNIs (converged)\n",
      "      4.09 seconds: ML NNI round 5 of 18, 1 of 576 splits\n",
      "      4.20 seconds: ML NNI round 5 of 18, 101 of 576 splits, 1 changes (max delta 0.000)\n",
      "      4.35 seconds: ML NNI round 5 of 18, 301 of 576 splits, 6 changes (max delta 0.000)\n",
      "      4.51 seconds: ML NNI round 5 of 18, 501 of 576 splits, 14 changes (max delta 0.000)\n",
      "ML-NNI round 5: LogLk = -15388.499 NNIs 24 max delta 0.00 Time 4.60 (final)\n",
      "      4.61 seconds: ML Lengths 101 of 576 splits\n",
      "      4.72 seconds: ML Lengths 501 of 576 splits\n",
      "Optimize all lengths: LogLk = -15388.471 Time 4.74\n",
      "      4.89 seconds: ML split tests for    100 of    575 internal splits\n",
      "      5.03 seconds: ML split tests for    200 of    575 internal splits\n",
      "      5.19 seconds: ML split tests for    300 of    575 internal splits\n",
      "      5.35 seconds: ML split tests for    400 of    575 internal splits\n",
      "      5.51 seconds: ML split tests for    500 of    575 internal splits\n",
      "Total time: 5.63 seconds Unique: 578/578 Bad splits: 0/575\n"
     ]
    }
   ],
   "source": [
    "action_results = phylogeny_actions.align_to_tree_mafft_fasttree(\n",
    "    sequences=rep_seqs_eu,\n",
    ")\n",
    "aligned_rep_seqs = action_results.alignment\n",
    "masked_aligned_rep_seqs = action_results.masked_alignment\n",
    "unrooted_tree = action_results.tree\n",
    "rooted_tree = action_results.rooted_tree"
   ]
  },
  {
   "cell_type": "markdown",
   "id": "7598da6d",
   "metadata": {},
   "source": [
    "## ALPHA AND BETA DIVERSITY"
   ]
  },
  {
   "cell_type": "code",
   "execution_count": 31,
   "id": "d2f35384",
   "metadata": {},
   "outputs": [
    {
     "data": {
      "text/html": [
       "<div><img onload=\"(function(div, url){\n",
       "if (typeof require !== 'undefined') {\n",
       "    var baseURL = require.toUrl('').split('/').slice(0, -2).join('/');\n",
       "} else {\n",
       "    var baseURL = JSON.parse(\n",
       "        document.getElementById('jupyter-config-data').innerHTML\n",
       "    ).baseUrl.slice(0, -1);\n",
       "}\n",
       "url = baseURL + url;\n",
       "fetch(url).then(function(res) {\n",
       "    if (res.status === 404) {\n",
       "        div.innerHTML = 'Install QIIME 2 Jupyter extension with:<br />' +\n",
       "                        '<code>jupyter serverextension enable --py qiime2' +\n",
       "                        ' --sys-prefix</code><br />then restart your server.' +\n",
       "                        '<br /><br />(Interactive output not available on ' +\n",
       "                        'static notebook viewer services like nbviewer.)';\n",
       "    } else if (res.status === 409) {\n",
       "        div.innerHTML = 'Visualization no longer in scope. Re-run this cell' +\n",
       "                        ' to see the visualization.';\n",
       "    } else if (res.ok) {\n",
       "        url = res.url;\n",
       "        div.innerHTML = '<iframe src=\\'' + url + '\\' style=\\'' +\n",
       "                        'width: 100%; height: 700px; border: 0;\\'>' +\n",
       "                        '</iframe><hr />Open in a: <a href=\\'' + url + '\\'' +\n",
       "                        ' target=\\'_blank\\'>new window</a>'\n",
       "    } else {\n",
       "        div.innerHTML = 'Something has gone wrong. Check notebook server for' +\n",
       "                        ' errors.';\n",
       "    }\n",
       "});\n",
       "})(this.parentElement, '/qiime2/redirect?location=/tmp/qiime2-archive-jz8_b9sx')\" src=\"data:image/gif;base64,R0lGODlhAQABAIAAAP///wAAACH5BAEAAAAALAAAAAABAAEAAAICRAEAOw==\" /></div>"
      ],
      "text/plain": [
       "<visualization: Visualization uuid: f24070cf-902f-425b-ae5a-0c4fa83bdf97>"
      ]
     },
     "execution_count": 6,
     "metadata": {},
     "output_type": "execute_result"
    }
   ],
   "source": [
    "from qiime2.plugins import feature_table\n",
    "\n",
    "# summarise and visualise\n",
    "feature_table.visualizers.summarize(\n",
    "    table = denoisetable_eu,\n",
    "    sample_metadata = sample_metadata\n",
    ").visualization"
   ]
  },
  {
   "cell_type": "code",
   "execution_count": 32,
   "id": "1ca00a17",
   "metadata": {},
   "outputs": [],
   "source": [
    "# # choose a round number in the 3rd quartile frequency per sample from the feature table visual summary\n",
    "# # this step can take some time\n",
    "# alpha_rarefaction_all = diversity.actions.alpha_rarefaction(\n",
    "#     table = denoisetable_eu,\n",
    "#     max_depth = 30000,\n",
    "#     phylogeny = rooted_tree,\n",
    "#     metrics = {'observed_features'},\n",
    "#     metadata = sample_metadata,\n",
    "#     steps = 1000\n",
    "# )"
   ]
  },
  {
   "cell_type": "code",
   "execution_count": 33,
   "id": "39cdad4f",
   "metadata": {},
   "outputs": [],
   "source": [
    "# save alpha_rarefacion\n",
    "# alpha_rarefaction_all.visualization.save('./results/alpha_rarefaction_30000.qzv')\n",
    "qzv_file_alpha = q2.Visualization.load('./results/alpha_rarefaction_30000.qzv')"
   ]
  },
  {
   "cell_type": "code",
   "execution_count": 34,
   "id": "e5692b27",
   "metadata": {},
   "outputs": [],
   "source": [
    "# sns.set()\n",
    "# ax = dokdo.alpha_rarefaction_plot(qzv_file_alpha,\n",
    "#                                   figsize=(9, 6),\n",
    "#                                   metric='observed_features')\n",
    "# \n",
    "# ax.set_xlabel('Globina sekvenciranja')\n",
    "# ax.set_ylabel('Število ASV')\n",
    "# \n",
    "# ax.legend(ncol=5)\n",
    "# plt.tight_layout()\n",
    "# plt.savefig('./results/eu_alpha_rarefaction_plot.png')"
   ]
  },
  {
   "cell_type": "markdown",
   "id": "8fff745a",
   "metadata": {},
   "source": [
    "### ALPHA DIVERSITY"
   ]
  },
  {
   "cell_type": "code",
   "execution_count": 5,
   "id": "f6c188f3",
   "metadata": {},
   "outputs": [],
   "source": [
    "from qiime2.plugins.taxa.methods import filter_seqs, filter_table\n",
    "taxonomy = q2.Artifact.load('./results/taxonomy_sklearn.qza')\n",
    "# fiter denoisetable_eu, remove Vertebrata\n",
    "\n",
    "denoisetable_eu_filtered = filter_table(\n",
    "    table = denoisetable_eu,\n",
    "    taxonomy = taxonomy, \n",
    "    exclude = 'p__Vertebrata'\n",
    ")"
   ]
  },
  {
   "cell_type": "code",
   "execution_count": 36,
   "id": "8c3bc792",
   "metadata": {},
   "outputs": [
    {
     "data": {
      "text/html": [
       "<div><img onload=\"(function(div, url){\n",
       "if (typeof require !== 'undefined') {\n",
       "    var baseURL = require.toUrl('').split('/').slice(0, -2).join('/');\n",
       "} else {\n",
       "    var baseURL = JSON.parse(\n",
       "        document.getElementById('jupyter-config-data').innerHTML\n",
       "    ).baseUrl.slice(0, -1);\n",
       "}\n",
       "url = baseURL + url;\n",
       "fetch(url).then(function(res) {\n",
       "    if (res.status === 404) {\n",
       "        div.innerHTML = 'Install QIIME 2 Jupyter extension with:<br />' +\n",
       "                        '<code>jupyter serverextension enable --py qiime2' +\n",
       "                        ' --sys-prefix</code><br />then restart your server.' +\n",
       "                        '<br /><br />(Interactive output not available on ' +\n",
       "                        'static notebook viewer services like nbviewer.)';\n",
       "    } else if (res.status === 409) {\n",
       "        div.innerHTML = 'Visualization no longer in scope. Re-run this cell' +\n",
       "                        ' to see the visualization.';\n",
       "    } else if (res.ok) {\n",
       "        url = res.url;\n",
       "        div.innerHTML = '<iframe src=\\'' + url + '\\' style=\\'' +\n",
       "                        'width: 100%; height: 700px; border: 0;\\'>' +\n",
       "                        '</iframe><hr />Open in a: <a href=\\'' + url + '\\'' +\n",
       "                        ' target=\\'_blank\\'>new window</a>'\n",
       "    } else {\n",
       "        div.innerHTML = 'Something has gone wrong. Check notebook server for' +\n",
       "                        ' errors.';\n",
       "    }\n",
       "});\n",
       "})(this.parentElement, '/qiime2/redirect?location=/tmp/qiime2-archive-5dejltuu')\" src=\"data:image/gif;base64,R0lGODlhAQABAIAAAP///wAAACH5BAEAAAAALAAAAAABAAEAAAICRAEAOw==\" /></div>"
      ],
      "text/plain": [
       "<visualization: Visualization uuid: 5761f591-d7d4-4489-a685-eeb4c49722b4>"
      ]
     },
     "execution_count": 11,
     "metadata": {},
     "output_type": "execute_result"
    }
   ],
   "source": [
    "# summarise and visualise\n",
    "feature_table.visualizers.summarize(\n",
    "    table = denoisetable_eu_filtered.filtered_table,\n",
    "    sample_metadata = sample_metadata\n",
    ").visualization"
   ]
  },
  {
   "cell_type": "code",
   "execution_count": 37,
   "id": "25081ed3",
   "metadata": {},
   "outputs": [],
   "source": [
    "# # choose a round number in the 3rd quartile frequency per sample from the feature table visual summary\n",
    "# # this step can take some time\n",
    "# alpha_rarefaction_fil = diversity.actions.alpha_rarefaction(\n",
    "#     table = denoisetable_eu_filtered.filtered_table,\n",
    "#     max_depth = 3000,\n",
    "#     phylogeny = rooted_tree,\n",
    "#     metrics = {'observed_features'},\n",
    "#     metadata = sample_metadata,\n",
    "#     steps = 25\n",
    "# )\n",
    "\n",
    "# alpha_rarefaction_fil.visualization.save('./results/alpha_rarefaction_fil1.qzv')"
   ]
  },
  {
   "cell_type": "code",
   "execution_count": 6,
   "id": "170b12c3",
   "metadata": {},
   "outputs": [],
   "source": [
    "qzv_file_alpha_fil1 = q2.Visualization.load('./results/alpha_rarefaction_fil1.qzv')"
   ]
  },
  {
   "cell_type": "code",
   "execution_count": 8,
   "id": "c6f07475",
   "metadata": {
    "scrolled": true
   },
   "outputs": [
    {
     "data": {
      "image/png": "[encoded data removed]",
      "text/plain": [
       "<Figure size 648x432 with 1 Axes>"
      ]
     },
     "metadata": {},
     "output_type": "display_data"
    }
   ],
   "source": [
    "# sns.set()\n",
    "# ax = dokdo.alpha_rarefaction_plot(qzv_file_alpha_fil1,\n",
    "#                                   figsize=(9, 6),\n",
    "#                                   metric='observed_features')\n",
    "# ax.legend(ncol=5)\n",
    "# plt.tight_layout()\n",
    "# \n",
    "# ax.set_xlabel('Globina sekvenciranja')\n",
    "# ax.set_ylabel('Število ASV')\n",
    "# \n",
    "# plt.savefig('./results/eu_alpha_rarefaction_plot_fil1.png')"
   ]
  },
  {
   "cell_type": "code",
   "execution_count": 16,
   "id": "bda2c32a",
   "metadata": {},
   "outputs": [
    {
     "name": "stderr",
     "output_type": "stream",
     "text": [
      "/home/npajek/miniconda3/envs/qiime2-2022.2/lib/python3.8/site-packages/skbio/diversity/alpha/_base.py:793: RuntimeWarning: invalid value encountered in double_scalars\n",
      "/home/npajek/miniconda3/envs/qiime2-2022.2/lib/python3.8/site-packages/sklearn/metrics/pairwise.py:1776: DataConversionWarning: Data was converted to boolean for metric jaccard\n"
     ]
    },
    {
     "name": "stdout",
     "output_type": "stream",
     "text": [
      "Running external command line application. This may print messages to stdout and/or stderr.\n",
      "The command being run is below. This command cannot be manually re-run as it will depend on temporary files that no longer exist.\n",
      "\n",
      "Command:\n",
      "\n",
      "faithpd -i /tmp/qiime2-archive-8m6tzve1/bac29d39-b1de-4563-b554-7af2145db347/data/feature-table.biom -t /tmp/qiime2-archive-zkgq5rkw/047f7cae-380d-4edd-aa2a-64cbef08598f/data/tree.nwk -o /tmp/q2-AlphaDiversityFormat-85l8087k\n",
      "\n",
      "Running external command line application. This may print messages to stdout and/or stderr.\n",
      "The command being run is below. This command cannot be manually re-run as it will depend on temporary files that no longer exist.\n",
      "\n",
      "Command:\n",
      "\n",
      "ssu -i /tmp/qiime2-archive-8m6tzve1/bac29d39-b1de-4563-b554-7af2145db347/data/feature-table.biom -t /tmp/qiime2-archive-zkgq5rkw/047f7cae-380d-4edd-aa2a-64cbef08598f/data/tree.nwk -m unweighted -o /tmp/q2-LSMatFormat-99smmazp\n",
      "\n",
      "Running external command line application. This may print messages to stdout and/or stderr.\n",
      "The command being run is below. This command cannot be manually re-run as it will depend on temporary files that no longer exist.\n",
      "\n",
      "Command:\n",
      "\n",
      "ssu -i /tmp/qiime2-archive-8m6tzve1/bac29d39-b1de-4563-b554-7af2145db347/data/feature-table.biom -t /tmp/qiime2-archive-zkgq5rkw/047f7cae-380d-4edd-aa2a-64cbef08598f/data/tree.nwk -m weighted_unnormalized -o /tmp/q2-LSMatFormat-efwq03__\n",
      "\n"
     ]
    },
    {
     "name": "stderr",
     "output_type": "stream",
     "text": [
      "/home/npajek/miniconda3/envs/qiime2-2022.2/lib/python3.8/site-packages/skbio/stats/ordination/_principal_coordinate_analysis.py:143: RuntimeWarning: The result contains negative eigenvalues. Please compare their magnitude with the magnitude of some of the largest positive eigenvalues. If the negative ones are smaller, it's probably safe to ignore them, but if they are large in magnitude, the results won't be useful. See the Notes section for more details. The smallest eigenvalue is -0.00010348545185801416 and the largest is 1.820221379233054.\n"
     ]
    }
   ],
   "source": [
    "# set sampling_depth based on alpha rarefacation curve\n",
    "depth = 643\n",
    "action_results = diversity.actions.core_metrics_phylogenetic(\n",
    "    table = denoisetable_eu_filtered.filtered_table,\n",
    "    phylogeny = rooted_tree,\n",
    "    sampling_depth = depth,\n",
    "    metadata = sample_metadata\n",
    ")"
   ]
  },
  {
   "cell_type": "code",
   "execution_count": 17,
   "id": "0f1238ff",
   "metadata": {},
   "outputs": [],
   "source": [
    "action_results.bray_curtis_distance_matrix.view(view_type=DistanceMatrix)"
   ]
  },
  {
   "cell_type": "code",
   "execution_count": 18,
   "id": "29288139",
   "metadata": {},
   "outputs": [],
   "source": [
    "action_results.jaccard_distance_matrix.view(view_type=DistanceMatrix)"
   ]
  },
  {
   "cell_type": "code",
   "execution_count": 19,
   "id": "7fe3b798",
   "metadata": {},
   "outputs": [],
   "source": [
    "action_results.jaccard_emperor"
   ]
  },
  {
   "cell_type": "code",
   "execution_count": 20,
   "id": "af749bd3",
   "metadata": {},
   "outputs": [],
   "source": [
    "# alpha_rarefaction = diversity.visualizers.alpha_rarefaction(\n",
    "#     table = denoisetable_eu_filtered.filtered_table,\n",
    "#     phylogeny = rooted_tree,\n",
    "#     max_depth = depth,\n",
    "#     metadata = sample_metadata,\n",
    "#     metrics = {'chao1', 'simpson', 'simpson_e', 'observed_features', 'dominance'},\n",
    "#     steps =  100\n",
    "# )\n",
    "# alpha_rarefaction.visualization.save('./results/alpha_diversity_new.qzv')"
   ]
  },
  {
   "cell_type": "code",
   "execution_count": 21,
   "id": "3c67cbce",
   "metadata": {},
   "outputs": [],
   "source": [
    "# load alpha_rarefacion\n",
    "alpha_rar = q2.Visualization.load('./results/alpha_diversity_new.qzv')\n",
    "alpha_rar"
   ]
  },
  {
   "cell_type": "code",
   "execution_count": 22,
   "id": "b8ab207b",
   "metadata": {
    "scrolled": false
   },
   "outputs": [
    {
     "data": {
      "text/html": [
       "<div>\n",
       "<style scoped>\n",
       "    .dataframe tbody tr th:only-of-type {\n",
       "        vertical-align: middle;\n",
       "    }\n",
       "\n",
       "    .dataframe tbody tr th {\n",
       "        vertical-align: top;\n",
       "    }\n",
       "\n",
       "    .dataframe thead th {\n",
       "        text-align: right;\n",
       "    }\n",
       "</style>\n",
       "<table border=\"1\" class=\"dataframe\">\n",
       "  <thead>\n",
       "    <tr style=\"text-align: right;\">\n",
       "      <th></th>\n",
       "      <th>chao1</th>\n",
       "      <th>simpson</th>\n",
       "      <th>simpson_e</th>\n",
       "      <th>observed_features</th>\n",
       "      <th>dominance</th>\n",
       "    </tr>\n",
       "    <tr>\n",
       "      <th>Sample ID</th>\n",
       "      <th></th>\n",
       "      <th></th>\n",
       "      <th></th>\n",
       "      <th></th>\n",
       "      <th></th>\n",
       "    </tr>\n",
       "  </thead>\n",
       "  <tbody>\n",
       "    <tr>\n",
       "      <th>P03A</th>\n",
       "      <td>13.0</td>\n",
       "      <td>0.810683</td>\n",
       "      <td>0.406319</td>\n",
       "      <td>13.0</td>\n",
       "      <td>0.189317</td>\n",
       "    </tr>\n",
       "    <tr>\n",
       "      <th>P05A</th>\n",
       "      <td>4.0</td>\n",
       "      <td>0.157611</td>\n",
       "      <td>0.296775</td>\n",
       "      <td>4.0</td>\n",
       "      <td>0.842389</td>\n",
       "    </tr>\n",
       "    <tr>\n",
       "      <th>P09A</th>\n",
       "      <td>4.0</td>\n",
       "      <td>0.107733</td>\n",
       "      <td>0.280185</td>\n",
       "      <td>4.0</td>\n",
       "      <td>0.892267</td>\n",
       "    </tr>\n",
       "    <tr>\n",
       "      <th>P11A</th>\n",
       "      <td>18.0</td>\n",
       "      <td>0.879639</td>\n",
       "      <td>0.461576</td>\n",
       "      <td>18.0</td>\n",
       "      <td>0.120361</td>\n",
       "    </tr>\n",
       "    <tr>\n",
       "      <th>P15A</th>\n",
       "      <td>3.0</td>\n",
       "      <td>0.362221</td>\n",
       "      <td>0.522647</td>\n",
       "      <td>3.0</td>\n",
       "      <td>0.637779</td>\n",
       "    </tr>\n",
       "    <tr>\n",
       "      <th>P17A</th>\n",
       "      <td>1.0</td>\n",
       "      <td>0.000000</td>\n",
       "      <td>1.000000</td>\n",
       "      <td>1.0</td>\n",
       "      <td>1.000000</td>\n",
       "    </tr>\n",
       "    <tr>\n",
       "      <th>P22A</th>\n",
       "      <td>7.0</td>\n",
       "      <td>0.539118</td>\n",
       "      <td>0.309965</td>\n",
       "      <td>7.0</td>\n",
       "      <td>0.460882</td>\n",
       "    </tr>\n",
       "  </tbody>\n",
       "</table>\n",
       "</div>"
      ],
      "text/plain": [
       "           chao1   simpson  simpson_e  observed_features  dominance\n",
       "Sample ID                                                          \n",
       "P03A        13.0  0.810683   0.406319               13.0   0.189317\n",
       "P05A         4.0  0.157611   0.296775                4.0   0.842389\n",
       "P09A         4.0  0.107733   0.280185                4.0   0.892267\n",
       "P11A        18.0  0.879639   0.461576               18.0   0.120361\n",
       "P15A         3.0  0.362221   0.522647                3.0   0.637779\n",
       "P17A         1.0  0.000000   1.000000                1.0   1.000000\n",
       "P22A         7.0  0.539118   0.309965                7.0   0.460882"
      ]
     },
     "execution_count": 22,
     "metadata": {},
     "output_type": "execute_result"
    }
   ],
   "source": [
    "metrics = ['chao1', 'simpson', 'simpson_e', 'observed_features', 'dominance']\n",
    "\n",
    "# alpha diversity metrics and significance\n",
    "\n",
    "# init empty list\n",
    "df_list = []\n",
    "artifacts = {}\n",
    "\n",
    "# loop over metrics\n",
    "for metric in metrics:\n",
    "    result = diversity.actions.alpha(\n",
    "        table = action_results.rarefied_table,\n",
    "        metric = metric\n",
    "    )  # save to result\n",
    "    artifact = result.alpha_diversity  # extract artifact\n",
    "    artifacts[metric] = artifact\n",
    "    df_list.append(artifact.view(view_type=q2.Metadata).to_dataframe())  # convert to DF and add to list\n",
    "    \n",
    "df = pd.concat(df_list, axis=1)  # merge list of dataframes, add each DF as new column (instead of new row (default))\n",
    "df"
   ]
  },
  {
   "cell_type": "code",
   "execution_count": 23,
   "id": "894d10e1",
   "metadata": {},
   "outputs": [],
   "source": [
    "ndf = df.merge(sample_metadata.to_dataframe(), left_index=True, right_index=True)\n",
    "# ndf[\"color\"] = ndf.groupby(\"population\").ngroup()\n",
    "# ndf.reset_index().plot.scatter(\"index\", \"observed_features\", c=\"color\", cmap=plt.cm.viridis)"
   ]
  },
  {
   "cell_type": "code",
   "execution_count": 24,
   "id": "1954c546",
   "metadata": {
    "scrolled": true
   },
   "outputs": [],
   "source": [
    "col = 'observed_features'\n",
    "meta_cols = ['year', 'population']\n",
    "df1 = ndf[meta_cols + [col]].rename(columns={col: 'value'}).eval('type=\"Število ASV\"')\n",
    "\n",
    "col = 'chao1'\n",
    "df2 = ndf[meta_cols + [col]].rename(columns={col: 'value'}).eval('type=\"Chao1\"')\n",
    "\n",
    "df = pd.concat([df1, df2])"
   ]
  },
  {
   "cell_type": "code",
   "execution_count": 25,
   "id": "99ac7213",
   "metadata": {},
   "outputs": [],
   "source": [
    "df = df.rename(columns={'population': 'Genetska linija', 'year': 'Leto', 'value': 'Število ASV', 'type': 'Metrika'})\n",
    "df.index.name = 'Osebek'"
   ]
  },
  {
   "cell_type": "code",
   "execution_count": 26,
   "id": "89ce87b7",
   "metadata": {},
   "outputs": [
    {
     "name": "stderr",
     "output_type": "stream",
     "text": [
      "/home/npajek/miniconda3/envs/qiime2-2022.2/lib/python3.8/site-packages/plotnine/ggplot.py:718: PlotnineWarning: Saving 6.4 x 4.8 in image.\n",
      "/home/npajek/miniconda3/envs/qiime2-2022.2/lib/python3.8/site-packages/plotnine/ggplot.py:719: PlotnineWarning: Filename: ./results/eukarya_obs-feat_chao1.png\n"
     ]
    },
    {
     "data": {
      "image/png": "[encoded data removed]",
      "text/plain": [
       "<Figure size 640x480 with 1 Axes>"
      ]
     },
     "metadata": {},
     "output_type": "display_data"
    },
    {
     "data": {
      "text/plain": [
       "<ggplot: (8772253279226)>"
      ]
     },
     "execution_count": 26,
     "metadata": {},
     "output_type": "execute_result"
    }
   ],
   "source": [
    "from plotnine import *\n",
    "from plotnine.data import *\n",
    "\n",
    "p = (\n",
    "    ggplot(df, aes(x=df.index, y='Število ASV', shape='Leto', color='Genetska linija', alpha='Metrika'))\n",
    "    + geom_point(size=4)\n",
    "    + labs(x='Osebek', y='Število ASV')\n",
    "    + scale_color_manual(['C0', 'C1', 'C2'])\n",
    "    + scale_alpha_manual([0.3, 1.0])\n",
    "    + theme(axis_text_x=element_text(rotation=90))\n",
    ")\n",
    "\n",
    "p.save('./results/eukarya_obs-feat_chao1.png')\n",
    "\n",
    "p"
   ]
  },
  {
   "cell_type": "code",
   "execution_count": 57,
   "id": "4c9db316",
   "metadata": {},
   "outputs": [],
   "source": [
    "# shannon = (\n",
    "#     ggplot(ndf, aes(x=ndf.index, y='shannon_entropy', shape='year', color='population'))\n",
    "#     + geom_point(size=4)\n",
    "#     + labs(x='Sample ID', y='shannon_entropy')\n",
    "#     + scale_color_manual(['C0', 'C1', 'C2'])\n",
    "# )\n",
    "\n",
    "# shannon.save('./results/eukarya_shannon.png')\n",
    "# shannon"
   ]
  },
  {
   "cell_type": "code",
   "execution_count": 82,
   "id": "4d00ebe3",
   "metadata": {},
   "outputs": [
    {
     "data": {
      "text/html": [
       "<div>\n",
       "<style scoped>\n",
       "    .dataframe tbody tr th:only-of-type {\n",
       "        vertical-align: middle;\n",
       "    }\n",
       "\n",
       "    .dataframe tbody tr th {\n",
       "        vertical-align: top;\n",
       "    }\n",
       "\n",
       "    .dataframe thead th {\n",
       "        text-align: right;\n",
       "    }\n",
       "</style>\n",
       "<table border=\"1\" class=\"dataframe\">\n",
       "  <thead>\n",
       "    <tr style=\"text-align: right;\">\n",
       "      <th></th>\n",
       "      <th>chao1</th>\n",
       "      <th>simpson</th>\n",
       "      <th>simpson_e</th>\n",
       "      <th>observed_features</th>\n",
       "      <th>dominance</th>\n",
       "      <th>sample</th>\n",
       "      <th>location</th>\n",
       "      <th>origin</th>\n",
       "      <th>Leto</th>\n",
       "      <th>parkelj</th>\n",
       "      <th>specimen</th>\n",
       "      <th>Genetska linija</th>\n",
       "    </tr>\n",
       "    <tr>\n",
       "      <th>Osebek</th>\n",
       "      <th></th>\n",
       "      <th></th>\n",
       "      <th></th>\n",
       "      <th></th>\n",
       "      <th></th>\n",
       "      <th></th>\n",
       "      <th></th>\n",
       "      <th></th>\n",
       "      <th></th>\n",
       "      <th></th>\n",
       "      <th></th>\n",
       "      <th></th>\n",
       "    </tr>\n",
       "  </thead>\n",
       "  <tbody>\n",
       "    <tr>\n",
       "      <th>P03A</th>\n",
       "      <td>15.0</td>\n",
       "      <td>0.800055</td>\n",
       "      <td>0.333425</td>\n",
       "      <td>15.0</td>\n",
       "      <td>0.199945</td>\n",
       "      <td>P03A</td>\n",
       "      <td>Planinska_jama</td>\n",
       "      <td>Paa201_t0</td>\n",
       "      <td>2015</td>\n",
       "      <td>no</td>\n",
       "      <td>Paa201</td>\n",
       "      <td>Linija reke Ljubljanice</td>\n",
       "    </tr>\n",
       "    <tr>\n",
       "      <th>P05A</th>\n",
       "      <td>4.0</td>\n",
       "      <td>0.146673</td>\n",
       "      <td>0.292971</td>\n",
       "      <td>4.0</td>\n",
       "      <td>0.853327</td>\n",
       "      <td>P05A</td>\n",
       "      <td>Stobe</td>\n",
       "      <td>Paa204_t10d</td>\n",
       "      <td>2016</td>\n",
       "      <td>no</td>\n",
       "      <td>Paa204</td>\n",
       "      <td>Dolenjska linija</td>\n",
       "    </tr>\n",
       "    <tr>\n",
       "      <th>P09A</th>\n",
       "      <td>4.0</td>\n",
       "      <td>0.118820</td>\n",
       "      <td>0.283710</td>\n",
       "      <td>4.0</td>\n",
       "      <td>0.881180</td>\n",
       "      <td>P09A</td>\n",
       "      <td>Planinska_jama</td>\n",
       "      <td>Paa210_t0</td>\n",
       "      <td>2019</td>\n",
       "      <td>no</td>\n",
       "      <td>Paa210</td>\n",
       "      <td>Linija reke Ljubljanice</td>\n",
       "    </tr>\n",
       "    <tr>\n",
       "      <th>P11A</th>\n",
       "      <td>19.0</td>\n",
       "      <td>0.874913</td>\n",
       "      <td>0.420761</td>\n",
       "      <td>19.0</td>\n",
       "      <td>0.125087</td>\n",
       "      <td>P11A</td>\n",
       "      <td>Planinska_jama</td>\n",
       "      <td>Paa211_t0</td>\n",
       "      <td>2018</td>\n",
       "      <td>no</td>\n",
       "      <td>Paa211</td>\n",
       "      <td>Linija reke Ljubljanice</td>\n",
       "    </tr>\n",
       "    <tr>\n",
       "      <th>P15A</th>\n",
       "      <td>3.0</td>\n",
       "      <td>0.360547</td>\n",
       "      <td>0.521279</td>\n",
       "      <td>3.0</td>\n",
       "      <td>0.639453</td>\n",
       "      <td>P15A</td>\n",
       "      <td>Planinska_jama</td>\n",
       "      <td>Paa220_t0</td>\n",
       "      <td>2019</td>\n",
       "      <td>no</td>\n",
       "      <td>Paa220</td>\n",
       "      <td>Linija reke Ljubljanice</td>\n",
       "    </tr>\n",
       "    <tr>\n",
       "      <th>P17A</th>\n",
       "      <td>2.0</td>\n",
       "      <td>0.003106</td>\n",
       "      <td>0.501558</td>\n",
       "      <td>2.0</td>\n",
       "      <td>0.996894</td>\n",
       "      <td>P17A</td>\n",
       "      <td>Planinska_jama</td>\n",
       "      <td>Paa221_t0</td>\n",
       "      <td>2019</td>\n",
       "      <td>no</td>\n",
       "      <td>Paa221</td>\n",
       "      <td>Linija reke Ljubljanice</td>\n",
       "    </tr>\n",
       "    <tr>\n",
       "      <th>P22A</th>\n",
       "      <td>7.0</td>\n",
       "      <td>0.542969</td>\n",
       "      <td>0.312576</td>\n",
       "      <td>7.0</td>\n",
       "      <td>0.457031</td>\n",
       "      <td>P22A</td>\n",
       "      <td>Obrsec</td>\n",
       "      <td>PAP20_parkelj</td>\n",
       "      <td>2020</td>\n",
       "      <td>yes</td>\n",
       "      <td>PAP20</td>\n",
       "      <td>Črna podvrsta</td>\n",
       "    </tr>\n",
       "  </tbody>\n",
       "</table>\n",
       "</div>"
      ],
      "text/plain": [
       "        chao1   simpson  simpson_e  observed_features  dominance sample  \\\n",
       "Osebek                                                                    \n",
       "P03A     15.0  0.800055   0.333425               15.0   0.199945   P03A   \n",
       "P05A      4.0  0.146673   0.292971                4.0   0.853327   P05A   \n",
       "P09A      4.0  0.118820   0.283710                4.0   0.881180   P09A   \n",
       "P11A     19.0  0.874913   0.420761               19.0   0.125087   P11A   \n",
       "P15A      3.0  0.360547   0.521279                3.0   0.639453   P15A   \n",
       "P17A      2.0  0.003106   0.501558                2.0   0.996894   P17A   \n",
       "P22A      7.0  0.542969   0.312576                7.0   0.457031   P22A   \n",
       "\n",
       "              location         origin  Leto parkelj specimen  \\\n",
       "Osebek                                                         \n",
       "P03A    Planinska_jama      Paa201_t0  2015      no   Paa201   \n",
       "P05A             Stobe    Paa204_t10d  2016      no   Paa204   \n",
       "P09A    Planinska_jama      Paa210_t0  2019      no   Paa210   \n",
       "P11A    Planinska_jama      Paa211_t0  2018      no   Paa211   \n",
       "P15A    Planinska_jama      Paa220_t0  2019      no   Paa220   \n",
       "P17A    Planinska_jama      Paa221_t0  2019      no   Paa221   \n",
       "P22A            Obrsec  PAP20_parkelj  2020     yes    PAP20   \n",
       "\n",
       "                Genetska linija  \n",
       "Osebek                           \n",
       "P03A    Linija reke Ljubljanice  \n",
       "P05A           Dolenjska linija  \n",
       "P09A    Linija reke Ljubljanice  \n",
       "P11A    Linija reke Ljubljanice  \n",
       "P15A    Linija reke Ljubljanice  \n",
       "P17A    Linija reke Ljubljanice  \n",
       "P22A              Črna podvrsta  "
      ]
     },
     "execution_count": 82,
     "metadata": {},
     "output_type": "execute_result"
    }
   ],
   "source": [
    "ndf = ndf.rename(columns={'population': 'Genetska linija', 'year': 'Leto'})\n",
    "ndf.index.name = 'Osebek'\n",
    "ndf"
   ]
  },
  {
   "cell_type": "code",
   "execution_count": 83,
   "id": "74f127a9",
   "metadata": {},
   "outputs": [
    {
     "name": "stderr",
     "output_type": "stream",
     "text": [
      "/opt/miniconda3/envs/qiime2-2022.2/lib/python3.8/site-packages/plotnine/ggplot.py:719: PlotnineWarning: Saving 6.4 x 4.8 in image.\n",
      "/opt/miniconda3/envs/qiime2-2022.2/lib/python3.8/site-packages/plotnine/ggplot.py:722: PlotnineWarning: Filename: ./results/eukarya_simpson_e.png\n"
     ]
    },
    {
     "data": {
      "image/png": "[encoded data removed]",
      "text/plain": [
       "<Figure size 640x480 with 1 Axes>"
      ]
     },
     "metadata": {},
     "output_type": "display_data"
    },
    {
     "data": {
      "text/plain": [
       "<ggplot: (8752560065085)>"
      ]
     },
     "execution_count": 83,
     "metadata": {},
     "output_type": "execute_result"
    }
   ],
   "source": [
    "simpson = (\n",
    "    ggplot(ndf, aes(x=ndf.index, y='simpson_e', shape='Leto', color='Genetska linija'))\n",
    "    + geom_point(size=4)\n",
    "    + labs(x='Osebek', y='Simpson E')\n",
    "    + scale_color_manual(['C0', 'C1', 'C2'])\n",
    "    + ylim(0,1)\n",
    ")\n",
    "\n",
    "\n",
    "simpson.save('./results/eukarya_simpson_e.png')\n",
    "simpson "
   ]
  },
  {
   "cell_type": "code",
   "execution_count": 59,
   "id": "c5769796",
   "metadata": {},
   "outputs": [],
   "source": [
    "# visualisations of alpha diversity metrics\n",
    "visualizations = {}\n",
    "\n",
    "for key, value in artifacts.items():\n",
    "    visualizations[key] = diversity.visualizers.alpha_group_significance(\n",
    "        alpha_diversity = value,\n",
    "        metadata = sample_metadata\n",
    "    ).visualization"
   ]
  },
  {
   "cell_type": "code",
   "execution_count": 60,
   "id": "a3444d96",
   "metadata": {},
   "outputs": [],
   "source": [
    "# # simpson viz\n",
    "# visualizations['simpson']\n",
    "\n",
    "# # observed_features viz\n",
    "# visualizations['observed_features']\n",
    "\n",
    "# # fisher_alpha viz\n",
    "# visualizations['fisher_alpha']\n",
    "\n",
    "# # chao1 viz\n",
    "# visualizations['chao1']\n",
    "\n",
    "# # shannon viz\n",
    "# visualizations['shannon']\n",
    "\n",
    "# # evenness_vector viz\n",
    "# diversity.visualizers.alpha_group_significance(\n",
    "#     alpha_diversity = action_results.evenness_vector,\n",
    "#     metadata = sample_metadata\n",
    "# ).visualization\n",
    "\n",
    "# # faith_pd viz\n",
    "# diversity.visualizers.alpha_group_significance(\n",
    "#     alpha_diversity = action_results.faith_pd_vector,\n",
    "#     metadata = sample_metadata\n",
    "# ).visualization"
   ]
  },
  {
   "cell_type": "markdown",
   "id": "698ca621",
   "metadata": {},
   "source": [
    "### BETA DIVERSITY"
   ]
  },
  {
   "cell_type": "code",
   "execution_count": 70,
   "id": "99336ced",
   "metadata": {},
   "outputs": [],
   "source": [
    "denoisetable_subset_population = q2.plugins.feature_table.methods.filter_samples(\n",
    "    table = denoisetable_eu_filtered.filtered_table,\n",
    "    metadata = sample_metadata,\n",
    "    where = \"[population] IN ('Linija reke Ljubljanice', 'Črna podvrsta')\"\n",
    ")"
   ]
  },
  {
   "cell_type": "code",
   "execution_count": 71,
   "id": "3e061401",
   "metadata": {},
   "outputs": [],
   "source": [
    "# 2016 falls out\n",
    "denoisetable_subset_year = q2.plugins.feature_table.methods.filter_samples(\n",
    "    table = denoisetable_eu_filtered.filtered_table,\n",
    "    metadata = sample_metadata,\n",
    "    where = \"[year] IN ('2015','2019')\"\n",
    ")"
   ]
  },
  {
   "cell_type": "code",
   "execution_count": 72,
   "id": "cc975abd",
   "metadata": {
    "collapsed": true
   },
   "outputs": [
    {
     "name": "stderr",
     "output_type": "stream",
     "text": [
      "/opt/miniconda3/envs/qiime2-2022.2/lib/python3.8/site-packages/sklearn/metrics/pairwise.py:1776: DataConversionWarning: Data was converted to boolean for metric jaccard\n"
     ]
    },
    {
     "name": "stdout",
     "output_type": "stream",
     "text": [
      "Running external command line application. This may print messages to stdout and/or stderr.\n",
      "The command being run is below. This command cannot be manually re-run as it will depend on temporary files that no longer exist.\n",
      "\n",
      "Command:\n",
      "\n",
      "faithpd -i /tmp/qiime2-archive-fo15vbkb/e3af3591-0b2f-4552-9d3f-cb7fa077d39b/data/feature-table.biom -t /tmp/qiime2-archive-hyzk03kw/04702335-8559-4110-96a8-e0ca9dfce715/data/tree.nwk -o /tmp/q2-AlphaDiversityFormat-fp7zjblr\n",
      "\n",
      "Running external command line application. This may print messages to stdout and/or stderr.\n",
      "The command being run is below. This command cannot be manually re-run as it will depend on temporary files that no longer exist.\n",
      "\n",
      "Command:\n",
      "\n",
      "ssu -i /tmp/qiime2-archive-fo15vbkb/e3af3591-0b2f-4552-9d3f-cb7fa077d39b/data/feature-table.biom -t /tmp/qiime2-archive-hyzk03kw/04702335-8559-4110-96a8-e0ca9dfce715/data/tree.nwk -m unweighted -o /tmp/q2-LSMatFormat-ipoyh30p\n",
      "\n",
      "Running external command line application. This may print messages to stdout and/or stderr.\n",
      "The command being run is below. This command cannot be manually re-run as it will depend on temporary files that no longer exist.\n",
      "\n",
      "Command:\n",
      "\n",
      "ssu -i /tmp/qiime2-archive-fo15vbkb/e3af3591-0b2f-4552-9d3f-cb7fa077d39b/data/feature-table.biom -t /tmp/qiime2-archive-hyzk03kw/04702335-8559-4110-96a8-e0ca9dfce715/data/tree.nwk -m weighted_unnormalized -o /tmp/q2-LSMatFormat-m2r1_5wv\n",
      "\n"
     ]
    },
    {
     "name": "stderr",
     "output_type": "stream",
     "text": [
      "/opt/miniconda3/envs/qiime2-2022.2/lib/python3.8/site-packages/skbio/stats/ordination/_principal_coordinate_analysis.py:143: RuntimeWarning: The result contains negative eigenvalues. Please compare their magnitude with the magnitude of some of the largest positive eigenvalues. If the negative ones are smaller, it's probably safe to ignore them, but if they are large in magnitude, the results won't be useful. See the Notes section for more details. The smallest eigenvalue is -6.140707822352168e-07 and the largest is 1.2070043587622856.\n"
     ]
    }
   ],
   "source": [
    "# determine depth/s from alpha_rarefaction\n",
    "# determine conditions from metadata column names\n",
    "depth = 643\n",
    "condition = 'population'\n",
    "\n",
    "core_metrics_results_subset_population = diversity.actions.core_metrics_phylogenetic(\n",
    "    phylogeny = rooted_tree,\n",
    "    table = denoisetable_subset_population.filtered_table,\n",
    "    sampling_depth = depth,\n",
    "    metadata = sample_metadata\n",
    ")"
   ]
  },
  {
   "cell_type": "code",
   "execution_count": 74,
   "id": "c6ee33f1",
   "metadata": {
    "scrolled": true
   },
   "outputs": [
    {
     "name": "stderr",
     "output_type": "stream",
     "text": [
      "/opt/miniconda3/envs/qiime2-2022.2/lib/python3.8/site-packages/sklearn/metrics/pairwise.py:1776: DataConversionWarning: Data was converted to boolean for metric jaccard\n"
     ]
    },
    {
     "name": "stdout",
     "output_type": "stream",
     "text": [
      "Running external command line application. This may print messages to stdout and/or stderr.\n",
      "The command being run is below. This command cannot be manually re-run as it will depend on temporary files that no longer exist.\n",
      "\n",
      "Command:\n",
      "\n",
      "faithpd -i /tmp/qiime2-archive-wbro9253/7c662f63-2367-4379-a129-1d6d6c4dca09/data/feature-table.biom -t /tmp/qiime2-archive-hyzk03kw/04702335-8559-4110-96a8-e0ca9dfce715/data/tree.nwk -o /tmp/q2-AlphaDiversityFormat-v3lnaahw\n",
      "\n",
      "Running external command line application. This may print messages to stdout and/or stderr.\n",
      "The command being run is below. This command cannot be manually re-run as it will depend on temporary files that no longer exist.\n",
      "\n",
      "Command:\n",
      "\n",
      "ssu -i /tmp/qiime2-archive-wbro9253/7c662f63-2367-4379-a129-1d6d6c4dca09/data/feature-table.biom -t /tmp/qiime2-archive-hyzk03kw/04702335-8559-4110-96a8-e0ca9dfce715/data/tree.nwk -m unweighted -o /tmp/q2-LSMatFormat-zca0lwni\n",
      "\n",
      "Running external command line application. This may print messages to stdout and/or stderr.\n",
      "The command being run is below. This command cannot be manually re-run as it will depend on temporary files that no longer exist.\n",
      "\n",
      "Command:\n",
      "\n",
      "ssu -i /tmp/qiime2-archive-wbro9253/7c662f63-2367-4379-a129-1d6d6c4dca09/data/feature-table.biom -t /tmp/qiime2-archive-hyzk03kw/04702335-8559-4110-96a8-e0ca9dfce715/data/tree.nwk -m weighted_unnormalized -o /tmp/q2-LSMatFormat-zvyuvqjq\n",
      "\n"
     ]
    }
   ],
   "source": [
    "condition = 'year'\n",
    "\n",
    "core_metrics_results_subset_year = diversity.actions.core_metrics_phylogenetic(\n",
    "    phylogeny = rooted_tree,\n",
    "    table = denoisetable_subset_year.filtered_table,\n",
    "    sampling_depth = depth,\n",
    "    metadata = sample_metadata\n",
    ")"
   ]
  },
  {
   "cell_type": "markdown",
   "id": "2af4ff2e",
   "metadata": {},
   "source": [
    "#### PERMANOVA"
   ]
  },
  {
   "cell_type": "code",
   "execution_count": 75,
   "id": "a38e6f5f",
   "metadata": {},
   "outputs": [
    {
     "data": {
      "text/html": [
       "<div><img onload=\"(function(div, url){\n",
       "if (typeof require !== 'undefined') {\n",
       "    var baseURL = require.toUrl('').split('/').slice(0, -2).join('/');\n",
       "} else {\n",
       "    var baseURL = JSON.parse(\n",
       "        document.getElementById('jupyter-config-data').innerHTML\n",
       "    ).baseUrl.slice(0, -1);\n",
       "}\n",
       "url = baseURL + url;\n",
       "fetch(url).then(function(res) {\n",
       "    if (res.status === 404) {\n",
       "        div.innerHTML = 'Install QIIME 2 Jupyter extension with:<br />' +\n",
       "                        '<code>jupyter serverextension enable --py qiime2' +\n",
       "                        ' --sys-prefix</code><br />then restart your server.' +\n",
       "                        '<br /><br />(Interactive output not available on ' +\n",
       "                        'static notebook viewer services like nbviewer.)';\n",
       "    } else if (res.status === 409) {\n",
       "        div.innerHTML = 'Visualization no longer in scope. Re-run this cell' +\n",
       "                        ' to see the visualization.';\n",
       "    } else if (res.ok) {\n",
       "        url = res.url;\n",
       "        div.innerHTML = '<iframe src=\\'' + url + '\\' style=\\'' +\n",
       "                        'width: 100%; height: 700px; border: 0;\\'>' +\n",
       "                        '</iframe><hr />Open in a: <a href=\\'' + url + '\\'' +\n",
       "                        ' target=\\'_blank\\'>new window</a>'\n",
       "    } else {\n",
       "        div.innerHTML = 'Something has gone wrong. Check notebook server for' +\n",
       "                        ' errors.';\n",
       "    }\n",
       "});\n",
       "})(this.parentElement, '/qiime2/redirect?location=/tmp/qiime2-archive-6xp_7wou')\" src=\"data:image/gif;base64,R0lGODlhAQABAIAAAP///wAAACH5BAEAAAAALAAAAAABAAEAAAICRAEAOw==\" /></div>"
      ],
      "text/plain": [
       "<visualization: Visualization uuid: 734823f8-6a67-4d27-a0cc-327319655799>"
      ]
     },
     "execution_count": 75,
     "metadata": {},
     "output_type": "execute_result"
    },
    {
     "data": {
      "text/plain": [
       "<Figure size 432x288 with 0 Axes>"
      ]
     },
     "metadata": {},
     "output_type": "display_data"
    }
   ],
   "source": [
    "from qiime2.plugins.diversity.visualizers import beta_group_significance\n",
    "\n",
    "permanova_population = beta_group_significance(\n",
    "    distance_matrix = core_metrics_results_subset_population.unweighted_unifrac_distance_matrix,\n",
    "    metadata = sample_metadata.get_column('population'),\n",
    "    method = \"permanova\",\n",
    "    pairwise = True\n",
    ")\n",
    "permanova_population.visualization"
   ]
  },
  {
   "cell_type": "code",
   "execution_count": 76,
   "id": "c8c09895",
   "metadata": {},
   "outputs": [
    {
     "data": {
      "text/html": [
       "<div><img onload=\"(function(div, url){\n",
       "if (typeof require !== 'undefined') {\n",
       "    var baseURL = require.toUrl('').split('/').slice(0, -2).join('/');\n",
       "} else {\n",
       "    var baseURL = JSON.parse(\n",
       "        document.getElementById('jupyter-config-data').innerHTML\n",
       "    ).baseUrl.slice(0, -1);\n",
       "}\n",
       "url = baseURL + url;\n",
       "fetch(url).then(function(res) {\n",
       "    if (res.status === 404) {\n",
       "        div.innerHTML = 'Install QIIME 2 Jupyter extension with:<br />' +\n",
       "                        '<code>jupyter serverextension enable --py qiime2' +\n",
       "                        ' --sys-prefix</code><br />then restart your server.' +\n",
       "                        '<br /><br />(Interactive output not available on ' +\n",
       "                        'static notebook viewer services like nbviewer.)';\n",
       "    } else if (res.status === 409) {\n",
       "        div.innerHTML = 'Visualization no longer in scope. Re-run this cell' +\n",
       "                        ' to see the visualization.';\n",
       "    } else if (res.ok) {\n",
       "        url = res.url;\n",
       "        div.innerHTML = '<iframe src=\\'' + url + '\\' style=\\'' +\n",
       "                        'width: 100%; height: 700px; border: 0;\\'>' +\n",
       "                        '</iframe><hr />Open in a: <a href=\\'' + url + '\\'' +\n",
       "                        ' target=\\'_blank\\'>new window</a>'\n",
       "    } else {\n",
       "        div.innerHTML = 'Something has gone wrong. Check notebook server for' +\n",
       "                        ' errors.';\n",
       "    }\n",
       "});\n",
       "})(this.parentElement, '/qiime2/redirect?location=/tmp/qiime2-archive-ds2bh4o5')\" src=\"data:image/gif;base64,R0lGODlhAQABAIAAAP///wAAACH5BAEAAAAALAAAAAABAAEAAAICRAEAOw==\" /></div>"
      ],
      "text/plain": [
       "<visualization: Visualization uuid: 6387695c-6dd7-405e-ab32-8cf9c0535cda>"
      ]
     },
     "execution_count": 76,
     "metadata": {},
     "output_type": "execute_result"
    },
    {
     "data": {
      "text/plain": [
       "<Figure size 432x288 with 0 Axes>"
      ]
     },
     "metadata": {},
     "output_type": "display_data"
    }
   ],
   "source": [
    "# PERMANOVA year\n",
    "from qiime2.plugins.diversity.visualizers import beta_group_significance\n",
    "\n",
    "permanova_year = beta_group_significance(\n",
    "    distance_matrix = core_metrics_results_subset_year.unweighted_unifrac_distance_matrix,\n",
    "    metadata = sample_metadata.get_column('year'),\n",
    "    method = \"permanova\",\n",
    "    pairwise = True\n",
    ")\n",
    "permanova_year.visualization"
   ]
  },
  {
   "cell_type": "markdown",
   "id": "e0ac5c90",
   "metadata": {},
   "source": [
    "#### ANOSIM"
   ]
  },
  {
   "cell_type": "code",
   "execution_count": 77,
   "id": "a273459c",
   "metadata": {},
   "outputs": [
    {
     "data": {
      "text/html": [
       "<div><img onload=\"(function(div, url){\n",
       "if (typeof require !== 'undefined') {\n",
       "    var baseURL = require.toUrl('').split('/').slice(0, -2).join('/');\n",
       "} else {\n",
       "    var baseURL = JSON.parse(\n",
       "        document.getElementById('jupyter-config-data').innerHTML\n",
       "    ).baseUrl.slice(0, -1);\n",
       "}\n",
       "url = baseURL + url;\n",
       "fetch(url).then(function(res) {\n",
       "    if (res.status === 404) {\n",
       "        div.innerHTML = 'Install QIIME 2 Jupyter extension with:<br />' +\n",
       "                        '<code>jupyter serverextension enable --py qiime2' +\n",
       "                        ' --sys-prefix</code><br />then restart your server.' +\n",
       "                        '<br /><br />(Interactive output not available on ' +\n",
       "                        'static notebook viewer services like nbviewer.)';\n",
       "    } else if (res.status === 409) {\n",
       "        div.innerHTML = 'Visualization no longer in scope. Re-run this cell' +\n",
       "                        ' to see the visualization.';\n",
       "    } else if (res.ok) {\n",
       "        url = res.url;\n",
       "        div.innerHTML = '<iframe src=\\'' + url + '\\' style=\\'' +\n",
       "                        'width: 100%; height: 700px; border: 0;\\'>' +\n",
       "                        '</iframe><hr />Open in a: <a href=\\'' + url + '\\'' +\n",
       "                        ' target=\\'_blank\\'>new window</a>'\n",
       "    } else {\n",
       "        div.innerHTML = 'Something has gone wrong. Check notebook server for' +\n",
       "                        ' errors.';\n",
       "    }\n",
       "});\n",
       "})(this.parentElement, '/qiime2/redirect?location=/tmp/qiime2-archive-dphnty_l')\" src=\"data:image/gif;base64,R0lGODlhAQABAIAAAP///wAAACH5BAEAAAAALAAAAAABAAEAAAICRAEAOw==\" /></div>"
      ],
      "text/plain": [
       "<visualization: Visualization uuid: 7742acfa-fc09-445d-bd6b-1daaa7fabc3c>"
      ]
     },
     "execution_count": 77,
     "metadata": {},
     "output_type": "execute_result"
    },
    {
     "data": {
      "text/plain": [
       "<Figure size 432x288 with 0 Axes>"
      ]
     },
     "metadata": {},
     "output_type": "display_data"
    }
   ],
   "source": [
    "anosim_population = beta_group_significance(\n",
    "    distance_matrix = core_metrics_results_subset_population.unweighted_unifrac_distance_matrix,\n",
    "    metadata = sample_metadata.get_column('population'),\n",
    "    method = \"anosim\",\n",
    "    pairwise = True\n",
    ")\n",
    "anosim_population.visualization"
   ]
  },
  {
   "cell_type": "code",
   "execution_count": 78,
   "id": "a9f5a2e2",
   "metadata": {},
   "outputs": [
    {
     "data": {
      "text/html": [
       "<div><img onload=\"(function(div, url){\n",
       "if (typeof require !== 'undefined') {\n",
       "    var baseURL = require.toUrl('').split('/').slice(0, -2).join('/');\n",
       "} else {\n",
       "    var baseURL = JSON.parse(\n",
       "        document.getElementById('jupyter-config-data').innerHTML\n",
       "    ).baseUrl.slice(0, -1);\n",
       "}\n",
       "url = baseURL + url;\n",
       "fetch(url).then(function(res) {\n",
       "    if (res.status === 404) {\n",
       "        div.innerHTML = 'Install QIIME 2 Jupyter extension with:<br />' +\n",
       "                        '<code>jupyter serverextension enable --py qiime2' +\n",
       "                        ' --sys-prefix</code><br />then restart your server.' +\n",
       "                        '<br /><br />(Interactive output not available on ' +\n",
       "                        'static notebook viewer services like nbviewer.)';\n",
       "    } else if (res.status === 409) {\n",
       "        div.innerHTML = 'Visualization no longer in scope. Re-run this cell' +\n",
       "                        ' to see the visualization.';\n",
       "    } else if (res.ok) {\n",
       "        url = res.url;\n",
       "        div.innerHTML = '<iframe src=\\'' + url + '\\' style=\\'' +\n",
       "                        'width: 100%; height: 700px; border: 0;\\'>' +\n",
       "                        '</iframe><hr />Open in a: <a href=\\'' + url + '\\'' +\n",
       "                        ' target=\\'_blank\\'>new window</a>'\n",
       "    } else {\n",
       "        div.innerHTML = 'Something has gone wrong. Check notebook server for' +\n",
       "                        ' errors.';\n",
       "    }\n",
       "});\n",
       "})(this.parentElement, '/qiime2/redirect?location=/tmp/qiime2-archive-8qiuajim')\" src=\"data:image/gif;base64,R0lGODlhAQABAIAAAP///wAAACH5BAEAAAAALAAAAAABAAEAAAICRAEAOw==\" /></div>"
      ],
      "text/plain": [
       "<visualization: Visualization uuid: d3f262d7-3a2a-4833-827d-14ab945ea80e>"
      ]
     },
     "execution_count": 78,
     "metadata": {},
     "output_type": "execute_result"
    },
    {
     "data": {
      "text/plain": [
       "<Figure size 432x288 with 0 Axes>"
      ]
     },
     "metadata": {},
     "output_type": "display_data"
    }
   ],
   "source": [
    "# anosim year\n",
    "\n",
    "anosim_year = beta_group_significance(\n",
    "    distance_matrix = core_metrics_results_subset_year.unweighted_unifrac_distance_matrix,\n",
    "    metadata = sample_metadata.get_column('year'),\n",
    "    method = \"anosim\",\n",
    "    pairwise = True\n",
    ")\n",
    "anosim_year.visualization"
   ]
  },
  {
   "cell_type": "code",
   "execution_count": null,
   "id": "73638dd2",
   "metadata": {},
   "outputs": [],
   "source": []
  },
  {
   "cell_type": "code",
   "execution_count": null,
   "id": "aa5e18d2",
   "metadata": {},
   "outputs": [],
   "source": []
  }
 ],
 "metadata": {
  "kernelspec": {
   "display_name": "Python 3 (ipykernel)",
   "language": "python",
   "name": "python3"
  },
  "language_info": {
   "codemirror_mode": {
    "name": "ipython",
    "version": 3
   },
   "file_extension": ".py",
   "mimetype": "text/x-python",
   "name": "python",
   "nbconvert_exporter": "python",
   "pygments_lexer": "ipython3",
   "version": "3.8.13"
  }
 },
 "nbformat": 4,
 "nbformat_minor": 5
}
